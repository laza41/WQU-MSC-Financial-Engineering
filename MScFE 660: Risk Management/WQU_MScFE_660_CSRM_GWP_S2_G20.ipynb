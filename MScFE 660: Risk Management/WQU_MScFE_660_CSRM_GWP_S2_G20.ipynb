{
 "cells": [
  {
   "cell_type": "markdown",
   "id": "147d0b68",
   "metadata": {},
   "source": [
    "# Case Studies in Risk Management \n",
    "\n",
    "###**GWP - S2 - G20**"
   ]
  },
  {
   "cell_type": "markdown",
   "id": "c8a1369f",
   "metadata": {},
   "source": [
    "##**1\tData Importing**"
   ]
  },
  {
   "cell_type": "markdown",
   "id": "4c1cf80a",
   "metadata": {},
   "source": [
    "1.1 Choose a financial crisis of the last 100 years. Be sure that you can find data for the crisis you select. (Otherwise, select a different crisis)\n",
    "\n",
    "\n",
    "* We decided to choose the Financial crisis of 2007–2008, as we have reliable data available."
   ]
  },
  {
   "cell_type": "markdown",
   "id": "93f714a3",
   "metadata": {},
   "source": [
    "1.2 Identify the key market factors\n"
   ]
  },
  {
   "cell_type": "markdown",
   "id": "c3ff214f",
   "metadata": {},
   "source": [
    "* Interest Rates\n",
    "* Housing Prices\n",
    "* Credit Risk\n",
    "* Leverage Ratios of Investment banks\n",
    "* Household Debt"
   ]
  },
  {
   "cell_type": "markdown",
   "id": "4453d013",
   "metadata": {},
   "source": [
    "##**2\tData Processing**\n",
    "\n",
    "2.1 Find at least 5 securities, macroeconomic indicators, or other factors that were signficantly affected by the crisis.\n",
    "\n",
    "After researching the 2007-2008 Financial crisis, we decided to import the following macroeconomic indicators:\n",
    "\n",
    "* Federal Funds Effective Rate\n",
    "* S&P/Case-Shiller U.S. National Home Price Index\n",
    "* TED Spread\n",
    "* Real gross domestic product per capita\n",
    "* Household Debt Service Payments as a Percent of Disposable Personal Income\n",
    "* Household Debt to GDP for United States\n",
    "* Unemployment Rate\n",
    "\n",
    "These indicators showed significant affectation from the crisis and in terms of the TED Spread, an indicator of perceived risk in the economy, it can reflect increases in credit risk.\n",
    "\n",
    "For securities:\n",
    "* SPY: SPDR S&P 500 ETF Trust\n",
    "* FMCC: Federal Home Loan Mortgage Corporation\n",
    "* ^TNX: Treasury Yield 10 Years\n",
    "* IWM: Russel 2000 ETF\n",
    "* USO: OIL ETF Trust\n",
    "* AIG: American International Group, (Major insurance company)\n",
    "* ^VIX: CBOE Volatility Index\n",
    "\n",
    "With regards to the SPY and the IWM, we wanted to include the 500 biggest companies and the broader market. AIG almost took down the world economy. FMCC played a major role in the housing bubble as it was selling MBSs. ^TNX is the 10 Years Treasury Yield, which is not considered as a security. However it is simpler to import the Treasury Yield rather then incorporate a 10 year Treasury bond traded at that time. Since we know that Treasury Yields go up when bond prices go down and vice versa, this doesn't pose a technical inconsistency. USO tracks the oil prices and VIX meausres the volatility of the commodities index.\n",
    "\n",
    "2.2 Be sure to collect data that starts 6 months prior to the crisis, and goes 6 months after the crisis.\n",
    "\n",
    "2.3 Download them into Python"
   ]
  },
  {
   "cell_type": "code",
   "execution_count": 1,
   "id": "03296b64",
   "metadata": {},
   "outputs": [],
   "source": [
    "# IMPORT REQUIRED MODULES, PACKAGES AND METHODS\n",
    "\n",
    "from sklearn.model_selection import train_test_split\n",
    "from matplotlib.pyplot import figure\n",
    "from sklearn.metrics import mean_squared_error\n",
    "from scipy.stats import iqr\n",
    "from sklearn import preprocessing\n",
    "from fredapi import Fred\n",
    "\n",
    "import statsmodels.tsa.stattools as ts\n",
    "import matplotlib.pyplot as plt\n",
    "import statsmodels.api as sm\n",
    "import scipy.stats as stats\n",
    "import yfinance as yf\n",
    "import seaborn as sns\n",
    "import pandas as pd\n",
    "import numpy as np\n",
    "import dateutil\n",
    "\n",
    "import warnings\n",
    "warnings.filterwarnings('ignore')\n",
    "\n",
    "%matplotlib inline"
   ]
  },
  {
   "cell_type": "code",
   "execution_count": 2,
   "id": "15020d55",
   "metadata": {},
   "outputs": [],
   "source": [
    "# INITIALISE THE FRED DATA-PULL\n",
    "\n",
    "start = '2006-05-01'\n",
    "end   = '2010-10-31'\n",
    "fred  = Fred(api_key='09573ec1dc0c523e914163ab565c56e8')"
   ]
  },
  {
   "cell_type": "markdown",
   "id": "fbb9c031",
   "metadata": {},
   "source": [
    "* Macroeconomic indicators:"
   ]
  },
  {
   "cell_type": "code",
   "execution_count": 3,
   "id": "58a2bec6",
   "metadata": {},
   "outputs": [],
   "source": [
    "# DOWNLOAD 7 MACROECONOMIC VARIATES OF INTEREST AND RELEVANCE\n",
    "\n",
    "DFF             = fred.get_series('DFF', observation_start = start, \n",
    "                                         observation_end   = end).resample('1m').nearest() # Federal Funds Effective Rate\n",
    "\n",
    "CSUSHPINSA      = fred.get_series('CSUSHPINSA', observation_start = start, \n",
    "                                                observation_end   = end).resample('1m').nearest() # S&P/Case-Shiller U.S. National Home Price Index\n",
    "\n",
    "TEDRATE         = fred.get_series('TEDRATE', observation_start = start, \n",
    "                                             observation_end   = end).resample('1m').nearest() # TED Spread\n",
    "\n",
    "A939RX0Q048SBEA = fred.get_series('A939RX0Q048SBEA', observation_start = start, \n",
    "                                                     observation_end   = end).resample('1m').nearest() # Real gross domestic product per capita\n",
    "\n",
    "TDSP            = fred.get_series('TDSP', observation_start = start, \n",
    "                                          observation_end   = end).resample('1m').nearest() # Household Debt Service Payments as a Percent of Disposable Personal Income\n",
    "\n",
    "HDTGPDUSQ163N   = fred.get_series('HDTGPDUSQ163N', observation_start = start, \n",
    "                                                   observation_end   = end).resample('1m').nearest() # Household Debt to GDP for United States\n",
    "\n",
    "UNRATE          = fred.get_series('UNRATE', observation_start = start, \n",
    "                                            observation_end   = end).resample('1m').nearest() # Unemployment Rate"
   ]
  },
  {
   "cell_type": "markdown",
   "id": "10a8f2aa",
   "metadata": {},
   "source": [
    "Use the same securities as before, importing, aligning, and computing returns."
   ]
  },
  {
   "cell_type": "markdown",
   "id": "242e12ea",
   "metadata": {},
   "source": [
    "* Securities:"
   ]
  },
  {
   "cell_type": "code",
   "execution_count": 4,
   "id": "efd472af",
   "metadata": {},
   "outputs": [],
   "source": [
    "# IDENTIFY THE SECURITIES WE STUDY\n",
    "\n",
    "securities      = 'SPY FMCC ^TNX IWM USO AIG ^VIX'"
   ]
  },
  {
   "cell_type": "code",
   "execution_count": 5,
   "id": "086c9e41",
   "metadata": {},
   "outputs": [
    {
     "name": "stdout",
     "output_type": "stream",
     "text": [
      "[*********************100%***********************]  7 of 7 completed\n"
     ]
    }
   ],
   "source": [
    "# INITIALISE THE SECURITIES DATA PULL\n",
    "\n",
    "start = '2006-05-01'\n",
    "end   = '2010-10-31'\n",
    "\n",
    "data_securities = yf.download(securities, threads = True, start = start, end = end, interval = '1mo').dropna()"
   ]
  },
  {
   "cell_type": "code",
   "execution_count": 6,
   "id": "10b32d05",
   "metadata": {},
   "outputs": [
    {
     "data": {
      "text/html": [
       "<div>\n",
       "<style scoped>\n",
       "    .dataframe tbody tr th:only-of-type {\n",
       "        vertical-align: middle;\n",
       "    }\n",
       "\n",
       "    .dataframe tbody tr th {\n",
       "        vertical-align: top;\n",
       "    }\n",
       "\n",
       "    .dataframe thead th {\n",
       "        text-align: right;\n",
       "    }\n",
       "</style>\n",
       "<table border=\"1\" class=\"dataframe\">\n",
       "  <thead>\n",
       "    <tr style=\"text-align: right;\">\n",
       "      <th></th>\n",
       "      <th>AIG</th>\n",
       "      <th>FMCC</th>\n",
       "      <th>IWM</th>\n",
       "      <th>SPY</th>\n",
       "      <th>USO</th>\n",
       "      <th>^TNX</th>\n",
       "      <th>^VIX</th>\n",
       "    </tr>\n",
       "    <tr>\n",
       "      <th>Date</th>\n",
       "      <th></th>\n",
       "      <th></th>\n",
       "      <th></th>\n",
       "      <th></th>\n",
       "      <th></th>\n",
       "      <th></th>\n",
       "      <th></th>\n",
       "    </tr>\n",
       "  </thead>\n",
       "  <tbody>\n",
       "    <tr>\n",
       "      <th>2006-05-01</th>\n",
       "      <td>799.599487</td>\n",
       "      <td>55.461277</td>\n",
       "      <td>57.993015</td>\n",
       "      <td>93.135590</td>\n",
       "      <td>541.840027</td>\n",
       "      <td>5.113</td>\n",
       "      <td>16.440001</td>\n",
       "    </tr>\n",
       "    <tr>\n",
       "      <th>2006-06-01</th>\n",
       "      <td>778.511780</td>\n",
       "      <td>52.662350</td>\n",
       "      <td>57.880028</td>\n",
       "      <td>92.967598</td>\n",
       "      <td>558.159973</td>\n",
       "      <td>5.138</td>\n",
       "      <td>13.080000</td>\n",
       "    </tr>\n",
       "    <tr>\n",
       "      <th>2006-07-01</th>\n",
       "      <td>799.869629</td>\n",
       "      <td>53.880783</td>\n",
       "      <td>56.312050</td>\n",
       "      <td>93.796715</td>\n",
       "      <td>556.159973</td>\n",
       "      <td>4.988</td>\n",
       "      <td>14.950000</td>\n",
       "    </tr>\n",
       "    <tr>\n",
       "      <th>2006-08-01</th>\n",
       "      <td>841.398987</td>\n",
       "      <td>59.226025</td>\n",
       "      <td>58.001087</td>\n",
       "      <td>95.843590</td>\n",
       "      <td>518.400024</td>\n",
       "      <td>4.732</td>\n",
       "      <td>12.310000</td>\n",
       "    </tr>\n",
       "    <tr>\n",
       "      <th>2006-09-01</th>\n",
       "      <td>875.839844</td>\n",
       "      <td>61.768272</td>\n",
       "      <td>58.186947</td>\n",
       "      <td>98.000488</td>\n",
       "      <td>456.000000</td>\n",
       "      <td>4.633</td>\n",
       "      <td>11.980000</td>\n",
       "    </tr>\n",
       "  </tbody>\n",
       "</table>\n",
       "</div>"
      ],
      "text/plain": [
       "                   AIG       FMCC        IWM        SPY         USO   ^TNX  \\\n",
       "Date                                                                         \n",
       "2006-05-01  799.599487  55.461277  57.993015  93.135590  541.840027  5.113   \n",
       "2006-06-01  778.511780  52.662350  57.880028  92.967598  558.159973  5.138   \n",
       "2006-07-01  799.869629  53.880783  56.312050  93.796715  556.159973  4.988   \n",
       "2006-08-01  841.398987  59.226025  58.001087  95.843590  518.400024  4.732   \n",
       "2006-09-01  875.839844  61.768272  58.186947  98.000488  456.000000  4.633   \n",
       "\n",
       "                 ^VIX  \n",
       "Date                   \n",
       "2006-05-01  16.440001  \n",
       "2006-06-01  13.080000  \n",
       "2006-07-01  14.950000  \n",
       "2006-08-01  12.310000  \n",
       "2006-09-01  11.980000  "
      ]
     },
     "execution_count": 6,
     "metadata": {},
     "output_type": "execute_result"
    }
   ],
   "source": [
    "# DISPLAY THE SECURITIES DATA\n",
    "\n",
    "data_securities['Adj Close'].head()"
   ]
  },
  {
   "cell_type": "markdown",
   "id": "c6266091",
   "metadata": {},
   "source": [
    "2.4\tBe sure to align their frequencies (e.g. some may be daily, some may be quarterly)"
   ]
  },
  {
   "cell_type": "code",
   "execution_count": 7,
   "id": "45f96eb1",
   "metadata": {},
   "outputs": [
    {
     "data": {
      "text/html": [
       "<div>\n",
       "<style scoped>\n",
       "    .dataframe tbody tr th:only-of-type {\n",
       "        vertical-align: middle;\n",
       "    }\n",
       "\n",
       "    .dataframe tbody tr th {\n",
       "        vertical-align: top;\n",
       "    }\n",
       "\n",
       "    .dataframe thead th {\n",
       "        text-align: right;\n",
       "    }\n",
       "</style>\n",
       "<table border=\"1\" class=\"dataframe\">\n",
       "  <thead>\n",
       "    <tr style=\"text-align: right;\">\n",
       "      <th></th>\n",
       "      <th>0</th>\n",
       "      <th>1</th>\n",
       "      <th>2</th>\n",
       "      <th>3</th>\n",
       "      <th>4</th>\n",
       "      <th>5</th>\n",
       "      <th>6</th>\n",
       "    </tr>\n",
       "  </thead>\n",
       "  <tbody>\n",
       "    <tr>\n",
       "      <th>2006-05-31</th>\n",
       "      <td>5.05</td>\n",
       "      <td>184.547</td>\n",
       "      <td>0.50</td>\n",
       "      <td>51155.0</td>\n",
       "      <td>12.779304</td>\n",
       "      <td>96.907416</td>\n",
       "      <td>4.6</td>\n",
       "    </tr>\n",
       "    <tr>\n",
       "      <th>2006-06-30</th>\n",
       "      <td>5.05</td>\n",
       "      <td>184.607</td>\n",
       "      <td>0.61</td>\n",
       "      <td>51155.0</td>\n",
       "      <td>12.779304</td>\n",
       "      <td>96.907416</td>\n",
       "      <td>4.7</td>\n",
       "    </tr>\n",
       "    <tr>\n",
       "      <th>2006-07-31</th>\n",
       "      <td>5.31</td>\n",
       "      <td>184.404</td>\n",
       "      <td>0.50</td>\n",
       "      <td>51155.0</td>\n",
       "      <td>12.779304</td>\n",
       "      <td>96.907416</td>\n",
       "      <td>4.7</td>\n",
       "    </tr>\n",
       "    <tr>\n",
       "      <th>2006-08-31</th>\n",
       "      <td>5.31</td>\n",
       "      <td>184.198</td>\n",
       "      <td>0.48</td>\n",
       "      <td>51455.0</td>\n",
       "      <td>12.866873</td>\n",
       "      <td>98.906236</td>\n",
       "      <td>4.5</td>\n",
       "    </tr>\n",
       "    <tr>\n",
       "      <th>2006-09-30</th>\n",
       "      <td>5.34</td>\n",
       "      <td>184.055</td>\n",
       "      <td>0.60</td>\n",
       "      <td>51455.0</td>\n",
       "      <td>12.866873</td>\n",
       "      <td>98.906236</td>\n",
       "      <td>4.4</td>\n",
       "    </tr>\n",
       "  </tbody>\n",
       "</table>\n",
       "</div>"
      ],
      "text/plain": [
       "               0        1     2        3          4          5    6\n",
       "2006-05-31  5.05  184.547  0.50  51155.0  12.779304  96.907416  4.6\n",
       "2006-06-30  5.05  184.607  0.61  51155.0  12.779304  96.907416  4.7\n",
       "2006-07-31  5.31  184.404  0.50  51155.0  12.779304  96.907416  4.7\n",
       "2006-08-31  5.31  184.198  0.48  51455.0  12.866873  98.906236  4.5\n",
       "2006-09-30  5.34  184.055  0.60  51455.0  12.866873  98.906236  4.4"
      ]
     },
     "execution_count": 7,
     "metadata": {},
     "output_type": "execute_result"
    }
   ],
   "source": [
    "# PREPARE THE MONTHLY MEV DATA AND DISPLAY IT\n",
    "\n",
    "df_MACRO = pd.concat([DFF, CSUSHPINSA, TEDRATE, A939RX0Q048SBEA, TDSP, HDTGPDUSQ163N, UNRATE], axis = 1).dropna()\n",
    "DF_MACRO = df_MACRO.apply(lambda x: x.resample('1m').ffill())\n",
    "\n",
    "DF_MACRO.head()"
   ]
  },
  {
   "cell_type": "code",
   "execution_count": 8,
   "id": "ac107d1e",
   "metadata": {},
   "outputs": [
    {
     "data": {
      "text/html": [
       "<div>\n",
       "<style scoped>\n",
       "    .dataframe tbody tr th:only-of-type {\n",
       "        vertical-align: middle;\n",
       "    }\n",
       "\n",
       "    .dataframe tbody tr th {\n",
       "        vertical-align: top;\n",
       "    }\n",
       "\n",
       "    .dataframe thead th {\n",
       "        text-align: right;\n",
       "    }\n",
       "</style>\n",
       "<table border=\"1\" class=\"dataframe\">\n",
       "  <thead>\n",
       "    <tr style=\"text-align: right;\">\n",
       "      <th></th>\n",
       "      <th>Fed Rate</th>\n",
       "      <th>Home Price Index</th>\n",
       "      <th>TED Spread</th>\n",
       "      <th>GDP</th>\n",
       "      <th>Household Debt</th>\n",
       "      <th>Household Debt to GDP</th>\n",
       "      <th>Unemployment Rate</th>\n",
       "    </tr>\n",
       "    <tr>\n",
       "      <th>Date</th>\n",
       "      <th></th>\n",
       "      <th></th>\n",
       "      <th></th>\n",
       "      <th></th>\n",
       "      <th></th>\n",
       "      <th></th>\n",
       "      <th></th>\n",
       "    </tr>\n",
       "  </thead>\n",
       "  <tbody>\n",
       "    <tr>\n",
       "      <th>2006-05-01</th>\n",
       "      <td>0.932836</td>\n",
       "      <td>0.998556</td>\n",
       "      <td>0.125413</td>\n",
       "      <td>0.657261</td>\n",
       "      <td>0.823015</td>\n",
       "      <td>0.414709</td>\n",
       "      <td>0.035714</td>\n",
       "    </tr>\n",
       "    <tr>\n",
       "      <th>2006-06-01</th>\n",
       "      <td>0.932836</td>\n",
       "      <td>1.000000</td>\n",
       "      <td>0.161716</td>\n",
       "      <td>0.657261</td>\n",
       "      <td>0.823015</td>\n",
       "      <td>0.414709</td>\n",
       "      <td>0.053571</td>\n",
       "    </tr>\n",
       "    <tr>\n",
       "      <th>2006-07-01</th>\n",
       "      <td>0.981343</td>\n",
       "      <td>0.995115</td>\n",
       "      <td>0.125413</td>\n",
       "      <td>0.657261</td>\n",
       "      <td>0.823015</td>\n",
       "      <td>0.414709</td>\n",
       "      <td>0.053571</td>\n",
       "    </tr>\n",
       "    <tr>\n",
       "      <th>2006-08-01</th>\n",
       "      <td>0.981343</td>\n",
       "      <td>0.990157</td>\n",
       "      <td>0.118812</td>\n",
       "      <td>0.770128</td>\n",
       "      <td>0.862410</td>\n",
       "      <td>0.703381</td>\n",
       "      <td>0.017857</td>\n",
       "    </tr>\n",
       "    <tr>\n",
       "      <th>2006-09-01</th>\n",
       "      <td>0.986940</td>\n",
       "      <td>0.986715</td>\n",
       "      <td>0.158416</td>\n",
       "      <td>0.770128</td>\n",
       "      <td>0.862410</td>\n",
       "      <td>0.703381</td>\n",
       "      <td>0.000000</td>\n",
       "    </tr>\n",
       "  </tbody>\n",
       "</table>\n",
       "</div>"
      ],
      "text/plain": [
       "            Fed Rate  Home Price Index  TED Spread       GDP  Household Debt  \\\n",
       "Date                                                                           \n",
       "2006-05-01  0.932836          0.998556    0.125413  0.657261        0.823015   \n",
       "2006-06-01  0.932836          1.000000    0.161716  0.657261        0.823015   \n",
       "2006-07-01  0.981343          0.995115    0.125413  0.657261        0.823015   \n",
       "2006-08-01  0.981343          0.990157    0.118812  0.770128        0.862410   \n",
       "2006-09-01  0.986940          0.986715    0.158416  0.770128        0.862410   \n",
       "\n",
       "            Household Debt to GDP  Unemployment Rate  \n",
       "Date                                                  \n",
       "2006-05-01               0.414709           0.035714  \n",
       "2006-06-01               0.414709           0.053571  \n",
       "2006-07-01               0.414709           0.053571  \n",
       "2006-08-01               0.703381           0.017857  \n",
       "2006-09-01               0.703381           0.000000  "
      ]
     },
     "execution_count": 8,
     "metadata": {},
     "output_type": "execute_result"
    }
   ],
   "source": [
    "# STANDARDIZE THE MEV DATA BETWEEN [0,1] FOR USAGE IN FURTHER ANALYTICAL WORK\n",
    "\n",
    "x              = DF_MACRO.values\n",
    "min_max_scaler = preprocessing.MinMaxScaler()\n",
    "x_scaled       = min_max_scaler.fit_transform(x)\n",
    "DF_MACRO       = pd.DataFrame(x_scaled)\n",
    "\n",
    "DF_MACRO.columns = ['Fed Rate',\n",
    "                    'Home Price Index', \n",
    "                    'TED Spread', \n",
    "                    'GDP', \n",
    "                    'Household Debt',\n",
    "                    'Household Debt to GDP',\n",
    "                    'Unemployment Rate']\n",
    "\n",
    "macro_index    = data_securities[\"Adj Close\"].dropna().index\n",
    "DF_MACRO.index = macro_index\n",
    "\n",
    "DF_MACRO.head()"
   ]
  },
  {
   "cell_type": "code",
   "execution_count": 9,
   "id": "043925fb",
   "metadata": {},
   "outputs": [
    {
     "data": {
      "text/html": [
       "<div>\n",
       "<style scoped>\n",
       "    .dataframe tbody tr th:only-of-type {\n",
       "        vertical-align: middle;\n",
       "    }\n",
       "\n",
       "    .dataframe tbody tr th {\n",
       "        vertical-align: top;\n",
       "    }\n",
       "\n",
       "    .dataframe thead th {\n",
       "        text-align: right;\n",
       "    }\n",
       "</style>\n",
       "<table border=\"1\" class=\"dataframe\">\n",
       "  <thead>\n",
       "    <tr style=\"text-align: right;\">\n",
       "      <th></th>\n",
       "      <th>AIG</th>\n",
       "      <th>FMCC</th>\n",
       "      <th>IWM</th>\n",
       "      <th>SPY</th>\n",
       "      <th>USO</th>\n",
       "      <th>^TNX</th>\n",
       "      <th>^VIX</th>\n",
       "    </tr>\n",
       "    <tr>\n",
       "      <th>Date</th>\n",
       "      <th></th>\n",
       "      <th></th>\n",
       "      <th></th>\n",
       "      <th></th>\n",
       "      <th></th>\n",
       "      <th></th>\n",
       "      <th></th>\n",
       "    </tr>\n",
       "  </thead>\n",
       "  <tbody>\n",
       "    <tr>\n",
       "      <th>2006-06-01</th>\n",
       "      <td>-0.026373</td>\n",
       "      <td>-0.050466</td>\n",
       "      <td>-0.001948</td>\n",
       "      <td>-0.001804</td>\n",
       "      <td>0.030119</td>\n",
       "      <td>0.004890</td>\n",
       "      <td>-0.204380</td>\n",
       "    </tr>\n",
       "    <tr>\n",
       "      <th>2006-07-01</th>\n",
       "      <td>0.027434</td>\n",
       "      <td>0.023137</td>\n",
       "      <td>-0.027090</td>\n",
       "      <td>0.008918</td>\n",
       "      <td>-0.003583</td>\n",
       "      <td>-0.029194</td>\n",
       "      <td>0.142966</td>\n",
       "    </tr>\n",
       "    <tr>\n",
       "      <th>2006-08-01</th>\n",
       "      <td>0.051920</td>\n",
       "      <td>0.099205</td>\n",
       "      <td>0.029994</td>\n",
       "      <td>0.021822</td>\n",
       "      <td>-0.067894</td>\n",
       "      <td>-0.051323</td>\n",
       "      <td>-0.176589</td>\n",
       "    </tr>\n",
       "    <tr>\n",
       "      <th>2006-09-01</th>\n",
       "      <td>0.040933</td>\n",
       "      <td>0.042925</td>\n",
       "      <td>0.003204</td>\n",
       "      <td>0.022504</td>\n",
       "      <td>-0.120370</td>\n",
       "      <td>-0.020921</td>\n",
       "      <td>-0.026808</td>\n",
       "    </tr>\n",
       "    <tr>\n",
       "      <th>2006-10-01</th>\n",
       "      <td>0.013734</td>\n",
       "      <td>0.047785</td>\n",
       "      <td>0.062140</td>\n",
       "      <td>0.036053</td>\n",
       "      <td>-0.085965</td>\n",
       "      <td>-0.005828</td>\n",
       "      <td>-0.073456</td>\n",
       "    </tr>\n",
       "  </tbody>\n",
       "</table>\n",
       "</div>"
      ],
      "text/plain": [
       "                 AIG      FMCC       IWM       SPY       USO      ^TNX  \\\n",
       "Date                                                                     \n",
       "2006-06-01 -0.026373 -0.050466 -0.001948 -0.001804  0.030119  0.004890   \n",
       "2006-07-01  0.027434  0.023137 -0.027090  0.008918 -0.003583 -0.029194   \n",
       "2006-08-01  0.051920  0.099205  0.029994  0.021822 -0.067894 -0.051323   \n",
       "2006-09-01  0.040933  0.042925  0.003204  0.022504 -0.120370 -0.020921   \n",
       "2006-10-01  0.013734  0.047785  0.062140  0.036053 -0.085965 -0.005828   \n",
       "\n",
       "                ^VIX  \n",
       "Date                  \n",
       "2006-06-01 -0.204380  \n",
       "2006-07-01  0.142966  \n",
       "2006-08-01 -0.176589  \n",
       "2006-09-01 -0.026808  \n",
       "2006-10-01 -0.073456  "
      ]
     },
     "execution_count": 9,
     "metadata": {},
     "output_type": "execute_result"
    }
   ],
   "source": [
    "# COMPUTE MONTHLY RETURNS FOR SECURITIES AND DISPLAY THE DATA\n",
    "\n",
    "securities_return = data_securities[\"Adj Close\"].dropna().pct_change().dropna()\n",
    "securities_return.head()"
   ]
  },
  {
   "cell_type": "markdown",
   "id": "f5599064",
   "metadata": {},
   "source": [
    "##**3\tVisualizing data**\n",
    "\n",
    "3.1\tShow 3 different multivariate displays"
   ]
  },
  {
   "cell_type": "code",
   "execution_count": null,
   "id": "cc1c1bc9",
   "metadata": {},
   "outputs": [],
   "source": []
  },
  {
   "cell_type": "markdown",
   "id": "a199c52a",
   "metadata": {},
   "source": [
    "3.2\tShow a scatterplot matrix of each pairwise returns"
   ]
  },
  {
   "cell_type": "code",
   "execution_count": null,
   "id": "54d679d9",
   "metadata": {},
   "outputs": [],
   "source": []
  },
  {
   "cell_type": "markdown",
   "id": "01e7f58e",
   "metadata": {},
   "source": [
    "3.3\tShow a cluster analysis of the returns to see how the groups form."
   ]
  },
  {
   "cell_type": "code",
   "execution_count": null,
   "id": "759e5698",
   "metadata": {},
   "outputs": [],
   "source": []
  },
  {
   "cell_type": "markdown",
   "id": "3051468a",
   "metadata": {},
   "source": [
    "3.4\tRun a principal components, and show the biplots for the first 3 pairs of components."
   ]
  },
  {
   "cell_type": "code",
   "execution_count": null,
   "id": "1fa3d798",
   "metadata": {},
   "outputs": [],
   "source": []
  },
  {
   "cell_type": "markdown",
   "id": "cca2f651",
   "metadata": {},
   "source": [
    "##**4\tData Summaries.   Extreme Values**"
   ]
  },
  {
   "cell_type": "markdown",
   "id": "2811276d",
   "metadata": {},
   "source": [
    "4.1\tCompute means, standard deviations, skewness, and kurtosis for each distribution."
   ]
  },
  {
   "cell_type": "markdown",
   "id": "3d663f20",
   "metadata": {},
   "source": [
    "* Mean of the Macro data:"
   ]
  },
  {
   "cell_type": "code",
   "execution_count": 10,
   "id": "0f06cf80",
   "metadata": {},
   "outputs": [
    {
     "data": {
      "text/plain": [
       "Fed Rate                 0.420691\n",
       "Home Price Index         0.468972\n",
       "TED Spread               0.217573\n",
       "GDP                      0.550790\n",
       "Household Debt           0.658289\n",
       "Household Debt to GDP    0.568183\n",
       "Unemployment Rate        0.457547\n",
       "dtype: float64"
      ]
     },
     "execution_count": 10,
     "metadata": {},
     "output_type": "execute_result"
    }
   ],
   "source": [
    "# COMPUTE AND PRINT MEANS - MEVs\n",
    "\n",
    "DF_MACRO = DF_MACRO.drop(\"2006-05-01\")\n",
    "DF_MACRO.head()\n",
    "\n",
    "DF_MACRO.mean()"
   ]
  },
  {
   "cell_type": "markdown",
   "id": "4d4170c1",
   "metadata": {},
   "source": [
    "* Mean of the Securities data:"
   ]
  },
  {
   "cell_type": "code",
   "execution_count": 11,
   "id": "dbbd5d1e",
   "metadata": {},
   "outputs": [
    {
     "data": {
      "text/plain": [
       "AIG     0.011435\n",
       "FMCC   -0.026634\n",
       "IWM     0.002857\n",
       "SPY     0.001823\n",
       "USO    -0.006377\n",
       "^TNX   -0.008614\n",
       "^VIX    0.026685\n",
       "dtype: float64"
      ]
     },
     "execution_count": 11,
     "metadata": {},
     "output_type": "execute_result"
    }
   ],
   "source": [
    "# COMPUTE AND PRINT MEANS - SECURITIES\n",
    "\n",
    "securities_return.mean()"
   ]
  },
  {
   "cell_type": "markdown",
   "id": "21749976",
   "metadata": {},
   "source": [
    "* Standard deviations"
   ]
  },
  {
   "cell_type": "code",
   "execution_count": 12,
   "id": "fcd7e8a7",
   "metadata": {},
   "outputs": [
    {
     "data": {
      "text/plain": [
       "Fed Rate                 0.420480\n",
       "Home Price Index         0.375080\n",
       "TED Spread               0.217862\n",
       "GDP                      0.345200\n",
       "Household Debt           0.315608\n",
       "Household Debt to GDP    0.329293\n",
       "Unemployment Rate        0.408847\n",
       "dtype: float64"
      ]
     },
     "execution_count": 12,
     "metadata": {},
     "output_type": "execute_result"
    }
   ],
   "source": [
    "# COMPUTE STANDARD DEVIATES - MEVs\n",
    "\n",
    "DF_MACRO.std()"
   ]
  },
  {
   "cell_type": "code",
   "execution_count": 13,
   "id": "f8bc19c0",
   "metadata": {},
   "outputs": [
    {
     "data": {
      "text/plain": [
       "AIG     0.446755\n",
       "FMCC    0.450992\n",
       "IWM     0.066458\n",
       "SPY     0.053541\n",
       "USO     0.106868\n",
       "^TNX    0.089183\n",
       "^VIX    0.229975\n",
       "dtype: float64"
      ]
     },
     "execution_count": 13,
     "metadata": {},
     "output_type": "execute_result"
    }
   ],
   "source": [
    "# COMPUTE STANDARD DEVIATES - SECURITIES\n",
    "\n",
    "securities_return.std()"
   ]
  },
  {
   "cell_type": "markdown",
   "id": "861e9efe",
   "metadata": {},
   "source": [
    "* Compute the skewness of each series. "
   ]
  },
  {
   "cell_type": "code",
   "execution_count": 14,
   "id": "9f9bb326",
   "metadata": {},
   "outputs": [
    {
     "data": {
      "text/plain": [
       "Fed Rate                 0.331417\n",
       "Home Price Index         0.185660\n",
       "TED Spread               1.562159\n",
       "GDP                     -0.342669\n",
       "Household Debt          -0.946337\n",
       "Household Debt to GDP   -0.665184\n",
       "Unemployment Rate        0.169449\n",
       "dtype: float64"
      ]
     },
     "execution_count": 14,
     "metadata": {},
     "output_type": "execute_result"
    }
   ],
   "source": [
    "# COMPUTE SKEW - MEVs\n",
    "\n",
    "DF_MACRO.skew()"
   ]
  },
  {
   "cell_type": "code",
   "execution_count": 15,
   "id": "0a4d4d2d",
   "metadata": {},
   "outputs": [
    {
     "data": {
      "text/plain": [
       "AIG     3.570838\n",
       "FMCC    4.351244\n",
       "IWM    -0.618003\n",
       "SPY    -0.684825\n",
       "USO    -0.390362\n",
       "^TNX    0.133343\n",
       "^VIX    1.541062\n",
       "dtype: float64"
      ]
     },
     "execution_count": 15,
     "metadata": {},
     "output_type": "execute_result"
    }
   ],
   "source": [
    "# COMPUTE SKEW - SECURITIES\n",
    "\n",
    "securities_return.skew()"
   ]
  },
  {
   "cell_type": "markdown",
   "id": "6adf4c0c",
   "metadata": {},
   "source": [
    "* Compute the kurtosis."
   ]
  },
  {
   "cell_type": "code",
   "execution_count": 16,
   "id": "b5b4911f",
   "metadata": {},
   "outputs": [
    {
     "data": {
      "text/plain": [
       "Fed Rate                -1.692805\n",
       "Home Price Index        -1.665208\n",
       "TED Spread               2.739038\n",
       "GDP                     -1.402228\n",
       "Household Debt          -0.495485\n",
       "Household Debt to GDP   -1.116316\n",
       "Unemployment Rate       -1.835998\n",
       "dtype: float64"
      ]
     },
     "execution_count": 16,
     "metadata": {},
     "output_type": "execute_result"
    }
   ],
   "source": [
    "# COMPUTE KURTOSIS - MEVs\n",
    "\n",
    "DF_MACRO.kurtosis()"
   ]
  },
  {
   "cell_type": "code",
   "execution_count": 17,
   "id": "b44fde50",
   "metadata": {},
   "outputs": [
    {
     "data": {
      "text/plain": [
       "AIG     18.366365\n",
       "FMCC    25.902946\n",
       "IWM      0.978865\n",
       "SPY      0.648894\n",
       "USO      1.028343\n",
       "^TNX     2.474280\n",
       "^VIX     3.259207\n",
       "dtype: float64"
      ]
     },
     "execution_count": 17,
     "metadata": {},
     "output_type": "execute_result"
    }
   ],
   "source": [
    "# COMPUTE KURTOSIS - SECURITY RETURNS\n",
    "\n",
    "securities_return.kurtosis()"
   ]
  },
  {
   "cell_type": "markdown",
   "id": "ccdf6517",
   "metadata": {},
   "source": [
    "##**5 Data Modeling**"
   ]
  },
  {
   "cell_type": "markdown",
   "id": "e7c6f175",
   "metadata": {},
   "source": [
    "5.1\tPick 2 of the series.  Fit a copula to them.\n"
   ]
  },
  {
   "cell_type": "code",
   "execution_count": 29,
   "id": "05418a18",
   "metadata": {},
   "outputs": [],
   "source": [
    "from copulas.multivariate import GaussianMultivariate"
   ]
  },
  {
   "cell_type": "code",
   "execution_count": 30,
   "id": "fee2cb3e",
   "metadata": {},
   "outputs": [],
   "source": [
    "copula = GaussianMultivariate()\n",
    "copula.fit(securities_return[[\"AIG\",\"SPY\"]])"
   ]
  },
  {
   "cell_type": "code",
   "execution_count": 52,
   "id": "9c17bb3e",
   "metadata": {
    "scrolled": true
   },
   "outputs": [
    {
     "data": {
      "text/plain": [
       "{'covariance': [[1.0, 0.6384634219033284], [0.6384634219033284, 1.0]],\n",
       " 'univariates': [{'df': 1.231202999913358,\n",
       "   'loc': -0.014980536216563886,\n",
       "   'scale': 0.09333347570457398,\n",
       "   'type': 'copulas.univariate.student_t.StudentTUnivariate'},\n",
       "  {'dataset': [-0.001803731945068332,\n",
       "    0.008918341868239699,\n",
       "    0.021822459397876637,\n",
       "    0.0225043584388378,\n",
       "    0.03605338058344332,\n",
       "    0.019885213886444708,\n",
       "    0.007756209502384426,\n",
       "    0.02069586795457079,\n",
       "    -0.0196175521025308,\n",
       "    0.007592419182781862,\n",
       "    0.048437934265165294,\n",
       "    0.03391995325907371,\n",
       "    -0.01884943111031734,\n",
       "    -0.027135028699665442,\n",
       "    0.012832722468217428,\n",
       "    0.03380989255691946,\n",
       "    0.018375146502701334,\n",
       "    -0.03873284236730967,\n",
       "    -0.016480057176880614,\n",
       "    -0.05547455383033273,\n",
       "    -0.0258428319952817,\n",
       "    -0.013824501134879763,\n",
       "    0.05284865065367894,\n",
       "    0.015116721899961272,\n",
       "    -0.08813679376636363,\n",
       "    -0.004028955974134774,\n",
       "    0.015453652105619664,\n",
       "    -0.0993864780816911,\n",
       "    -0.1603547967288832,\n",
       "    -0.069606650871197,\n",
       "    0.001665461979555527,\n",
       "    -0.07466335598599749,\n",
       "    -0.10744890187754086,\n",
       "    0.07561196462567854,\n",
       "    0.10721426403283951,\n",
       "    0.05845423303115416,\n",
       "    -0.00626872574716808,\n",
       "    0.08067638015538492,\n",
       "    0.0369397707640402,\n",
       "    0.03054829162044559,\n",
       "    -0.0145538184723083,\n",
       "    0.061606553135660214,\n",
       "    0.013644173411796023,\n",
       "    -0.0311546728875558,\n",
       "    0.031194760037197344,\n",
       "    0.05652893345437504,\n",
       "    0.01965160647173958,\n",
       "    -0.07945450222094252,\n",
       "    -0.05623105791867411,\n",
       "    0.07338335135650431,\n",
       "    -0.04498043016855524,\n",
       "    0.08375280891529546,\n",
       "    0.043760051974253145],\n",
       "   'type': 'copulas.univariate.gaussian_kde.GaussianKDE'}],\n",
       " 'columns': ['AIG', 'SPY'],\n",
       " 'type': 'copulas.multivariate.gaussian.GaussianMultivariate'}"
      ]
     },
     "execution_count": 52,
     "metadata": {},
     "output_type": "execute_result"
    }
   ],
   "source": [
    "copula.to_dict()"
   ]
  },
  {
   "cell_type": "markdown",
   "id": "6f9f3a65",
   "metadata": {},
   "source": [
    "5.2\tFit a non-Gaussian copula.\n"
   ]
  },
  {
   "cell_type": "code",
   "execution_count": null,
   "id": "378e2435",
   "metadata": {},
   "outputs": [],
   "source": [
    "from copulas.multivariate import VineCopula"
   ]
  },
  {
   "cell_type": "code",
   "execution_count": 54,
   "id": "ed03db34",
   "metadata": {},
   "outputs": [],
   "source": [
    "regular = VineCopula('regular')\n",
    "regular.fit(securities_return[[\"AIG\",\"SPY\"]])"
   ]
  },
  {
   "cell_type": "code",
   "execution_count": 55,
   "id": "3228a580",
   "metadata": {},
   "outputs": [
    {
     "data": {
      "text/plain": [
       "{'type': 'copulas.multivariate.vine.VineCopula',\n",
       " 'vine_type': 'regular',\n",
       " 'fitted': True,\n",
       " 'n_sample': 53,\n",
       " 'n_var': 2,\n",
       " 'depth': 1,\n",
       " 'truncated': 3,\n",
       " 'trees': [{'tree_type': <TreeTypes.REGULAR: 2>,\n",
       "   'type': 'copulas.multivariate.tree.RegularTree',\n",
       "   'fitted': True,\n",
       "   'level': 1,\n",
       "   'n_nodes': 2,\n",
       "   'tau_matrix': [[1.0, 0.5108853410740204], [0.5108853410740204, 1.0]],\n",
       "   'previous_tree': [[0.5103266989301772, 0.42969036534225524],\n",
       "    [0.5890103565895445, 0.5094388827171857],\n",
       "    [0.6237185767353117, 0.6094792514758165],\n",
       "    [0.6082691593403937, 0.6147254465998371],\n",
       "    [0.5692055130480576, 0.7142822536262406],\n",
       "    [0.616681793561755, 0.5945100606102082],\n",
       "    [0.5804144089228834, 0.5005410802765914],\n",
       "    [0.4831590177109618, 0.6007844553697076],\n",
       "    [0.5203542713018827, 0.31490628374368435],\n",
       "    [0.5551869755459728, 0.49929074546973523],\n",
       "    [0.6069731172967617, 0.7928697093082291],\n",
       "    [0.5994956702224788, 0.6993861321138402],\n",
       "    [0.5054080307034892, 0.3193032808673126],\n",
       "    [0.42667288155737365, 0.2745896352067026],\n",
       "    [0.5903366179729265, 0.5396772059393309],\n",
       "    [0.5855092432932635, 0.6986081724194159],\n",
       "    [0.4547699427129128, 0.5827915694435152],\n",
       "    [0.43312747173760535, 0.2215893856606764],\n",
       "    [0.5534365297468322, 0.33319204626934273],\n",
       "    [0.47004138677991747, 0.16126955987479938],\n",
       "    [0.3383353479154658, 0.2811722959352831],\n",
       "    [0.43604232596351084, 0.3493394760158622],\n",
       "    [0.6525293246192497, 0.8172934259056481],\n",
       "    [0.2501642471051308, 0.5574366672706531],\n",
       "    [0.20531418385120537, 0.07745975200245699],\n",
       "    [0.5344699114464747, 0.41398206409905347],\n",
       "    [0.3033295075661864, 0.5600594010767637],\n",
       "    [0.014090626250739065, 0.056806832711324314],\n",
       "    [0.09795605947382098, 0.009857103415869307],\n",
       "    [0.6243269535548867, 0.12067964462828117],\n",
       "    [0.2522109580030989, 0.454829550789955],\n",
       "    [0.2915478662711592, 0.1078212446301662],\n",
       "    [0.03181783116490398, 0.0449112377515916],\n",
       "    [0.9716981009857396, 0.913701604413504],\n",
       "    [0.9134730913379675, 0.9795761093030694],\n",
       "    [0.8218207179456408, 0.8455518579025407],\n",
       "    [0.16367492446006068, 0.3985314987319601],\n",
       "    [0.09206312895849951, 0.9289767648281394],\n",
       "    [0.9905660365998357, 0.7203645230587781],\n",
       "    [0.5095283013830239, 0.675162003423429],\n",
       "    [0.23210124686095696, 0.34484401280879573],\n",
       "    [0.3282905047904286, 0.8600978995763024],\n",
       "    [0.6288886381623487, 0.545981152011595],\n",
       "    [0.2830970786249008, 0.2550088978019006],\n",
       "    [0.5815956456368386, 0.6798668661028056],\n",
       "    [0.9128384470393551, 0.8361946815170436],\n",
       "    [0.7362611297184232, 0.5926995806252758],\n",
       "    [0.4167100950895001, 0.09636866348555774],\n",
       "    [0.5100374418575183, 0.1588970995692159],\n",
       "    [0.7095386945411575, 0.9063179398902961],\n",
       "    [0.3780500469066376, 0.19713737270936832],\n",
       "    [0.7509358083667846, 0.9372768134464682],\n",
       "    [0.6545981138380473, 0.7648704402266181]],\n",
       "   'edges': [{'index': 0,\n",
       "     'L': 0,\n",
       "     'R': 1,\n",
       "     'D': set(),\n",
       "     'parents': None,\n",
       "     'neighbors': [],\n",
       "     'name': <CopulaTypes.CLAYTON: 0>,\n",
       "     'theta': 2.0890207715133537,\n",
       "     'tau': 0.5108853410740204,\n",
       "     'U': [[0.5348022049266148,\n",
       "       0.5522871230377542,\n",
       "       0.5002555985358356,\n",
       "       0.47245466756431137,\n",
       "       0.3311024641849799,\n",
       "       0.5042391686961566,\n",
       "       0.5499213368443973,\n",
       "       0.30515973515353506,\n",
       "       0.7099035149577378,\n",
       "       0.5147819100376736,\n",
       "       0.32654206259565,\n",
       "       0.3852880890744684,\n",
       "       0.6854103206586898,\n",
       "       0.6551857891942516,\n",
       "       0.5213776894943319,\n",
       "       0.36596621595976647,\n",
       "       0.28175974512474733,\n",
       "       0.7602731862522066,\n",
       "       0.7225590822797272,\n",
       "       0.886464281160248,\n",
       "       0.49507545018204435,\n",
       "       0.5393583944064867,\n",
       "       0.37407792106460586,\n",
       "       0.0700435198779618,\n",
       "       0.8393559531276711,\n",
       "       0.5904654663903957,\n",
       "       0.11559115724446342,\n",
       "       0.012467748253002137,\n",
       "       0.9880120534690053,\n",
       "       0.9708426500230048,\n",
       "       0.11834334780294536,\n",
       "       0.8505970996352311,\n",
       "       0.19198013139308281,\n",
       "       0.9288381887953637,\n",
       "       0.7643158843846616,\n",
       "       0.6367901439904263,\n",
       "       0.05320499891798534,\n",
       "       0.0007909355058760494,\n",
       "       0.9852800379309703,\n",
       "       0.280883555535361,\n",
       "       0.18087271839901328,\n",
       "       0.04842960256661616,\n",
       "       0.5703855808112102,\n",
       "       0.43850538886575857,\n",
       "       0.3756305141692333,\n",
       "       0.8191566051016226,\n",
       "       0.6781777302421271,\n",
       "       0.9444534327168267,\n",
       "       0.9097549888278196,\n",
       "       0.4016053897071847,\n",
       "       0.742569653999416,\n",
       "       0.4502123928731029,\n",
       "       0.41482789974668394],\n",
       "      [0.3143880045401288,\n",
       "       0.35274538277998974,\n",
       "       0.46581110736812054,\n",
       "       0.4881176601798298,\n",
       "       0.6676397964629072,\n",
       "       0.4503137641581949,\n",
       "       0.3480817837232713,\n",
       "       0.5981869480895315,\n",
       "       0.15046272427520188,\n",
       "       0.37090563298567775,\n",
       "       0.7453590551247384,\n",
       "       0.6202070902572242,\n",
       "       0.1659129079736946,\n",
       "       0.16791605436158993,\n",
       "       0.3951725310575955,\n",
       "       0.6314930845057957,\n",
       "       0.6062237137670969,\n",
       "       0.0959087772162459,\n",
       "       0.15070788842809843,\n",
       "       0.03255011648848595,\n",
       "       0.27950644161582594,\n",
       "       0.2719339841144258,\n",
       "       0.7498946622713082,\n",
       "       0.8322530959939123,\n",
       "       0.04132675592195037,\n",
       "       0.2682212469402906,\n",
       "       0.7684062129433408,\n",
       "       0.9249074899181763,\n",
       "       0.0008206112200599744,\n",
       "       0.006057223335143734,\n",
       "       0.7314672321476148,\n",
       "       0.03937765526645404,\n",
       "       0.5567172317421647,\n",
       "       0.76803304887709,\n",
       "       0.9484212359579437,\n",
       "       0.6953226857028499,\n",
       "       0.8313784078966003,\n",
       "       0.9983161298772598,\n",
       "       0.36834263460042815,\n",
       "       0.6700808855052492,\n",
       "       0.6144908374092487,\n",
       "       0.9488904176946112,\n",
       "       0.36856553038262657,\n",
       "       0.31753748935738807,\n",
       "       0.6084219938301787,\n",
       "       0.6247652681798957,\n",
       "       0.3470293873710521,\n",
       "       0.010253634794066215,\n",
       "       0.024795815519206742,\n",
       "       0.8554139266153555,\n",
       "       0.09936258421756596,\n",
       "       0.8928576282014642,\n",
       "       0.6710058603719676]],\n",
       "     'likelihood': None}]}],\n",
       " 'tau_mat': [[1.0, 0.5108853410740204], [0.5108853410740204, 1.0]],\n",
       " 'u_matrix': [[0.5103266989301772, 0.42969036534225524],\n",
       "  [0.5890103565895445, 0.5094388827171857],\n",
       "  [0.6237185767353117, 0.6094792514758165],\n",
       "  [0.6082691593403937, 0.6147254465998371],\n",
       "  [0.5692055130480576, 0.7142822536262406],\n",
       "  [0.616681793561755, 0.5945100606102082],\n",
       "  [0.5804144089228834, 0.5005410802765914],\n",
       "  [0.4831590177109618, 0.6007844553697076],\n",
       "  [0.5203542713018827, 0.31490628374368435],\n",
       "  [0.5551869755459728, 0.49929074546973523],\n",
       "  [0.6069731172967617, 0.7928697093082291],\n",
       "  [0.5994956702224788, 0.6993861321138402],\n",
       "  [0.5054080307034892, 0.3193032808673126],\n",
       "  [0.42667288155737365, 0.2745896352067026],\n",
       "  [0.5903366179729265, 0.5396772059393309],\n",
       "  [0.5855092432932635, 0.6986081724194159],\n",
       "  [0.4547699427129128, 0.5827915694435152],\n",
       "  [0.43312747173760535, 0.2215893856606764],\n",
       "  [0.5534365297468322, 0.33319204626934273],\n",
       "  [0.47004138677991747, 0.16126955987479938],\n",
       "  [0.3383353479154658, 0.2811722959352831],\n",
       "  [0.43604232596351084, 0.3493394760158622],\n",
       "  [0.6525293246192497, 0.8172934259056481],\n",
       "  [0.2501642471051308, 0.5574366672706531],\n",
       "  [0.20531418385120537, 0.07745975200245699],\n",
       "  [0.5344699114464747, 0.41398206409905347],\n",
       "  [0.3033295075661864, 0.5600594010767637],\n",
       "  [0.014090626250739065, 0.056806832711324314],\n",
       "  [0.09795605947382098, 0.009857103415869307],\n",
       "  [0.6243269535548867, 0.12067964462828117],\n",
       "  [0.2522109580030989, 0.454829550789955],\n",
       "  [0.2915478662711592, 0.1078212446301662],\n",
       "  [0.03181783116490398, 0.0449112377515916],\n",
       "  [0.9716981009857396, 0.913701604413504],\n",
       "  [0.9134730913379675, 0.9795761093030694],\n",
       "  [0.8218207179456408, 0.8455518579025407],\n",
       "  [0.16367492446006068, 0.3985314987319601],\n",
       "  [0.09206312895849951, 0.9289767648281394],\n",
       "  [0.9905660365998357, 0.7203645230587781],\n",
       "  [0.5095283013830239, 0.675162003423429],\n",
       "  [0.23210124686095696, 0.34484401280879573],\n",
       "  [0.3282905047904286, 0.8600978995763024],\n",
       "  [0.6288886381623487, 0.545981152011595],\n",
       "  [0.2830970786249008, 0.2550088978019006],\n",
       "  [0.5815956456368386, 0.6798668661028056],\n",
       "  [0.9128384470393551, 0.8361946815170436],\n",
       "  [0.7362611297184232, 0.5926995806252758],\n",
       "  [0.4167100950895001, 0.09636866348555774],\n",
       "  [0.5100374418575183, 0.1588970995692159],\n",
       "  [0.7095386945411575, 0.9063179398902961],\n",
       "  [0.3780500469066376, 0.19713737270936832],\n",
       "  [0.7509358083667846, 0.9372768134464682],\n",
       "  [0.6545981138380473, 0.7648704402266181]],\n",
       " 'unis': [{'dataset': [-0.026372837719811804,\n",
       "    0.027434201608340203,\n",
       "    0.051920158497509084,\n",
       "    0.04093284811752307,\n",
       "    0.01373381854470046,\n",
       "    0.046896242805222865,\n",
       "    0.0214681448173748,\n",
       "    -0.04479464087352203,\n",
       "    -0.019576430513090104,\n",
       "    0.004120671967919209,\n",
       "    0.04001801714842057,\n",
       "    0.03475884633048376,\n",
       "    -0.02970571811030409,\n",
       "    -0.08353562120319491,\n",
       "    0.028357676395676545,\n",
       "    0.025000295224380853,\n",
       "    -0.06415033346367816,\n",
       "    -0.0790555099537299,\n",
       "    0.0029242483716869216,\n",
       "    -0.053717528006463566,\n",
       "    -0.14753514583084948,\n",
       "    -0.07703807102504057,\n",
       "    0.07289059371278439,\n",
       "    -0.22077963569064107,\n",
       "    -0.2649999430028145,\n",
       "    -0.009996389128861471,\n",
       "    -0.17504801295313266,\n",
       "    -0.8450442252394214,\n",
       "    -0.42062208688765024,\n",
       "    0.0523561364301528,\n",
       "    -0.21890532070238455,\n",
       "    -0.1847133893795473,\n",
       "    -0.6718750681185843,\n",
       "    1.3809524600379195,\n",
       "    0.38000015345757343,\n",
       "    0.22463729730308968,\n",
       "    -0.31360918830502815,\n",
       "    -0.4336208036472865,\n",
       "    2.4497723192435625,\n",
       "    -0.026913836833787008,\n",
       "    -0.23781459179264397,\n",
       "    -0.15526484937033103,\n",
       "    0.05563377984710827,\n",
       "    -0.1917941648701702,\n",
       "    0.022286088168322893,\n",
       "    0.37828015776161794,\n",
       "    0.13942614205429815,\n",
       "    -0.0904884511633115,\n",
       "    -0.026568840996878618,\n",
       "    0.11701532720480623,\n",
       "    -0.11801453061618805,\n",
       "    0.152372818441328,\n",
       "    0.07442468211694253],\n",
       "   'type': 'copulas.univariate.gaussian_kde.GaussianKDE'},\n",
       "  {'dataset': [-0.001803731945068332,\n",
       "    0.008918341868239699,\n",
       "    0.021822459397876637,\n",
       "    0.0225043584388378,\n",
       "    0.03605338058344332,\n",
       "    0.019885213886444708,\n",
       "    0.007756209502384426,\n",
       "    0.02069586795457079,\n",
       "    -0.0196175521025308,\n",
       "    0.007592419182781862,\n",
       "    0.048437934265165294,\n",
       "    0.03391995325907371,\n",
       "    -0.01884943111031734,\n",
       "    -0.027135028699665442,\n",
       "    0.012832722468217428,\n",
       "    0.03380989255691946,\n",
       "    0.018375146502701334,\n",
       "    -0.03873284236730967,\n",
       "    -0.016480057176880614,\n",
       "    -0.05547455383033273,\n",
       "    -0.0258428319952817,\n",
       "    -0.013824501134879763,\n",
       "    0.05284865065367894,\n",
       "    0.015116721899961272,\n",
       "    -0.08813679376636363,\n",
       "    -0.004028955974134774,\n",
       "    0.015453652105619664,\n",
       "    -0.0993864780816911,\n",
       "    -0.1603547967288832,\n",
       "    -0.069606650871197,\n",
       "    0.001665461979555527,\n",
       "    -0.07466335598599749,\n",
       "    -0.10744890187754086,\n",
       "    0.07561196462567854,\n",
       "    0.10721426403283951,\n",
       "    0.05845423303115416,\n",
       "    -0.00626872574716808,\n",
       "    0.08067638015538492,\n",
       "    0.0369397707640402,\n",
       "    0.03054829162044559,\n",
       "    -0.0145538184723083,\n",
       "    0.061606553135660214,\n",
       "    0.013644173411796023,\n",
       "    -0.0311546728875558,\n",
       "    0.031194760037197344,\n",
       "    0.05652893345437504,\n",
       "    0.01965160647173958,\n",
       "    -0.07945450222094252,\n",
       "    -0.05623105791867411,\n",
       "    0.07338335135650431,\n",
       "    -0.04498043016855524,\n",
       "    0.08375280891529546,\n",
       "    0.043760051974253145],\n",
       "   'type': 'copulas.univariate.gaussian_kde.GaussianKDE'}],\n",
       " 'columns': Index(['AIG', 'SPY'], dtype='object')}"
      ]
     },
     "execution_count": 55,
     "metadata": {},
     "output_type": "execute_result"
    }
   ],
   "source": [
    "regular.to_dict()"
   ]
  },
  {
   "cell_type": "markdown",
   "id": "1fc51763",
   "metadata": {},
   "source": [
    "5.3\tComment on the comparison of the fits.\n"
   ]
  },
  {
   "cell_type": "code",
   "execution_count": null,
   "id": "04b87632",
   "metadata": {},
   "outputs": [],
   "source": []
  },
  {
   "cell_type": "markdown",
   "id": "9ce23894",
   "metadata": {},
   "source": [
    "##**6 Modeling Before and After the Crisis**"
   ]
  },
  {
   "cell_type": "markdown",
   "id": "057eb5f5",
   "metadata": {},
   "source": [
    "6.1\tUsing data pre-crisis, run any model from Machine Learning (LASSO, CART, PCA, NN, SVM, Bayes, or other ML techniques)"
   ]
  },
  {
   "cell_type": "code",
   "execution_count": null,
   "id": "f724e13e",
   "metadata": {},
   "outputs": [],
   "source": []
  },
  {
   "cell_type": "markdown",
   "id": "aae9966b",
   "metadata": {},
   "source": [
    "6.2\tUsing data post-crisis, run the same model.\n"
   ]
  },
  {
   "cell_type": "code",
   "execution_count": null,
   "id": "281b558b",
   "metadata": {},
   "outputs": [],
   "source": []
  },
  {
   "cell_type": "markdown",
   "id": "27f3c9c2",
   "metadata": {},
   "source": [
    "6.3\tDetermine any mean-reverting relationships\n"
   ]
  },
  {
   "cell_type": "code",
   "execution_count": null,
   "id": "881c512c",
   "metadata": {},
   "outputs": [],
   "source": []
  },
  {
   "cell_type": "markdown",
   "id": "7ffd99c1",
   "metadata": {},
   "source": [
    "6.4\tHow do the results compare to the results you achieved from the econometrics models you ran in the previous submission?\n"
   ]
  },
  {
   "cell_type": "code",
   "execution_count": null,
   "id": "5dffe698",
   "metadata": {},
   "outputs": [],
   "source": []
  },
  {
   "cell_type": "code",
   "execution_count": null,
   "id": "dc3915aa",
   "metadata": {},
   "outputs": [],
   "source": []
  },
  {
   "cell_type": "code",
   "execution_count": null,
   "id": "4f2b8184",
   "metadata": {},
   "outputs": [],
   "source": []
  },
  {
   "cell_type": "code",
   "execution_count": null,
   "id": "c452f52a",
   "metadata": {},
   "outputs": [],
   "source": []
  }
 ],
 "metadata": {
  "kernelspec": {
   "display_name": "Python 3",
   "language": "python",
   "name": "python3"
  },
  "language_info": {
   "codemirror_mode": {
    "name": "ipython",
    "version": 3
   },
   "file_extension": ".py",
   "mimetype": "text/x-python",
   "name": "python",
   "nbconvert_exporter": "python",
   "pygments_lexer": "ipython3",
   "version": "3.8.3"
  }
 },
 "nbformat": 4,
 "nbformat_minor": 5
}
