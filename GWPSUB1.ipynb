{
 "cells": [
  {
   "cell_type": "markdown",
   "metadata": {},
   "source": [
    "# Group Work Submission 1"
   ]
  },
  {
   "cell_type": "markdown",
   "metadata": {},
   "source": [
    "Select a gold Exchange Traded Fund: GLD SPDR Gold Shares [NYSE] ,  \n",
    "Select an equity ETF from outside the US: EXS1 Shares Core DAX UCITS ETF (DE)"
   ]
  },
  {
   "cell_type": "code",
   "execution_count": 1,
   "metadata": {},
   "outputs": [],
   "source": [
    "import quandl\n",
    "import pandas as pd\n",
    "import pandas_datareader.data as reader\n",
    "import datetime as dt\n",
    "import statsmodels.api as sm\n",
    "import yfinance as yf\n",
    "from pandas_datareader import data as pdr\n",
    "import numpy as np\n",
    "from numpy import mean\n",
    "from numpy import cov\n",
    "import statistics\n",
    "import matplotlib as plt\n",
    "import matplotlib.pyplot as plt\n",
    "import mplfinance as mpf\n",
    "from matplotlib import rcParams\n",
    "import statsmodels\n",
    "from scipy import stats\n",
    "from statsmodels.graphics.tsaplots import plot_acf, plot_pacf\n",
    "from statsmodels.tsa.arima_process import ArmaProcess\n",
    "from statsmodels.tsa.arima_model import ARIMA\n",
    "from statsmodels.tsa.arima_model import ARMA\n",
    "from arch import arch_model\n",
    "from nelson_siegel_svensson import NelsonSiegelCurve, NelsonSiegelSvenssonCurve\n",
    "from nelson_siegel_svensson.calibrate import calibrate_ns_ols, calibrate_nss_ols\n",
    "import statsmodels.tsa.stattools as sts\n",
    "import warnings\n",
    "warnings.filterwarnings('ignore')"
   ]
  },
  {
   "cell_type": "markdown",
   "metadata": {},
   "source": [
    "Import closing daily interest rates of the 6 active benchmarks of US Treasury yields, \n",
    "For the months of October 2019 and November 2019. Imported 3-Month, 1-year, 2-year, 5-year, 10-year, and 30-year maturitie.\n",
    "# Import data from Quandl"
   ]
  },
  {
   "cell_type": "code",
   "execution_count": 2,
   "metadata": {},
   "outputs": [],
   "source": [
    "Importrates = quandl.get(\"USTREASURY/YIELD\", start_date=\"2019-10-01\", end_date=\"2019-11-30\")"
   ]
  },
  {
   "cell_type": "markdown",
   "metadata": {},
   "source": [
    "Removing unnecessary yields"
   ]
  },
  {
   "cell_type": "code",
   "execution_count": 3,
   "metadata": {},
   "outputs": [],
   "source": [
    "Tyields = Importrates.drop(['1 MO', '2 MO', '6 MO', '3 YR', '7 YR', '20 YR'], axis=1)\n",
    "#Saved the data in csv\n",
    "#Tyields.to_csv(\"Tyields.csv\")"
   ]
  },
  {
   "cell_type": "markdown",
   "metadata": {},
   "source": [
    "Import your gold ETF prices for the months of October 2019 and November 2019"
   ]
  },
  {
   "cell_type": "code",
   "execution_count": 4,
   "metadata": {},
   "outputs": [],
   "source": [
    "GoldETF = pdr.get_data_yahoo(\"GLD\", start=\"2019-10-01\", end=\"2019-11-30\")\n",
    "#Saved the data in csv\n",
    "#GoldETF.to_csv(\"GLD.csv\")"
   ]
  },
  {
   "cell_type": "markdown",
   "metadata": {},
   "source": [
    "Import your equity ETF price for the months of October 2019 and November 2019"
   ]
  },
  {
   "cell_type": "code",
   "execution_count": 5,
   "metadata": {},
   "outputs": [],
   "source": [
    "StockETF = pdr.get_data_yahoo(\"EXS1.DE\", start=\"2019-10-01\", end=\"2019-11-30\")\n",
    "#Saved the data in csv\n",
    "#StockETF.to_csv(\"StockETF.csv\")"
   ]
  },
  {
   "cell_type": "markdown",
   "metadata": {},
   "source": [
    "# Data Processing\n",
    "Compute the daily returns of your Gold ETF and your Equity ETF. Also performed for Oct & Nov."
   ]
  },
  {
   "cell_type": "code",
   "execution_count": 6,
   "metadata": {
    "scrolled": false
   },
   "outputs": [],
   "source": [
    "GoldETFreturn = np.log(GoldETF['Adj Close']) - np.log(GoldETF['Adj Close'].shift(1))\n",
    "StockETFreturn = np.log(StockETF['Adj Close']) - np.log(StockETF['Adj Close'].shift(1))\n",
    "OCTGoldETFreturn = GoldETFreturn.iloc[1: 23]\n",
    "NOVGoldETFreturn = GoldETFreturn.iloc[23: 43]\n",
    "OCTStockETFreturn = StockETFreturn.iloc[1: 22]\n",
    "NOVStockETFreturn = StockETFreturn.iloc[22: 43]"
   ]
  },
  {
   "cell_type": "code",
   "execution_count": 7,
   "metadata": {},
   "outputs": [
    {
     "data": {
      "text/plain": [
       "Date\n",
       "2019-10-02    0.011606\n",
       "2019-10-03    0.004520\n",
       "2019-10-04    0.000000\n",
       "2019-10-07   -0.008564\n",
       "2019-10-08    0.008705\n",
       "2019-10-09    0.000916\n",
       "2019-10-10   -0.008768\n",
       "2019-10-11   -0.005555\n",
       "2019-10-14    0.003991\n",
       "2019-10-15   -0.006995\n",
       "2019-10-16    0.005714\n",
       "2019-10-17    0.001423\n",
       "2019-10-18   -0.001067\n",
       "2019-10-21   -0.004782\n",
       "2019-10-22    0.002929\n",
       "2019-10-23    0.002351\n",
       "2019-10-24    0.007091\n",
       "2019-10-25    0.002329\n",
       "2019-10-28   -0.008637\n",
       "2019-10-29   -0.002777\n",
       "2019-10-30    0.005475\n",
       "2019-10-31    0.009949\n",
       "Name: Adj Close, dtype: float64"
      ]
     },
     "execution_count": 7,
     "metadata": {},
     "output_type": "execute_result"
    }
   ],
   "source": [
    "OCTGoldETFreturn #OCT Gold returns"
   ]
  },
  {
   "cell_type": "code",
   "execution_count": 8,
   "metadata": {},
   "outputs": [
    {
     "data": {
      "text/plain": [
       "Date\n",
       "2019-11-01    0.000912\n",
       "2019-11-04   -0.002880\n",
       "2019-11-05   -0.016312\n",
       "2019-11-06    0.004281\n",
       "2019-11-07   -0.015643\n",
       "2019-11-08   -0.006385\n",
       "2019-11-11   -0.002405\n",
       "2019-11-12    0.002696\n",
       "2019-11-13    0.003994\n",
       "2019-11-14    0.004195\n",
       "2019-11-15   -0.002529\n",
       "2019-11-18    0.002962\n",
       "2019-11-19    0.000505\n",
       "2019-11-20    0.000505\n",
       "2019-11-21   -0.005492\n",
       "2019-11-22   -0.001886\n",
       "2019-11-25   -0.004803\n",
       "2019-11-26    0.004803\n",
       "2019-11-27   -0.005314\n",
       "2019-11-29    0.006185\n",
       "Name: Adj Close, dtype: float64"
      ]
     },
     "execution_count": 8,
     "metadata": {},
     "output_type": "execute_result"
    }
   ],
   "source": [
    "NOVGoldETFreturn #Nov Gold returns"
   ]
  },
  {
   "cell_type": "code",
   "execution_count": 9,
   "metadata": {},
   "outputs": [
    {
     "data": {
      "text/plain": [
       "Date\n",
       "2019-10-02   -0.028378\n",
       "2019-10-04    0.007608\n",
       "2019-10-07    0.007164\n",
       "2019-10-08   -0.010863\n",
       "2019-10-09    0.010863\n",
       "2019-10-10    0.006347\n",
       "2019-10-11    0.027047\n",
       "2019-10-14   -0.001681\n",
       "2019-10-15    0.010598\n",
       "2019-10-16    0.004245\n",
       "2019-10-17   -0.001106\n",
       "2019-10-18   -0.002030\n",
       "2019-10-21    0.008462\n",
       "2019-10-22    0.001464\n",
       "2019-10-23    0.003105\n",
       "2019-10-24    0.005818\n",
       "2019-10-25    0.001087\n",
       "2019-10-28    0.004517\n",
       "2019-10-29   -0.000541\n",
       "2019-10-30   -0.002348\n",
       "2019-10-31   -0.003260\n",
       "Name: Adj Close, dtype: float64"
      ]
     },
     "execution_count": 9,
     "metadata": {},
     "output_type": "execute_result"
    }
   ],
   "source": [
    "OCTStockETFreturn #Oct ESX1 returns"
   ]
  },
  {
   "cell_type": "code",
   "execution_count": 10,
   "metadata": {},
   "outputs": [
    {
     "data": {
      "text/plain": [
       "Date\n",
       "2019-11-01    0.007049\n",
       "2019-11-04    0.013418\n",
       "2019-11-05    0.001421\n",
       "2019-11-06    0.002127\n",
       "2019-11-07    0.008113\n",
       "2019-11-08   -0.004225\n",
       "2019-11-11   -0.002473\n",
       "2019-11-12    0.006170\n",
       "2019-11-13   -0.003874\n",
       "2019-11-14   -0.003889\n",
       "2019-11-15    0.004418\n",
       "2019-11-18   -0.002649\n",
       "2019-11-19    0.001060\n",
       "2019-11-20   -0.004070\n",
       "2019-11-21   -0.001597\n",
       "2019-11-22    0.001952\n",
       "2019-11-25    0.005833\n",
       "2019-11-26   -0.000353\n",
       "2019-11-27    0.003344\n",
       "2019-11-28   -0.002639\n",
       "2019-11-29   -0.001234\n",
       "Name: Adj Close, dtype: float64"
      ]
     },
     "execution_count": 10,
     "metadata": {},
     "output_type": "execute_result"
    }
   ],
   "source": [
    "NOVStockETFreturn #Nov ESX1 returns"
   ]
  },
  {
   "cell_type": "markdown",
   "metadata": {},
   "source": [
    "# Data Summaries\n",
    "For the month of October, compute the average yield for each benchmark security. & Calculation for November."
   ]
  },
  {
   "cell_type": "code",
   "execution_count": 11,
   "metadata": {},
   "outputs": [],
   "source": [
    "OCTTyields = Tyields.iloc[0: 22]\n",
    "OCTTyieldsavg = mean(OCTTyields)\n",
    "NOVTyields = Tyields.iloc[22: 45]\n",
    "NOVTyieldsavg = mean(NOVTyields)"
   ]
  },
  {
   "cell_type": "code",
   "execution_count": 12,
   "metadata": {},
   "outputs": [
    {
     "data": {
      "text/plain": [
       "3 MO     1.678636\n",
       "1 YR     1.608182\n",
       "2 YR     1.551364\n",
       "5 YR     1.525000\n",
       "10 YR    1.706818\n",
       "30 YR    2.190455\n",
       "dtype: float64"
      ]
     },
     "execution_count": 12,
     "metadata": {},
     "output_type": "execute_result"
    }
   ],
   "source": [
    "OCTTyieldsavg #Oct average yield"
   ]
  },
  {
   "cell_type": "code",
   "execution_count": 13,
   "metadata": {},
   "outputs": [
    {
     "data": {
      "text/plain": [
       "3 MO     1.572105\n",
       "1 YR     1.567895\n",
       "2 YR     1.612632\n",
       "5 YR     1.639474\n",
       "10 YR    1.812105\n",
       "30 YR    2.280526\n",
       "dtype: float64"
      ]
     },
     "execution_count": 13,
     "metadata": {},
     "output_type": "execute_result"
    }
   ],
   "source": [
    "NOVTyieldsavg #Nov average yield"
   ]
  },
  {
   "cell_type": "markdown",
   "metadata": {},
   "source": [
    "For the month of October, compute the average price the Gold ETF."
   ]
  },
  {
   "cell_type": "code",
   "execution_count": 14,
   "metadata": {},
   "outputs": [
    {
     "data": {
      "text/plain": [
       "140.87478173297384"
      ]
     },
     "execution_count": 14,
     "metadata": {},
     "output_type": "execute_result"
    }
   ],
   "source": [
    "OCTGold = GoldETF.iloc[0: 23]\n",
    "OCTGoldavg = mean(OCTGold['Adj Close'])\n",
    "OCTGoldavg"
   ]
  },
  {
   "cell_type": "markdown",
   "metadata": {},
   "source": [
    "Average calculation for November:"
   ]
  },
  {
   "cell_type": "code",
   "execution_count": 15,
   "metadata": {},
   "outputs": [
    {
     "data": {
      "text/plain": [
       "138.57049942016602"
      ]
     },
     "execution_count": 15,
     "metadata": {},
     "output_type": "execute_result"
    }
   ],
   "source": [
    "NOVGold = GoldETF.iloc[23: 43]\n",
    "NOVGoldavg = mean(NOVGold['Adj Close'])\n",
    "NOVGoldavg"
   ]
  },
  {
   "cell_type": "markdown",
   "metadata": {},
   "source": [
    "For the month of October, compute the average price the Equity ETF."
   ]
  },
  {
   "cell_type": "code",
   "execution_count": 16,
   "metadata": {},
   "outputs": [
    {
     "data": {
      "text/plain": [
       "107.43818248401989"
      ]
     },
     "execution_count": 16,
     "metadata": {},
     "output_type": "execute_result"
    }
   ],
   "source": [
    "OCTStock = StockETF.iloc[0: 22]\n",
    "OCTStockavg = mean(OCTStock['Adj Close'])\n",
    "OCTStockavg"
   ]
  },
  {
   "cell_type": "markdown",
   "metadata": {},
   "source": [
    "Average calculation for November:"
   ]
  },
  {
   "cell_type": "code",
   "execution_count": 17,
   "metadata": {},
   "outputs": [
    {
     "data": {
      "text/plain": [
       "113.10761878603981"
      ]
     },
     "execution_count": 17,
     "metadata": {},
     "output_type": "execute_result"
    }
   ],
   "source": [
    "NOVStock = StockETF.iloc[22: 43]\n",
    "NOVStockavg = mean(NOVStock['Adj Close'])\n",
    "NOVStockavg"
   ]
  },
  {
   "cell_type": "markdown",
   "metadata": {},
   "source": [
    "For the month of October, compute the standard deviation for each benchmark security. Calculation for November."
   ]
  },
  {
   "cell_type": "code",
   "execution_count": 18,
   "metadata": {
    "scrolled": true
   },
   "outputs": [],
   "source": [
    "StdevOCTTyields = OCTTyields.std()\n",
    "StdevNOVTyields = NOVTyields.std()"
   ]
  },
  {
   "cell_type": "code",
   "execution_count": 19,
   "metadata": {},
   "outputs": [
    {
     "data": {
      "text/plain": [
       "3 MO     0.057677\n",
       "1 YR     0.042498\n",
       "2 YR     0.080315\n",
       "5 YR     0.104460\n",
       "10 YR    0.104808\n",
       "30 YR    0.101300\n",
       "dtype: float64"
      ]
     },
     "execution_count": 19,
     "metadata": {},
     "output_type": "execute_result"
    }
   ],
   "source": [
    "StdevOCTTyields #Oct standard deviation yield"
   ]
  },
  {
   "cell_type": "code",
   "execution_count": 20,
   "metadata": {},
   "outputs": [
    {
     "data": {
      "text/plain": [
       "3 MO     0.024399\n",
       "1 YR     0.025073\n",
       "2 YR     0.033804\n",
       "5 YR     0.052755\n",
       "10 YR    0.065028\n",
       "30 YR    0.076918\n",
       "dtype: float64"
      ]
     },
     "execution_count": 20,
     "metadata": {},
     "output_type": "execute_result"
    }
   ],
   "source": [
    "StdevNOVTyields #Nov standard deviation yield"
   ]
  },
  {
   "cell_type": "markdown",
   "metadata": {},
   "source": [
    "For the month of October, compute the standard deviation of the Gold ETF. Calculation for November."
   ]
  },
  {
   "cell_type": "code",
   "execution_count": 21,
   "metadata": {},
   "outputs": [],
   "source": [
    "StdevOCTGold = statistics.stdev(OCTGold['Adj Close'])\n",
    "StdevNOVGold = statistics.stdev(NOVGold['Adj Close'])"
   ]
  },
  {
   "cell_type": "code",
   "execution_count": 22,
   "metadata": {},
   "outputs": [
    {
     "data": {
      "text/plain": [
       "0.8312292769142049"
      ]
     },
     "execution_count": 22,
     "metadata": {},
     "output_type": "execute_result"
    }
   ],
   "source": [
    "StdevOCTGold #Oct Gold standard deviation"
   ]
  },
  {
   "cell_type": "code",
   "execution_count": 23,
   "metadata": {},
   "outputs": [
    {
     "data": {
      "text/plain": [
       "1.5620945751529574"
      ]
     },
     "execution_count": 23,
     "metadata": {},
     "output_type": "execute_result"
    }
   ],
   "source": [
    "StdevNOVGold #Nov Gold standard deviation "
   ]
  },
  {
   "cell_type": "markdown",
   "metadata": {},
   "source": [
    "For the month of October, compute the standard deviation of the Equity ETF. Calculation for November."
   ]
  },
  {
   "cell_type": "code",
   "execution_count": 24,
   "metadata": {},
   "outputs": [],
   "source": [
    "StdevOCTStock = statistics.stdev(OCTStock['Adj Close'])\n",
    "StdevNOVStock = statistics.stdev(NOVStock['Adj Close'])"
   ]
  },
  {
   "cell_type": "code",
   "execution_count": 25,
   "metadata": {},
   "outputs": [
    {
     "data": {
      "text/plain": [
       "3.0186713753017393"
      ]
     },
     "execution_count": 25,
     "metadata": {},
     "output_type": "execute_result"
    }
   ],
   "source": [
    "StdevOCTStock #Oct ESX1 standard deviation"
   ]
  },
  {
   "cell_type": "code",
   "execution_count": 26,
   "metadata": {},
   "outputs": [
    {
     "data": {
      "text/plain": [
       "0.6153853577060089"
      ]
     },
     "execution_count": 26,
     "metadata": {},
     "output_type": "execute_result"
    }
   ],
   "source": [
    "StdevNOVStock #Nov ESX1 standard deviation "
   ]
  },
  {
   "cell_type": "markdown",
   "metadata": {},
   "source": [
    "# Graphing\n",
    "Graph the 6 benchmark securities for the 2 months on 1 plot & Add a legend."
   ]
  },
  {
   "cell_type": "code",
   "execution_count": 27,
   "metadata": {
    "scrolled": true
   },
   "outputs": [
    {
     "data": {
      "image/png": "[encoded data removed]",
      "text/plain": [
       "<Figure size 864x288 with 1 Axes>"
      ]
     },
     "metadata": {
      "needs_background": "light"
     },
     "output_type": "display_data"
    }
   ],
   "source": [
    "Tyields.plot(figsize=(12,4))\n",
    "plt.gca().legend(('3MO','1YR','2YR','5YR','10YR','30YR'))\n",
    "plt.title('6 Benchmark Securities')\n",
    "plt.xlabel('Date')\n",
    "plt.ylabel('Yield')\n",
    "plt.tick_params(axis='x', labelsize=7)"
   ]
  },
  {
   "cell_type": "markdown",
   "metadata": {},
   "source": [
    "Plot the gold ETF prices for the 2 months. Use the left-side axis for the price."
   ]
  },
  {
   "cell_type": "code",
   "execution_count": 28,
   "metadata": {},
   "outputs": [
    {
     "data": {
      "image/png": "[encoded data removed]",
      "text/plain": [
       "<Figure size 864x288 with 1 Axes>"
      ]
     },
     "metadata": {
      "needs_background": "light"
     },
     "output_type": "display_data"
    }
   ],
   "source": [
    "GoldETF['Adj Close'].plot(figsize=(12,4))\n",
    "plt.title('Gold ETF')\n",
    "plt.xlabel('Date')\n",
    "plt.ylabel('Gold Price')\n",
    "plt.tick_params(axis='x', labelsize=7)"
   ]
  },
  {
   "cell_type": "markdown",
   "metadata": {},
   "source": [
    "On the same graph, plot the equity ETF prices for the 2 months.Be sure to use a separate scale,  and the right-side axis for the price label"
   ]
  },
  {
   "cell_type": "code",
   "execution_count": 29,
   "metadata": {},
   "outputs": [
    {
     "data": {
      "image/png": "[encoded data removed]",
      "text/plain": [
       "<Figure size 1080x360 with 2 Axes>"
      ]
     },
     "metadata": {
      "needs_background": "light"
     },
     "output_type": "display_data"
    }
   ],
   "source": [
    "fig = plt.figure(figsize=(15,5))\n",
    "\n",
    "ax1 = fig.add_subplot(111)\n",
    "ax1.plot(GoldETF.index, GoldETF['Adj Close'], 'gold')\n",
    "ax1.set_ylabel('Gold ETF', color='gold')\n",
    "ax1.set_xlabel('Date')\n",
    "\n",
    "ax2 = ax1.twinx()\n",
    "ax2.plot(GoldETF.index, StockETF['Adj Close'], 'r-')\n",
    "ax2.set_ylabel('Equity ETF (ESX1)', color='r')\n",
    "ax2.set_xlabel('Date')\n",
    "for tl in ax2.get_yticklabels():\n",
    "    tl.set_color('r')"
   ]
  },
  {
   "cell_type": "markdown",
   "metadata": {},
   "source": [
    "# Fitting the Yield Curve\n",
    "\n",
    "Use either Nelson-Siegel, or Nelson-Siegel-Svensson to fit the Yield Curve. Write out the equation. \n",
    "\n",
    "We choose the Nelson-Siegel, as after running both models we realized that the parameters of Nelson-Siegel were more stable.\n",
    "\n",
    "* The Nelson-Siegel forward rate function is defined as:\n",
    "\n",
    "    𝑦(𝑚) = 𝛽𝑜 + 𝛽1 ∙ (1 − 𝑒^−𝑚/𝜏/𝑚/𝜏) + 𝛽2 ∙ (1 − 𝑒^−𝑚/𝜏/𝑚/𝜏− 𝑒^−𝑚/𝜏)\n"
   ]
  },
  {
   "cell_type": "markdown",
   "metadata": {},
   "source": [
    "Fit the yield curve each day using the 6 benchmark yields for the October data"
   ]
  },
  {
   "cell_type": "code",
   "execution_count": 30,
   "metadata": {},
   "outputs": [
    {
     "name": "stdout",
     "output_type": "stream",
     "text": [
      "NelsonSiegelCurve(beta0=2.6695884390679807, beta1=-0.8153910869696579, beta2=-2.1224844067492405, tau=3.4627867984366)\n"
     ]
    }
   ],
   "source": [
    "t = np.array([2, 3, 5, 7, 10, 30])\n",
    "yOCT29 = Tyields.iloc[19].values\n",
    "\n",
    "curve, status_1 = calibrate_ns_ols(t, yOCT29)\n",
    "assert status_1.success\n",
    "print(curve)"
   ]
  },
  {
   "cell_type": "code",
   "execution_count": 31,
   "metadata": {},
   "outputs": [],
   "source": [
    "y29 = NelsonSiegelCurve(curve.beta0, curve.beta1, curve.beta2, curve.tau)"
   ]
  },
  {
   "cell_type": "code",
   "execution_count": 32,
   "metadata": {},
   "outputs": [
    {
     "name": "stdout",
     "output_type": "stream",
     "text": [
      "NelsonSiegelCurve(beta0=2.4863641095450952, beta1=-0.08049079264902881, beta2=-3.0298074312425745, tau=3.613890204289824)\n"
     ]
    }
   ],
   "source": [
    "yNOV1 = Tyields.iloc[0].values  \n",
    "\n",
    "curve1, status1 = calibrate_ns_ols(t, yNOV1)\n",
    "assert status1.success\n",
    "print(curve1)"
   ]
  },
  {
   "cell_type": "code",
   "execution_count": 33,
   "metadata": {},
   "outputs": [],
   "source": [
    "y01 = NelsonSiegelCurve(curve1.beta0, curve1.beta1, curve1.beta2, curve1.tau)"
   ]
  },
  {
   "cell_type": "code",
   "execution_count": 34,
   "metadata": {},
   "outputs": [],
   "source": [
    "extrap_time = np.linspace(0, 50, 300)"
   ]
  },
  {
   "cell_type": "code",
   "execution_count": 35,
   "metadata": {},
   "outputs": [
    {
     "data": {
      "image/png": "[encoded data removed]",
      "text/plain": [
       "<Figure size 864x864 with 4 Axes>"
      ]
     },
     "metadata": {
      "needs_background": "light"
     },
     "output_type": "display_data"
    }
   ],
   "source": [
    "fig, axs = plt.subplots(2, 2, figsize=(12,12))\n",
    "axs[0, 0].plot(extrap_time, y29.zero(extrap_time))\n",
    "axs[0, 0].set_title('October 29, 2019 - Spot Rate Yield Curve')\n",
    "\n",
    "axs[0, 1].plot(extrap_time, y01.zero(extrap_time), 'tab:orange')\n",
    "axs[0, 1].set_title('November 1, 2019 - Spot Rate Yield Curve')\n",
    "axs[1, 0].plot(extrap_time, y29.forward(extrap_time), 'tab:green')\n",
    "axs[1, 0].set_title('October 29, 2019 - Forward Rate Yield Curve')\n",
    "\n",
    "axs[1, 1].plot(extrap_time, y01.forward(extrap_time), 'tab:red')\n",
    "axs[1, 1].set_title('November 1, 2019 - Forward Rate Yield Curve')\n",
    "\n",
    "for ax in axs.flat:\n",
    "    ax.set(xlabel='t(Yr)', ylabel='(%)')"
   ]
  },
  {
   "cell_type": "markdown",
   "metadata": {},
   "source": [
    "Fit the yield curve each day using the 6 benchmark yields for the October data."
   ]
  },
  {
   "cell_type": "code",
   "execution_count": 36,
   "metadata": {},
   "outputs": [
    {
     "data": {
      "image/png": "[encoded data removed]",
      "text/plain": [
       "<Figure size 432x288 with 1 Axes>"
      ]
     },
     "metadata": {
      "needs_background": "light"
     },
     "output_type": "display_data"
    }
   ],
   "source": [
    "parameters = {'beta0':[], 'beta1':[], 'beta2':[], 'tau':[]}\n",
    "\n",
    "\n",
    "for i in range(len(OCTTyields)):\n",
    "    curve, status = calibrate_ns_ols(t, OCTTyields.iloc[i].values)\n",
    "    if status.success:\n",
    "        x = np.linspace(0, 20, 100)\n",
    "        plt.plot(x, curve(x))\n",
    "        for attr, value in curve.__dict__.items():\n",
    "            parameters[attr].append(value)\n",
    "        \n",
    "    else:\n",
    "        print('No fit')\n",
    "        for attr, value in curve.__dict__.items():\n",
    "            parameters[attr].append(None)"
   ]
  },
  {
   "cell_type": "code",
   "execution_count": 37,
   "metadata": {},
   "outputs": [],
   "source": [
    "OctNS = OCTTyields.copy()\n",
    "\n",
    "for key, value in parameters.items():\n",
    "   OctNS[key] = value"
   ]
  },
  {
   "cell_type": "code",
   "execution_count": 38,
   "metadata": {},
   "outputs": [
    {
     "data": {
      "image/png": "[encoded data removed]",
      "text/plain": [
       "<Figure size 432x288 with 1 Axes>"
      ]
     },
     "metadata": {
      "needs_background": "light"
     },
     "output_type": "display_data"
    }
   ],
   "source": [
    "NOVparameters = {'beta0':[], 'beta1':[], 'beta2':[], 'tau':[]}\n",
    "\n",
    "\n",
    "for i in range(len(NOVTyields)):\n",
    "    curve, status = calibrate_ns_ols(t, NOVTyields.iloc[i].values)\n",
    "    if status.success:\n",
    "        x = np.linspace(0, 20, 100)\n",
    "        plt.plot(x, curve(x))\n",
    "        for attr, value in curve.__dict__.items():\n",
    "            NOVparameters[attr].append(value)\n",
    "    else:\n",
    "        print('No fit')\n",
    "        for attr, value in curve.__dict__.items():\n",
    "            NOVparameters[attr].append(None)"
   ]
  },
  {
   "cell_type": "code",
   "execution_count": 39,
   "metadata": {},
   "outputs": [],
   "source": [
    "NovNS = NOVTyields.copy()\n",
    "\n",
    "for key, value in NOVparameters.items():\n",
    "    NovNS[key] = value"
   ]
  },
  {
   "cell_type": "markdown",
   "metadata": {},
   "source": [
    " What are the significant changes, if any? Be specific with regards to the values of the parameters!"
   ]
  },
  {
   "cell_type": "code",
   "execution_count": 40,
   "metadata": {},
   "outputs": [
    {
     "data": {
      "image/png": "[encoded data removed]",
      "text/plain": [
       "<Figure size 720x432 with 1 Axes>"
      ]
     },
     "metadata": {
      "needs_background": "light"
     },
     "output_type": "display_data"
    }
   ],
   "source": [
    "NSparameter = ['beta0', 'beta1', 'beta2', 'tau']\n",
    "data = OctNS[NSparameter].append(NovNS[NSparameter])\n",
    "data.plot(figsize=(10,6), title='October-November NS method');"
   ]
  },
  {
   "cell_type": "code",
   "execution_count": 41,
   "metadata": {},
   "outputs": [
    {
     "data": {
      "text/html": [
       "<div>\n",
       "<style scoped>\n",
       "    .dataframe tbody tr th:only-of-type {\n",
       "        vertical-align: middle;\n",
       "    }\n",
       "\n",
       "    .dataframe tbody tr th {\n",
       "        vertical-align: top;\n",
       "    }\n",
       "\n",
       "    .dataframe thead th {\n",
       "        text-align: right;\n",
       "    }\n",
       "</style>\n",
       "<table border=\"1\" class=\"dataframe\">\n",
       "  <thead>\n",
       "    <tr style=\"text-align: right;\">\n",
       "      <th></th>\n",
       "      <th>3 MO</th>\n",
       "      <th>1 YR</th>\n",
       "      <th>2 YR</th>\n",
       "      <th>5 YR</th>\n",
       "      <th>10 YR</th>\n",
       "      <th>30 YR</th>\n",
       "      <th>beta0</th>\n",
       "      <th>beta1</th>\n",
       "      <th>beta2</th>\n",
       "      <th>tau</th>\n",
       "    </tr>\n",
       "    <tr>\n",
       "      <th>Date</th>\n",
       "      <th></th>\n",
       "      <th></th>\n",
       "      <th></th>\n",
       "      <th></th>\n",
       "      <th></th>\n",
       "      <th></th>\n",
       "      <th></th>\n",
       "      <th></th>\n",
       "      <th></th>\n",
       "      <th></th>\n",
       "    </tr>\n",
       "  </thead>\n",
       "  <tbody>\n",
       "    <tr>\n",
       "      <th>2019-10-25</th>\n",
       "      <td>1.66</td>\n",
       "      <td>1.60</td>\n",
       "      <td>1.63</td>\n",
       "      <td>1.62</td>\n",
       "      <td>1.80</td>\n",
       "      <td>2.29</td>\n",
       "      <td>2.643999</td>\n",
       "      <td>-0.705849</td>\n",
       "      <td>-2.279490</td>\n",
       "      <td>3.551708</td>\n",
       "    </tr>\n",
       "    <tr>\n",
       "      <th>2019-10-28</th>\n",
       "      <td>1.65</td>\n",
       "      <td>1.60</td>\n",
       "      <td>1.64</td>\n",
       "      <td>1.66</td>\n",
       "      <td>1.85</td>\n",
       "      <td>2.34</td>\n",
       "      <td>2.670167</td>\n",
       "      <td>-0.730587</td>\n",
       "      <td>-2.301184</td>\n",
       "      <td>3.257934</td>\n",
       "    </tr>\n",
       "    <tr>\n",
       "      <th>2019-10-29</th>\n",
       "      <td>1.63</td>\n",
       "      <td>1.59</td>\n",
       "      <td>1.64</td>\n",
       "      <td>1.66</td>\n",
       "      <td>1.84</td>\n",
       "      <td>2.33</td>\n",
       "      <td>2.669588</td>\n",
       "      <td>-0.815391</td>\n",
       "      <td>-2.122484</td>\n",
       "      <td>3.462787</td>\n",
       "    </tr>\n",
       "    <tr>\n",
       "      <th>2019-10-30</th>\n",
       "      <td>1.62</td>\n",
       "      <td>1.59</td>\n",
       "      <td>1.61</td>\n",
       "      <td>1.61</td>\n",
       "      <td>1.78</td>\n",
       "      <td>2.26</td>\n",
       "      <td>2.623359</td>\n",
       "      <td>-0.788243</td>\n",
       "      <td>-2.069516</td>\n",
       "      <td>3.811769</td>\n",
       "    </tr>\n",
       "    <tr>\n",
       "      <th>2019-10-31</th>\n",
       "      <td>1.54</td>\n",
       "      <td>1.53</td>\n",
       "      <td>1.52</td>\n",
       "      <td>1.51</td>\n",
       "      <td>1.69</td>\n",
       "      <td>2.17</td>\n",
       "      <td>2.552574</td>\n",
       "      <td>-0.783134</td>\n",
       "      <td>-2.117781</td>\n",
       "      <td>3.950810</td>\n",
       "    </tr>\n",
       "  </tbody>\n",
       "</table>\n",
       "</div>"
      ],
      "text/plain": [
       "            3 MO  1 YR  2 YR  5 YR  10 YR  30 YR     beta0     beta1  \\\n",
       "Date                                                                   \n",
       "2019-10-25  1.66  1.60  1.63  1.62   1.80   2.29  2.643999 -0.705849   \n",
       "2019-10-28  1.65  1.60  1.64  1.66   1.85   2.34  2.670167 -0.730587   \n",
       "2019-10-29  1.63  1.59  1.64  1.66   1.84   2.33  2.669588 -0.815391   \n",
       "2019-10-30  1.62  1.59  1.61  1.61   1.78   2.26  2.623359 -0.788243   \n",
       "2019-10-31  1.54  1.53  1.52  1.51   1.69   2.17  2.552574 -0.783134   \n",
       "\n",
       "               beta2       tau  \n",
       "Date                            \n",
       "2019-10-25 -2.279490  3.551708  \n",
       "2019-10-28 -2.301184  3.257934  \n",
       "2019-10-29 -2.122484  3.462787  \n",
       "2019-10-30 -2.069516  3.811769  \n",
       "2019-10-31 -2.117781  3.950810  "
      ]
     },
     "execution_count": 41,
     "metadata": {},
     "output_type": "execute_result"
    }
   ],
   "source": [
    "OctNS.tail()"
   ]
  },
  {
   "cell_type": "code",
   "execution_count": 42,
   "metadata": {},
   "outputs": [
    {
     "data": {
      "text/html": [
       "<div>\n",
       "<style scoped>\n",
       "    .dataframe tbody tr th:only-of-type {\n",
       "        vertical-align: middle;\n",
       "    }\n",
       "\n",
       "    .dataframe tbody tr th {\n",
       "        vertical-align: top;\n",
       "    }\n",
       "\n",
       "    .dataframe thead th {\n",
       "        text-align: right;\n",
       "    }\n",
       "</style>\n",
       "<table border=\"1\" class=\"dataframe\">\n",
       "  <thead>\n",
       "    <tr style=\"text-align: right;\">\n",
       "      <th></th>\n",
       "      <th>3 MO</th>\n",
       "      <th>1 YR</th>\n",
       "      <th>2 YR</th>\n",
       "      <th>5 YR</th>\n",
       "      <th>10 YR</th>\n",
       "      <th>30 YR</th>\n",
       "      <th>beta0</th>\n",
       "      <th>beta1</th>\n",
       "      <th>beta2</th>\n",
       "      <th>tau</th>\n",
       "    </tr>\n",
       "    <tr>\n",
       "      <th>Date</th>\n",
       "      <th></th>\n",
       "      <th></th>\n",
       "      <th></th>\n",
       "      <th></th>\n",
       "      <th></th>\n",
       "      <th></th>\n",
       "      <th></th>\n",
       "      <th></th>\n",
       "      <th></th>\n",
       "      <th></th>\n",
       "    </tr>\n",
       "  </thead>\n",
       "  <tbody>\n",
       "    <tr>\n",
       "      <th>2019-11-01</th>\n",
       "      <td>1.52</td>\n",
       "      <td>1.53</td>\n",
       "      <td>1.56</td>\n",
       "      <td>1.55</td>\n",
       "      <td>1.73</td>\n",
       "      <td>2.21</td>\n",
       "      <td>2.614511</td>\n",
       "      <td>-0.971093</td>\n",
       "      <td>-1.795985</td>\n",
       "      <td>4.396682</td>\n",
       "    </tr>\n",
       "    <tr>\n",
       "      <th>2019-11-04</th>\n",
       "      <td>1.53</td>\n",
       "      <td>1.56</td>\n",
       "      <td>1.60</td>\n",
       "      <td>1.60</td>\n",
       "      <td>1.79</td>\n",
       "      <td>2.27</td>\n",
       "      <td>2.670795</td>\n",
       "      <td>-1.052848</td>\n",
       "      <td>-1.667020</td>\n",
       "      <td>4.430630</td>\n",
       "    </tr>\n",
       "    <tr>\n",
       "      <th>2019-11-05</th>\n",
       "      <td>1.56</td>\n",
       "      <td>1.62</td>\n",
       "      <td>1.63</td>\n",
       "      <td>1.66</td>\n",
       "      <td>1.86</td>\n",
       "      <td>2.34</td>\n",
       "      <td>2.719771</td>\n",
       "      <td>-1.054803</td>\n",
       "      <td>-1.708287</td>\n",
       "      <td>4.116145</td>\n",
       "    </tr>\n",
       "    <tr>\n",
       "      <th>2019-11-06</th>\n",
       "      <td>1.56</td>\n",
       "      <td>1.58</td>\n",
       "      <td>1.61</td>\n",
       "      <td>1.63</td>\n",
       "      <td>1.81</td>\n",
       "      <td>2.30</td>\n",
       "      <td>2.687826</td>\n",
       "      <td>-1.011389</td>\n",
       "      <td>-1.785279</td>\n",
       "      <td>4.162911</td>\n",
       "    </tr>\n",
       "    <tr>\n",
       "      <th>2019-11-07</th>\n",
       "      <td>1.56</td>\n",
       "      <td>1.58</td>\n",
       "      <td>1.68</td>\n",
       "      <td>1.74</td>\n",
       "      <td>1.92</td>\n",
       "      <td>2.40</td>\n",
       "      <td>2.731761</td>\n",
       "      <td>-1.142229</td>\n",
       "      <td>-1.518164</td>\n",
       "      <td>3.740522</td>\n",
       "    </tr>\n",
       "  </tbody>\n",
       "</table>\n",
       "</div>"
      ],
      "text/plain": [
       "            3 MO  1 YR  2 YR  5 YR  10 YR  30 YR     beta0     beta1  \\\n",
       "Date                                                                   \n",
       "2019-11-01  1.52  1.53  1.56  1.55   1.73   2.21  2.614511 -0.971093   \n",
       "2019-11-04  1.53  1.56  1.60  1.60   1.79   2.27  2.670795 -1.052848   \n",
       "2019-11-05  1.56  1.62  1.63  1.66   1.86   2.34  2.719771 -1.054803   \n",
       "2019-11-06  1.56  1.58  1.61  1.63   1.81   2.30  2.687826 -1.011389   \n",
       "2019-11-07  1.56  1.58  1.68  1.74   1.92   2.40  2.731761 -1.142229   \n",
       "\n",
       "               beta2       tau  \n",
       "Date                            \n",
       "2019-11-01 -1.795985  4.396682  \n",
       "2019-11-04 -1.667020  4.430630  \n",
       "2019-11-05 -1.708287  4.116145  \n",
       "2019-11-06 -1.785279  4.162911  \n",
       "2019-11-07 -1.518164  3.740522  "
      ]
     },
     "execution_count": 42,
     "metadata": {},
     "output_type": "execute_result"
    }
   ],
   "source": [
    "NovNS.head()"
   ]
  },
  {
   "cell_type": "markdown",
   "metadata": {},
   "source": [
    "* Actually, We ran both models Nelson-Siegel & Nelson-Siegel-Svensson. Based on our result we decided to use Nelson-Siegel, as this has more stability in the parameters however after inspection of the parameter plot there was still some minor variability in November.\n",
    "\n",
    "* The following parameters beta1, beta2 and tau had significant changes in November compared to October. beta1 derceased, while ceta2 and tau increased in November.\n",
    "* Beta0 has not changed as much compared to the other parameters."
   ]
  },
  {
   "cell_type": "markdown",
   "metadata": {},
   "source": [
    "# Modeling Prices\n",
    "Using the October gold ETF prices, run an ARMA model with your choice of parameters.\n",
    "\n",
    "* After checking the ADF test, it was concluded the GLD ETF prices are non-stationary."
   ]
  },
  {
   "cell_type": "markdown",
   "metadata": {},
   "source": [
    "* Both in October & November, the ACF and PACF decay exponentially. \n",
    "* Ran models: ARIMA(1,1,1),(1,2,1),(1,1,2),(2,1,2), Based on that ARIMA(1,1,1) is the best-fit model becuase the AIC (60.33) and BIC(64.70) are the smallest for ARIMA(1,1,1), and P-values are below 0.05. Also Log Likelihood -26.168 is the highest."
   ]
  },
  {
   "cell_type": "code",
   "execution_count": 43,
   "metadata": {},
   "outputs": [
    {
     "data": {
      "text/plain": [
       "(-1.9943952807325052,\n",
       " 0.2890359675950407,\n",
       " 7,\n",
       " 15,\n",
       " {'1%': -3.9644434814814815,\n",
       "  '5%': -3.0849081481481484,\n",
       "  '10%': -2.6818144444444445},\n",
       " 24.74797243569019)"
      ]
     },
     "execution_count": 43,
     "metadata": {},
     "output_type": "execute_result"
    }
   ],
   "source": [
    "sts.adfuller(OCTGold['Adj Close']) #checking for stationary"
   ]
  },
  {
   "cell_type": "code",
   "execution_count": 44,
   "metadata": {},
   "outputs": [
    {
     "data": {
      "text/html": [
       "<table class=\"simpletable\">\n",
       "<caption>ARIMA Model Results</caption>\n",
       "<tr>\n",
       "  <th>Dep. Variable:</th>    <td>D.Adj Close</td>   <th>  No. Observations:  </th>   <td>22</td>   \n",
       "</tr>\n",
       "<tr>\n",
       "  <th>Model:</th>          <td>ARIMA(1, 1, 1)</td>  <th>  Log Likelihood     </th> <td>-26.168</td>\n",
       "</tr>\n",
       "<tr>\n",
       "  <th>Method:</th>             <td>css-mle</td>     <th>  S.D. of innovations</th>  <td>0.760</td> \n",
       "</tr>\n",
       "<tr>\n",
       "  <th>Date:</th>          <td>Mon, 29 Mar 2021</td> <th>  AIC                </th> <td>60.337</td> \n",
       "</tr>\n",
       "<tr>\n",
       "  <th>Time:</th>              <td>12:23:03</td>     <th>  BIC                </th> <td>64.701</td> \n",
       "</tr>\n",
       "<tr>\n",
       "  <th>Sample:</th>           <td>10-02-2019</td>    <th>  HQIC               </th> <td>61.365</td> \n",
       "</tr>\n",
       "<tr>\n",
       "  <th></th>                 <td>- 10-31-2019</td>   <th>                     </th>    <td> </td>   \n",
       "</tr>\n",
       "</table>\n",
       "<table class=\"simpletable\">\n",
       "<tr>\n",
       "          <td></td>             <th>coef</th>     <th>std err</th>      <th>z</th>      <th>P>|z|</th>  <th>[0.025</th>    <th>0.975]</th>  \n",
       "</tr>\n",
       "<tr>\n",
       "  <th>const</th>             <td>    0.0341</td> <td>    0.054</td> <td>    0.630</td> <td> 0.529</td> <td>   -0.072</td> <td>    0.140</td>\n",
       "</tr>\n",
       "<tr>\n",
       "  <th>ar.L1.D.Adj Close</th> <td>    0.5633</td> <td>    0.242</td> <td>    2.333</td> <td> 0.020</td> <td>    0.090</td> <td>    1.037</td>\n",
       "</tr>\n",
       "<tr>\n",
       "  <th>ma.L1.D.Adj Close</th> <td>   -0.9999</td> <td>    0.135</td> <td>   -7.425</td> <td> 0.000</td> <td>   -1.264</td> <td>   -0.736</td>\n",
       "</tr>\n",
       "</table>\n",
       "<table class=\"simpletable\">\n",
       "<caption>Roots</caption>\n",
       "<tr>\n",
       "    <td></td>   <th>            Real</th>  <th>         Imaginary</th> <th>         Modulus</th>  <th>        Frequency</th>\n",
       "</tr>\n",
       "<tr>\n",
       "  <th>AR.1</th> <td>           1.7751</td> <td>          +0.0000j</td> <td>           1.7751</td> <td>           0.0000</td>\n",
       "</tr>\n",
       "<tr>\n",
       "  <th>MA.1</th> <td>           1.0001</td> <td>          +0.0000j</td> <td>           1.0001</td> <td>           0.0000</td>\n",
       "</tr>\n",
       "</table>"
      ],
      "text/plain": [
       "<class 'statsmodels.iolib.summary.Summary'>\n",
       "\"\"\"\n",
       "                             ARIMA Model Results                              \n",
       "==============================================================================\n",
       "Dep. Variable:            D.Adj Close   No. Observations:                   22\n",
       "Model:                 ARIMA(1, 1, 1)   Log Likelihood                 -26.168\n",
       "Method:                       css-mle   S.D. of innovations              0.760\n",
       "Date:                Mon, 29 Mar 2021   AIC                             60.337\n",
       "Time:                        12:23:03   BIC                             64.701\n",
       "Sample:                    10-02-2019   HQIC                            61.365\n",
       "                         - 10-31-2019                                         \n",
       "=====================================================================================\n",
       "                        coef    std err          z      P>|z|      [0.025      0.975]\n",
       "-------------------------------------------------------------------------------------\n",
       "const                 0.0341      0.054      0.630      0.529      -0.072       0.140\n",
       "ar.L1.D.Adj Close     0.5633      0.242      2.333      0.020       0.090       1.037\n",
       "ma.L1.D.Adj Close    -0.9999      0.135     -7.425      0.000      -1.264      -0.736\n",
       "                                    Roots                                    \n",
       "=============================================================================\n",
       "                  Real          Imaginary           Modulus         Frequency\n",
       "-----------------------------------------------------------------------------\n",
       "AR.1            1.7751           +0.0000j            1.7751            0.0000\n",
       "MA.1            1.0001           +0.0000j            1.0001            0.0000\n",
       "-----------------------------------------------------------------------------\n",
       "\"\"\""
      ]
     },
     "execution_count": 44,
     "metadata": {},
     "output_type": "execute_result"
    }
   ],
   "source": [
    "OCTGOLDARMA = ARIMA(OCTGold['Adj Close'], order = [1,1,1])\n",
    "OCTGOLDARMAresult = OCTGOLDARMA.fit()\n",
    "OCTGOLDARMAresult.summary()"
   ]
  },
  {
   "cell_type": "markdown",
   "metadata": {},
   "source": [
    "Using the November gold ETF prices, run an ARMA model with your choice of parameters\n",
    "\n",
    "* Ran models: ARIMA(1,1,1),(1,2,1),(1,1,2),(2,1,2), based on that ARIMA(1,1,2) is best-fit as the AIC(53.05) and BIC(57.77) are the smallest.\n",
    "* Log Likelihood is -21.52 higher for ARIMA(1,1,2) compared to ARIMA(1,1,1).\n",
    "\n",
    "* For November the Standard error is much higher 0.266 compared to October 0.054. \n",
    "* The Z-score is 0.63 in October much lower compared to November -1.29."
   ]
  },
  {
   "cell_type": "code",
   "execution_count": 45,
   "metadata": {},
   "outputs": [
    {
     "data": {
      "text/plain": [
       "(-2.950173808366197,\n",
       " 0.039816860137433005,\n",
       " 8,\n",
       " 11,\n",
       " {'1%': -4.223238279489106,\n",
       "  '5%': -3.189368925619835,\n",
       "  '10%': -2.729839421487603},\n",
       " -36.278737396765706)"
      ]
     },
     "execution_count": 45,
     "metadata": {},
     "output_type": "execute_result"
    }
   ],
   "source": [
    "sts.adfuller(NOVGold['Adj Close']) #checking for stationary"
   ]
  },
  {
   "cell_type": "code",
   "execution_count": 46,
   "metadata": {},
   "outputs": [
    {
     "data": {
      "text/html": [
       "<table class=\"simpletable\">\n",
       "<caption>ARIMA Model Results</caption>\n",
       "<tr>\n",
       "  <th>Dep. Variable:</th>    <td>D.Adj Close</td>   <th>  No. Observations:  </th>   <td>19</td>   \n",
       "</tr>\n",
       "<tr>\n",
       "  <th>Model:</th>          <td>ARIMA(1, 1, 2)</td>  <th>  Log Likelihood     </th> <td>-21.526</td>\n",
       "</tr>\n",
       "<tr>\n",
       "  <th>Method:</th>             <td>css-mle</td>     <th>  S.D. of innovations</th>  <td>0.662</td> \n",
       "</tr>\n",
       "<tr>\n",
       "  <th>Date:</th>          <td>Mon, 29 Mar 2021</td> <th>  AIC                </th> <td>53.052</td> \n",
       "</tr>\n",
       "<tr>\n",
       "  <th>Time:</th>              <td>12:23:09</td>     <th>  BIC                </th> <td>57.774</td> \n",
       "</tr>\n",
       "<tr>\n",
       "  <th>Sample:</th>                <td>1</td>        <th>  HQIC               </th> <td>53.851</td> \n",
       "</tr>\n",
       "<tr>\n",
       "  <th></th>                       <td> </td>        <th>                     </th>    <td> </td>   \n",
       "</tr>\n",
       "</table>\n",
       "<table class=\"simpletable\">\n",
       "<tr>\n",
       "          <td></td>             <th>coef</th>     <th>std err</th>      <th>z</th>      <th>P>|z|</th>  <th>[0.025</th>    <th>0.975]</th>  \n",
       "</tr>\n",
       "<tr>\n",
       "  <th>const</th>             <td>   -0.3434</td> <td>    0.266</td> <td>   -1.290</td> <td> 0.197</td> <td>   -0.865</td> <td>    0.178</td>\n",
       "</tr>\n",
       "<tr>\n",
       "  <th>ar.L1.D.Adj Close</th> <td>   -0.2980</td> <td>    0.249</td> <td>   -1.195</td> <td> 0.232</td> <td>   -0.787</td> <td>    0.191</td>\n",
       "</tr>\n",
       "<tr>\n",
       "  <th>ma.L1.D.Adj Close</th> <td>    0.3582</td> <td>    0.153</td> <td>    2.336</td> <td> 0.019</td> <td>    0.058</td> <td>    0.659</td>\n",
       "</tr>\n",
       "<tr>\n",
       "  <th>ma.L2.D.Adj Close</th> <td>    1.0000</td> <td>    0.384</td> <td>    2.602</td> <td> 0.009</td> <td>    0.247</td> <td>    1.753</td>\n",
       "</tr>\n",
       "</table>\n",
       "<table class=\"simpletable\">\n",
       "<caption>Roots</caption>\n",
       "<tr>\n",
       "    <td></td>   <th>            Real</th>  <th>         Imaginary</th> <th>         Modulus</th>  <th>        Frequency</th>\n",
       "</tr>\n",
       "<tr>\n",
       "  <th>AR.1</th> <td>          -3.3559</td> <td>          +0.0000j</td> <td>           3.3559</td> <td>           0.5000</td>\n",
       "</tr>\n",
       "<tr>\n",
       "  <th>MA.1</th> <td>          -0.1791</td> <td>          -0.9839j</td> <td>           1.0000</td> <td>          -0.2787</td>\n",
       "</tr>\n",
       "<tr>\n",
       "  <th>MA.2</th> <td>          -0.1791</td> <td>          +0.9839j</td> <td>           1.0000</td> <td>           0.2787</td>\n",
       "</tr>\n",
       "</table>"
      ],
      "text/plain": [
       "<class 'statsmodels.iolib.summary.Summary'>\n",
       "\"\"\"\n",
       "                             ARIMA Model Results                              \n",
       "==============================================================================\n",
       "Dep. Variable:            D.Adj Close   No. Observations:                   19\n",
       "Model:                 ARIMA(1, 1, 2)   Log Likelihood                 -21.526\n",
       "Method:                       css-mle   S.D. of innovations              0.662\n",
       "Date:                Mon, 29 Mar 2021   AIC                             53.052\n",
       "Time:                        12:23:09   BIC                             57.774\n",
       "Sample:                             1   HQIC                            53.851\n",
       "                                                                              \n",
       "=====================================================================================\n",
       "                        coef    std err          z      P>|z|      [0.025      0.975]\n",
       "-------------------------------------------------------------------------------------\n",
       "const                -0.3434      0.266     -1.290      0.197      -0.865       0.178\n",
       "ar.L1.D.Adj Close    -0.2980      0.249     -1.195      0.232      -0.787       0.191\n",
       "ma.L1.D.Adj Close     0.3582      0.153      2.336      0.019       0.058       0.659\n",
       "ma.L2.D.Adj Close     1.0000      0.384      2.602      0.009       0.247       1.753\n",
       "                                    Roots                                    \n",
       "=============================================================================\n",
       "                  Real          Imaginary           Modulus         Frequency\n",
       "-----------------------------------------------------------------------------\n",
       "AR.1           -3.3559           +0.0000j            3.3559            0.5000\n",
       "MA.1           -0.1791           -0.9839j            1.0000           -0.2787\n",
       "MA.2           -0.1791           +0.9839j            1.0000            0.2787\n",
       "-----------------------------------------------------------------------------\n",
       "\"\"\""
      ]
     },
     "execution_count": 46,
     "metadata": {},
     "output_type": "execute_result"
    }
   ],
   "source": [
    "NOVGOLDARMA = ARIMA(NOVGold['Adj Close'], order = [1,1,2])\n",
    "NOVGOLDARMAresult = NOVGOLDARMA.fit()\n",
    "NOVGOLDARMAresult.summary()"
   ]
  },
  {
   "cell_type": "markdown",
   "metadata": {},
   "source": [
    "After checking the ADF test, it was concluded the ESX1 ETF prices are non-stationary for October, also on the chart the trend upward.\n",
    "\n",
    "Using the October equity ETF prices, run an ARMA model with your choice of parameters\n",
    "\n",
    " * Ran models: ARIMA(1,1,1),(1,2,1),(2,2,2),(2,1,2), For Oct, ARIMA(2,1,2) is better-fit compared to ARIMA(1,1,1),(1,2,1)) as AIC(69.48) is the smallest, although BIC (75.75) isn`t,\n",
    "* Also  Log Likelihood is the highesr for ARIMA(2,1,2)."
   ]
  },
  {
   "cell_type": "code",
   "execution_count": 47,
   "metadata": {},
   "outputs": [
    {
     "data": {
      "text/plain": [
       "(-2.9622884464019226,\n",
       " 0.038569438064897016,\n",
       " 5,\n",
       " 16,\n",
       " {'1%': -3.9240193847656246, '5%': -3.0684982031250003, '10%': -2.67389265625},\n",
       " 10.537713746971367)"
      ]
     },
     "execution_count": 47,
     "metadata": {},
     "output_type": "execute_result"
    }
   ],
   "source": [
    "sts.adfuller(OCTStock['Adj Close']) #checking for stationary"
   ]
  },
  {
   "cell_type": "code",
   "execution_count": 48,
   "metadata": {},
   "outputs": [
    {
     "data": {
      "text/html": [
       "<table class=\"simpletable\">\n",
       "<caption>ARIMA Model Results</caption>\n",
       "<tr>\n",
       "  <th>Dep. Variable:</th>    <td>D.Adj Close</td>   <th>  No. Observations:  </th>   <td>21</td>   \n",
       "</tr>\n",
       "<tr>\n",
       "  <th>Model:</th>          <td>ARIMA(2, 1, 2)</td>  <th>  Log Likelihood     </th> <td>-28.742</td>\n",
       "</tr>\n",
       "<tr>\n",
       "  <th>Method:</th>             <td>css-mle</td>     <th>  S.D. of innovations</th>  <td>0.871</td> \n",
       "</tr>\n",
       "<tr>\n",
       "  <th>Date:</th>          <td>Mon, 29 Mar 2021</td> <th>  AIC                </th> <td>69.484</td> \n",
       "</tr>\n",
       "<tr>\n",
       "  <th>Time:</th>              <td>12:23:14</td>     <th>  BIC                </th> <td>75.751</td> \n",
       "</tr>\n",
       "<tr>\n",
       "  <th>Sample:</th>                <td>1</td>        <th>  HQIC               </th> <td>70.844</td> \n",
       "</tr>\n",
       "<tr>\n",
       "  <th></th>                       <td> </td>        <th>                     </th>    <td> </td>   \n",
       "</tr>\n",
       "</table>\n",
       "<table class=\"simpletable\">\n",
       "<tr>\n",
       "          <td></td>             <th>coef</th>     <th>std err</th>      <th>z</th>      <th>P>|z|</th>  <th>[0.025</th>    <th>0.975]</th>  \n",
       "</tr>\n",
       "<tr>\n",
       "  <th>const</th>             <td>    0.2888</td> <td>    0.184</td> <td>    1.567</td> <td> 0.117</td> <td>   -0.072</td> <td>    0.650</td>\n",
       "</tr>\n",
       "<tr>\n",
       "  <th>ar.L1.D.Adj Close</th> <td>   -0.1972</td> <td>    0.320</td> <td>   -0.615</td> <td> 0.538</td> <td>   -0.825</td> <td>    0.431</td>\n",
       "</tr>\n",
       "<tr>\n",
       "  <th>ar.L2.D.Adj Close</th> <td>   -0.5979</td> <td>    0.341</td> <td>   -1.754</td> <td> 0.079</td> <td>   -1.266</td> <td>    0.070</td>\n",
       "</tr>\n",
       "<tr>\n",
       "  <th>ma.L1.D.Adj Close</th> <td>   -0.2601</td> <td>    0.245</td> <td>   -1.063</td> <td> 0.288</td> <td>   -0.740</td> <td>    0.219</td>\n",
       "</tr>\n",
       "<tr>\n",
       "  <th>ma.L2.D.Adj Close</th> <td>    1.0000</td> <td>    0.252</td> <td>    3.962</td> <td> 0.000</td> <td>    0.505</td> <td>    1.495</td>\n",
       "</tr>\n",
       "</table>\n",
       "<table class=\"simpletable\">\n",
       "<caption>Roots</caption>\n",
       "<tr>\n",
       "    <td></td>   <th>            Real</th>  <th>         Imaginary</th> <th>         Modulus</th>  <th>        Frequency</th>\n",
       "</tr>\n",
       "<tr>\n",
       "  <th>AR.1</th> <td>          -0.1649</td> <td>          -1.2827j</td> <td>           1.2932</td> <td>          -0.2703</td>\n",
       "</tr>\n",
       "<tr>\n",
       "  <th>AR.2</th> <td>          -0.1649</td> <td>          +1.2827j</td> <td>           1.2932</td> <td>           0.2703</td>\n",
       "</tr>\n",
       "<tr>\n",
       "  <th>MA.1</th> <td>           0.1301</td> <td>          -0.9915j</td> <td>           1.0000</td> <td>          -0.2292</td>\n",
       "</tr>\n",
       "<tr>\n",
       "  <th>MA.2</th> <td>           0.1301</td> <td>          +0.9915j</td> <td>           1.0000</td> <td>           0.2292</td>\n",
       "</tr>\n",
       "</table>"
      ],
      "text/plain": [
       "<class 'statsmodels.iolib.summary.Summary'>\n",
       "\"\"\"\n",
       "                             ARIMA Model Results                              \n",
       "==============================================================================\n",
       "Dep. Variable:            D.Adj Close   No. Observations:                   21\n",
       "Model:                 ARIMA(2, 1, 2)   Log Likelihood                 -28.742\n",
       "Method:                       css-mle   S.D. of innovations              0.871\n",
       "Date:                Mon, 29 Mar 2021   AIC                             69.484\n",
       "Time:                        12:23:14   BIC                             75.751\n",
       "Sample:                             1   HQIC                            70.844\n",
       "                                                                              \n",
       "=====================================================================================\n",
       "                        coef    std err          z      P>|z|      [0.025      0.975]\n",
       "-------------------------------------------------------------------------------------\n",
       "const                 0.2888      0.184      1.567      0.117      -0.072       0.650\n",
       "ar.L1.D.Adj Close    -0.1972      0.320     -0.615      0.538      -0.825       0.431\n",
       "ar.L2.D.Adj Close    -0.5979      0.341     -1.754      0.079      -1.266       0.070\n",
       "ma.L1.D.Adj Close    -0.2601      0.245     -1.063      0.288      -0.740       0.219\n",
       "ma.L2.D.Adj Close     1.0000      0.252      3.962      0.000       0.505       1.495\n",
       "                                    Roots                                    \n",
       "=============================================================================\n",
       "                  Real          Imaginary           Modulus         Frequency\n",
       "-----------------------------------------------------------------------------\n",
       "AR.1           -0.1649           -1.2827j            1.2932           -0.2703\n",
       "AR.2           -0.1649           +1.2827j            1.2932            0.2703\n",
       "MA.1            0.1301           -0.9915j            1.0000           -0.2292\n",
       "MA.2            0.1301           +0.9915j            1.0000            0.2292\n",
       "-----------------------------------------------------------------------------\n",
       "\"\"\""
      ]
     },
     "execution_count": 48,
     "metadata": {},
     "output_type": "execute_result"
    }
   ],
   "source": [
    "OCTStockARMA = ARIMA(OCTStock['Adj Close'], order = [2,1,2])\n",
    "OCTStockARMAresult = OCTStockARMA.fit()\n",
    "OCTStockARMAresult.summary()"
   ]
  },
  {
   "cell_type": "markdown",
   "metadata": {},
   "source": [
    "After checking the ADF test, it was concluded the ESX1 ETF prices are stationary for November.\n",
    "\n",
    "Using the November equity ETF prices, run an ARMA model with your choice of parameters\n",
    "\n",
    "* ARMA(1,1) is best-fit as the as the AIC(40.23) and BIC(44.41) are smallest for this model compared to ARMA(1,2),(2,2).\n",
    "* For November the AIC 40.23 & BIC 44.41 are significanly lower compared to October AIC 73.85 & BIC 80.39.\n",
    "* For November the Standard error is much lower 0.376 compared to October 1.348. However the Z-score in October is much lower at 79.87, in November it`s 300.61."
   ]
  },
  {
   "cell_type": "code",
   "execution_count": 49,
   "metadata": {},
   "outputs": [
    {
     "data": {
      "text/plain": [
       "(-5.140322874821844,\n",
       " 1.1624738370362362e-05,\n",
       " 0,\n",
       " 20,\n",
       " {'1%': -3.8092091249999998, '5%': -3.0216450000000004, '10%': -2.6507125},\n",
       " 9.744688974641782)"
      ]
     },
     "execution_count": 49,
     "metadata": {},
     "output_type": "execute_result"
    }
   ],
   "source": [
    "sts.adfuller(NOVStock['Adj Close']) #checking for stationary"
   ]
  },
  {
   "cell_type": "code",
   "execution_count": 50,
   "metadata": {},
   "outputs": [
    {
     "data": {
      "text/html": [
       "<table class=\"simpletable\">\n",
       "<caption>ARMA Model Results</caption>\n",
       "<tr>\n",
       "  <th>Dep. Variable:</th>     <td>Adj Close</td>    <th>  No. Observations:  </th>   <td>21</td>   \n",
       "</tr>\n",
       "<tr>\n",
       "  <th>Model:</th>            <td>ARMA(1, 1)</td>    <th>  Log Likelihood     </th> <td>-16.116</td>\n",
       "</tr>\n",
       "<tr>\n",
       "  <th>Method:</th>             <td>css-mle</td>     <th>  S.D. of innovations</th>  <td>0.513</td> \n",
       "</tr>\n",
       "<tr>\n",
       "  <th>Date:</th>          <td>Mon, 29 Mar 2021</td> <th>  AIC                </th> <td>40.232</td> \n",
       "</tr>\n",
       "<tr>\n",
       "  <th>Time:</th>              <td>12:23:19</td>     <th>  BIC                </th> <td>44.410</td> \n",
       "</tr>\n",
       "<tr>\n",
       "  <th>Sample:</th>           <td>11-01-2019</td>    <th>  HQIC               </th> <td>41.139</td> \n",
       "</tr>\n",
       "<tr>\n",
       "  <th></th>                 <td>- 11-29-2019</td>   <th>                     </th>    <td> </td>   \n",
       "</tr>\n",
       "</table>\n",
       "<table class=\"simpletable\">\n",
       "<tr>\n",
       "         <td></td>            <th>coef</th>     <th>std err</th>      <th>z</th>      <th>P>|z|</th>  <th>[0.025</th>    <th>0.975]</th>  \n",
       "</tr>\n",
       "<tr>\n",
       "  <th>const</th>           <td>  112.9441</td> <td>    0.376</td> <td>  300.614</td> <td> 0.000</td> <td>  112.208</td> <td>  113.681</td>\n",
       "</tr>\n",
       "<tr>\n",
       "  <th>ar.L1.Adj Close</th> <td>    0.7034</td> <td>    0.335</td> <td>    2.097</td> <td> 0.036</td> <td>    0.046</td> <td>    1.361</td>\n",
       "</tr>\n",
       "<tr>\n",
       "  <th>ma.L1.Adj Close</th> <td>   -0.0092</td> <td>    0.413</td> <td>   -0.022</td> <td> 0.982</td> <td>   -0.818</td> <td>    0.800</td>\n",
       "</tr>\n",
       "</table>\n",
       "<table class=\"simpletable\">\n",
       "<caption>Roots</caption>\n",
       "<tr>\n",
       "    <td></td>   <th>            Real</th>  <th>         Imaginary</th> <th>         Modulus</th>  <th>        Frequency</th>\n",
       "</tr>\n",
       "<tr>\n",
       "  <th>AR.1</th> <td>           1.4216</td> <td>          +0.0000j</td> <td>           1.4216</td> <td>           0.0000</td>\n",
       "</tr>\n",
       "<tr>\n",
       "  <th>MA.1</th> <td>         108.7153</td> <td>          +0.0000j</td> <td>         108.7153</td> <td>           0.0000</td>\n",
       "</tr>\n",
       "</table>"
      ],
      "text/plain": [
       "<class 'statsmodels.iolib.summary.Summary'>\n",
       "\"\"\"\n",
       "                              ARMA Model Results                              \n",
       "==============================================================================\n",
       "Dep. Variable:              Adj Close   No. Observations:                   21\n",
       "Model:                     ARMA(1, 1)   Log Likelihood                 -16.116\n",
       "Method:                       css-mle   S.D. of innovations              0.513\n",
       "Date:                Mon, 29 Mar 2021   AIC                             40.232\n",
       "Time:                        12:23:19   BIC                             44.410\n",
       "Sample:                    11-01-2019   HQIC                            41.139\n",
       "                         - 11-29-2019                                         \n",
       "===================================================================================\n",
       "                      coef    std err          z      P>|z|      [0.025      0.975]\n",
       "-----------------------------------------------------------------------------------\n",
       "const             112.9441      0.376    300.614      0.000     112.208     113.681\n",
       "ar.L1.Adj Close     0.7034      0.335      2.097      0.036       0.046       1.361\n",
       "ma.L1.Adj Close    -0.0092      0.413     -0.022      0.982      -0.818       0.800\n",
       "                                    Roots                                    \n",
       "=============================================================================\n",
       "                  Real          Imaginary           Modulus         Frequency\n",
       "-----------------------------------------------------------------------------\n",
       "AR.1            1.4216           +0.0000j            1.4216            0.0000\n",
       "MA.1          108.7153           +0.0000j          108.7153            0.0000\n",
       "-----------------------------------------------------------------------------\n",
       "\"\"\""
      ]
     },
     "execution_count": 50,
     "metadata": {},
     "output_type": "execute_result"
    }
   ],
   "source": [
    "NOVStockARMA = ARMA(NOVStock['Adj Close'], order = [1,1])\n",
    "NOVStockARMAresult = NOVStockARMA.fit()\n",
    "NOVStockARMAresult.summary()"
   ]
  },
  {
   "cell_type": "markdown",
   "metadata": {},
   "source": [
    "# Modelling Volatility\n",
    "\n",
    "Using gold ETF prices, find the daily high minus low for each month."
   ]
  },
  {
   "cell_type": "code",
   "execution_count": 51,
   "metadata": {},
   "outputs": [],
   "source": [
    "OCTGoldDayRange = OCTGold['High'] - OCTGold['Low']\n",
    "NOVGoldDayRange = NOVGold['High'] - NOVGold['Low']"
   ]
  },
  {
   "cell_type": "code",
   "execution_count": 52,
   "metadata": {},
   "outputs": [
    {
     "data": {
      "text/plain": [
       "Date\n",
       "2019-10-01    2.389999\n",
       "2019-10-02    1.419998\n",
       "2019-10-03    1.960007\n",
       "2019-10-04    1.169998\n",
       "2019-10-07    1.529999\n",
       "2019-10-08    1.119995\n",
       "2019-10-09    0.960007\n",
       "2019-10-10    1.080002\n",
       "2019-10-11    1.279999\n",
       "2019-10-14    0.480011\n",
       "2019-10-15    1.089996\n",
       "2019-10-16    0.830002\n",
       "2019-10-17    0.699997\n",
       "2019-10-18    0.389999\n",
       "2019-10-21    1.159988\n",
       "2019-10-22    0.580002\n",
       "2019-10-23    0.500000\n",
       "2019-10-24    0.810013\n",
       "2019-10-25    1.430008\n",
       "2019-10-28    0.850006\n",
       "2019-10-29    0.850006\n",
       "2019-10-30    1.489990\n",
       "2019-10-31    0.800003\n",
       "dtype: float64"
      ]
     },
     "execution_count": 52,
     "metadata": {},
     "output_type": "execute_result"
    }
   ],
   "source": [
    "OCTGoldDayRange #Oct daily high minus low "
   ]
  },
  {
   "cell_type": "code",
   "execution_count": 53,
   "metadata": {},
   "outputs": [
    {
     "data": {
      "text/plain": [
       "Date\n",
       "2019-11-01    0.889999\n",
       "2019-11-04    0.709991\n",
       "2019-11-05    1.509995\n",
       "2019-11-06    0.789993\n",
       "2019-11-07    2.599991\n",
       "2019-11-08    0.940002\n",
       "2019-11-11    1.349991\n",
       "2019-11-12    1.399994\n",
       "2019-11-13    0.580002\n",
       "2019-11-14    1.070007\n",
       "2019-11-15    0.449997\n",
       "2019-11-18    0.550003\n",
       "2019-11-19    0.839996\n",
       "2019-11-20    0.899994\n",
       "2019-11-21    0.789993\n",
       "2019-11-22    0.800003\n",
       "2019-11-25    0.629990\n",
       "2019-11-26    1.220001\n",
       "2019-11-27    0.380005\n",
       "2019-11-29    1.050003\n",
       "dtype: float64"
      ]
     },
     "execution_count": 53,
     "metadata": {},
     "output_type": "execute_result"
    }
   ],
   "source": [
    "NOVGoldDayRange #Nov daily high minus low "
   ]
  },
  {
   "cell_type": "markdown",
   "metadata": {},
   "source": [
    "Compute the average for October. & Compute the average for November"
   ]
  },
  {
   "cell_type": "code",
   "execution_count": 54,
   "metadata": {},
   "outputs": [],
   "source": [
    "OCTGoldavgRange = mean(OCTGoldDayRange)\n",
    "NOVGoldavgRange = mean(NOVGoldDayRange)"
   ]
  },
  {
   "cell_type": "code",
   "execution_count": 55,
   "metadata": {},
   "outputs": [
    {
     "data": {
      "text/plain": [
       "1.081305462381114"
      ]
     },
     "execution_count": 55,
     "metadata": {},
     "output_type": "execute_result"
    }
   ],
   "source": [
    "OCTGoldavgRange #Oct mean"
   ]
  },
  {
   "cell_type": "code",
   "execution_count": 56,
   "metadata": {},
   "outputs": [
    {
     "data": {
      "text/plain": [
       "0.97249755859375"
      ]
     },
     "execution_count": 56,
     "metadata": {},
     "output_type": "execute_result"
    }
   ],
   "source": [
    "NOVGoldavgRange #Nov mean"
   ]
  },
  {
   "cell_type": "markdown",
   "metadata": {},
   "source": [
    "Using the gold ETF returns, find the standard deviation for October. Repeat for November"
   ]
  },
  {
   "cell_type": "code",
   "execution_count": 57,
   "metadata": {},
   "outputs": [],
   "source": [
    "StdevOCTGoldETFreturn = OCTGoldETFreturn.std()\n",
    "StdevNOVGoldETFreturn = NOVGoldETFreturn.std()"
   ]
  },
  {
   "cell_type": "code",
   "execution_count": 58,
   "metadata": {},
   "outputs": [
    {
     "data": {
      "text/plain": [
       "0.006170210650602775"
      ]
     },
     "execution_count": 58,
     "metadata": {},
     "output_type": "execute_result"
    }
   ],
   "source": [
    "StdevOCTGoldETFreturn #Oct standard deviation"
   ]
  },
  {
   "cell_type": "code",
   "execution_count": 59,
   "metadata": {},
   "outputs": [
    {
     "data": {
      "text/plain": [
       "0.00621744081203111"
      ]
     },
     "execution_count": 59,
     "metadata": {},
     "output_type": "execute_result"
    }
   ],
   "source": [
    "StdevNOVGoldETFreturn #Nov standard deviation"
   ]
  },
  {
   "cell_type": "markdown",
   "metadata": {},
   "source": [
    "Using the October gold ETF returns, find a GARCH(1,1) model.  "
   ]
  },
  {
   "cell_type": "code",
   "execution_count": 60,
   "metadata": {},
   "outputs": [
    {
     "name": "stdout",
     "output_type": "stream",
     "text": [
      "Iteration:      1,   Func. Count:      6,   Neg. LLF: 3443189.574750718\n",
      "Iteration:      2,   Func. Count:     16,   Neg. LLF: -81.26790639650277\n",
      "Optimization terminated successfully    (Exit mode 0)\n",
      "            Current function value: -81.26790642844298\n",
      "            Iterations: 6\n",
      "            Function evaluations: 16\n",
      "            Gradient evaluations: 2\n"
     ]
    },
    {
     "data": {
      "text/plain": [
       "<bound method ARCHModelResult.summary of                      Constant Mean - GARCH Model Results                      \n",
       "==============================================================================\n",
       "Dep. Variable:              Adj Close   R-squared:                       0.000\n",
       "Mean Model:             Constant Mean   Adj. R-squared:                  0.000\n",
       "Vol Model:                      GARCH   Log-Likelihood:                81.2679\n",
       "Distribution:                  Normal   AIC:                          -154.536\n",
       "Method:            Maximum Likelihood   BIC:                          -150.172\n",
       "                                        No. Observations:                   22\n",
       "Date:                Mon, Mar 29 2021   Df Residuals:                       21\n",
       "Time:                        12:23:49   Df Model:                            1\n",
       "                                  Mean Model                                 \n",
       "=============================================================================\n",
       "                 coef    std err          t      P>|t|       95.0% Conf. Int.\n",
       "-----------------------------------------------------------------------------\n",
       "mu         8.6105e-04  1.335e-03      0.645      0.519 [-1.756e-03,3.478e-03]\n",
       "                               Volatility Model                              \n",
       "=============================================================================\n",
       "                 coef    std err          t      P>|t|       95.0% Conf. Int.\n",
       "-----------------------------------------------------------------------------\n",
       "omega      1.0903e-05  3.744e-10  2.912e+04      0.000  [1.090e-05,1.090e-05]\n",
       "alpha[1]   1.0000e-02  2.202e-02      0.454      0.650 [-3.317e-02,5.317e-02]\n",
       "beta[1]        0.6900  7.291e-02      9.463  2.986e-21      [  0.547,  0.833]\n",
       "=============================================================================\n",
       "\n",
       "Covariance estimator: robust\n",
       "ARCHModelResult, id: 0x253be6dcc18>"
      ]
     },
     "execution_count": 60,
     "metadata": {},
     "output_type": "execute_result"
    }
   ],
   "source": [
    "OCTGOLDGARCH = arch_model(OCTGoldETFreturn, mean=\"Constant\", vol=\"GARCH\", p=1, q = 1)\n",
    "OCTGOLDGARCHresult = OCTGOLDGARCH.fit()\n",
    "OCTGOLDGARCHresult.summary"
   ]
  },
  {
   "cell_type": "markdown",
   "metadata": {},
   "source": [
    "Repeat for November"
   ]
  },
  {
   "cell_type": "code",
   "execution_count": 61,
   "metadata": {},
   "outputs": [
    {
     "name": "stdout",
     "output_type": "stream",
     "text": [
      "Iteration:      1,   Func. Count:      6,   Neg. LLF: 1197994263722790.2\n",
      "Iteration:      2,   Func. Count:     16,   Neg. LLF: -73.88584268282811\n",
      "Optimization terminated successfully    (Exit mode 0)\n",
      "            Current function value: -73.88584271058463\n",
      "            Iterations: 6\n",
      "            Function evaluations: 16\n",
      "            Gradient evaluations: 2\n"
     ]
    },
    {
     "data": {
      "text/plain": [
       "<bound method ARCHModelResult.summary of                      Constant Mean - GARCH Model Results                      \n",
       "==============================================================================\n",
       "Dep. Variable:              Adj Close   R-squared:                       0.000\n",
       "Mean Model:             Constant Mean   Adj. R-squared:                  0.000\n",
       "Vol Model:                      GARCH   Log-Likelihood:                73.8858\n",
       "Distribution:                  Normal   AIC:                          -139.772\n",
       "Method:            Maximum Likelihood   BIC:                          -135.789\n",
       "                                        No. Observations:                   20\n",
       "Date:                Mon, Mar 29 2021   Df Residuals:                       19\n",
       "Time:                        12:23:52   Df Model:                            1\n",
       "                                  Mean Model                                  \n",
       "==============================================================================\n",
       "                  coef    std err          t      P>|t|       95.0% Conf. Int.\n",
       "------------------------------------------------------------------------------\n",
       "mu         -1.5015e-03  8.850e-04     -1.697  8.976e-02 [-3.236e-03,2.330e-04]\n",
       "                              Volatility Model                              \n",
       "============================================================================\n",
       "                 coef    std err          t      P>|t|      95.0% Conf. Int.\n",
       "----------------------------------------------------------------------------\n",
       "omega      1.1017e-05  2.076e-10  5.306e+04      0.000 [1.102e-05,1.102e-05]\n",
       "alpha[1]       0.0500      0.165      0.303      0.762     [ -0.274,  0.374]\n",
       "beta[1]        0.6500      0.130      5.013  5.347e-07     [  0.396,  0.904]\n",
       "============================================================================\n",
       "\n",
       "Covariance estimator: robust\n",
       "ARCHModelResult, id: 0x253be717198>"
      ]
     },
     "execution_count": 61,
     "metadata": {},
     "output_type": "execute_result"
    }
   ],
   "source": [
    "NOVGOLDGARCH = arch_model(NOVGoldETFreturn, mean=\"Constant\", vol=\"GARCH\", p=1, q = 1)\n",
    "NOVGOLDGARCHresult = NOVGOLDGARCH.fit()\n",
    "NOVGOLDGARCHresult.summary"
   ]
  },
  {
   "cell_type": "markdown",
   "metadata": {},
   "source": [
    "What are the significant changes, if any?  Be specific with regards to the values of the parameters!\n",
    "\n",
    "* From October to November, the Alpha increased from 0.01 to 0.05, it`s a significant increase. This is due to the shock of the reduced benchmark interest rate.\n",
    "* Beta decreased from 0.69 to 0.65. Seems the high volatility period did not persist. Omega decreased slightly from 0.000010914 to 0.000010913."
   ]
  },
  {
   "cell_type": "markdown",
   "metadata": {},
   "source": [
    "Using equity ETF prices, find the daily high minus low for each month."
   ]
  },
  {
   "cell_type": "code",
   "execution_count": 62,
   "metadata": {},
   "outputs": [],
   "source": [
    "OCTStockDayRange = OCTStock['High'] - OCTStock['Low']\n",
    "NOVStockDayRange = NOVStock['High'] - NOVStock['Low']"
   ]
  },
  {
   "cell_type": "code",
   "execution_count": 63,
   "metadata": {},
   "outputs": [
    {
     "data": {
      "text/plain": [
       "Date\n",
       "2019-10-01    1.959999\n",
       "2019-10-02    2.599998\n",
       "2019-10-04    1.139999\n",
       "2019-10-07    1.099998\n",
       "2019-10-08    1.479996\n",
       "2019-10-09    2.059998\n",
       "2019-10-10    1.439995\n",
       "2019-10-11    2.180000\n",
       "2019-10-14    0.900002\n",
       "2019-10-15    1.459999\n",
       "2019-10-16    0.820000\n",
       "2019-10-17    1.799995\n",
       "2019-10-18    0.839996\n",
       "2019-10-21    1.040001\n",
       "2019-10-22    0.459999\n",
       "2019-10-23    0.979996\n",
       "2019-10-24    0.800003\n",
       "2019-10-25    0.559998\n",
       "2019-10-28    0.760002\n",
       "2019-10-29    0.400002\n",
       "2019-10-30    0.959999\n",
       "2019-10-31    1.379997\n",
       "dtype: float64"
      ]
     },
     "execution_count": 63,
     "metadata": {},
     "output_type": "execute_result"
    }
   ],
   "source": [
    "OCTStockDayRange #Oct daily high minus low "
   ]
  },
  {
   "cell_type": "code",
   "execution_count": 64,
   "metadata": {},
   "outputs": [
    {
     "data": {
      "text/plain": [
       "Date\n",
       "2019-11-01    0.760002\n",
       "2019-11-04    1.320000\n",
       "2019-11-05    0.459999\n",
       "2019-11-06    0.639999\n",
       "2019-11-07    0.580002\n",
       "2019-11-08    0.639999\n",
       "2019-11-11    0.659996\n",
       "2019-11-12    0.800003\n",
       "2019-11-13    1.059998\n",
       "2019-11-14    0.500000\n",
       "2019-11-15    0.599998\n",
       "2019-11-18    1.260002\n",
       "2019-11-19    1.599998\n",
       "2019-11-20    0.919998\n",
       "2019-11-21    1.059998\n",
       "2019-11-22    1.040001\n",
       "2019-11-25    0.459999\n",
       "2019-11-26    0.500000\n",
       "2019-11-27    0.799995\n",
       "2019-11-28    0.400002\n",
       "2019-11-29    1.120003\n",
       "dtype: float64"
      ]
     },
     "execution_count": 64,
     "metadata": {},
     "output_type": "execute_result"
    }
   ],
   "source": [
    "NOVStockDayRange #Nov daily high minus low "
   ]
  },
  {
   "cell_type": "markdown",
   "metadata": {},
   "source": [
    "Compute the average for October. & Compute the average for November."
   ]
  },
  {
   "cell_type": "code",
   "execution_count": 75,
   "metadata": {},
   "outputs": [],
   "source": [
    "OCTStockavgRange = mean(OCTStockDayRange)\n",
    "NOVStockavgRange = mean(NOVStockDayRange)"
   ]
  },
  {
   "cell_type": "code",
   "execution_count": 66,
   "metadata": {},
   "outputs": [
    {
     "data": {
      "text/plain": [
       "1.2327260104092685"
      ]
     },
     "execution_count": 66,
     "metadata": {},
     "output_type": "execute_result"
    }
   ],
   "source": [
    "OCTStockavgRange #Oct mean"
   ]
  },
  {
   "cell_type": "code",
   "execution_count": 67,
   "metadata": {},
   "outputs": [
    {
     "data": {
      "text/plain": [
       "0.8180948893229166"
      ]
     },
     "execution_count": 67,
     "metadata": {},
     "output_type": "execute_result"
    }
   ],
   "source": [
    "NOVStockavgRange #Nov mean"
   ]
  },
  {
   "cell_type": "markdown",
   "metadata": {},
   "source": [
    "Using equity ETF returns, find the standard deviation for October. Repeat for November."
   ]
  },
  {
   "cell_type": "code",
   "execution_count": 74,
   "metadata": {},
   "outputs": [],
   "source": [
    "StdevOCTStockETFreturn = OCTStockETFreturn.std()\n",
    "StdevNOVStockETFreturn = NOVStockETFreturn.std()"
   ]
  },
  {
   "cell_type": "code",
   "execution_count": 69,
   "metadata": {},
   "outputs": [
    {
     "data": {
      "text/plain": [
       "0.010261123206057264"
      ]
     },
     "execution_count": 69,
     "metadata": {},
     "output_type": "execute_result"
    }
   ],
   "source": [
    "StdevOCTStockETFreturn #Oct standard deviation"
   ]
  },
  {
   "cell_type": "code",
   "execution_count": 70,
   "metadata": {},
   "outputs": [
    {
     "data": {
      "text/plain": [
       "0.0048041637131694724"
      ]
     },
     "execution_count": 70,
     "metadata": {},
     "output_type": "execute_result"
    }
   ],
   "source": [
    "StdevNOVStockETFreturn #Nov standard deviation"
   ]
  },
  {
   "cell_type": "markdown",
   "metadata": {},
   "source": [
    "Using October equity ETF returns, find a GARCH(1,1) model."
   ]
  },
  {
   "cell_type": "code",
   "execution_count": 77,
   "metadata": {},
   "outputs": [
    {
     "name": "stdout",
     "output_type": "stream",
     "text": [
      "Iteration:      1,   Func. Count:      6,   Neg. LLF: 4197743.868176087\n",
      "Iteration:      2,   Func. Count:     17,   Neg. LLF: 4.829517324336456e+16\n",
      "Iteration:      3,   Func. Count:     29,   Neg. LLF: -69.41792205887626\n",
      "Optimization terminated successfully    (Exit mode 0)\n",
      "            Current function value: -69.41792252778242\n",
      "            Iterations: 7\n",
      "            Function evaluations: 29\n",
      "            Gradient evaluations: 3\n"
     ]
    },
    {
     "data": {
      "text/plain": [
       "<bound method ARCHModelResult.summary of                      Constant Mean - GARCH Model Results                      \n",
       "==============================================================================\n",
       "Dep. Variable:              Adj Close   R-squared:                       0.000\n",
       "Mean Model:             Constant Mean   Adj. R-squared:                  0.000\n",
       "Vol Model:                      GARCH   Log-Likelihood:                69.4179\n",
       "Distribution:                  Normal   AIC:                          -130.836\n",
       "Method:            Maximum Likelihood   BIC:                          -126.658\n",
       "                                        No. Observations:                   21\n",
       "Date:                Mon, Mar 29 2021   Df Residuals:                       20\n",
       "Time:                        12:25:35   Df Model:                            1\n",
       "                                 Mean Model                                 \n",
       "============================================================================\n",
       "                 coef    std err          t      P>|t|      95.0% Conf. Int.\n",
       "----------------------------------------------------------------------------\n",
       "mu         2.0698e-03  4.226e-08  4.898e+04      0.000 [2.070e-03,2.070e-03]\n",
       "                              Volatility Model                              \n",
       "============================================================================\n",
       "                 coef    std err          t      P>|t|      95.0% Conf. Int.\n",
       "----------------------------------------------------------------------------\n",
       "omega      2.0079e-06  1.252e-10  1.604e+04      0.000 [2.008e-06,2.008e-06]\n",
       "alpha[1]       0.2000  9.323e-02      2.145  3.194e-02   [1.727e-02,  0.383]\n",
       "beta[1]        0.7800  7.423e-02     10.508  7.958e-26     [  0.635,  0.925]\n",
       "============================================================================\n",
       "\n",
       "Covariance estimator: robust\n",
       "ARCHModelResult, id: 0x253be6cc518>"
      ]
     },
     "execution_count": 77,
     "metadata": {},
     "output_type": "execute_result"
    }
   ],
   "source": [
    "OCTStockGARCH = arch_model(OCTStockETFreturn, mean=\"Constant\", vol=\"GARCH\", p=1, q = 1)\n",
    "OCTStockGARCHresult = OCTStockGARCH.fit()\n",
    "OCTStockGARCHresult.summary"
   ]
  },
  {
   "cell_type": "markdown",
   "metadata": {},
   "source": [
    "Repeat for November"
   ]
  },
  {
   "cell_type": "code",
   "execution_count": 73,
   "metadata": {},
   "outputs": [
    {
     "name": "stdout",
     "output_type": "stream",
     "text": [
      "Iteration:      1,   Func. Count:      6,   Neg. LLF: 1.1388426438755635e+17\n",
      "Iteration:      2,   Func. Count:     17,   Neg. LLF: 868014660.9821305\n",
      "Iteration:      3,   Func. Count:     29,   Neg. LLF: 1.0356320800344224e+16\n",
      "Iteration:      4,   Func. Count:     41,   Neg. LLF: -83.41140555843154\n",
      "Optimization terminated successfully    (Exit mode 0)\n",
      "            Current function value: -83.41140565803397\n",
      "            Iterations: 8\n",
      "            Function evaluations: 41\n",
      "            Gradient evaluations: 4\n"
     ]
    },
    {
     "data": {
      "text/plain": [
       "<bound method ARCHModelResult.summary of                      Constant Mean - GARCH Model Results                      \n",
       "==============================================================================\n",
       "Dep. Variable:              Adj Close   R-squared:                       0.000\n",
       "Mean Model:             Constant Mean   Adj. R-squared:                  0.000\n",
       "Vol Model:                      GARCH   Log-Likelihood:                83.4114\n",
       "Distribution:                  Normal   AIC:                          -158.823\n",
       "Method:            Maximum Likelihood   BIC:                          -154.645\n",
       "                                        No. Observations:                   21\n",
       "Date:                Mon, Mar 29 2021   Df Residuals:                       20\n",
       "Time:                        12:24:26   Df Model:                            1\n",
       "                                 Mean Model                                 \n",
       "============================================================================\n",
       "                 coef    std err          t      P>|t|      95.0% Conf. Int.\n",
       "----------------------------------------------------------------------------\n",
       "mu         8.6852e-04  5.134e-06    169.155      0.000 [8.585e-04,8.786e-04]\n",
       "                              Volatility Model                              \n",
       "============================================================================\n",
       "                 coef    std err          t      P>|t|      95.0% Conf. Int.\n",
       "----------------------------------------------------------------------------\n",
       "omega      2.1981e-06  1.011e-10  2.174e+04      0.000 [2.198e-06,2.198e-06]\n",
       "alpha[1]       0.2000      0.439      0.455      0.649     [ -0.661,  1.061]\n",
       "beta[1]        0.7000      0.284      2.466  1.365e-02     [  0.144,  1.256]\n",
       "============================================================================\n",
       "\n",
       "Covariance estimator: robust\n",
       "ARCHModelResult, id: 0x253be69a128>"
      ]
     },
     "execution_count": 73,
     "metadata": {},
     "output_type": "execute_result"
    }
   ],
   "source": [
    "NOVStockGARCH = arch_model(NOVStockETFreturn, mean=\"Constant\", vol=\"GARCH\", p=1, q = 1)\n",
    "NOVStockGARCHresult = NOVStockGARCH.fit()\n",
    "NOVStockGARCHresult.summary"
   ]
  },
  {
   "cell_type": "markdown",
   "metadata": {},
   "source": [
    "What are the significant changes, if any?  Be specific with regards to the values of the parameters!\n",
    "\n",
    "* From October to November, the Alpha did not change at all, stayed at 0.2. Seems the reduced benchmark interest rate, had no effect on this Equity ETF.\n",
    "* Beta decreased from 0.78 to 0.70. Also Seems the high volatility period did not persist. Omega increased from 0.0000020039 to 0.0000022124."
   ]
  },
  {
   "cell_type": "markdown",
   "metadata": {},
   "source": [
    "# Correlation\n",
    "\n",
    "Data slice due to holiday on 2019-10-03 in Germany & data slice due to Thanksgiving on 2019-11-28 in USA."
   ]
  },
  {
   "cell_type": "code",
   "execution_count": 78,
   "metadata": {},
   "outputs": [],
   "source": [
    "PearsonOCTGoldETFreturn = OCTGoldETFreturn.drop(OCTGoldETFreturn.index[[1,1]])\n",
    "PearsonNOVStockETFreturn = NOVStockETFreturn.drop(NOVStockETFreturn.index[[19,19]])"
   ]
  },
  {
   "cell_type": "markdown",
   "metadata": {},
   "source": [
    "Compute the Pearson correlation between the gold and equity returns in October. Repeat for November."
   ]
  },
  {
   "cell_type": "code",
   "execution_count": 79,
   "metadata": {},
   "outputs": [
    {
     "data": {
      "text/plain": [
       "(-0.6531725311306777, 0.0013253678132820414)"
      ]
     },
     "execution_count": 79,
     "metadata": {},
     "output_type": "execute_result"
    }
   ],
   "source": [
    "stats.pearsonr(PearsonOCTGoldETFreturn, OCTStockETFreturn) #Oct Pearson correlation "
   ]
  },
  {
   "cell_type": "code",
   "execution_count": 80,
   "metadata": {},
   "outputs": [
    {
     "data": {
      "text/plain": [
       "(-0.3081497007130647, 0.1862373048245023)"
      ]
     },
     "execution_count": 80,
     "metadata": {},
     "output_type": "execute_result"
    }
   ],
   "source": [
    "stats.pearsonr(NOVGoldETFreturn, PearsonNOVStockETFreturn) #Nov Pearson correlation "
   ]
  },
  {
   "cell_type": "markdown",
   "metadata": {},
   "source": [
    "10-day rolling correlations are also computed for the entire period."
   ]
  },
  {
   "cell_type": "code",
   "execution_count": 81,
   "metadata": {},
   "outputs": [
    {
     "data": {
      "text/plain": [
       "[<matplotlib.lines.Line2D at 0x253be70d240>]"
      ]
     },
     "execution_count": 81,
     "metadata": {},
     "output_type": "execute_result"
    },
    {
     "data": {
      "image/png": "[encoded data removed]",
      "text/plain": [
       "<Figure size 432x288 with 1 Axes>"
      ]
     },
     "metadata": {
      "needs_background": "light"
     },
     "output_type": "display_data"
    }
   ],
   "source": [
    "corr = GoldETFreturn.rolling(10).corr(StockETFreturn)\n",
    "plt.plot(corr)"
   ]
  },
  {
   "cell_type": "code",
   "execution_count": null,
   "metadata": {},
   "outputs": [],
   "source": []
  }
 ],
 "metadata": {
  "kernelspec": {
   "display_name": "Python 3",
   "language": "python",
   "name": "python3"
  },
  "language_info": {
   "codemirror_mode": {
    "name": "ipython",
    "version": 3
   },
   "file_extension": ".py",
   "mimetype": "text/x-python",
   "name": "python",
   "nbconvert_exporter": "python",
   "pygments_lexer": "ipython3",
   "version": "3.7.1"
  }
 },
 "nbformat": 4,
 "nbformat_minor": 4
}
