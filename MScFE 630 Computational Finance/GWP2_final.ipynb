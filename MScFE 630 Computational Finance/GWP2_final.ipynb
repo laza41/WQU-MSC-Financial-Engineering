{
 "cells": [
  {
   "cell_type": "markdown",
   "id": "bed5ef8b",
   "metadata": {},
   "source": [
    "# GWP Submission 2: Price a Vanilla European Call Option\n",
    "\n",
    "*(Referencies: MScFE 630 CF_Compiled_Notes_M4, MScFE 630 CF_Compiled_Notes_M5)*"
   ]
  },
  {
   "cell_type": "markdown",
   "id": "159132c7",
   "metadata": {},
   "source": [
    "**Pricing a vanilla European call option:**"
   ]
  },
  {
   "cell_type": "markdown",
   "id": "ab8ba8b9",
   "metadata": {},
   "source": [
    "1. Using a simple Fourier pricing technique (using 𝑁 = 100 intervals, and using an effective\n",
    "upper bound of integration of 30), price a vanilla call option assuming that the underlying\n",
    "share follows the Heston model dynamics. Use the parameter values from the previous\n",
    "section (GWP #1), as well as the following parameter values:\n",
    "\n",
    "\n",
    "        𝑣_0 = 0.06\n",
    "        κ = 9\n",
    "        θ = 0.06\n",
    "        𝜌 = −0.4"
   ]
  },
  {
   "cell_type": "markdown",
   "id": "aec06244",
   "metadata": {},
   "source": [
    "Parameter values from the previous section (GWP #1):\n",
    "\n",
    "* Option maturity is one year\n",
    "* The option is struck at-the-money\n",
    "* The current share price is 100\n",
    "* The risk-free continuously compounded interest rate is 8%\n",
    "* The volatility for the underlying share is 30%"
   ]
  },
  {
   "cell_type": "markdown",
   "id": "ba3bfcac",
   "metadata": {},
   "source": [
    "Importing libraries:"
   ]
  },
  {
   "cell_type": "code",
   "execution_count": 1,
   "id": "d1e7dc80",
   "metadata": {},
   "outputs": [],
   "source": [
    "import numpy as np\n",
    "import pandas as pd\n",
    "import math\n",
    "import random\n",
    "from scipy.stats import norm\n",
    "import matplotlib.pyplot as plt\n",
    "from matplotlib.pyplot import figure\n",
    "from scipy import log,exp,sqrt,stats\n",
    "import scipy.stats as si\n",
    "from scipy.stats import ncx2\n",
    "import warnings\n",
    "import scipy as sp\n",
    "warnings.filterwarnings(\"ignore\")\n",
    "%matplotlib inline"
   ]
  },
  {
   "cell_type": "markdown",
   "id": "6cc2d062",
   "metadata": {},
   "source": [
    "Parameters:"
   ]
  },
  {
   "cell_type": "code",
   "execution_count": 2,
   "id": "7afc5d24",
   "metadata": {},
   "outputs": [],
   "source": [
    "#Parameters:\n",
    "r = 0.08 #Risk free rate\n",
    "#Share specific information\n",
    "S_0 = 100 #Current share price\n",
    "sigma = 0.3 #Volatility\n",
    "v_0 = 0.06\n",
    "kappa = 9\n",
    "theta = 0.06\n",
    "rho = -0.4\n",
    "#Option specific information\n",
    "K = S_0    #Strike as it`s at-the-money option\n",
    "T = 1     #Maturity\n",
    "k_log = np.log(K)\n",
    "#Approximation information\n",
    "t_max = 30 #Upper bound\n",
    "N = 100 #Upper bound for the sum"
   ]
  },
  {
   "cell_type": "markdown",
   "id": "4ab0c59d",
   "metadata": {},
   "source": [
    "* We will use the functions from the MScFE 630 CF_Compiled_Notes_M5.\n",
    "\n",
    "Characteristic functions:"
   ]
  },
  {
   "cell_type": "code",
   "execution_count": 3,
   "id": "f974d0e1",
   "metadata": {},
   "outputs": [],
   "source": [
    "a = sigma**2/2\n",
    "\n",
    "def b(u):\n",
    "    return kappa - rho*sigma*1j*u\n",
    "\n",
    "def c(u):\n",
    "    return -(u**2+1j*u)/2\n",
    "\n",
    "def d(u):\n",
    "    return np.sqrt(b(u)**2-4*a*c(u))\n",
    "\n",
    "def xminus(u):\n",
    "    return (b(u)-d(u))/(2*a)\n",
    "\n",
    "def xplus(u):\n",
    "    return (b(u)+d(u))/(2*a)\n",
    "\n",
    "def g(u):\n",
    "    return xminus(u)/xplus(u)\n",
    "\n",
    "def C(u):\n",
    "    val1 = T*xminus(u)-np.log((1-g(u)*np.exp(-T*d(u)))/(1-g(u)))/a\n",
    "    return r*T*1j*u + theta*kappa*val1\n",
    "\n",
    "def D(u):\n",
    "    val1 = 1-np.exp(-T*d(u))\n",
    "    val2 = 1-g(u)*np.exp(-T*d(u))\n",
    "    return (val1/val2)*xminus(u)\n",
    "\n",
    "def log_char(u):\n",
    "    return np.exp(C(u) + D(u)*v_0 + 1j*u*np.log(S_0))\n",
    "\n",
    "def adj_char(u):\n",
    "    return log_char(u-1j)/log_char(-1j)"
   ]
  },
  {
   "cell_type": "markdown",
   "id": "b7315219",
   "metadata": {},
   "source": [
    "We have the functions set, now we will vectorize our code:"
   ]
  },
  {
   "cell_type": "code",
   "execution_count": 4,
   "id": "7625cc1c",
   "metadata": {},
   "outputs": [],
   "source": [
    "delta_t = t_max/N\n",
    "from_1_to_N = np.linspace(1,N,N)\n",
    "t_n = (from_1_to_N-1/2)*delta_t"
   ]
  },
  {
   "cell_type": "markdown",
   "id": "7980e6fe",
   "metadata": {},
   "source": [
    "Calculate the estimate for the integrals:"
   ]
  },
  {
   "cell_type": "code",
   "execution_count": 5,
   "id": "260696a5",
   "metadata": {},
   "outputs": [],
   "source": [
    "first_integral = sum((((np.exp(-1j*t_n*k_log)*adj_char(t_n)).imag)/t_n)*delta_t)\n",
    "second_integral = sum((((np.exp(-1j*t_n*k_log)*log_char(t_n)).imag)/t_n)*delta_t)"
   ]
  },
  {
   "cell_type": "markdown",
   "id": "6e816612",
   "metadata": {},
   "source": [
    "Now, we can calculate the Fourier estimate of our call price:"
   ]
  },
  {
   "cell_type": "code",
   "execution_count": 6,
   "id": "829e6e9c",
   "metadata": {},
   "outputs": [
    {
     "name": "stdout",
     "output_type": "stream",
     "text": [
      "Heston model call option price: 13.73.\n"
     ]
    }
   ],
   "source": [
    "fourier_call_val = S_0*(1/2 + first_integral/np.pi)-np.exp(-r*T)*K*(1/2 + second_integral/np.pi)\n",
    "print(\"Heston model call option price: {:.2f}.\".format(fourier_call_val))"
   ]
  },
  {
   "cell_type": "markdown",
   "id": "d65f3a45",
   "metadata": {},
   "source": [
    "In order to compare, we can also calculate the call price under Black-Scholes:"
   ]
  },
  {
   "cell_type": "code",
   "execution_count": 7,
   "id": "83c0b41f",
   "metadata": {},
   "outputs": [
    {
     "name": "stdout",
     "output_type": "stream",
     "text": [
      "Black-Scholes call price: 15.71.\n"
     ]
    }
   ],
   "source": [
    "d_1_stock = (np.log(S_0/K)+(r + sigma**2/2)*(T))/(sigma*np.sqrt(T))\n",
    "d_2_stock = d_1_stock - sigma*np.sqrt(T)\n",
    "\n",
    "analytic_callprice = S_0*norm.cdf(d_1_stock)-K*np.exp(-r*(T))*norm.cdf(d_2_stock)\n",
    "print(\"Black-Scholes call price: {:.2f}.\".format(analytic_callprice))"
   ]
  },
  {
   "cell_type": "markdown",
   "id": "b4822c36",
   "metadata": {},
   "source": [
    "Now, we will plot the integrands for the two integrals:"
   ]
  },
  {
   "cell_type": "code",
   "execution_count": 8,
   "id": "f64c0c48",
   "metadata": {},
   "outputs": [
    {
     "data": {
      "image/png": "[encoded data removed]",
      "text/plain": [
       "<Figure size 432x288 with 1 Axes>"
      ]
     },
     "metadata": {
      "needs_background": "light"
     },
     "output_type": "display_data"
    }
   ],
   "source": [
    "plt.title(\"Value of additional term in integrand estimate\")\n",
    "plt.plot((((np.exp(-1j*t_n*k_log)*adj_char(t_n)).imag)/t_n)*delta_t, label=\"First integrand\")\n",
    "plt.plot((((np.exp(-1j*t_n*k_log)*log_char(t_n)).imag)/t_n)*delta_t, label=\"Second integrand\")\n",
    "plt.xlabel(\"t\")\n",
    "plt.ylabel(\"Integrand Value\")\n",
    "plt.legend()\n",
    "plt.show()"
   ]
  },
  {
   "cell_type": "markdown",
   "id": "487ef6bf",
   "metadata": {},
   "source": [
    "2. We will now simulate a share price path. Assume that $\\sigma(t_i,t_{i+1}) = \\sigma(S_{ti})^{\\gamma-1}$, where $\\sigma = 0.3$ and $\\gamma = 0.75$. Using the formula below, simulate paths for the underlying share using sample sizes of 1000, 2000, …, 50000. Perform monthly simulations for a period of a year. We can simulate the next step in a share price path using the following formula:$$S_{t_{i+1}} = S_{t_i}e^{(r - \\frac{\\sigma^2 (t_i,t_{i+1})}{2})(t_{i+1}-t_i)+\\sigma(t_i, t_{i+1})\\sqrt{t_{i+1}-t_i}Z}$$where $S_{ti}$ is the share price at time $t_i$, $\\sigma(t_i, t_{i+1})$ is the volatility for the period $[t_i,t_{i+1}]$, r is the risk-free interest rate, and Z ~ N (0, 1)\n",
    "\n",
    "Note that we are attempting to run simulations using the CEV model. However, while the CEV model assumes that volatility is a continuous function of time and share price, we are making a simplifying assumption that volatility is constant over each simulation period. \n",
    "\n",
    "*(Please note that running the simulations might take 10-15 mins to finish.)*"
   ]
  },
  {
   "cell_type": "markdown",
   "id": "fb424429",
   "metadata": {},
   "source": [
    "Parameters for CEV model:"
   ]
  },
  {
   "cell_type": "code",
   "execution_count": 9,
   "id": "715d9ad3",
   "metadata": {},
   "outputs": [],
   "source": [
    "sigma_CEV = 0.3\n",
    "gamma = 0.75\n",
    "dT = 1/12 #monthly simulations"
   ]
  },
  {
   "cell_type": "markdown",
   "id": "c0d831d1",
   "metadata": {},
   "source": [
    "Now, we will write a function in order to simulate the next step in a share price path using the formula from above:"
   ]
  },
  {
   "cell_type": "code",
   "execution_count": 10,
   "id": "718cafee",
   "metadata": {},
   "outputs": [],
   "source": [
    "#function for Volatility from CEV Model\n",
    "def CEV_vol(sigm,sT,gamman):\n",
    "    return sigm*sT**(gamman-1) "
   ]
  },
  {
   "cell_type": "code",
   "execution_count": 11,
   "id": "7fb06778",
   "metadata": {},
   "outputs": [],
   "source": [
    "def term_prices(s_0,T,r,sigm,no_sim,gamman):\n",
    "    \"\"\"\n",
    "        Returns: terminal values of simulated price paths\n",
    "    \"\"\"\n",
    "    n_steps= 12 # Define number of steps.\n",
    "    dt = T/n_steps\n",
    "    prices=[None]*no_sim\n",
    "    for j in range(0,no_sim):\n",
    "        sT = s_0\n",
    "        for i in range(0,int(n_steps)):\n",
    "            random.seed(24)\n",
    "            e = sp.random.normal()\n",
    "            vol = CEV_vol(sigm,sT,gamman)\n",
    "            sT *= np.exp((r-0.5*vol**2)*dt+vol*e*np.sqrt(dt))\n",
    "        prices[j]=sT\n",
    "    return prices"
   ]
  },
  {
   "cell_type": "code",
   "execution_count": 12,
   "id": "2a0172d1",
   "metadata": {},
   "outputs": [],
   "source": [
    "no_sim = 1000  # number of simulations\n",
    "random.seed(4)\n",
    "#Empty array which can be used to store estimate values for different sample sizes\n",
    "price_path=[None]*50\n",
    "#simulating 1000,2000...,50000 sample paths terminal values\n",
    "price_path=[None]*50\n",
    "for i in range(1,51):\n",
    "    price=term_prices(S_0,T,r,sigma,no_sim*i,gamma)\n",
    "    price_path[i-1]=np.mean(price)"
   ]
  },
  {
   "cell_type": "markdown",
   "id": "a43f1a6e",
   "metadata": {},
   "source": [
    "Plotting terminal values of simulated price paths:"
   ]
  },
  {
   "cell_type": "code",
   "execution_count": 13,
   "id": "673a53ee",
   "metadata": {},
   "outputs": [
    {
     "data": {
      "image/png": "[encoded data removed]",
      "text/plain": [
       "<Figure size 432x288 with 1 Axes>"
      ]
     },
     "metadata": {
      "needs_background": "light"
     },
     "output_type": "display_data"
    }
   ],
   "source": [
    "plt.plot(price_path, \".\")\n",
    "plt.xlabel(\"No.of simulations\")\n",
    "plt.ylabel(\"Prices\")\n",
    "plt.title(\"Price Paths of Underlying Asset\")\n",
    "plt.show()"
   ]
  },
  {
   "cell_type": "markdown",
   "id": "85e94604",
   "metadata": {},
   "source": [
    "3. Augment your code in part 2 to calculate Monte Carlo estimates, as well as the standard\n",
    "deviations for these estimates, for the price of a vanilla call option (with the same strike term\n",
    "as in Submission 1)."
   ]
  },
  {
   "cell_type": "markdown",
   "id": "a6f56397",
   "metadata": {},
   "source": [
    "Function in order to calculate the value of European Option:"
   ]
  },
  {
   "cell_type": "code",
   "execution_count": 14,
   "id": "cb7ec8ca",
   "metadata": {},
   "outputs": [],
   "source": [
    "def option_prices(s_0,T,K,r,sigm,no_sim,gamman):\n",
    "    \"\"\"\n",
    "        Returns: Call value of European Option\n",
    "    \"\"\"\n",
    "    n_steps= 12 # Define number of steps.\n",
    "    dt = T/n_steps\n",
    "    prices=[None]*no_sim\n",
    "    for j in range(0,no_sim):\n",
    "        sT=s_0\n",
    "        for i in range(0,int(n_steps)):\n",
    "            random.seed(24)\n",
    "            e = sp.random.normal()\n",
    "            vol = CEV_vol(sigm,sT,gamman)\n",
    "            sT *= np.exp((r-0.5*vol**2)*dt+vol*e*np.sqrt(dt))\n",
    "        prices[j] = np.exp(-r*T)*np.maximum(sT-K,0)\n",
    "    return prices"
   ]
  },
  {
   "cell_type": "markdown",
   "id": "dc845ca4",
   "metadata": {},
   "source": [
    "Simulating 1000,2000...,50000 option paths:"
   ]
  },
  {
   "cell_type": "code",
   "execution_count": 15,
   "id": "989ccdcd",
   "metadata": {},
   "outputs": [],
   "source": [
    "random.seed(4)\n",
    "#Empty arrays which can be used to store estimate values for different sample sizes\n",
    "mcall_std=[None]*50\n",
    "mcall_estimates = [None]*50\n",
    "for i in range(1,51):\n",
    "    prices=option_prices(S_0,T,K,r,sigma,no_sim*i,gamma)\n",
    "    mcall_estimates[i-1] = np.mean(prices)\n",
    "    mcall_std[i-1] = np.std(prices)/np.sqrt(i*1000)\n",
    "\n",
    "mean = np.mean(mcall_estimates)"
   ]
  },
  {
   "cell_type": "code",
   "execution_count": 32,
   "id": "64c7ef82",
   "metadata": {},
   "outputs": [
    {
     "name": "stdout",
     "output_type": "stream",
     "text": [
      "The final option value estimate by Monte Carlo for the sample size of 50,000: 8.73.\n"
     ]
    }
   ],
   "source": [
    "print(\"The final option value estimate by Monte Carlo for the sample size of 50,000: {:.2f}.\".format(mcall_estimates[i-1]))"
   ]
  },
  {
   "cell_type": "markdown",
   "id": "08b98ef9",
   "metadata": {},
   "source": [
    "Call price under CEV model:"
   ]
  },
  {
   "cell_type": "code",
   "execution_count": 17,
   "id": "6f8e49dd",
   "metadata": {},
   "outputs": [],
   "source": [
    "z = 2 + 1/(1-gamma)\n",
    "\n",
    "def C(S0, t, K):\n",
    "    kappa = 2*r/(sigma_CEV**2*(1-gamma)*(np.exp(2*r*(1-gamma)*t)-1))\n",
    "    x = kappa*S0**(2*(1-gamma))*np.exp(2*r*(1-gamma)*t)\n",
    "    y = kappa*K**(2*(1-gamma))\n",
    "    return S0*(1-ncx2.cdf(y,z,x))-K*np.exp(-r*t)*ncx2.cdf(x,z-2,y)"
   ]
  },
  {
   "cell_type": "code",
   "execution_count": 18,
   "id": "7e6e0646",
   "metadata": {},
   "outputs": [
    {
     "name": "stdout",
     "output_type": "stream",
     "text": [
      "Call option price under CEV model: 8.70.\n"
     ]
    }
   ],
   "source": [
    "CEV_call = C(S_0, T, K)\n",
    "print(\"Call option price under CEV model: {:.2f}.\".format(CEV_call))"
   ]
  },
  {
   "cell_type": "markdown",
   "id": "8f9473e6",
   "metadata": {},
   "source": [
    "4. Plot the Monte Carlo estimates generated in part 3 with respect to sample size, as well as three standard deviation error bounds around these estimates. "
   ]
  },
  {
   "cell_type": "code",
   "execution_count": 19,
   "id": "9415ccbb",
   "metadata": {},
   "outputs": [
    {
     "data": {
      "image/png": "[encoded data removed]",
      "text/plain": [
       "<Figure size 640x480 with 1 Axes>"
      ]
     },
     "metadata": {
      "needs_background": "light"
     },
     "output_type": "display_data"
    }
   ],
   "source": [
    "figure(figsize=(8, 6), dpi=80)\n",
    "plt.plot(mcall_estimates, \".\")\n",
    "plt.plot([CEV_call]*50, \"g\")\n",
    "plt.plot(CEV_call+np.array(mcall_std)*3, \"r\")\n",
    "plt.plot(CEV_call-np.array(mcall_std)*3, \"r\")\n",
    "plt.xlabel(\"No.of simulations\")\n",
    "plt.ylabel(\"Option Price\")\n",
    "plt.legend([\"Monte Carlo Estimates\",\"CEV Model Call Price\",\"Standard dev,upper\",\"Standard dev,lower\"])\n",
    "plt.title(\"Price paths of European call\")\n",
    "plt.show()"
   ]
  },
  {
   "cell_type": "markdown",
   "id": "70287088",
   "metadata": {},
   "source": [
    "**Volatility Smile:**"
   ]
  },
  {
   "cell_type": "markdown",
   "id": "e3bac2b2",
   "metadata": {},
   "source": [
    "5. Graph the volatility smile:"
   ]
  },
  {
   "cell_type": "markdown",
   "id": "07e4d3e1",
   "metadata": {},
   "source": [
    "* Visit https://finance.yahoo.com/quote/FB/options/\n",
    "* Find the strike closest to the current price of Facebook stock (take whatever maturity/ies you’d like). Call this K. Find its volatility. Call this sigma\n",
    "* Then find the 3 closest strikes below K. Find their implied volatilities from the website.\n",
    "* Then find the 3 closest strikes above K. Find their implied volatilities from the website.\n",
    "* Graph the strikes along the x-axis, and the implied volatilities along the y-axis.\n",
    "* Label this graph the “Facebook Option Volatility Smile”."
   ]
  },
  {
   "cell_type": "markdown",
   "id": "21ae53e9",
   "metadata": {},
   "source": [
    "* Facebook stock closing price as of 15th of October: 324.76.\n",
    "\n",
    "\n",
    "* The closest Strike is: 325, with sigma: 31.03%.\n",
    "\n",
    "\n",
    "* We choose maturity on the 22nd of October.\n",
    "\n",
    "* The 3 closest strikes below K and their implied volatility:\n",
    "                        322.5 & 31.59%\n",
    "                        320   & 32.34%\n",
    "                        317.5 & 32.76%\n",
    "                        \n",
    "* The 3 closest strikes above K and their implied volatility:\n",
    "                        327.5 & 30.87%\n",
    "                        330   & 30.57%\n",
    "                        332.5 & 30.50%\n",
    "                        "
   ]
  },
  {
   "cell_type": "markdown",
   "id": "6b732a24",
   "metadata": {},
   "source": [
    "*K_a means strike above* & *K_b means strike below*:"
   ]
  },
  {
   "cell_type": "code",
   "execution_count": 20,
   "id": "0ba33f14",
   "metadata": {},
   "outputs": [],
   "source": [
    "K_0 = 325\n",
    "sigma_0 = 31.03\n",
    "K_a1 = 327.5\n",
    "sigma_a1 = 30.87\n",
    "K_a2 = 330\n",
    "sigma_a2 = 30.57\n",
    "K_a3 = 332.5\n",
    "sigma_a3 = 30.50\n",
    "K_b1 = 322.5\n",
    "sigma_b1 = 31.59\n",
    "K_b2 = 320\n",
    "sigma_b2 = 32.34\n",
    "K_b3 = 317.5\n",
    "sigma_b3 = 32.76"
   ]
  },
  {
   "cell_type": "markdown",
   "id": "a94a39e5",
   "metadata": {},
   "source": [
    "Creating data frames:"
   ]
  },
  {
   "cell_type": "code",
   "execution_count": 21,
   "id": "7091a5da",
   "metadata": {},
   "outputs": [],
   "source": [
    "strikes_df = [K_b3, K_b2, K_b1, K_0, K_a1, K_a2, K_a3]\n",
    "volatility_df = [sigma_b3, sigma_b2, sigma_b1, sigma_0, sigma_a1, sigma_a2, sigma_a3]"
   ]
  },
  {
   "cell_type": "markdown",
   "id": "1c2dae2a",
   "metadata": {},
   "source": [
    "Plotting the strikes on x-axis and implied volatility on y-axis:"
   ]
  },
  {
   "cell_type": "code",
   "execution_count": 22,
   "id": "22231098",
   "metadata": {},
   "outputs": [
    {
     "data": {
      "image/png": "[encoded data removed]",
      "text/plain": [
       "<Figure size 576x288 with 1 Axes>"
      ]
     },
     "metadata": {
      "needs_background": "light"
     },
     "output_type": "display_data"
    }
   ],
   "source": [
    "plt.subplots(figsize=(8, 4))\n",
    "plt.plot(strikes_df, volatility_df, 'b')\n",
    "plt.title(\"Facebook Option Volatility Smile\")\n",
    "plt.legend(['IV'])\n",
    "plt.ylabel('Implied Volatility (IV)')\n",
    "plt.xlabel('Strike Price')           \n",
    "plt.show()"
   ]
  },
  {
   "cell_type": "markdown",
   "id": "6fcea0a0",
   "metadata": {},
   "source": [
    "* Well, it`s not exactly a smile, the shape of volatility smile should be a symmetry convex curve, but what we see above is rather called skewed shape.\n",
    "\n",
    "\n",
    "* As we can see, from the above chart, the implied volatility curve slopes downward to the right. This called the skew, meaning that options with low strikes have higher implied volatility, compared to higher strikes.\n",
    "\n",
    "\n",
    "* Usually, on call options implied volatility tends to be higher for deep ITM options and decreasing as moves closer to OTM options, which is the case as the graph shows above. Based on this we can assume that most of the investors are long FB shares."
   ]
  },
  {
   "cell_type": "markdown",
   "id": "79fc9ee0",
   "metadata": {},
   "source": [
    "6. Write a function to compute the implied volatility (Hint: Think bisection algorithm as one of the choices). Use this function to validate at least 2 of the implied volatilities from the website. Note: Feel free to use the 1-month T-Bill as the risk-free rate."
   ]
  },
  {
   "cell_type": "markdown",
   "id": "2184a577",
   "metadata": {},
   "source": [
    "                    1-month T-Bill as the risk-free rate: 0.04% as of 15th of October.\n",
    "\n",
    "\n",
    "We decided to go with Newton-Raphson Method of root finding as we found more research on this method.\n",
    "\n",
    "\n",
    "* First we need to define two functions, one for calculating the vega and the other to calculate the analytical call price of the option."
   ]
  },
  {
   "cell_type": "markdown",
   "id": "15af34a0",
   "metadata": {},
   "source": [
    "Function for Vega:"
   ]
  },
  {
   "cell_type": "code",
   "execution_count": 23,
   "id": "f3cb49d1",
   "metadata": {},
   "outputs": [],
   "source": [
    "def vega(S0, K, T, t_bill, sigma):\n",
    "\n",
    "    #S0: spot price\n",
    "    #K: strike price\n",
    "    #T: time to maturity\n",
    "    #t_bill: interest rate\n",
    "    #sigma: volatility of underlying asset\n",
    "    \n",
    "    d1 = (np.log(S0 / K) + (t_bill + 0.5 * sigma ** 2) * T) / (sigma * np.sqrt(T))\n",
    "    \n",
    "    vega = S0 * si.norm.cdf(d1, 0.0, 1.0) * np.sqrt(T)\n",
    "    \n",
    "    return vega"
   ]
  },
  {
   "cell_type": "markdown",
   "id": "2d1d8639",
   "metadata": {},
   "source": [
    "Function for the analytic call price:"
   ]
  },
  {
   "cell_type": "code",
   "execution_count": 24,
   "id": "5a2a37ce",
   "metadata": {},
   "outputs": [],
   "source": [
    "def analytic_callprice(S0, K, T, sigma, t_bill):\n",
    "    d_1_stock = (np.log(S0/K)+(t_bill + sigma**2/2)*(T))/(sigma*np.sqrt(T))\n",
    "    d_2_stock = d_1_stock - sigma*np.sqrt(T)\n",
    "    return S0*norm.cdf(d_1_stock)-K*np.exp(-t_bill*(T))*norm.cdf(d_2_stock)"
   ]
  },
  {
   "cell_type": "markdown",
   "id": "5d81812d",
   "metadata": {},
   "source": [
    "Using Newton-Raphson Method of root finding, the function calculates the implied volatility of a Vanilla European Call Option:"
   ]
  },
  {
   "cell_type": "code",
   "execution_count": 25,
   "id": "121615f5",
   "metadata": {
    "code_folding": []
   },
   "outputs": [],
   "source": [
    "def implied_vol(S0, K, T, t_bill, opt_price, tolerance=0.00000001):\n",
    "    #opt_price: market price of the option taken from yahoo finance\n",
    "    iterations = 50 \n",
    "    sigma = sigma_0/100 #Initial value of volatility\n",
    "    \n",
    "    #Newton-Raphson method:\n",
    "    for k in range(iterations):\n",
    "        analytic_price = analytic_callprice(S0, K, T, sigma, t_bill)\n",
    "        Vega = vega(S0, K, T, t_bill, sigma)*100\n",
    "        diff_price = analytic_price - opt_price\n",
    "\n",
    "        new_sigma = sigma - diff_price/Vega\n",
    "        new_analytic_callprice = analytic_callprice(S0, K, T, new_sigma, t_bill)\n",
    "        if (abs(sigma-new_sigma) < tolerance or abs(new_analytic_callprice-opt_price) < tolerance):\n",
    "            break\n",
    "\n",
    "        sigma = new_sigma\n",
    "\n",
    "    implied_vol = new_sigma\n",
    "    return implied_vol"
   ]
  },
  {
   "cell_type": "markdown",
   "id": "ad7fc563",
   "metadata": {},
   "source": [
    "* We choose to validate the two following strikes K_a1 = 327.50 & K_a2 = 330.\n",
    "\n",
    "\n",
    "* K_a1`s opt_price_a1 = 4.22\n",
    "* K_a2`s opt_price_a2 = 3.24"
   ]
  },
  {
   "cell_type": "code",
   "execution_count": 26,
   "id": "1690c98a",
   "metadata": {},
   "outputs": [],
   "source": [
    "#Current FB stock and option prices for the corresponding strikes:\n",
    "S0 = 324.76 #Stock prices as of today\n",
    "opt_price_a1 = 4.22 #Option price as of today from yahoo finance\n",
    "opt_price_a2 = 3.24 #Option price as of today from yahoo finance\n",
    "T = 6/365 #Time to option expiry\n",
    "t_bill = 0.0004 #1-month T-Bill as the risk-free rate"
   ]
  },
  {
   "cell_type": "markdown",
   "id": "99df9dbd",
   "metadata": {},
   "source": [
    "* Implied volatility for K_a1 = 327.50:"
   ]
  },
  {
   "cell_type": "code",
   "execution_count": 27,
   "id": "d54716d9",
   "metadata": {},
   "outputs": [
    {
     "name": "stdout",
     "output_type": "stream",
     "text": [
      "Implied volatility for K = 327.50 is 31.71%.\n"
     ]
    }
   ],
   "source": [
    "print(\"Implied volatility for K = 327.50 is {:.2f}%.\".format(implied_vol(S0, K_a1, T, t_bill, opt_price_a1)*100))"
   ]
  },
  {
   "cell_type": "markdown",
   "id": "52be05cb",
   "metadata": {},
   "source": [
    "* Implied volatility for K_a2 = 330:"
   ]
  },
  {
   "cell_type": "code",
   "execution_count": 28,
   "id": "b52c7a0e",
   "metadata": {},
   "outputs": [
    {
     "name": "stdout",
     "output_type": "stream",
     "text": [
      "Implied volatility for K = 330 is 31.69%.\n"
     ]
    }
   ],
   "source": [
    "print(\"Implied volatility for K = 330 is {:.2f}%.\".format(implied_vol(S0, K_a2, T, t_bill, opt_price_a2)*100))"
   ]
  },
  {
   "cell_type": "markdown",
   "id": "1525575d",
   "metadata": {},
   "source": [
    "As we can see we got 31.71% for K = 327.50, the implied volatility from yahoo finance as of the close at the 15th is 30.87%, so, our estimate 31.71% is very close as the difference is less than 1%. \n",
    "\n",
    "For K = 330, the difference is just a bit more than 1% as we got 31.69%, and on yahoo finance it`s 30.57%, still our estimate is very close."
   ]
  },
  {
   "cell_type": "markdown",
   "id": "d139508a",
   "metadata": {},
   "source": [
    "* 7. The volatility skewness is defined as the change in implied volatility (delta y) divided by the\n",
    "change in strike level (delta x). Using the strikes below K, calculate the volatility skew for\n",
    "Facebook."
   ]
  },
  {
   "cell_type": "markdown",
   "id": "4708d253",
   "metadata": {},
   "source": [
    "K_b1 = 325\n",
    "sigma_b1 = 41.59\n",
    "K_b2 = 320\n",
    "sigma_b2 = 42.37\n",
    "K_b3 = 315\n",
    "sigma_b3 = 43.37"
   ]
  },
  {
   "cell_type": "code",
   "execution_count": 29,
   "id": "adf2262d",
   "metadata": {},
   "outputs": [
    {
     "name": "stdout",
     "output_type": "stream",
     "text": [
      "Volatility skewness is -2.39.\n"
     ]
    }
   ],
   "source": [
    "delta_y = sigma_b3 / sigma_b1 -1\n",
    "delta_x = K_b3 / K_b1 -1\n",
    "vol_skew = delta_y / delta_x\n",
    "print(\"Volatility skewness is {:.2f}.\".format(vol_skew))"
   ]
  },
  {
   "cell_type": "markdown",
   "id": "911edca0",
   "metadata": {},
   "source": [
    "* 8. In Black Scholes, does the volatility depend on the strike level? Why or why not?"
   ]
  },
  {
   "cell_type": "markdown",
   "id": "26ec870e",
   "metadata": {},
   "source": [
    "No, it does not. The Black-Scholes world assumes that all assets have their own constant volatility, meaning that regardless of the strike or maturity of an option the volatility for the underlying asset is the same. In this case the implied volatility surface would be flat which means the implied volatility be the same for all strikes and maturities.\n",
    "\n",
    "Of course it`s not true in the real world."
   ]
  },
  {
   "cell_type": "markdown",
   "id": "b999b90d",
   "metadata": {},
   "source": [
    "* 9. How does the Heston Model better estimate the volatility smile? Specifically, what is different in Heston’s model from Black Scholes that allows more estimate option pricing?"
   ]
  },
  {
   "cell_type": "markdown",
   "id": "25aeb138",
   "metadata": {},
   "source": [
    "* Black Scholes assumes that the asset prices are log-normally distributed, Heston model is the opposite meaning asset prices are Not log-normally distributed.\n",
    "\n",
    "* Black Scholes assumes that the risk-free rate and volatility are constant, Heston model says volatility is not constant it fluctuates and rarely remains constant, Heston model also says that the volatility is mean reverting. \n",
    "\n",
    "* Based on Black Scholes the volatility should be a flat line, in the Heston model shape of volatility smile should be a symmetry convex curve.\n",
    "\n",
    "* Also the Heston model captures the leverage effect and it`s possible to calibrate fast to market data."
   ]
  }
 ],
 "metadata": {
  "kernelspec": {
   "display_name": "Python 3 (ipykernel)",
   "language": "python",
   "name": "python3"
  },
  "language_info": {
   "codemirror_mode": {
    "name": "ipython",
    "version": 3
   },
   "file_extension": ".py",
   "mimetype": "text/x-python",
   "name": "python",
   "nbconvert_exporter": "python",
   "pygments_lexer": "ipython3",
   "version": "3.9.7"
  }
 },
 "nbformat": 4,
 "nbformat_minor": 5
}
