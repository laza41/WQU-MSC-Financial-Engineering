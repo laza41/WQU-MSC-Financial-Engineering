{
 "cells": [
  {
   "cell_type": "markdown",
   "id": "34c16ad6",
   "metadata": {
    "id": "e70e7314"
   },
   "source": [
    "## Groupwork Assignment Submission 2: Optimizing 2 and 3 Security Portfolios"
   ]
  },
  {
   "cell_type": "code",
   "execution_count": 1,
   "id": "8d2b071f",
   "metadata": {
    "id": "a1564de5"
   },
   "outputs": [],
   "source": [
    "import numpy as np\n",
    "import pandas as pd\n",
    "import pickle\n",
    "import matplotlib.pyplot as plt\n",
    "import warnings\n",
    "warnings.filterwarnings(\"ignore\")"
   ]
  },
  {
   "cell_type": "markdown",
   "id": "a5b1ee4d",
   "metadata": {
    "id": "ba8db587"
   },
   "source": [
    "**Data Importing**\n",
    "\n",
    "\n",
    "1.1 Import 11 ETFs, which are the Select Spdrs (e.g. XLF, XLE, etc.).  Some of this period did not include \n",
    "the Real Estate sector fund.\n",
    "\n",
    "ETFs = XLB \tXLE \tXLF \tXLI \tXLK \tXLP \tIYR \tXLU \tXLV \tXLY \tVOX\n",
    "\n",
    "We use IYR and VOX instead of the corresponding SPRDs, as these have more data.\n",
    "\n",
    "* We import the data using pickle module:"
   ]
  },
  {
   "cell_type": "code",
   "execution_count": 2,
   "id": "94b4fa46",
   "metadata": {
    "id": "9c3e1d9e"
   },
   "outputs": [],
   "source": [
    "SPDRS = ['XLB','XLE','XLF','XLI','XLK','XLP','IYR','XLU','XLV','XLY','VOX']"
   ]
  },
  {
   "cell_type": "code",
   "execution_count": 3,
   "id": "4ca53483",
   "metadata": {
    "id": "fe58ac33"
   },
   "outputs": [],
   "source": [
    "with open('spdrs.pkl', 'rb') as f:\n",
    "    data = pickle.load(f)"
   ]
  },
  {
   "cell_type": "markdown",
   "id": "e44e003c",
   "metadata": {
    "id": "f538ce3a"
   },
   "source": [
    "**Data Processing**\n",
    "\n",
    "\n",
    "2.1 Select 2 of the Select SPDR ETFs. Form an equally weighted portfolio of these 2 securities.\n",
    "\n",
    "* We select XLF (Financial Select Sector SPDR Fund) and XLK (Technology Select SPDR Fund)"
   ]
  },
  {
   "cell_type": "code",
   "execution_count": 4,
   "id": "f0f2643c",
   "metadata": {
    "id": "0bedaab9"
   },
   "outputs": [],
   "source": [
    "ourAssets = [\"XLF\",\"XLK\"]\n",
    "portfolioTwoAsset = data[ourAssets].sort_index(axis=0 ,ascending=True)"
   ]
  },
  {
   "cell_type": "markdown",
   "id": "996290e7",
   "metadata": {
    "id": "75d3c982"
   },
   "source": [
    "2.2 Compute the standard deviation of each of the securities"
   ]
  },
  {
   "cell_type": "code",
   "execution_count": 5,
   "id": "68def8b9",
   "metadata": {
    "colab": {
     "base_uri": "https://localhost:8080/"
    },
    "id": "b6abd543",
    "outputId": "85bc2ae4-fc11-4b7e-b4f8-0165613acc0a"
   },
   "outputs": [
    {
     "data": {
      "text/plain": [
       "XLF     2.549649\n",
       "XLK    23.126322\n",
       "dtype: float64"
      ]
     },
     "execution_count": 5,
     "metadata": {},
     "output_type": "execute_result"
    }
   ],
   "source": [
    "portfolioTwoAsset.std()"
   ]
  },
  {
   "cell_type": "markdown",
   "id": "14ebb5f9",
   "metadata": {
    "id": "2c9c97c1"
   },
   "source": [
    "2.3 Compute the correlation between the securities."
   ]
  },
  {
   "cell_type": "code",
   "execution_count": 6,
   "id": "7c3976e7",
   "metadata": {
    "colab": {
     "base_uri": "https://localhost:8080/",
     "height": 112
    },
    "id": "206a287b",
    "outputId": "4a071851-1412-4acc-fc6a-f7415aa52143"
   },
   "outputs": [
    {
     "data": {
      "text/html": [
       "<div>\n",
       "<style scoped>\n",
       "    .dataframe tbody tr th:only-of-type {\n",
       "        vertical-align: middle;\n",
       "    }\n",
       "\n",
       "    .dataframe tbody tr th {\n",
       "        vertical-align: top;\n",
       "    }\n",
       "\n",
       "    .dataframe thead th {\n",
       "        text-align: right;\n",
       "    }\n",
       "</style>\n",
       "<table border=\"1\" class=\"dataframe\">\n",
       "  <thead>\n",
       "    <tr style=\"text-align: right;\">\n",
       "      <th></th>\n",
       "      <th>XLF</th>\n",
       "      <th>XLK</th>\n",
       "    </tr>\n",
       "  </thead>\n",
       "  <tbody>\n",
       "    <tr>\n",
       "      <th>XLF</th>\n",
       "      <td>1.000000</td>\n",
       "      <td>0.709606</td>\n",
       "    </tr>\n",
       "    <tr>\n",
       "      <th>XLK</th>\n",
       "      <td>0.709606</td>\n",
       "      <td>1.000000</td>\n",
       "    </tr>\n",
       "  </tbody>\n",
       "</table>\n",
       "</div>"
      ],
      "text/plain": [
       "          XLF       XLK\n",
       "XLF  1.000000  0.709606\n",
       "XLK  0.709606  1.000000"
      ]
     },
     "execution_count": 6,
     "metadata": {},
     "output_type": "execute_result"
    }
   ],
   "source": [
    "portfolioTwoAsset.pct_change().dropna().corr()"
   ]
  },
  {
   "cell_type": "markdown",
   "id": "e069522f",
   "metadata": {
    "id": "47ad059b"
   },
   "source": [
    "2.4 Write a function that computes the weighted return of a portfolio. "
   ]
  },
  {
   "cell_type": "code",
   "execution_count": 7,
   "id": "c8c4fc43",
   "metadata": {
    "id": "76ac2b4c"
   },
   "outputs": [],
   "source": [
    "def getPortfolioReturn(weights:list,portfolio:pd.DataFrame)->float:\n",
    "\n",
    "    if (len(portfolio.columns)!=len(weights)):\n",
    "        raise ValueError (\"Length of weights vector is not consistent with the number of assets.\")\n",
    "\n",
    "    #Annual expected asset return based on historical daily returns\n",
    "    assetReturn=(1+portfolio.pct_change().dropna().mean())**252-1\n",
    "\n",
    "    #Portfolio return\n",
    "    portfolioReturn = 0\n",
    "    for i in range(len(weights)):\n",
    "        portfolioReturn += weights[i]*assetReturn.iloc[i]\n",
    "\n",
    "    return portfolioReturn"
   ]
  },
  {
   "cell_type": "code",
   "execution_count": 8,
   "id": "6b2b00cb",
   "metadata": {
    "id": "c83977e3"
   },
   "outputs": [],
   "source": [
    "portfolioReturn = getPortfolioReturn(weights=[0.5,0.5],portfolio=portfolioTwoAsset)"
   ]
  },
  {
   "cell_type": "markdown",
   "id": "0b47f49d",
   "metadata": {
    "id": "a2dc0a6f"
   },
   "source": [
    "2.5 Write a function that computes the portfolio standard deviation."
   ]
  },
  {
   "cell_type": "code",
   "execution_count": 9,
   "id": "7f0869ce",
   "metadata": {
    "id": "41639d36"
   },
   "outputs": [],
   "source": [
    "def getPortfolioVolatility(weights:list,portfolio:pd.DataFrame,correlationMatrix:pd.DataFrame)->float:    \n",
    "    if (len(portfolio.columns)!=len(weights)):\n",
    "        raise ValueError (\"Length of weights vector is not consistent with the number of assets.\")\n",
    "\n",
    "    portfolioVolatility = 0\n",
    "    for i in range(0,len(weights)):\n",
    "        #portfolioVolatility  += (weights[i]*portfolio.std().iloc[i] / portfolio.mean().iloc[i])**2\n",
    "        portfolioVolatility  += (weights[i]*portfolio.pct_change().dropna().std().iloc[i] * np.sqrt(252))**2\n",
    "\n",
    "    for i in range(0,len(weights)):\n",
    "        for j in range(i+1,len(weights)):\n",
    "\n",
    "            #portfolioVolatility += 2*weights[i]*weights[j]*correlationMatrix.iloc[i,j] \\\n",
    "            #                     * portfolio.std().iloc[i] / portfolio.mean().iloc[i] \\\n",
    "            #                     * portfolio.std().iloc[j] / portfolio.mean().iloc[j]\n",
    "\n",
    "            portfolioVolatility += 2*weights[i]*weights[j]*correlationMatrix.iloc[i,j] \\\n",
    "                                 * portfolio.pct_change().dropna().std().iloc[i] * np.sqrt(252) \\\n",
    "                                 * portfolio.pct_change().dropna().std().iloc[j] * np.sqrt(252)\n",
    "\n",
    "    portfolioVolatility = np.sqrt(portfolioVolatility)\n",
    "\n",
    "    return portfolioVolatility"
   ]
  },
  {
   "cell_type": "code",
   "execution_count": 10,
   "id": "d53bb0e5",
   "metadata": {
    "id": "ecca3e76"
   },
   "outputs": [],
   "source": [
    "correlationMatrix = portfolioTwoAsset.pct_change().dropna().corr()\n",
    "portfolioVolatility = getPortfolioVolatility([0.5,0.5],portfolioTwoAsset,correlationMatrix)"
   ]
  },
  {
   "cell_type": "markdown",
   "id": "289bc4d1",
   "metadata": {
    "id": "5c401ae5"
   },
   "source": [
    "**Category 1 Portfolio: 2 Sectors**\n",
    "\n",
    "\n",
    "3.1 Write a function showing the efficient frontier (EF) of your portfolio.  \n",
    "\n",
    "Be sure to vary the weights of the security from (0, 100%), (1%, 99%), … (100%, 0%).  \n",
    "\n",
    "* Function:"
   ]
  },
  {
   "cell_type": "code",
   "execution_count": 11,
   "id": "57e8f04c",
   "metadata": {
    "id": "b0d17c73"
   },
   "outputs": [],
   "source": [
    "def plotEfficientFrontier(setOfWeights:list,portfolio:pd.DataFrame,correlationMatrix:pd.DataFrame,ax):\n",
    "\n",
    "    expectedReturn=[]\n",
    "    volatility    =[]\n",
    "    for weights in setOfWeights:\n",
    "        expectedReturn.append(getPortfolioReturn(weights,portfolio))\n",
    "        volatility.append(getPortfolioVolatility(weights,portfolio,correlationMatrix))\n",
    "\n",
    "    ax.plot(volatility,expectedReturn,label=r'$\\rho$=%.3f'%correlationMatrix.iloc[0,1])"
   ]
  },
  {
   "cell_type": "markdown",
   "id": "283420c7",
   "metadata": {
    "id": "81226bd0"
   },
   "source": [
    "3.2 What is the leftmost point of the EF called?\n",
    "\n",
    "* Minimum variance portfolio"
   ]
  },
  {
   "cell_type": "markdown",
   "id": "c8b1fd5d",
   "metadata": {
    "id": "b7d4e945"
   },
   "source": [
    "**Answers from 3.3 to 3.5, as we want to illustrate these on one plot:**"
   ]
  },
  {
   "cell_type": "code",
   "execution_count": 12,
   "id": "bee481cd",
   "metadata": {
    "colab": {
     "base_uri": "https://localhost:8080/",
     "height": 279
    },
    "id": "ea87f766",
    "outputId": "3e617ac5-9d74-4055-d31c-02aa81ac1a8a"
   },
   "outputs": [
    {
     "data": {
      "image/png": "[encoded data removed]",
      "text/plain": [
       "<Figure size 432x288 with 1 Axes>"
      ]
     },
     "metadata": {
      "needs_background": "light"
     },
     "output_type": "display_data"
    }
   ],
   "source": [
    "# Initialize figure\n",
    "_,ax = plt.subplots(1,1)\n",
    "ax.set_ylabel(\"Annualized portfolio return (%)\")\n",
    "ax.set_xlabel(\"Annualized portfolio volatility (%)\")\n",
    "\n",
    "setOfWeights = [[i,1-i] for i in np.arange(0,1.01,0.01)]\n",
    "\n",
    "# Plot with actual correlation\n",
    "correlationMatrix = portfolioTwoAsset.pct_change().dropna().corr()\n",
    "plotEfficientFrontier(setOfWeights,portfolioTwoAsset,correlationMatrix,ax)\n",
    "\n",
    "# 3.3 Rerun your function, but pretend the correlation between the securities is 1.  \n",
    "#Graph the EF.  Comment on the shape.\n",
    "correlationMatrix = portfolioTwoAsset.pct_change().dropna().corr()\n",
    "correlationMatrix.iloc[0,1] = 1\n",
    "correlationMatrix.iloc[1,0] = 1\n",
    "plotEfficientFrontier(setOfWeights,portfolioTwoAsset,correlationMatrix,ax)\n",
    "\n",
    "# 3.4 Rerun your function, but pretend the correlation between the securities is 0.  \n",
    "#Graph the EF.  Comment on the shape.\n",
    "correlationMatrix = portfolioTwoAsset.pct_change().dropna().corr()\n",
    "correlationMatrix.iloc[0,1] = 0\n",
    "correlationMatrix.iloc[1,0] = 0\n",
    "plotEfficientFrontier(setOfWeights,portfolioTwoAsset,correlationMatrix,ax)\n",
    "\n",
    "# 3.5 Rerun your function, but pretend the correlation between the securities is -1.  \n",
    "#Graph the EF.  Comment on the shape.\n",
    "correlationMatrix = portfolioTwoAsset.pct_change().dropna().corr()\n",
    "correlationMatrix.iloc[0,1] = -1\n",
    "correlationMatrix.iloc[1,0] = -1\n",
    "plotEfficientFrontier(setOfWeights,portfolioTwoAsset,correlationMatrix,ax)\n",
    "\n",
    "ax.legend(loc=\"upper left\")\n",
    "plt.title(\"All Correlations\")\n",
    "plt.show()"
   ]
  },
  {
   "cell_type": "markdown",
   "id": "edfaea7f",
   "metadata": {
    "id": "ac987573"
   },
   "source": [
    "**Comments:**\n",
    "\n",
    "* As we plotted all on one chart, we can see that we get best optimal or minimum variance portfolio if the the correlation between the securities is -1, in this case the returns is about 16% and the portfolio volatility is close to 0%. Of course it`s not the case. \n",
    "\n",
    "* We would get the highest volatility if correlation between the securities is 1.\n",
    "\n",
    "* As it seems having correlation between the securities 0 is still better then the actual correlation p = 0.71, with p = 0 we have higher return with lower volatility compared to p = 0.71."
   ]
  },
  {
   "cell_type": "markdown",
   "id": "14314358",
   "metadata": {
    "id": "04d9cde5"
   },
   "source": [
    "3.6 Apply 5% trim to the data.  Recompute the correlation.  Rerun the EF.  "
   ]
  },
  {
   "cell_type": "code",
   "execution_count": 13,
   "id": "b6256c4a",
   "metadata": {
    "colab": {
     "base_uri": "https://localhost:8080/",
     "height": 279
    },
    "id": "18fce03f",
    "outputId": "695c0ca1-f65e-48bd-a936-73e145a1eb94"
   },
   "outputs": [
    {
     "data": {
      "image/png": "[encoded data removed]",
      "text/plain": [
       "<Figure size 432x288 with 1 Axes>"
      ]
     },
     "metadata": {
      "needs_background": "light"
     },
     "output_type": "display_data"
    }
   ],
   "source": [
    "portfolioTwoAssetTrimmed = portfolioTwoAsset.iloc[int(len(portfolioTwoAsset)/20):]\n",
    "\n",
    "# Initialize figure\n",
    "_,ax2 = plt.subplots(1,1)\n",
    "ax2.set_ylabel(\"Annualized portfolio return (%)\")\n",
    "ax2.set_xlabel(\"Annualized portfolio volatility (%)\")\n",
    "\n",
    "#Plot trimmed data\n",
    "correlationMatrix = portfolioTwoAssetTrimmed.pct_change().dropna().corr()\n",
    "plotEfficientFrontier(setOfWeights,portfolioTwoAssetTrimmed,correlationMatrix,ax2)\n",
    "\n",
    "#Plot original data\n",
    "correlationMatrix = portfolioTwoAsset.pct_change().dropna().corr()\n",
    "plotEfficientFrontier(setOfWeights,portfolioTwoAsset,correlationMatrix,ax2)\n",
    "\n",
    "ax2.legend(loc=\"upper left\")\n",
    "plt.title(\"Plot: 5% trim to the data\")\n",
    "plt.show()"
   ]
  },
  {
   "cell_type": "markdown",
   "id": "dfeaf9d0",
   "metadata": {
    "id": "19db4502"
   },
   "source": [
    "3.7 How does the EF from the actual data compare to the EF from the trimmed data?"
   ]
  },
  {
   "cell_type": "markdown",
   "id": "0742b2f9",
   "metadata": {
    "id": "333bffb8"
   },
   "source": [
    "* Orange full data; Blue: 5% trimmed data. Removing a relatively small part of data does not change the results significantly."
   ]
  },
  {
   "cell_type": "markdown",
   "id": "fd837034",
   "metadata": {
    "id": "e8538253"
   },
   "source": [
    "3.8 Use a robust method of portfolio (see FRAPO R Library or pyportfolioopt Python module, for example).  \n",
    "* We use here pypfopt module. (https://pyportfolioopt.readthedocs.io/en/latest/GeneralEfficientFrontier.html)"
   ]
  },
  {
   "cell_type": "code",
   "execution_count": 14,
   "id": "0133cc83",
   "metadata": {
    "id": "6885fb87"
   },
   "outputs": [],
   "source": [
    "from pypfopt.efficient_frontier import EfficientFrontier\n",
    "from pypfopt import risk_models, objective_functions \n",
    "from pypfopt import expected_returns\n",
    "from pypfopt import plotting"
   ]
  },
  {
   "cell_type": "code",
   "execution_count": 15,
   "id": "55d950b3",
   "metadata": {
    "colab": {
     "base_uri": "https://localhost:8080/",
     "height": 297
    },
    "id": "e87efd37",
    "outputId": "6610295f-5f5a-4f50-c16b-d3233173f1e0"
   },
   "outputs": [
    {
     "data": {
      "image/png": "[encoded data removed]",
      "text/plain": [
       "<Figure size 432x288 with 1 Axes>"
      ]
     },
     "metadata": {
      "needs_background": "light"
     },
     "output_type": "display_data"
    }
   ],
   "source": [
    "# Calculate expected returns and sample covariance\n",
    "mu = expected_returns.mean_historical_return(portfolioTwoAsset,compounding=False)\n",
    "S = risk_models.sample_cov(portfolioTwoAsset)\n",
    "\n",
    "# Compute with predifined weights\n",
    "#ef = EfficientFrontier(mu, S)\n",
    "#dictKeys = ourAssets\n",
    "#dictVals = [0.5,0.5]\n",
    "#weights = dict(zip(dictKeys,dictVals))\n",
    "#ef.set_weights(weights)\n",
    "#ef.portfolio_performance(verbose=True)\n",
    "\n",
    "# \n",
    "ef = EfficientFrontier(mu, S)\n",
    "#ef.add_constraint(lambda w: w[0] >= 0.2)\n",
    "#ef.add_constraint(lambda w: w[2] == 0.15)\n",
    "#ef.add_constraint(lambda w: w[3] + w[4] <= 0.10)\n",
    "\n",
    "fig, ax3 = plt.subplots(1,1)\n",
    "\n",
    "#Plot our own calculation (Full data)\n",
    "correlationMatrix = portfolioTwoAsset.pct_change().dropna().corr()\n",
    "plotEfficientFrontier(setOfWeights,portfolioTwoAsset,correlationMatrix,ax3)\n",
    "\n",
    "#Plot pyPortfolioOpt library calculations\n",
    "plotting.plot_efficient_frontier(ef, ax=ax3, show_assets=True)\n",
    "\n",
    "ax3.set_ylabel(\"Annualized portfolio return (%)\")\n",
    "ax3.set_xlabel(\"Annualized portfolio volatility (%)\")\n",
    "plt.show()"
   ]
  },
  {
   "cell_type": "markdown",
   "id": "4db2fafc",
   "metadata": {
    "id": "8214caa6"
   },
   "source": [
    "State the equation(s) of how this works.  Write a paragraph explaining how it works.\n"
   ]
  },
  {
   "cell_type": "markdown",
   "id": "a0a68d8c",
   "metadata": {
    "id": "geBJMarI8F-o"
   },
   "source": [
    "The library solves a convex optimization problem as follows:\n",
    "\n",
    "\\begin{split}\\begin{equation*}\n",
    "\\begin{aligned}\n",
    "& \\underset{w}{\\text{minimise}} & & w^T \\Sigma w \\\\\n",
    "& \\text{subject to} & & w^T\\mu \\geq \\mu^*\\\\\n",
    "&&& w^T\\mathbf{1} = 1 \\\\\n",
    "&&& w_i \\geq 0 \\\\\n",
    "\\end{aligned}\n",
    "\\end{equation*}\\end{split}"
   ]
  },
  {
   "cell_type": "markdown",
   "id": "67dbb7da",
   "metadata": {
    "id": "G0C00KFm8V_I"
   },
   "source": [
    "Above $w$ denotes vector of the assets' weights (which are the decision variables), $\\mu$ the vector of assets' expected return, and $\\Sigma$ the covariance matrix. Moreover, $w^T\\mu$ stands for the portfolio return, and $w^T\\Sigma w$ the portfolio risk in terms of covariance matrix. Finally, $\\mu^*$ is the target portfolio return, which is an input. In this setting, we try to minimize the risk for a given target portolio return using the assets' weights. "
   ]
  },
  {
   "cell_type": "markdown",
   "id": "49c866d7",
   "metadata": {
    "id": "25df634e"
   },
   "source": [
    "3.9 How does this EF compare with the other 2:"
   ]
  },
  {
   "cell_type": "markdown",
   "id": "ea88f194",
   "metadata": {
    "id": "dd097e8f"
   },
   "source": [
    "Results are close, but not exactly the same. The main reason behind the difference between the two curves is that we seem to overshoot the expected return of the first asset (top-left dot). This is difficult to explain as we calculate the expected return of the second asset (bottom right dot) close to the one computed by the pyPortfolioOpt library."
   ]
  },
  {
   "cell_type": "markdown",
   "id": "c34e7ad3",
   "metadata": {
    "id": "806d03fa"
   },
   "source": [
    "**4 Category 2 Portfolio: 3 Sectors**"
   ]
  },
  {
   "cell_type": "markdown",
   "id": "42da4627",
   "metadata": {
    "id": "965ceddc"
   },
   "source": [
    "4.1 Add 1 ETF to your portfolio.  Calculate the correlation matrix for 3 ETFs chosen.  \n",
    "\n",
    "* Added IYR."
   ]
  },
  {
   "cell_type": "code",
   "execution_count": 16,
   "id": "1cb9ee28",
   "metadata": {
    "id": "57c2ac1f"
   },
   "outputs": [],
   "source": [
    "three_Assets = [\"XLF\",\"XLK\", \"IYR\"]\n",
    "portfolioThreeAsset = data[three_Assets].sort_index(axis=0 ,ascending=True)"
   ]
  },
  {
   "cell_type": "code",
   "execution_count": 17,
   "id": "accb284c",
   "metadata": {
    "colab": {
     "base_uri": "https://localhost:8080/",
     "height": 143
    },
    "id": "b4caa498",
    "outputId": "ff7c4e4f-9eda-4f8f-ac4c-dd2f35570f6d"
   },
   "outputs": [
    {
     "data": {
      "text/html": [
       "<div>\n",
       "<style scoped>\n",
       "    .dataframe tbody tr th:only-of-type {\n",
       "        vertical-align: middle;\n",
       "    }\n",
       "\n",
       "    .dataframe tbody tr th {\n",
       "        vertical-align: top;\n",
       "    }\n",
       "\n",
       "    .dataframe thead th {\n",
       "        text-align: right;\n",
       "    }\n",
       "</style>\n",
       "<table border=\"1\" class=\"dataframe\">\n",
       "  <thead>\n",
       "    <tr style=\"text-align: right;\">\n",
       "      <th></th>\n",
       "      <th>XLF</th>\n",
       "      <th>XLK</th>\n",
       "      <th>IYR</th>\n",
       "    </tr>\n",
       "  </thead>\n",
       "  <tbody>\n",
       "    <tr>\n",
       "      <th>XLF</th>\n",
       "      <td>1.000000</td>\n",
       "      <td>0.709606</td>\n",
       "      <td>0.653970</td>\n",
       "    </tr>\n",
       "    <tr>\n",
       "      <th>XLK</th>\n",
       "      <td>0.709606</td>\n",
       "      <td>1.000000</td>\n",
       "      <td>0.638674</td>\n",
       "    </tr>\n",
       "    <tr>\n",
       "      <th>IYR</th>\n",
       "      <td>0.653970</td>\n",
       "      <td>0.638674</td>\n",
       "      <td>1.000000</td>\n",
       "    </tr>\n",
       "  </tbody>\n",
       "</table>\n",
       "</div>"
      ],
      "text/plain": [
       "          XLF       XLK       IYR\n",
       "XLF  1.000000  0.709606  0.653970\n",
       "XLK  0.709606  1.000000  0.638674\n",
       "IYR  0.653970  0.638674  1.000000"
      ]
     },
     "execution_count": 17,
     "metadata": {},
     "output_type": "execute_result"
    }
   ],
   "source": [
    "three_Assets_corr = portfolioThreeAsset.pct_change().dropna().corr()\n",
    "three_Assets_corr"
   ]
  },
  {
   "cell_type": "markdown",
   "id": "4a448046",
   "metadata": {
    "id": "db3059e9"
   },
   "source": [
    "4.2\tGraph the efficient frontier of this 3-security portfolio."
   ]
  },
  {
   "cell_type": "markdown",
   "id": "5c0309f9",
   "metadata": {
    "id": "3744a5b0"
   },
   "source": [
    "* We will vary the weights, but XLK and IYR, will have the same weights:"
   ]
  },
  {
   "cell_type": "code",
   "execution_count": 18,
   "id": "8d31523d",
   "metadata": {
    "id": "b41a08b8"
   },
   "outputs": [],
   "source": [
    "setOfWeights_three = [[i,(1-i)/2, 1-(i+(1-i)/2)] for i in np.arange(0,1.01,0.01)]"
   ]
  },
  {
   "cell_type": "code",
   "execution_count": 58,
   "id": "e9ba8226",
   "metadata": {},
   "outputs": [
    {
     "data": {
      "text/plain": [
       "[[0.0, 0.5, 0.5],\n",
       " [0.01, 0.495, 0.495],\n",
       " [0.02, 0.49, 0.49],\n",
       " [0.03, 0.485, 0.485],\n",
       " [0.04, 0.48, 0.48],\n",
       " [0.05, 0.475, 0.475],\n",
       " [0.06, 0.47, 0.47],\n",
       " [0.07, 0.46499999999999997, 0.4650000000000001],\n",
       " [0.08, 0.46, 0.45999999999999996],\n",
       " [0.09, 0.455, 0.45499999999999996],\n",
       " [0.1, 0.45, 0.44999999999999996],\n",
       " [0.11, 0.445, 0.44499999999999995],\n",
       " [0.12, 0.44, 0.43999999999999995],\n",
       " [0.13, 0.435, 0.43500000000000005],\n",
       " [0.14, 0.43, 0.42999999999999994],\n",
       " [0.15, 0.425, 0.42500000000000004],\n",
       " [0.16, 0.42, 0.42000000000000004],\n",
       " [0.17, 0.415, 0.41500000000000004],\n",
       " [0.18, 0.41000000000000003, 0.4099999999999999],\n",
       " [0.19, 0.405, 0.405],\n",
       " [0.2, 0.4, 0.3999999999999999],\n",
       " [0.21, 0.395, 0.395],\n",
       " [0.22, 0.39, 0.39],\n",
       " [0.23, 0.385, 0.385],\n",
       " [0.24, 0.38, 0.38],\n",
       " [0.25, 0.375, 0.375],\n",
       " [0.26, 0.37, 0.37],\n",
       " [0.27, 0.365, 0.365],\n",
       " [0.28, 0.36, 0.36],\n",
       " [0.29, 0.355, 0.355],\n",
       " [0.3, 0.35, 0.3500000000000001],\n",
       " [0.31, 0.345, 0.345],\n",
       " [0.32, 0.33999999999999997, 0.3400000000000001],\n",
       " [0.33, 0.33499999999999996, 0.33499999999999996],\n",
       " [0.34, 0.32999999999999996, 0.33000000000000007],\n",
       " [0.35000000000000003, 0.32499999999999996, 0.32499999999999996],\n",
       " [0.36, 0.32, 0.32000000000000006],\n",
       " [0.37, 0.315, 0.31499999999999995],\n",
       " [0.38, 0.31, 0.31000000000000005],\n",
       " [0.39, 0.305, 0.30499999999999994],\n",
       " [0.4, 0.3, 0.30000000000000004],\n",
       " [0.41000000000000003, 0.295, 0.29499999999999993],\n",
       " [0.42, 0.29000000000000004, 0.29000000000000004],\n",
       " [0.43, 0.28500000000000003, 0.2849999999999999],\n",
       " [0.44, 0.28, 0.28],\n",
       " [0.45, 0.275, 0.2749999999999999],\n",
       " [0.46, 0.27, 0.27],\n",
       " [0.47000000000000003, 0.265, 0.2649999999999999],\n",
       " [0.48, 0.26, 0.26],\n",
       " [0.49, 0.255, 0.255],\n",
       " [0.5, 0.25, 0.25],\n",
       " [0.51, 0.245, 0.245],\n",
       " [0.52, 0.24, 0.24],\n",
       " [0.53, 0.235, 0.235],\n",
       " [0.54, 0.22999999999999998, 0.22999999999999998],\n",
       " [0.55, 0.22499999999999998, 0.22499999999999998],\n",
       " [0.56, 0.21999999999999997, 0.21999999999999997],\n",
       " [0.5700000000000001, 0.21499999999999997, 0.21499999999999997],\n",
       " [0.58, 0.21000000000000002, 0.20999999999999996],\n",
       " [0.59, 0.20500000000000002, 0.20500000000000007],\n",
       " [0.6, 0.2, 0.19999999999999996],\n",
       " [0.61, 0.195, 0.19500000000000006],\n",
       " [0.62, 0.19, 0.18999999999999995],\n",
       " [0.63, 0.185, 0.18500000000000005],\n",
       " [0.64, 0.18, 0.17999999999999994],\n",
       " [0.65, 0.175, 0.17500000000000004],\n",
       " [0.66, 0.16999999999999998, 0.16999999999999993],\n",
       " [0.67, 0.16499999999999998, 0.16500000000000004],\n",
       " [0.68, 0.15999999999999998, 0.15999999999999992],\n",
       " [0.6900000000000001, 0.15499999999999997, 0.15500000000000003],\n",
       " [0.7000000000000001, 0.14999999999999997, 0.1499999999999999],\n",
       " [0.71, 0.14500000000000002, 0.14500000000000002],\n",
       " [0.72, 0.14, 0.14],\n",
       " [0.73, 0.135, 0.135],\n",
       " [0.74, 0.13, 0.13],\n",
       " [0.75, 0.125, 0.125],\n",
       " [0.76, 0.12, 0.12],\n",
       " [0.77, 0.11499999999999999, 0.11499999999999999],\n",
       " [0.78, 0.10999999999999999, 0.10999999999999999],\n",
       " [0.79, 0.10499999999999998, 0.10499999999999998],\n",
       " [0.8, 0.09999999999999998, 0.09999999999999998],\n",
       " [0.81, 0.09499999999999997, 0.09499999999999997],\n",
       " [0.8200000000000001, 0.08999999999999997, 0.08999999999999997],\n",
       " [0.8300000000000001, 0.08499999999999996, 0.08499999999999996],\n",
       " [0.84, 0.08000000000000002, 0.08000000000000007],\n",
       " [0.85, 0.07500000000000001, 0.07499999999999996],\n",
       " [0.86, 0.07, 0.07000000000000006],\n",
       " [0.87, 0.065, 0.06499999999999995],\n",
       " [0.88, 0.06, 0.06000000000000005],\n",
       " [0.89, 0.05499999999999999, 0.05499999999999994],\n",
       " [0.9, 0.04999999999999999, 0.050000000000000044],\n",
       " [0.91, 0.044999999999999984, 0.04499999999999993],\n",
       " [0.92, 0.03999999999999998, 0.040000000000000036],\n",
       " [0.93, 0.034999999999999976, 0.03499999999999992],\n",
       " [0.9400000000000001, 0.02999999999999997, 0.030000000000000027],\n",
       " [0.9500000000000001, 0.024999999999999967, 0.02499999999999991],\n",
       " [0.96, 0.020000000000000018, 0.020000000000000018],\n",
       " [0.97, 0.015000000000000013, 0.015000000000000013],\n",
       " [0.98, 0.010000000000000009, 0.010000000000000009],\n",
       " [0.99, 0.0050000000000000044, 0.0050000000000000044],\n",
       " [1.0, 0.0, 0.0]]"
      ]
     },
     "execution_count": 58,
     "metadata": {},
     "output_type": "execute_result"
    }
   ],
   "source": [
    "setOfWeights_three"
   ]
  },
  {
   "cell_type": "code",
   "execution_count": 61,
   "id": "95b1078f",
   "metadata": {},
   "outputs": [
    {
     "data": {
      "text/plain": [
       "XLF    0.015114\n",
       "XLK    0.013747\n",
       "IYR    0.012591\n",
       "dtype: float64"
      ]
     },
     "execution_count": 61,
     "metadata": {},
     "output_type": "execute_result"
    }
   ],
   "source": [
    "portfolioThreeAsset.pct_change().dropna().std()"
   ]
  },
  {
   "cell_type": "code",
   "execution_count": 19,
   "id": "bcf5fd4c",
   "metadata": {
    "colab": {
     "base_uri": "https://localhost:8080/",
     "height": 295
    },
    "id": "5b9b0269",
    "outputId": "4f2bc397-f587-415d-e9f9-2ce430d3ba57"
   },
   "outputs": [
    {
     "data": {
      "image/png": "[encoded data removed]",
      "text/plain": [
       "<Figure size 432x288 with 1 Axes>"
      ]
     },
     "metadata": {
      "needs_background": "light"
     },
     "output_type": "display_data"
    }
   ],
   "source": [
    "# Initialize figure\n",
    "_,ax4 = plt.subplots(1,1)\n",
    "ax4.set_ylabel(\"Annualized portfolio return (%)\")\n",
    "ax4.set_xlabel(\"Annualized portfolio volatility (%)\")\n",
    "\n",
    "plotEfficientFrontier(setOfWeights_three,portfolioThreeAsset,three_Assets_corr,ax4)\n",
    "plt.title(\"The efficient frontier of 3-security portfolio\")\n",
    "ax4.legend(loc=\"upper left\")\n",
    "plt.show()"
   ]
  },
  {
   "cell_type": "markdown",
   "id": "8dd8638a",
   "metadata": {
    "id": "ae4ca73d"
   },
   "source": [
    "4.3\tIs there a diversification benefit to adding Security #3?  Explain your answer."
   ]
  },
  {
   "cell_type": "markdown",
   "id": "a43f4e26",
   "metadata": {
    "id": "3f3fb11e"
   },
   "source": [
    "* Well, although adding a 3rd ETF lowers the volatiltiy, it seems lowers the return as well, but not by much about 3% lower return and volatiltiy.\n",
    "\n",
    "* Comparing the 3-security portfolio to the 2-security portfolio, the Optimal Portfolio has lower return and risk as well.\n",
    "\n",
    "* If a investor prefers lower riks then yes there is a benefit, however in our expample XLK and IYR have the same weights."
   ]
  },
  {
   "cell_type": "markdown",
   "id": "2ffa719f",
   "metadata": {
    "id": "ca46cd3d"
   },
   "source": [
    "**5\tCategory 3 Portfolios:  All Combinations**"
   ]
  },
  {
   "cell_type": "markdown",
   "id": "cef72fa3",
   "metadata": {
    "id": "61d0f972"
   },
   "source": [
    "5.1\tUse 2019 daily return data.  Apply a robust method of calculating the efficient frontier for all 165 (11 choose 3) combinations of 3 Select SPDR portfolios.  DO NOT GRAPH THESE!  You are allowed to be short securities.  Call these the trained portfolios.\n",
    "\n",
    "\n",
    "* For the combinations we use itertools:\n",
    "\n",
    "*(Reference: https://www.geeksforgeeks.org/permutation-and-combination-in-python/)*"
   ]
  },
  {
   "cell_type": "code",
   "execution_count": 20,
   "id": "098e0e62",
   "metadata": {
    "id": "e4a6e6a3"
   },
   "outputs": [],
   "source": [
    "from itertools import combinations"
   ]
  },
  {
   "cell_type": "markdown",
   "id": "31c47b64",
   "metadata": {
    "id": "0e18a921"
   },
   "source": [
    "* Select 2019 data:"
   ]
  },
  {
   "cell_type": "code",
   "execution_count": 21,
   "id": "5731e765",
   "metadata": {
    "id": "e905ace4"
   },
   "outputs": [],
   "source": [
    "df_2019_return = data['2019-01-01':'2019-12-31'].sort_index(axis=0 ,ascending=True)"
   ]
  },
  {
   "cell_type": "markdown",
   "id": "2272a68b",
   "metadata": {
    "id": "587fd7d6"
   },
   "source": [
    "* We assign the indicators here, it will be easier for 6.1:"
   ]
  },
  {
   "cell_type": "code",
   "execution_count": 22,
   "id": "2ec3b6c5",
   "metadata": {
    "id": "44dd8bbc"
   },
   "outputs": [],
   "source": [
    "groups = ['XLB:CEI', 'XLE:CEI', 'XLF:CEI', 'XLI:LEI', \n",
    "             'XLK:CEI', 'XLP:CEI', 'IYR:LAG', 'XLU:CEI', 'XLV:LAG', 'XLY:CEI', 'VOX:CEI']\n",
    "df_2019_return.columns = groups"
   ]
  },
  {
   "cell_type": "markdown",
   "id": "3eb435b1",
   "metadata": {
    "id": "bf5bc8c6"
   },
   "source": [
    "* Creating combinations (11 choose 3):"
   ]
  },
  {
   "cell_type": "code",
   "execution_count": 23,
   "id": "21c786b1",
   "metadata": {
    "id": "5032b24a"
   },
   "outputs": [],
   "source": [
    "combs_spdr = list(combinations(df_2019_return, 3))\n",
    "combs_select_spdr = []\n",
    "\n",
    "# Put the obtained combinations in a list\n",
    "for i in (combs_spdr):\n",
    "    combs_select_spdr.append(i)"
   ]
  },
  {
   "cell_type": "markdown",
   "id": "a7cf92a2",
   "metadata": {
    "id": "e6a149e2"
   },
   "source": [
    "* Combinations of 2019 ETF data:"
   ]
  },
  {
   "cell_type": "code",
   "execution_count": 24,
   "id": "9174bfa0",
   "metadata": {
    "id": "85a6b9ea"
   },
   "outputs": [],
   "source": [
    "combinations_of_portfolios = []\n",
    "\n",
    "for j in (range(165)):\n",
    "    combinations_of_portfolios.append(df_2019_return[list(combs_select_spdr[j])])"
   ]
  },
  {
   "cell_type": "markdown",
   "id": "c2f49195",
   "metadata": {
    "id": "992d1918"
   },
   "source": [
    "* Numbering the portfolios:"
   ]
  },
  {
   "cell_type": "code",
   "execution_count": 25,
   "id": "dd62e941",
   "metadata": {
    "id": "5541e3cc"
   },
   "outputs": [],
   "source": [
    "portfolio_numbers = []\n",
    "for number in range(165):\n",
    "    p_nr = \"portfolio\" + str(number)\n",
    "    portfolio_numbers.append(p_nr)\n",
    "portfolio_numbers_df = pd.DataFrame(combs_select_spdr, index=portfolio_numbers)"
   ]
  },
  {
   "cell_type": "markdown",
   "id": "adcb4fa9",
   "metadata": {
    "id": "fa0b97ae"
   },
   "source": [
    "* We use PyPortfolioOpt for calculating the efficient frontier for all 165 portfolios: \n",
    "\n",
    "*Reference (https://pyportfolioopt.readthedocs.io/en/latest/UserGuide.html#short-positions)*"
   ]
  },
  {
   "cell_type": "code",
   "execution_count": 26,
   "id": "f8ff1885",
   "metadata": {
    "id": "bf657498"
   },
   "outputs": [],
   "source": [
    "from pypfopt.expected_returns import mean_historical_return\n",
    "from pypfopt.risk_models import CovarianceShrinkage"
   ]
  },
  {
   "cell_type": "code",
   "execution_count": 27,
   "id": "48cff7c3",
   "metadata": {
    "colab": {
     "base_uri": "https://localhost:8080/",
     "height": 571
    },
    "id": "3460db47",
    "outputId": "3148bde7-6c0b-4143-aa7b-097bc1efb107"
   },
   "outputs": [
    {
     "name": "stdout",
     "output_type": "stream",
     "text": [
      "Weights: OrderedDict([('XLB:CEI', 0.66183), ('XLE:CEI', -0.66183), ('XLF:CEI', 1.0)])\n",
      "Expected annual return: 40.4%\n",
      "Annual volatility: 18.4%\n",
      "Sharpe Ratio: 2.09\n",
      "Weights: OrderedDict([('XLB:CEI', 0.70978), ('XLE:CEI', -0.70978), ('XLI:LEI', 1.0)])\n",
      "Expected annual return: 39.0%\n",
      "Annual volatility: 19.4%\n",
      "Sharpe Ratio: 1.91\n",
      "Weights: OrderedDict([('XLB:CEI', 0.49037), ('XLE:CEI', -0.49037), ('XLK:CEI', 1.0)])\n",
      "Expected annual return: 57.0%\n",
      "Annual volatility: 19.7%\n",
      "Sharpe Ratio: 2.80\n",
      "Weights: OrderedDict([('XLB:CEI', 0.29403), ('XLE:CEI', -0.29268), ('XLP:CEI', 0.99865)])\n",
      "Expected annual return: 30.2%\n",
      "Annual volatility: 12.6%\n",
      "Sharpe Ratio: 2.24\n",
      "Weights: OrderedDict([('XLB:CEI', 0.38597), ('XLE:CEI', -0.23962), ('IYR:LAG', 0.85365)])\n",
      "Expected annual return: 30.6%\n",
      "Annual volatility: 12.3%\n",
      "Sharpe Ratio: 2.33\n",
      "Weights: OrderedDict([('XLB:CEI', 0.44483), ('XLE:CEI', -0.19026), ('XLU:CEI', 0.74543)])\n",
      "Expected annual return: 27.0%\n",
      "Annual volatility: 11.0%\n",
      "Sharpe Ratio: 2.27\n",
      "Weights: OrderedDict([('XLB:CEI', 0.76189), ('XLE:CEI', -0.62382), ('XLV:LAG', 0.86193)])\n",
      "Expected annual return: 31.3%\n",
      "Annual volatility: 16.8%\n",
      "Sharpe Ratio: 1.75\n",
      "Weights: OrderedDict([('XLB:CEI', 0.5829), ('XLE:CEI', -0.5829), ('XLY:CEI', 1.0)])\n",
      "Expected annual return: 36.5%\n",
      "Annual volatility: 17.0%\n",
      "Sharpe Ratio: 2.03\n",
      "Weights: OrderedDict([('XLB:CEI', 0.7055), ('XLE:CEI', -0.7055), ('VOX:CEI', 1.0)])\n",
      "Expected annual return: 38.2%\n",
      "Annual volatility: 17.9%\n",
      "Sharpe Ratio: 2.02\n",
      "Weights: OrderedDict([('XLB:CEI', -0.21262), ('XLF:CEI', 0.79029), ('XLI:LEI', 0.42233)])\n",
      "Expected annual return: 28.8%\n",
      "Annual volatility: 15.5%\n",
      "Sharpe Ratio: 1.73\n",
      "Weights: OrderedDict([('XLB:CEI', -0.33177), ('XLF:CEI', 0.33177), ('XLK:CEI', 1.0)])\n",
      "Expected annual return: 50.4%\n",
      "Annual volatility: 18.5%\n",
      "Sharpe Ratio: 2.62\n",
      "Weights: OrderedDict([('XLB:CEI', -0.18728), ('XLF:CEI', 0.40562), ('XLP:CEI', 0.78166)])\n",
      "Expected annual return: 27.0%\n",
      "Annual volatility: 10.9%\n",
      "Sharpe Ratio: 2.29\n",
      "Weights: OrderedDict([('XLB:CEI', -0.12917), ('XLF:CEI', 0.43632), ('IYR:LAG', 0.69285)])\n",
      "Expected annual return: 28.4%\n",
      "Annual volatility: 10.6%\n",
      "Sharpe Ratio: 2.49\n",
      "Weights: OrderedDict([('XLB:CEI', -0.05027), ('XLF:CEI', 0.42595), ('XLU:CEI', 0.62432)])\n",
      "Expected annual return: 26.2%\n",
      "Annual volatility: 9.7%\n",
      "Sharpe Ratio: 2.50\n",
      "Weights: OrderedDict([('XLB:CEI', -0.08166), ('XLF:CEI', 0.75494), ('XLV:LAG', 0.32672)])\n",
      "Expected annual return: 26.0%\n",
      "Annual volatility: 13.7%\n",
      "Sharpe Ratio: 1.75\n",
      "Weights: OrderedDict([('XLB:CEI', -0.19214), ('XLF:CEI', 0.58412), ('XLY:CEI', 0.60803)])\n",
      "Expected annual return: 28.2%\n",
      "Annual volatility: 14.3%\n",
      "Sharpe Ratio: 1.83\n",
      "Weights: OrderedDict([('XLB:CEI', -0.06167), ('XLF:CEI', 0.63213), ('VOX:CEI', 0.42954)])\n",
      "Expected annual return: 27.4%\n",
      "Annual volatility: 14.1%\n",
      "Sharpe Ratio: 1.81\n",
      "Weights: OrderedDict([('XLB:CEI', -0.14934), ('XLI:LEI', 0.14934), ('XLK:CEI', 1.0)])\n",
      "Expected annual return: 48.8%\n",
      "Annual volatility: 18.2%\n",
      "Sharpe Ratio: 2.56\n",
      "Weights: OrderedDict([('XLB:CEI', -0.20448), ('XLI:LEI', 0.36563), ('XLP:CEI', 0.83885)])\n",
      "Expected annual return: 26.1%\n",
      "Annual volatility: 10.9%\n",
      "Sharpe Ratio: 2.21\n",
      "Weights: OrderedDict([('XLB:CEI', -0.08376), ('XLI:LEI', 0.34808), ('IYR:LAG', 0.73568)])\n",
      "Expected annual return: 27.2%\n",
      "Annual volatility: 10.8%\n",
      "Sharpe Ratio: 2.34\n",
      "Weights: OrderedDict([('XLB:CEI', -0.06414), ('XLI:LEI', 0.40725), ('XLU:CEI', 0.65689)])\n",
      "Expected annual return: 25.2%\n",
      "Annual volatility: 9.7%\n",
      "Sharpe Ratio: 2.39\n",
      "Weights: OrderedDict([('XLB:CEI', -0.11796), ('XLI:LEI', 0.69692), ('XLV:LAG', 0.42104)])\n",
      "Expected annual return: 23.9%\n",
      "Annual volatility: 13.5%\n",
      "Sharpe Ratio: 1.63\n",
      "Weights: OrderedDict([('XLB:CEI', -0.17818), ('XLI:LEI', 0.41607), ('XLY:CEI', 0.76211)])\n",
      "Expected annual return: 26.7%\n",
      "Annual volatility: 14.2%\n",
      "Sharpe Ratio: 1.74\n",
      "Weights: OrderedDict([('XLB:CEI', -0.05771), ('XLI:LEI', 0.52327), ('VOX:CEI', 0.53444)])\n",
      "Expected annual return: 25.9%\n",
      "Annual volatility: 14.0%\n",
      "Sharpe Ratio: 1.71\n",
      "Weights: OrderedDict([('XLB:CEI', -0.44649), ('XLK:CEI', 0.80947), ('XLP:CEI', 0.63702)])\n",
      "Expected annual return: 45.3%\n",
      "Annual volatility: 14.9%\n",
      "Sharpe Ratio: 2.90\n",
      "Weights: OrderedDict([('XLB:CEI', -0.33299), ('XLK:CEI', 0.73285), ('IYR:LAG', 0.60014)])\n",
      "Expected annual return: 44.4%\n",
      "Annual volatility: 14.1%\n",
      "Sharpe Ratio: 3.02\n",
      "Weights: OrderedDict([('XLB:CEI', -0.24955), ('XLK:CEI', 0.67844), ('XLU:CEI', 0.57111)])\n",
      "Expected annual return: 41.2%\n",
      "Annual volatility: 12.6%\n",
      "Sharpe Ratio: 3.10\n",
      "Weights: OrderedDict([('XLB:CEI', -0.13371), ('XLK:CEI', 1.0), ('XLV:LAG', 0.13371)])\n",
      "Expected annual return: 47.8%\n",
      "Annual volatility: 17.8%\n",
      "Sharpe Ratio: 2.58\n",
      "Weights: OrderedDict([('XLB:CEI', -0.12649), ('XLK:CEI', 1.0), ('XLY:CEI', 0.12649)])\n",
      "Expected annual return: 48.6%\n",
      "Annual volatility: 18.2%\n",
      "Sharpe Ratio: 2.57\n",
      "Weights: OrderedDict([('XLB:CEI', -0.08685), ('XLK:CEI', 1.0), ('VOX:CEI', 0.08685)])\n",
      "Expected annual return: 48.4%\n",
      "Annual volatility: 18.1%\n",
      "Sharpe Ratio: 2.57\n",
      "Weights: OrderedDict([('XLB:CEI', 0.04128), ('XLP:CEI', 0.46294), ('IYR:LAG', 0.49577)])\n",
      "Expected annual return: 25.8%\n",
      "Annual volatility: 9.7%\n",
      "Sharpe Ratio: 2.45\n",
      "Weights: OrderedDict([('XLB:CEI', 0.12691), ('XLP:CEI', 0.42335), ('XLU:CEI', 0.44973)])\n",
      "Expected annual return: 24.2%\n",
      "Annual volatility: 9.3%\n",
      "Sharpe Ratio: 2.37\n",
      "Weights: OrderedDict([('XLB:CEI', 0.03856), ('XLP:CEI', 0.85099), ('XLV:LAG', 0.11045)])\n",
      "Expected annual return: 24.1%\n",
      "Annual volatility: 10.4%\n",
      "Sharpe Ratio: 2.12\n",
      "Weights: OrderedDict([('XLB:CEI', -0.08817), ('XLP:CEI', 0.76658), ('XLY:CEI', 0.32159)])\n",
      "Expected annual return: 25.5%\n",
      "Annual volatility: 10.7%\n",
      "Sharpe Ratio: 2.20\n",
      "Weights: OrderedDict([('XLB:CEI', -0.0068), ('XLP:CEI', 0.76163), ('VOX:CEI', 0.24517)])\n",
      "Expected annual return: 25.0%\n",
      "Annual volatility: 10.5%\n",
      "Sharpe Ratio: 2.18\n",
      "Weights: OrderedDict([('XLB:CEI', 0.17221), ('IYR:LAG', 0.42984), ('XLU:CEI', 0.39794)])\n",
      "Expected annual return: 25.0%\n",
      "Annual volatility: 9.3%\n",
      "Sharpe Ratio: 2.47\n",
      "Weights: OrderedDict([('XLB:CEI', 0.16153), ('IYR:LAG', 0.75733), ('XLV:LAG', 0.08113)])\n",
      "Expected annual return: 25.5%\n",
      "Annual volatility: 10.5%\n",
      "Sharpe Ratio: 2.24\n",
      "Weights: OrderedDict([('XLB:CEI', 0.00197), ('IYR:LAG', 0.67659), ('XLY:CEI', 0.32144)])\n",
      "Expected annual return: 26.7%\n",
      "Annual volatility: 10.5%\n",
      "Sharpe Ratio: 2.34\n",
      "Weights: OrderedDict([('XLB:CEI', 0.09152), ('IYR:LAG', 0.67924), ('VOX:CEI', 0.22924)])\n",
      "Expected annual return: 26.1%\n",
      "Annual volatility: 10.4%\n",
      "Sharpe Ratio: 2.31\n",
      "Weights: OrderedDict([('XLB:CEI', 0.23753), ('XLU:CEI', 0.66482), ('XLV:LAG', 0.09765)])\n",
      "Expected annual return: 23.1%\n",
      "Annual volatility: 9.5%\n",
      "Sharpe Ratio: 2.22\n",
      "Weights: OrderedDict([('XLB:CEI', 0.02262), ('XLU:CEI', 0.59697), ('XLY:CEI', 0.38041)])\n",
      "Expected annual return: 24.8%\n",
      "Annual volatility: 9.5%\n",
      "Sharpe Ratio: 2.41\n",
      "Weights: OrderedDict([('XLB:CEI', 0.13741), ('XLU:CEI', 0.59563), ('VOX:CEI', 0.26696)])\n",
      "Expected annual return: 24.1%\n",
      "Annual volatility: 9.4%\n",
      "Sharpe Ratio: 2.34\n",
      "Weights: OrderedDict([('XLB:CEI', -0.01202), ('XLV:LAG', 0.25583), ('XLY:CEI', 0.75619)])\n",
      "Expected annual return: 24.3%\n",
      "Annual volatility: 12.9%\n",
      "Sharpe Ratio: 1.73\n",
      "Weights: OrderedDict([('XLB:CEI', 0.19776), ('XLV:LAG', 0.25273), ('VOX:CEI', 0.54952)])\n",
      "Expected annual return: 23.0%\n",
      "Annual volatility: 12.7%\n",
      "Sharpe Ratio: 1.66\n",
      "Weights: OrderedDict([('XLB:CEI', 0.04169), ('XLY:CEI', 0.62666), ('VOX:CEI', 0.33165)])\n",
      "Expected annual return: 25.5%\n",
      "Annual volatility: 13.5%\n",
      "Sharpe Ratio: 1.74\n",
      "Weights: OrderedDict([('XLE:CEI', -1.0), ('XLF:CEI', 1.0), ('XLI:LEI', 1.0)])\n",
      "Expected annual return: 51.5%\n",
      "Annual volatility: 21.3%\n",
      "Sharpe Ratio: 2.32\n",
      "Weights: OrderedDict([('XLE:CEI', -0.79328), ('XLF:CEI', 0.79328), ('XLK:CEI', 1.0)])\n",
      "Expected annual return: 68.3%\n",
      "Annual volatility: 21.6%\n",
      "Sharpe Ratio: 3.07\n",
      "Weights: OrderedDict([('XLE:CEI', -0.49026), ('XLF:CEI', 0.70775), ('XLP:CEI', 0.78251)])\n",
      "Expected annual return: 38.2%\n",
      "Annual volatility: 13.8%\n",
      "Sharpe Ratio: 2.62\n",
      "Weights: OrderedDict([('XLE:CEI', -0.41769), ('XLF:CEI', 0.70714), ('IYR:LAG', 0.71055)])\n",
      "Expected annual return: 38.1%\n",
      "Annual volatility: 13.0%\n",
      "Sharpe Ratio: 2.79\n",
      "Weights: OrderedDict([('XLE:CEI', -0.35549), ('XLF:CEI', 0.71125), ('XLU:CEI', 0.64424)])\n",
      "Expected annual return: 34.8%\n",
      "Annual volatility: 11.9%\n",
      "Sharpe Ratio: 2.76\n",
      "Weights: OrderedDict([('XLE:CEI', -0.65054), ('XLF:CEI', 1.0), ('XLV:LAG', 0.65054)])\n",
      "Expected annual return: 39.3%\n",
      "Annual volatility: 16.7%\n",
      "Sharpe Ratio: 2.24\n"
     ]
    },
    {
     "name": "stdout",
     "output_type": "stream",
     "text": [
      "Weights: OrderedDict([('XLE:CEI', -0.87557), ('XLF:CEI', 1.0), ('XLY:CEI', 0.87557)])\n",
      "Expected annual return: 48.5%\n",
      "Annual volatility: 19.5%\n",
      "Sharpe Ratio: 2.38\n",
      "Weights: OrderedDict([('XLE:CEI', -0.79638), ('XLF:CEI', 1.0), ('VOX:CEI', 0.79638)])\n",
      "Expected annual return: 46.3%\n",
      "Annual volatility: 18.7%\n",
      "Sharpe Ratio: 2.36\n",
      "Weights: OrderedDict([('XLE:CEI', -0.72601), ('XLI:LEI', 0.72601), ('XLK:CEI', 1.0)])\n",
      "Expected annual return: 64.9%\n",
      "Annual volatility: 21.4%\n",
      "Sharpe Ratio: 2.94\n",
      "Weights: OrderedDict([('XLE:CEI', -0.48545), ('XLI:LEI', 0.64961), ('XLP:CEI', 0.83584)])\n",
      "Expected annual return: 36.4%\n",
      "Annual volatility: 13.7%\n",
      "Sharpe Ratio: 2.51\n",
      "Weights: OrderedDict([('XLE:CEI', -0.4171), ('XLI:LEI', 0.66773), ('IYR:LAG', 0.74937)])\n",
      "Expected annual return: 36.5%\n",
      "Annual volatility: 13.3%\n",
      "Sharpe Ratio: 2.59\n",
      "Weights: OrderedDict([('XLE:CEI', -0.36235), ('XLI:LEI', 0.69154), ('XLU:CEI', 0.67081)])\n",
      "Expected annual return: 33.3%\n",
      "Annual volatility: 11.9%\n",
      "Sharpe Ratio: 2.63\n",
      "Weights: OrderedDict([('XLE:CEI', -0.70353), ('XLI:LEI', 1.0), ('XLV:LAG', 0.70353)])\n",
      "Expected annual return: 37.9%\n",
      "Annual volatility: 16.9%\n",
      "Sharpe Ratio: 2.12\n",
      "Weights: OrderedDict([('XLE:CEI', -0.9261), ('XLI:LEI', 0.94076), ('XLY:CEI', 0.98535)])\n",
      "Expected annual return: 47.4%\n",
      "Annual volatility: 20.1%\n",
      "Sharpe Ratio: 2.26\n",
      "Weights: OrderedDict([('XLE:CEI', -0.86782), ('XLI:LEI', 1.0), ('VOX:CEI', 0.86782)])\n",
      "Expected annual return: 45.6%\n",
      "Annual volatility: 19.2%\n",
      "Sharpe Ratio: 2.27\n",
      "Weights: OrderedDict([('XLE:CEI', -0.61565), ('XLK:CEI', 1.0), ('XLP:CEI', 0.61565)])\n",
      "Expected annual return: 61.7%\n",
      "Annual volatility: 18.4%\n",
      "Sharpe Ratio: 3.24\n",
      "Weights: OrderedDict([('XLE:CEI', -0.56026), ('XLK:CEI', 0.97412), ('IYR:LAG', 0.58614)])\n",
      "Expected annual return: 61.2%\n",
      "Annual volatility: 17.8%\n",
      "Sharpe Ratio: 3.32\n",
      "Weights: OrderedDict([('XLE:CEI', -0.46642), ('XLK:CEI', 0.89843), ('XLU:CEI', 0.56799)])\n",
      "Expected annual return: 55.7%\n",
      "Annual volatility: 15.9%\n",
      "Sharpe Ratio: 3.38\n",
      "Weights: OrderedDict([('XLE:CEI', -0.49909), ('XLK:CEI', 1.0), ('XLV:LAG', 0.49909)])\n",
      "Expected annual return: 56.5%\n",
      "Annual volatility: 19.0%\n",
      "Sharpe Ratio: 2.87\n",
      "Weights: OrderedDict([('XLE:CEI', -0.61393), ('XLK:CEI', 1.0), ('XLY:CEI', 0.61393)])\n",
      "Expected annual return: 62.3%\n",
      "Annual volatility: 20.8%\n",
      "Sharpe Ratio: 2.89\n",
      "Weights: OrderedDict([('XLE:CEI', -0.55361), ('XLK:CEI', 1.0), ('VOX:CEI', 0.55361)])\n",
      "Expected annual return: 60.6%\n",
      "Annual volatility: 20.4%\n",
      "Sharpe Ratio: 2.87\n",
      "Weights: OrderedDict([('XLE:CEI', -0.13327), ('XLP:CEI', 0.59662), ('IYR:LAG', 0.53665)])\n",
      "Expected annual return: 29.0%\n",
      "Annual volatility: 10.8%\n",
      "Sharpe Ratio: 2.50\n",
      "Weights: OrderedDict([('XLE:CEI', -0.09545), ('XLP:CEI', 0.66273), ('XLU:CEI', 0.43273)])\n",
      "Expected annual return: 26.8%\n",
      "Annual volatility: 10.5%\n",
      "Sharpe Ratio: 2.35\n",
      "Weights: OrderedDict([('XLE:CEI', -0.2441), ('XLP:CEI', 0.94732), ('XLV:LAG', 0.29678)])\n",
      "Expected annual return: 28.7%\n",
      "Annual volatility: 11.9%\n",
      "Sharpe Ratio: 2.24\n",
      "Weights: OrderedDict([('XLE:CEI', -0.37671), ('XLP:CEI', 0.77606), ('XLY:CEI', 0.60065)])\n",
      "Expected annual return: 33.8%\n",
      "Annual volatility: 13.1%\n",
      "Sharpe Ratio: 2.44\n",
      "Weights: OrderedDict([('XLE:CEI', -0.33794), ('XLP:CEI', 0.8505), ('VOX:CEI', 0.48744)])\n",
      "Expected annual return: 32.6%\n",
      "Annual volatility: 12.7%\n",
      "Sharpe Ratio: 2.40\n",
      "Weights: OrderedDict([('XLE:CEI', -0.0338), ('IYR:LAG', 0.59251), ('XLU:CEI', 0.44129)])\n",
      "Expected annual return: 26.7%\n",
      "Annual volatility: 10.5%\n",
      "Sharpe Ratio: 2.36\n",
      "Weights: OrderedDict([('XLE:CEI', -0.16305), ('IYR:LAG', 0.84231), ('XLV:LAG', 0.32074)])\n",
      "Expected annual return: 28.7%\n",
      "Annual volatility: 11.9%\n",
      "Sharpe Ratio: 2.24\n",
      "Weights: OrderedDict([('XLE:CEI', -0.31203), ('IYR:LAG', 0.69231), ('XLY:CEI', 0.61972)])\n",
      "Expected annual return: 33.9%\n",
      "Annual volatility: 12.7%\n",
      "Sharpe Ratio: 2.52\n",
      "Weights: OrderedDict([('XLE:CEI', -0.26503), ('IYR:LAG', 0.76306), ('VOX:CEI', 0.50197)])\n",
      "Expected annual return: 32.6%\n",
      "Annual volatility: 12.6%\n",
      "Sharpe Ratio: 2.42\n",
      "Weights: OrderedDict([('XLE:CEI', -0.10644), ('XLU:CEI', 0.72582), ('XLV:LAG', 0.38063)])\n",
      "Expected annual return: 24.9%\n",
      "Annual volatility: 10.8%\n",
      "Sharpe Ratio: 2.11\n",
      "Weights: OrderedDict([('XLE:CEI', -0.26222), ('XLU:CEI', 0.61284), ('XLY:CEI', 0.64938)])\n",
      "Expected annual return: 31.0%\n",
      "Annual volatility: 11.3%\n",
      "Sharpe Ratio: 2.57\n",
      "Weights: OrderedDict([('XLE:CEI', -0.2158), ('XLU:CEI', 0.66731), ('VOX:CEI', 0.54849)])\n",
      "Expected annual return: 29.5%\n",
      "Annual volatility: 11.5%\n",
      "Sharpe Ratio: 2.40\n",
      "Weights: OrderedDict([('XLE:CEI', -0.55099), ('XLV:LAG', 0.55099), ('XLY:CEI', 1.0)])\n",
      "Expected annual return: 35.2%\n",
      "Annual volatility: 15.8%\n",
      "Sharpe Ratio: 2.10\n",
      "Weights: OrderedDict([('XLE:CEI', -0.59891), ('XLV:LAG', 0.59891), ('VOX:CEI', 1.0)])\n",
      "Expected annual return: 35.4%\n",
      "Annual volatility: 17.2%\n",
      "Sharpe Ratio: 1.94\n",
      "Weights: OrderedDict([('XLE:CEI', -0.67981), ('XLY:CEI', 1.0), ('VOX:CEI', 0.67981)])\n",
      "Expected annual return: 41.2%\n",
      "Annual volatility: 18.3%\n",
      "Sharpe Ratio: 2.14\n",
      "Weights: OrderedDict([('XLF:CEI', 0.30708), ('XLI:LEI', -0.30708), ('XLK:CEI', 1.0)])\n",
      "Expected annual return: 48.7%\n",
      "Annual volatility: 18.0%\n",
      "Sharpe Ratio: 2.60\n",
      "Weights: OrderedDict([('XLF:CEI', 0.28282), ('XLI:LEI', -0.00105), ('XLP:CEI', 0.71823)])\n",
      "Expected annual return: 25.8%\n",
      "Annual volatility: 10.6%\n",
      "Sharpe Ratio: 2.25\n",
      "Weights: OrderedDict([('XLF:CEI', 0.36169), ('XLI:LEI', -0.02786), ('IYR:LAG', 0.66617)])\n",
      "Expected annual return: 27.5%\n",
      "Annual volatility: 10.3%\n",
      "Sharpe Ratio: 2.47\n",
      "Weights: OrderedDict([('XLF:CEI', 0.30947), ('XLI:LEI', 0.08801), ('XLU:CEI', 0.60252)])\n",
      "Expected annual return: 25.7%\n",
      "Annual volatility: 9.4%\n",
      "Sharpe Ratio: 2.51\n",
      "Weights: OrderedDict([('XLF:CEI', 0.56651), ('XLI:LEI', 0.17694), ('XLV:LAG', 0.25656)])\n",
      "Expected annual return: 25.6%\n",
      "Annual volatility: 13.4%\n",
      "Sharpe Ratio: 1.76\n",
      "Weights: OrderedDict([('XLF:CEI', 0.47617), ('XLI:LEI', 0.01078), ('XLY:CEI', 0.51305)])\n",
      "Expected annual return: 27.0%\n",
      "Annual volatility: 13.8%\n",
      "Sharpe Ratio: 1.82\n",
      "Weights: OrderedDict([('XLF:CEI', 0.49772), ('XLI:LEI', 0.12341), ('VOX:CEI', 0.37888)])\n",
      "Expected annual return: 26.9%\n",
      "Annual volatility: 13.7%\n",
      "Sharpe Ratio: 1.81\n",
      "Weights: OrderedDict([('XLF:CEI', -0.13908), ('XLK:CEI', 0.63045), ('XLP:CEI', 0.50862)])\n",
      "Expected annual return: 39.0%\n",
      "Annual volatility: 13.4%\n",
      "Sharpe Ratio: 2.76\n",
      "Weights: OrderedDict([('XLF:CEI', -0.0479), ('XLK:CEI', 0.52787), ('IYR:LAG', 0.52003)])\n",
      "Expected annual return: 38.1%\n",
      "Annual volatility: 12.4%\n",
      "Sharpe Ratio: 2.91\n",
      "Weights: OrderedDict([('XLF:CEI', -0.01855), ('XLK:CEI', 0.49972), ('XLU:CEI', 0.51882)])\n",
      "Expected annual return: 36.1%\n",
      "Annual volatility: 11.3%\n",
      "Sharpe Ratio: 3.02\n",
      "Weights: OrderedDict([('XLF:CEI', 0.11976), ('XLK:CEI', 1.0), ('XLV:LAG', -0.11976)])\n",
      "Expected annual return: 49.1%\n",
      "Annual volatility: 18.3%\n",
      "Sharpe Ratio: 2.57\n",
      "Weights: OrderedDict([('XLF:CEI', 0.23944), ('XLK:CEI', 1.0), ('XLY:CEI', -0.23944)])\n",
      "Expected annual return: 48.6%\n",
      "Annual volatility: 18.0%\n",
      "Sharpe Ratio: 2.59\n",
      "Weights: OrderedDict([('XLF:CEI', 0.15801), ('XLK:CEI', 1.0), ('VOX:CEI', -0.15801)])\n",
      "Expected annual return: 48.5%\n",
      "Annual volatility: 18.1%\n",
      "Sharpe Ratio: 2.58\n",
      "Weights: OrderedDict([('XLF:CEI', 0.22596), ('XLP:CEI', 0.31265), ('IYR:LAG', 0.46139)])\n",
      "Expected annual return: 26.7%\n",
      "Annual volatility: 9.5%\n",
      "Sharpe Ratio: 2.59\n",
      "Weights: OrderedDict([('XLF:CEI', 0.29035), ('XLP:CEI', 0.24933), ('XLU:CEI', 0.46032)])\n",
      "Expected annual return: 25.6%\n",
      "Annual volatility: 9.1%\n",
      "Sharpe Ratio: 2.58\n",
      "Weights: OrderedDict([('XLF:CEI', 0.30237), ('XLP:CEI', 0.73151), ('XLV:LAG', -0.03388)])\n",
      "Expected annual return: 26.1%\n",
      "Annual volatility: 10.7%\n",
      "Sharpe Ratio: 2.26\n",
      "Weights: OrderedDict([('XLF:CEI', 0.24376), ('XLP:CEI', 0.68837), ('XLY:CEI', 0.06787)])\n",
      "Expected annual return: 25.8%\n",
      "Annual volatility: 10.5%\n",
      "Sharpe Ratio: 2.26\n",
      "Weights: OrderedDict([('XLF:CEI', 0.23473), ('XLP:CEI', 0.66506), ('VOX:CEI', 0.10021)])\n",
      "Expected annual return: 25.7%\n",
      "Annual volatility: 10.5%\n",
      "Sharpe Ratio: 2.26\n",
      "Weights: OrderedDict([('XLF:CEI', 0.29246), ('IYR:LAG', 0.34388), ('XLU:CEI', 0.36367)])\n",
      "Expected annual return: 26.4%\n",
      "Annual volatility: 9.0%\n",
      "Sharpe Ratio: 2.72\n",
      "Weights: OrderedDict([('XLF:CEI', 0.38946), ('IYR:LAG', 0.70101), ('XLV:LAG', -0.09047)])\n",
      "Expected annual return: 28.2%\n",
      "Annual volatility: 10.5%\n",
      "Sharpe Ratio: 2.49\n",
      "Weights: OrderedDict([('XLF:CEI', 0.31561), ('IYR:LAG', 0.64594), ('XLY:CEI', 0.03845)])\n",
      "Expected annual return: 27.4%\n",
      "Annual volatility: 10.3%\n",
      "Sharpe Ratio: 2.48\n",
      "Weights: OrderedDict([('XLF:CEI', 0.31546), ('IYR:LAG', 0.63675), ('VOX:CEI', 0.04779)])\n",
      "Expected annual return: 27.4%\n",
      "Annual volatility: 10.2%\n",
      "Sharpe Ratio: 2.48\n",
      "Weights: OrderedDict([('XLF:CEI', 0.42285), ('XLU:CEI', 0.63924), ('XLV:LAG', -0.06209)])\n",
      "Expected annual return: 26.3%\n",
      "Annual volatility: 9.7%\n",
      "Sharpe Ratio: 2.51\n",
      "Weights: OrderedDict([('XLF:CEI', 0.27131), ('XLU:CEI', 0.57356), ('XLY:CEI', 0.15513)])\n",
      "Expected annual return: 25.6%\n",
      "Annual volatility: 9.3%\n",
      "Sharpe Ratio: 2.54\n",
      "Weights: OrderedDict([('XLF:CEI', 0.31618), ('XLU:CEI', 0.57562), ('VOX:CEI', 0.1082)])\n",
      "Expected annual return: 25.7%\n",
      "Annual volatility: 9.4%\n",
      "Sharpe Ratio: 2.52\n",
      "Weights: OrderedDict([('XLF:CEI', 0.42472), ('XLV:LAG', 0.14265), ('XLY:CEI', 0.43263)])\n",
      "Expected annual return: 26.0%\n",
      "Annual volatility: 13.1%\n",
      "Sharpe Ratio: 1.83\n",
      "Weights: OrderedDict([('XLF:CEI', 0.52113), ('XLV:LAG', 0.13781), ('VOX:CEI', 0.34107)])\n",
      "Expected annual return: 26.1%\n",
      "Annual volatility: 13.2%\n",
      "Sharpe Ratio: 1.82\n",
      "Weights: OrderedDict([('XLF:CEI', 0.42954), ('XLY:CEI', 0.33954), ('VOX:CEI', 0.23092)])\n",
      "Expected annual return: 26.8%\n",
      "Annual volatility: 13.4%\n",
      "Sharpe Ratio: 1.84\n"
     ]
    },
    {
     "name": "stdout",
     "output_type": "stream",
     "text": [
      "Weights: OrderedDict([('XLI:LEI', -0.39842), ('XLK:CEI', 0.81611), ('XLP:CEI', 0.58231)])\n",
      "Expected annual return: 43.3%\n",
      "Annual volatility: 14.5%\n",
      "Sharpe Ratio: 2.85\n",
      "Weights: OrderedDict([('XLI:LEI', -0.31789), ('XLK:CEI', 0.7324), ('IYR:LAG', 0.58549)])\n",
      "Expected annual return: 42.8%\n",
      "Annual volatility: 13.6%\n",
      "Sharpe Ratio: 2.99\n",
      "Weights: OrderedDict([('XLI:LEI', -0.20474), ('XLK:CEI', 0.65305), ('XLU:CEI', 0.5517)])\n",
      "Expected annual return: 39.5%\n",
      "Annual volatility: 12.2%\n",
      "Sharpe Ratio: 3.07\n",
      "Weights: OrderedDict([('XLI:LEI', -0.06425), ('XLK:CEI', 1.0), ('XLV:LAG', 0.06425)])\n",
      "Expected annual return: 47.6%\n",
      "Annual volatility: 17.8%\n",
      "Sharpe Ratio: 2.56\n",
      "Weights: OrderedDict([('XLI:LEI', -0.02846), ('XLK:CEI', 1.0), ('XLY:CEI', 0.02846)])\n",
      "Expected annual return: 48.0%\n",
      "Annual volatility: 18.0%\n",
      "Sharpe Ratio: 2.56\n",
      "Weights: OrderedDict([('XLI:LEI', -0.02572), ('XLK:CEI', 1.0), ('VOX:CEI', 0.02572)])\n",
      "Expected annual return: 48.0%\n",
      "Annual volatility: 18.0%\n",
      "Sharpe Ratio: 2.56\n",
      "Weights: OrderedDict([('XLI:LEI', 0.14312), ('XLP:CEI', 0.38936), ('IYR:LAG', 0.46752)])\n",
      "Expected annual return: 26.1%\n",
      "Annual volatility: 9.6%\n",
      "Sharpe Ratio: 2.50\n",
      "Weights: OrderedDict([('XLI:LEI', 0.23818), ('XLP:CEI', 0.30176), ('XLU:CEI', 0.46006)])\n",
      "Expected annual return: 24.9%\n",
      "Annual volatility: 9.2%\n",
      "Sharpe Ratio: 2.49\n",
      "Weights: OrderedDict([('XLI:LEI', 0.21228), ('XLP:CEI', 0.77538), ('XLV:LAG', 0.01234)])\n",
      "Expected annual return: 25.0%\n",
      "Annual volatility: 10.5%\n",
      "Sharpe Ratio: 2.19\n",
      "Weights: OrderedDict([('XLI:LEI', 0.1123), ('XLP:CEI', 0.72351), ('XLY:CEI', 0.16419)])\n",
      "Expected annual return: 25.2%\n",
      "Annual volatility: 10.5%\n",
      "Sharpe Ratio: 2.20\n",
      "Weights: OrderedDict([('XLI:LEI', 0.13625), ('XLP:CEI', 0.70599), ('VOX:CEI', 0.15775)])\n",
      "Expected annual return: 25.1%\n",
      "Annual volatility: 10.4%\n",
      "Sharpe Ratio: 2.21\n",
      "Weights: OrderedDict([('XLI:LEI', 0.24749), ('IYR:LAG', 0.35806), ('XLU:CEI', 0.39445)])\n",
      "Expected annual return: 25.7%\n",
      "Annual volatility: 9.2%\n",
      "Sharpe Ratio: 2.58\n",
      "Weights: OrderedDict([('XLI:LEI', 0.28642), ('IYR:LAG', 0.72172), ('XLV:LAG', -0.00815)])\n",
      "Expected annual return: 26.8%\n",
      "Annual volatility: 10.6%\n",
      "Sharpe Ratio: 2.34\n",
      "Weights: OrderedDict([('XLI:LEI', 0.14787), ('IYR:LAG', 0.66219), ('XLY:CEI', 0.18994)])\n",
      "Expected annual return: 26.7%\n",
      "Annual volatility: 10.4%\n",
      "Sharpe Ratio: 2.37\n",
      "Weights: OrderedDict([('XLI:LEI', 0.19821), ('IYR:LAG', 0.65975), ('VOX:CEI', 0.14204)])\n",
      "Expected annual return: 26.6%\n",
      "Annual volatility: 10.4%\n",
      "Sharpe Ratio: 2.36\n",
      "Weights: OrderedDict([('XLI:LEI', 0.36712), ('XLU:CEI', 0.65267), ('XLV:LAG', -0.01979)])\n",
      "Expected annual return: 25.0%\n",
      "Annual volatility: 9.6%\n",
      "Sharpe Ratio: 2.39\n",
      "Weights: OrderedDict([('XLI:LEI', 0.1723), ('XLU:CEI', 0.58876), ('XLY:CEI', 0.23894)])\n",
      "Expected annual return: 25.0%\n",
      "Annual volatility: 9.4%\n",
      "Sharpe Ratio: 2.46\n",
      "Weights: OrderedDict([('XLI:LEI', 0.24895), ('XLU:CEI', 0.58934), ('VOX:CEI', 0.16172)])\n",
      "Expected annual return: 24.9%\n",
      "Annual volatility: 9.4%\n",
      "Sharpe Ratio: 2.43\n",
      "Weights: OrderedDict([('XLI:LEI', 0.22668), ('XLV:LAG', 0.20001), ('XLY:CEI', 0.5733)])\n",
      "Expected annual return: 24.6%\n",
      "Annual volatility: 12.9%\n",
      "Sharpe Ratio: 1.75\n",
      "Weights: OrderedDict([('XLI:LEI', 0.39302), ('XLV:LAG', 0.1859), ('VOX:CEI', 0.42108)])\n",
      "Expected annual return: 24.5%\n",
      "Annual volatility: 13.0%\n",
      "Sharpe Ratio: 1.73\n",
      "Weights: OrderedDict([('XLI:LEI', 0.24826), ('XLY:CEI', 0.46009), ('VOX:CEI', 0.29164)])\n",
      "Expected annual return: 25.7%\n",
      "Annual volatility: 13.4%\n",
      "Sharpe Ratio: 1.77\n",
      "Weights: OrderedDict([('XLK:CEI', 0.40793), ('XLP:CEI', 0.1885), ('IYR:LAG', 0.40357)])\n",
      "Expected annual return: 35.2%\n",
      "Annual volatility: 11.3%\n",
      "Sharpe Ratio: 2.95\n",
      "Weights: OrderedDict([('XLK:CEI', 0.45409), ('XLP:CEI', 0.07237), ('XLU:CEI', 0.47354)])\n",
      "Expected annual return: 35.1%\n",
      "Annual volatility: 10.9%\n",
      "Sharpe Ratio: 3.04\n",
      "Weights: OrderedDict([('XLK:CEI', 0.76271), ('XLP:CEI', 0.64653), ('XLV:LAG', -0.40925)])\n",
      "Expected annual return: 44.7%\n",
      "Annual volatility: 15.0%\n",
      "Sharpe Ratio: 2.84\n",
      "Weights: OrderedDict([('XLK:CEI', 1.0), ('XLP:CEI', 0.72025), ('XLY:CEI', -0.72025)])\n",
      "Expected annual return: 47.3%\n",
      "Annual volatility: 15.4%\n",
      "Sharpe Ratio: 2.94\n",
      "Weights: OrderedDict([('XLK:CEI', 0.8121), ('XLP:CEI', 0.58668), ('VOX:CEI', -0.39878)])\n",
      "Expected annual return: 43.5%\n",
      "Annual volatility: 14.6%\n",
      "Sharpe Ratio: 2.84\n",
      "Weights: OrderedDict([('XLK:CEI', 0.40617), ('IYR:LAG', 0.23279), ('XLU:CEI', 0.36104)])\n",
      "Expected annual return: 34.6%\n",
      "Annual volatility: 10.5%\n",
      "Sharpe Ratio: 3.11\n",
      "Weights: OrderedDict([('XLK:CEI', 0.7283), ('IYR:LAG', 0.68779), ('XLV:LAG', -0.41609)])\n",
      "Expected annual return: 45.4%\n",
      "Annual volatility: 14.3%\n",
      "Sharpe Ratio: 3.03\n",
      "Weights: OrderedDict([('XLK:CEI', 0.93589), ('IYR:LAG', 0.68513), ('XLY:CEI', -0.62102)])\n",
      "Expected annual return: 47.5%\n",
      "Annual volatility: 14.8%\n",
      "Sharpe Ratio: 3.08\n",
      "Weights: OrderedDict([('XLK:CEI', 0.75925), ('IYR:LAG', 0.62565), ('VOX:CEI', -0.3849)])\n",
      "Expected annual return: 43.7%\n",
      "Annual volatility: 13.8%\n",
      "Sharpe Ratio: 3.02\n",
      "Weights: OrderedDict([('XLK:CEI', 0.71396), ('XLU:CEI', 0.67582), ('XLV:LAG', -0.38978)])\n",
      "Expected annual return: 43.1%\n",
      "Annual volatility: 13.0%\n",
      "Sharpe Ratio: 3.17\n",
      "Weights: OrderedDict([('XLK:CEI', 0.8058), ('XLU:CEI', 0.60583), ('XLY:CEI', -0.41163)])\n",
      "Expected annual return: 42.8%\n",
      "Annual volatility: 13.0%\n",
      "Sharpe Ratio: 3.13\n",
      "Weights: OrderedDict([('XLK:CEI', 0.70247), ('XLU:CEI', 0.59057), ('VOX:CEI', -0.29305)])\n",
      "Expected annual return: 40.7%\n",
      "Annual volatility: 12.5%\n",
      "Sharpe Ratio: 3.11\n",
      "Weights: OrderedDict([('XLK:CEI', 1.0), ('XLV:LAG', 0.06098), ('XLY:CEI', -0.06098)])\n",
      "Expected annual return: 47.7%\n",
      "Annual volatility: 17.8%\n",
      "Sharpe Ratio: 2.56\n",
      "Weights: OrderedDict([('XLK:CEI', 1.0), ('XLV:LAG', 0.04503), ('VOX:CEI', -0.04503)])\n",
      "Expected annual return: 47.8%\n",
      "Annual volatility: 17.9%\n",
      "Sharpe Ratio: 2.56\n",
      "Weights: OrderedDict([('XLK:CEI', 1.0), ('XLY:CEI', -0.01517), ('VOX:CEI', 0.01517)])\n",
      "Expected annual return: 48.0%\n",
      "Annual volatility: 18.0%\n",
      "Sharpe Ratio: 2.56\n",
      "Weights: OrderedDict([('XLP:CEI', 0.37095), ('IYR:LAG', 0.38338), ('XLU:CEI', 0.24567)])\n",
      "Expected annual return: 25.6%\n",
      "Annual volatility: 9.3%\n",
      "Sharpe Ratio: 2.53\n",
      "Weights: OrderedDict([('XLP:CEI', 0.49515), ('IYR:LAG', 0.50317), ('XLV:LAG', 0.00168)])\n",
      "Expected annual return: 26.0%\n",
      "Annual volatility: 9.8%\n",
      "Sharpe Ratio: 2.46\n",
      "Weights: OrderedDict([('XLP:CEI', 0.38576), ('IYR:LAG', 0.46262), ('XLY:CEI', 0.15162)])\n",
      "Expected annual return: 26.0%\n",
      "Annual volatility: 9.6%\n",
      "Sharpe Ratio: 2.50\n",
      "Weights: OrderedDict([('XLP:CEI', 0.40942), ('IYR:LAG', 0.45898), ('VOX:CEI', 0.1316)])\n",
      "Expected annual return: 25.9%\n",
      "Annual volatility: 9.6%\n",
      "Sharpe Ratio: 2.49\n",
      "Weights: OrderedDict([('XLP:CEI', 0.50146), ('XLU:CEI', 0.41894), ('XLV:LAG', 0.0796)])\n",
      "Expected annual return: 24.2%\n",
      "Annual volatility: 9.4%\n",
      "Sharpe Ratio: 2.35\n",
      "Weights: OrderedDict([('XLP:CEI', 0.26847), ('XLU:CEI', 0.45471), ('XLY:CEI', 0.27682)])\n",
      "Expected annual return: 24.9%\n",
      "Annual volatility: 9.2%\n",
      "Sharpe Ratio: 2.49\n",
      "Weights: OrderedDict([('XLP:CEI', 0.36066), ('XLU:CEI', 0.42331), ('VOX:CEI', 0.21603)])\n",
      "Expected annual return: 24.7%\n",
      "Annual volatility: 9.3%\n",
      "Sharpe Ratio: 2.46\n",
      "Weights: OrderedDict([('XLP:CEI', 0.74279), ('XLV:LAG', -0.00471), ('XLY:CEI', 0.26192)])\n",
      "Expected annual return: 25.1%\n",
      "Annual volatility: 10.5%\n",
      "Sharpe Ratio: 2.20\n",
      "Weights: OrderedDict([('XLP:CEI', 0.77178), ('XLV:LAG', -0.00978), ('VOX:CEI', 0.238)])\n",
      "Expected annual return: 25.0%\n",
      "Annual volatility: 10.5%\n",
      "Sharpe Ratio: 2.19\n",
      "Weights: OrderedDict([('XLP:CEI', 0.71403), ('XLY:CEI', 0.15371), ('VOX:CEI', 0.13225)])\n",
      "Expected annual return: 25.1%\n",
      "Annual volatility: 10.4%\n",
      "Sharpe Ratio: 2.21\n",
      "Weights: OrderedDict([('IYR:LAG', 0.49329), ('XLU:CEI', 0.39344), ('XLV:LAG', 0.11327)])\n",
      "Expected annual return: 25.2%\n",
      "Annual volatility: 9.6%\n",
      "Sharpe Ratio: 2.40\n",
      "Weights: OrderedDict([('IYR:LAG', 0.3365), ('XLU:CEI', 0.38585), ('XLY:CEI', 0.27766)])\n",
      "Expected annual return: 25.7%\n",
      "Annual volatility: 9.2%\n",
      "Sharpe Ratio: 2.58\n",
      "Weights: OrderedDict([('IYR:LAG', 0.38934), ('XLU:CEI', 0.38202), ('VOX:CEI', 0.22864)])\n",
      "Expected annual return: 25.6%\n",
      "Annual volatility: 9.4%\n",
      "Sharpe Ratio: 2.53\n",
      "Weights: OrderedDict([('IYR:LAG', 0.68903), ('XLV:LAG', -0.02768), ('XLY:CEI', 0.33865)])\n",
      "Expected annual return: 26.9%\n",
      "Annual volatility: 10.6%\n",
      "Sharpe Ratio: 2.35\n",
      "Weights: OrderedDict([('IYR:LAG', 0.72259), ('XLV:LAG', 0.00267), ('VOX:CEI', 0.27473)])\n",
      "Expected annual return: 26.6%\n",
      "Annual volatility: 10.7%\n",
      "Sharpe Ratio: 2.30\n",
      "Weights: OrderedDict([('IYR:LAG', 0.66024), ('XLY:CEI', 0.24241), ('VOX:CEI', 0.09736)])\n",
      "Expected annual return: 26.6%\n",
      "Annual volatility: 10.5%\n",
      "Sharpe Ratio: 2.35\n",
      "Weights: OrderedDict([('XLU:CEI', 0.61903), ('XLV:LAG', -0.04993), ('XLY:CEI', 0.43089)])\n",
      "Expected annual return: 25.2%\n",
      "Annual volatility: 9.6%\n",
      "Sharpe Ratio: 2.43\n"
     ]
    },
    {
     "name": "stdout",
     "output_type": "stream",
     "text": [
      "Weights: OrderedDict([('XLU:CEI', 0.63953), ('XLV:LAG', 0.01127), ('VOX:CEI', 0.3492)])\n",
      "Expected annual return: 24.6%\n",
      "Annual volatility: 9.8%\n",
      "Sharpe Ratio: 2.31\n",
      "Weights: OrderedDict([('XLU:CEI', 0.5856), ('XLY:CEI', 0.31846), ('VOX:CEI', 0.09594)])\n",
      "Expected annual return: 24.9%\n",
      "Annual volatility: 9.4%\n",
      "Sharpe Ratio: 2.43\n",
      "Weights: OrderedDict([('XLV:LAG', 0.17629), ('XLY:CEI', 0.57072), ('VOX:CEI', 0.25299)])\n",
      "Expected annual return: 24.6%\n",
      "Annual volatility: 12.9%\n",
      "Sharpe Ratio: 1.76\n"
     ]
    }
   ],
   "source": [
    "EF_table = []\n",
    "\n",
    "for j in (range(165)):\n",
    "    mu_table = mean_historical_return(combinations_of_portfolios[j])\n",
    "    S_table = CovarianceShrinkage(combinations_of_portfolios[j]).ledoit_wolf()\n",
    "    ef_table = EfficientFrontier(mu_table, S_table, weight_bounds=(-1,1))\n",
    "    raw_weights = ef_table.max_sharpe()\n",
    "    print(\"Weights:\", ef_table.clean_weights())\n",
    "    EF_table.append(ef_table.portfolio_performance(verbose=True))"
   ]
  },
  {
   "cell_type": "markdown",
   "id": "720dd932",
   "metadata": {
    "id": "5fed29b8"
   },
   "source": [
    "5.2\tAssume a fixed amount of risk.  Use each portfolio's EF to determine the weights of each of the 3 securities."
   ]
  },
  {
   "cell_type": "markdown",
   "id": "d94392af",
   "metadata": {
    "id": "7dbb893c"
   },
   "source": [
    "* Here we will use 20% as target risk and use efficient_risk module to determine the weights:"
   ]
  },
  {
   "cell_type": "code",
   "execution_count": 28,
   "id": "d5b40f8f",
   "metadata": {
    "id": "f6d3bb35"
   },
   "outputs": [],
   "source": [
    "fixed_riks_weights = []\n",
    "\n",
    "for i in (range(165)):\n",
    "    mu_fix = mean_historical_return(combinations_of_portfolios[i])\n",
    "    S_fix = CovarianceShrinkage(combinations_of_portfolios[i]).ledoit_wolf()\n",
    "    target_risk = 0.20\n",
    "    ef_fix = EfficientFrontier(mu_fix, S_fix, weight_bounds=(None, None))\n",
    "    raw_weights_fixed = ef_fix.efficient_risk(target_risk)\n",
    "    clean_weights_fixed = ef_fix.clean_weights()\n",
    "    fixed_riks_weights.append(clean_weights_fixed)"
   ]
  },
  {
   "cell_type": "code",
   "execution_count": 29,
   "id": "b01c025c",
   "metadata": {
    "id": "ea58609a",
    "outputId": "4c0a0a59-21e5-414a-bfd7-fe718125c37b"
   },
   "outputs": [
    {
     "data": {
      "text/plain": [
       "[OrderedDict([('XLB:CEI', 0.82617), ('XLE:CEI', -0.82617), ('XLF:CEI', 1.0)]),\n",
       " OrderedDict([('XLB:CEI', 0.7686), ('XLE:CEI', -0.7686), ('XLI:LEI', 1.0)]),\n",
       " OrderedDict([('XLB:CEI', 0.54057), ('XLE:CEI', -0.54057), ('XLK:CEI', 1.0)]),\n",
       " OrderedDict([('XLB:CEI', 0.93124), ('XLE:CEI', -0.93124), ('XLP:CEI', 1.0)]),\n",
       " OrderedDict([('XLB:CEI', 0.89687), ('XLE:CEI', -0.89687), ('IYR:LAG', 1.0)]),\n",
       " OrderedDict([('XLB:CEI', 0.95977),\n",
       "              ('XLE:CEI', -0.91763),\n",
       "              ('XLU:CEI', 0.95786)]),\n",
       " OrderedDict([('XLB:CEI', 0.9591),\n",
       "              ('XLE:CEI', -0.91155),\n",
       "              ('XLV:LAG', 0.95245)]),\n",
       " OrderedDict([('XLB:CEI', 0.87171), ('XLE:CEI', -0.87171), ('XLY:CEI', 1.0)]),\n",
       " OrderedDict([('XLB:CEI', 0.91279), ('XLE:CEI', -0.91279), ('VOX:CEI', 1.0)]),\n",
       " OrderedDict([('XLB:CEI', -1.0), ('XLF:CEI', 1.0), ('XLI:LEI', 1.0)]),\n",
       " OrderedDict([('XLB:CEI', -0.70442), ('XLF:CEI', 0.70442), ('XLK:CEI', 1.0)]),\n",
       " OrderedDict([('XLB:CEI', -1.0), ('XLF:CEI', 1.0), ('XLP:CEI', 1.0)]),\n",
       " OrderedDict([('XLB:CEI', -1.0), ('XLF:CEI', 1.0), ('IYR:LAG', 1.0)]),\n",
       " OrderedDict([('XLB:CEI', -1.0), ('XLF:CEI', 1.0), ('XLU:CEI', 1.0)]),\n",
       " OrderedDict([('XLB:CEI', 0.67249), ('XLF:CEI', 1.0), ('XLV:LAG', -0.67249)]),\n",
       " OrderedDict([('XLB:CEI', -1.0), ('XLF:CEI', 1.0), ('XLY:CEI', 1.0)]),\n",
       " OrderedDict([('XLB:CEI', -0.98253), ('XLF:CEI', 1.0), ('VOX:CEI', 0.98253)]),\n",
       " OrderedDict([('XLB:CEI', -0.69166), ('XLI:LEI', 0.69166), ('XLK:CEI', 1.0)]),\n",
       " OrderedDict([('XLB:CEI', -1.0), ('XLI:LEI', 1.0), ('XLP:CEI', 1.0)]),\n",
       " OrderedDict([('XLB:CEI', -1.0), ('XLI:LEI', 1.0), ('IYR:LAG', 1.0)]),\n",
       " OrderedDict([('XLB:CEI', -1.0), ('XLI:LEI', 1.0), ('XLU:CEI', 1.0)]),\n",
       " OrderedDict([('XLB:CEI', 0.596), ('XLI:LEI', 1.0), ('XLV:LAG', -0.596)]),\n",
       " OrderedDict([('XLB:CEI', -1.0), ('XLI:LEI', 1.0), ('XLY:CEI', 1.0)]),\n",
       " OrderedDict([('XLB:CEI', -1.0), ('XLI:LEI', 1.0), ('VOX:CEI', 1.0)]),\n",
       " OrderedDict([('XLB:CEI', -1.0), ('XLK:CEI', 1.0), ('XLP:CEI', 1.0)]),\n",
       " OrderedDict([('XLB:CEI', -1.0), ('XLK:CEI', 1.0), ('IYR:LAG', 1.0)]),\n",
       " OrderedDict([('XLB:CEI', -1.0), ('XLK:CEI', 1.0), ('XLU:CEI', 1.0)]),\n",
       " OrderedDict([('XLB:CEI', 0.47376), ('XLK:CEI', 1.0), ('XLV:LAG', -0.47376)]),\n",
       " OrderedDict([('XLB:CEI', -0.63009), ('XLK:CEI', 1.0), ('XLY:CEI', 0.63009)]),\n",
       " OrderedDict([('XLB:CEI', -0.54032), ('XLK:CEI', 1.0), ('VOX:CEI', 0.54032)]),\n",
       " OrderedDict([('XLB:CEI', -1.0), ('XLP:CEI', 1.0), ('IYR:LAG', 1.0)]),\n",
       " OrderedDict([('XLB:CEI', -0.97975), ('XLP:CEI', 1.0), ('XLU:CEI', 0.97975)]),\n",
       " OrderedDict([('XLB:CEI', 1.0), ('XLP:CEI', 1.0), ('XLV:LAG', -1.0)]),\n",
       " OrderedDict([('XLB:CEI', -1.0), ('XLP:CEI', 1.0), ('XLY:CEI', 1.0)]),\n",
       " OrderedDict([('XLB:CEI', -1.0), ('XLP:CEI', 1.0), ('VOX:CEI', 1.0)]),\n",
       " OrderedDict([('XLB:CEI', -0.84656), ('IYR:LAG', 1.0), ('XLU:CEI', 0.84656)]),\n",
       " OrderedDict([('XLB:CEI', 1.0), ('IYR:LAG', 1.0), ('XLV:LAG', -1.0)]),\n",
       " OrderedDict([('XLB:CEI', -1.0), ('IYR:LAG', 1.0), ('XLY:CEI', 1.0)]),\n",
       " OrderedDict([('XLB:CEI', -1.0), ('IYR:LAG', 1.0), ('VOX:CEI', 1.0)]),\n",
       " OrderedDict([('XLB:CEI', 1.0), ('XLU:CEI', 1.0), ('XLV:LAG', -1.0)]),\n",
       " OrderedDict([('XLB:CEI', -1.0), ('XLU:CEI', 1.0), ('XLY:CEI', 1.0)]),\n",
       " OrderedDict([('XLB:CEI', -1.0), ('XLU:CEI', 1.0), ('VOX:CEI', 1.0)]),\n",
       " OrderedDict([('XLB:CEI', 0.85787), ('XLV:LAG', -0.85787), ('XLY:CEI', 1.0)]),\n",
       " OrderedDict([('XLB:CEI', 0.94836), ('XLV:LAG', -0.94836), ('VOX:CEI', 1.0)]),\n",
       " OrderedDict([('XLB:CEI', -0.92107), ('XLY:CEI', 1.0), ('VOX:CEI', 0.92107)]),\n",
       " OrderedDict([('XLE:CEI', -0.86067), ('XLF:CEI', 1.0), ('XLI:LEI', 0.86067)]),\n",
       " OrderedDict([('XLE:CEI', -0.57603), ('XLF:CEI', 0.57603), ('XLK:CEI', 1.0)]),\n",
       " OrderedDict([('XLE:CEI', -1.0), ('XLF:CEI', 1.0), ('XLP:CEI', 1.0)]),\n",
       " OrderedDict([('XLE:CEI', -1.0), ('XLF:CEI', 1.0), ('IYR:LAG', 1.0)]),\n",
       " OrderedDict([('XLE:CEI', -1.0), ('XLF:CEI', 1.0), ('XLU:CEI', 1.0)]),\n",
       " OrderedDict([('XLE:CEI', -0.99334), ('XLF:CEI', 1.0), ('XLV:LAG', 0.99334)]),\n",
       " OrderedDict([('XLE:CEI', -0.92217), ('XLF:CEI', 1.0), ('XLY:CEI', 0.92217)]),\n",
       " OrderedDict([('XLE:CEI', -0.92227), ('XLF:CEI', 1.0), ('VOX:CEI', 0.92227)]),\n",
       " OrderedDict([('XLE:CEI', -0.52458), ('XLI:LEI', 0.52458), ('XLK:CEI', 1.0)]),\n",
       " OrderedDict([('XLE:CEI', -1.0), ('XLI:LEI', 1.0), ('XLP:CEI', 1.0)]),\n",
       " OrderedDict([('XLE:CEI', -0.99415), ('XLI:LEI', 1.0), ('IYR:LAG', 0.99415)]),\n",
       " OrderedDict([('XLE:CEI', -1.0), ('XLI:LEI', 1.0), ('XLU:CEI', 1.0)]),\n",
       " OrderedDict([('XLE:CEI', -1.0), ('XLI:LEI', 1.0), ('XLV:LAG', 1.0)]),\n",
       " OrderedDict([('XLE:CEI', -0.91595),\n",
       "              ('XLI:LEI', 0.93361),\n",
       "              ('XLY:CEI', 0.98234)]),\n",
       " OrderedDict([('XLE:CEI', -0.94827), ('XLI:LEI', 1.0), ('VOX:CEI', 0.94827)]),\n",
       " OrderedDict([('XLE:CEI', -0.80228), ('XLK:CEI', 1.0), ('XLP:CEI', 0.80228)]),\n",
       " OrderedDict([('XLE:CEI', -0.77985), ('XLK:CEI', 1.0), ('IYR:LAG', 0.77985)]),\n",
       " OrderedDict([('XLE:CEI', -0.83307), ('XLK:CEI', 1.0), ('XLU:CEI', 0.83307)]),\n",
       " OrderedDict([('XLE:CEI', -0.64691), ('XLK:CEI', 1.0), ('XLV:LAG', 0.64691)]),\n",
       " OrderedDict([('XLE:CEI', -0.50204), ('XLK:CEI', 1.0), ('XLY:CEI', 0.50204)]),\n",
       " OrderedDict([('XLE:CEI', -0.49611), ('XLK:CEI', 1.0), ('VOX:CEI', 0.49611)]),\n",
       " OrderedDict([('XLE:CEI', -0.78108),\n",
       "              ('XLP:CEI', 0.93995),\n",
       "              ('IYR:LAG', 0.84114)]),\n",
       " OrderedDict([('XLE:CEI', -0.73732), ('XLP:CEI', 1.0), ('XLU:CEI', 0.73732)]),\n",
       " OrderedDict([('XLE:CEI', -0.91607), ('XLP:CEI', 1.0), ('XLV:LAG', 0.91607)]),\n",
       " OrderedDict([('XLE:CEI', -0.96098), ('XLP:CEI', 0.96098), ('XLY:CEI', 1.0)]),\n",
       " OrderedDict([('XLE:CEI', -0.93652),\n",
       "              ('XLP:CEI', 0.99897),\n",
       "              ('VOX:CEI', 0.93754)]),\n",
       " OrderedDict([('XLE:CEI', -0.64934), ('IYR:LAG', 1.0), ('XLU:CEI', 0.64934)]),\n",
       " OrderedDict([('XLE:CEI', -0.81738), ('IYR:LAG', 1.0), ('XLV:LAG', 0.81738)]),\n",
       " OrderedDict([('XLE:CEI', -0.91052), ('IYR:LAG', 0.91052), ('XLY:CEI', 1.0)]),\n",
       " OrderedDict([('XLE:CEI', -0.85989),\n",
       "              ('IYR:LAG', 0.9082),\n",
       "              ('VOX:CEI', 0.95168)]),\n",
       " OrderedDict([('XLE:CEI', -0.78419), ('XLU:CEI', 1.0), ('XLV:LAG', 0.78419)]),\n",
       " OrderedDict([('XLE:CEI', -0.94082), ('XLU:CEI', 0.94082), ('XLY:CEI', 1.0)]),\n",
       " OrderedDict([('XLE:CEI', -0.87963), ('XLU:CEI', 0.87963), ('VOX:CEI', 1.0)]),\n",
       " OrderedDict([('XLE:CEI', -0.95367), ('XLV:LAG', 0.95367), ('XLY:CEI', 1.0)]),\n",
       " OrderedDict([('XLE:CEI', -0.86712), ('XLV:LAG', 0.86712), ('VOX:CEI', 1.0)]),\n",
       " OrderedDict([('XLE:CEI', -0.8281), ('XLY:CEI', 1.0), ('VOX:CEI', 0.8281)]),\n",
       " OrderedDict([('XLF:CEI', 1.0), ('XLI:LEI', -1.0), ('XLK:CEI', 1.0)]),\n",
       " OrderedDict([('XLF:CEI', 1.0), ('XLI:LEI', 0.49462), ('XLP:CEI', -0.49462)]),\n",
       " OrderedDict([('XLF:CEI', 1.0), ('XLI:LEI', -1.0), ('IYR:LAG', 1.0)]),\n",
       " OrderedDict([('XLF:CEI', 1.0), ('XLI:LEI', 0.34213), ('XLU:CEI', -0.34213)]),\n",
       " OrderedDict([('XLF:CEI', 1.0), ('XLI:LEI', 0.6248), ('XLV:LAG', -0.6248)]),\n",
       " OrderedDict([('XLF:CEI', 1.0), ('XLI:LEI', 0.97287), ('XLY:CEI', -0.97287)]),\n",
       " OrderedDict([('XLF:CEI', 1.0), ('XLI:LEI', 0.73576), ('VOX:CEI', -0.73576)]),\n",
       " OrderedDict([('XLF:CEI', 0.30376), ('XLK:CEI', 1.0), ('XLP:CEI', -0.30376)]),\n",
       " OrderedDict([('XLF:CEI', 0.24753), ('XLK:CEI', 1.0), ('IYR:LAG', -0.24753)]),\n",
       " OrderedDict([('XLF:CEI', 0.2014), ('XLK:CEI', 1.0), ('XLU:CEI', -0.2014)]),\n",
       " OrderedDict([('XLF:CEI', 0.46892), ('XLK:CEI', 1.0), ('XLV:LAG', -0.46892)]),\n",
       " OrderedDict([('XLF:CEI', 0.89883), ('XLK:CEI', 1.0), ('XLY:CEI', -0.89883)]),\n",
       " OrderedDict([('XLF:CEI', 0.7), ('XLK:CEI', 1.0), ('VOX:CEI', -0.7)]),\n",
       " OrderedDict([('XLF:CEI', 1.0), ('XLP:CEI', -1.0), ('IYR:LAG', 1.0)]),\n",
       " OrderedDict([('XLF:CEI', 1.0), ('XLP:CEI', 0.76046), ('XLU:CEI', -0.76046)]),\n",
       " OrderedDict([('XLF:CEI', 1.0), ('XLP:CEI', 1.0), ('XLV:LAG', -1.0)]),\n",
       " OrderedDict([('XLF:CEI', 1.0), ('XLP:CEI', -0.63343), ('XLY:CEI', 0.63343)]),\n",
       " OrderedDict([('XLF:CEI', 1.0), ('XLP:CEI', -0.63587), ('VOX:CEI', 0.63587)]),\n",
       " OrderedDict([('XLF:CEI', 0.96069), ('IYR:LAG', 1.0), ('XLU:CEI', -0.96069)]),\n",
       " OrderedDict([('XLF:CEI', 1.0), ('IYR:LAG', 1.0), ('XLV:LAG', -1.0)]),\n",
       " OrderedDict([('XLF:CEI', 1.0), ('IYR:LAG', 1.0), ('XLY:CEI', -1.0)]),\n",
       " OrderedDict([('XLF:CEI', 1.0), ('IYR:LAG', 1.0), ('VOX:CEI', -1.0)]),\n",
       " OrderedDict([('XLF:CEI', 1.0), ('XLU:CEI', 1.0), ('XLV:LAG', -1.0)]),\n",
       " OrderedDict([('XLF:CEI', 1.0), ('XLU:CEI', -0.40468), ('XLY:CEI', 0.40468)]),\n",
       " OrderedDict([('XLF:CEI', 1.0), ('XLU:CEI', -0.4253), ('VOX:CEI', 0.4253)]),\n",
       " OrderedDict([('XLF:CEI', 1.0), ('XLV:LAG', -0.81217), ('XLY:CEI', 0.81217)]),\n",
       " OrderedDict([('XLF:CEI', 1.0), ('XLV:LAG', -0.85669), ('VOX:CEI', 0.85669)]),\n",
       " OrderedDict([('XLF:CEI', 1.0), ('XLY:CEI', 1.0), ('VOX:CEI', -1.0)]),\n",
       " OrderedDict([('XLI:LEI', 0.27438), ('XLK:CEI', 1.0), ('XLP:CEI', -0.27438)]),\n",
       " OrderedDict([('XLI:LEI', -1.0), ('XLK:CEI', 1.0), ('IYR:LAG', 1.0)]),\n",
       " OrderedDict([('XLI:LEI', 0.18611), ('XLK:CEI', 1.0), ('XLU:CEI', -0.18611)]),\n",
       " OrderedDict([('XLI:LEI', 0.41354), ('XLK:CEI', 1.0), ('XLV:LAG', -0.41354)]),\n",
       " OrderedDict([('XLI:LEI', 0.81038), ('XLK:CEI', 1.0), ('XLY:CEI', -0.81038)]),\n",
       " OrderedDict([('XLI:LEI', 0.60825), ('XLK:CEI', 1.0), ('VOX:CEI', -0.60825)]),\n",
       " OrderedDict([('XLI:LEI', 1.0), ('XLP:CEI', -1.0), ('IYR:LAG', 1.0)]),\n",
       " OrderedDict([('XLI:LEI', 1.0), ('XLP:CEI', 0.7431), ('XLU:CEI', -0.7431)]),\n",
       " OrderedDict([('XLI:LEI', 1.0), ('XLP:CEI', 1.0), ('XLV:LAG', -1.0)]),\n",
       " OrderedDict([('XLI:LEI', 0.67937),\n",
       "              ('XLP:CEI', -0.67496),\n",
       "              ('XLY:CEI', 0.99558)]),\n",
       " OrderedDict([('XLI:LEI', 1.0), ('XLP:CEI', -0.63311), ('VOX:CEI', 0.63311)]),\n",
       " OrderedDict([('XLI:LEI', 0.92347), ('IYR:LAG', 1.0), ('XLU:CEI', -0.92347)]),\n",
       " OrderedDict([('XLI:LEI', 1.0), ('IYR:LAG', 1.0), ('XLV:LAG', -1.0)]),\n",
       " OrderedDict([('XLI:LEI', 1.0), ('IYR:LAG', 1.0), ('XLY:CEI', -1.0)]),\n",
       " OrderedDict([('XLI:LEI', 1.0), ('IYR:LAG', 1.0), ('VOX:CEI', -1.0)]),\n",
       " OrderedDict([('XLI:LEI', 1.0), ('XLU:CEI', 1.0), ('XLV:LAG', -1.0)]),\n",
       " OrderedDict([('XLI:LEI', 0.60376),\n",
       "              ('XLU:CEI', -0.45132),\n",
       "              ('XLY:CEI', 0.84756)]),\n",
       " OrderedDict([('XLI:LEI', 1.0), ('XLU:CEI', -0.41946), ('VOX:CEI', 0.41946)]),\n",
       " OrderedDict([('XLI:LEI', 0.81113), ('XLV:LAG', -0.81113), ('XLY:CEI', 1.0)]),\n",
       " OrderedDict([('XLI:LEI', 0.9246), ('XLV:LAG', -0.8641), ('VOX:CEI', 0.9395)]),\n",
       " OrderedDict([('XLI:LEI', 1.0), ('XLY:CEI', 1.0), ('VOX:CEI', -1.0)]),\n",
       " OrderedDict([('XLK:CEI', 1.0), ('XLP:CEI', -1.0), ('IYR:LAG', 1.0)]),\n",
       " OrderedDict([('XLK:CEI', 1.0), ('XLP:CEI', 0.44845), ('XLU:CEI', -0.44845)]),\n",
       " OrderedDict([('XLK:CEI', 1.0), ('XLP:CEI', 1.0), ('XLV:LAG', -1.0)]),\n",
       " OrderedDict([('XLK:CEI', 1.0), ('XLP:CEI', -0.29478), ('XLY:CEI', 0.29478)]),\n",
       " OrderedDict([('XLK:CEI', 1.0), ('XLP:CEI', -0.2954), ('VOX:CEI', 0.2954)]),\n",
       " OrderedDict([('XLK:CEI', 1.0), ('IYR:LAG', 0.54916), ('XLU:CEI', -0.54916)]),\n",
       " OrderedDict([('XLK:CEI', 1.0), ('IYR:LAG', 1.0), ('XLV:LAG', -1.0)]),\n",
       " OrderedDict([('XLK:CEI', 1.0), ('IYR:LAG', 1.0), ('XLY:CEI', -1.0)]),\n",
       " OrderedDict([('XLK:CEI', 1.0), ('IYR:LAG', 1.0), ('VOX:CEI', -1.0)]),\n",
       " OrderedDict([('XLK:CEI', 1.0), ('XLU:CEI', 1.0), ('XLV:LAG', -1.0)]),\n",
       " OrderedDict([('XLK:CEI', 1.0), ('XLU:CEI', -0.19396), ('XLY:CEI', 0.19396)]),\n",
       " OrderedDict([('XLK:CEI', 1.0), ('XLU:CEI', -0.19891), ('VOX:CEI', 0.19891)]),\n",
       " OrderedDict([('XLK:CEI', 1.0), ('XLV:LAG', -0.45583), ('XLY:CEI', 0.45583)]),\n",
       " OrderedDict([('XLK:CEI', 1.0), ('XLV:LAG', -0.46748), ('VOX:CEI', 0.46748)]),\n",
       " OrderedDict([('XLK:CEI', 1.0), ('XLY:CEI', 0.81794), ('VOX:CEI', -0.81794)]),\n",
       " OrderedDict([('XLP:CEI', 1.0), ('IYR:LAG', 1.0), ('XLU:CEI', -1.0)]),\n",
       " OrderedDict([('XLP:CEI', 1.0), ('IYR:LAG', 1.0), ('XLV:LAG', -1.0)]),\n",
       " OrderedDict([('XLP:CEI', -1.0), ('IYR:LAG', 1.0), ('XLY:CEI', 1.0)]),\n",
       " OrderedDict([('XLP:CEI', -1.0), ('IYR:LAG', 1.0), ('VOX:CEI', 1.0)]),\n",
       " OrderedDict([('XLP:CEI', 1.0), ('XLU:CEI', 1.0), ('XLV:LAG', -1.0)]),\n",
       " OrderedDict([('XLP:CEI', 0.91102), ('XLU:CEI', -0.91102), ('XLY:CEI', 1.0)]),\n",
       " OrderedDict([('XLP:CEI', 0.97439),\n",
       "              ('XLU:CEI', -0.93867),\n",
       "              ('VOX:CEI', 0.96428)]),\n",
       " OrderedDict([('XLP:CEI', 1.0), ('XLV:LAG', -1.0), ('XLY:CEI', 1.0)]),\n",
       " OrderedDict([('XLP:CEI', 1.0), ('XLV:LAG', -1.0), ('VOX:CEI', 1.0)]),\n",
       " OrderedDict([('XLP:CEI', -0.71726), ('XLY:CEI', 1.0), ('VOX:CEI', 0.71726)]),\n",
       " OrderedDict([('IYR:LAG', 1.0), ('XLU:CEI', 1.0), ('XLV:LAG', -1.0)]),\n",
       " OrderedDict([('IYR:LAG', 1.0), ('XLU:CEI', -1.0), ('XLY:CEI', 1.0)]),\n",
       " OrderedDict([('IYR:LAG', 1.0), ('XLU:CEI', -0.97767), ('VOX:CEI', 0.97767)]),\n",
       " OrderedDict([('IYR:LAG', 1.0), ('XLV:LAG', -1.0), ('XLY:CEI', 1.0)]),\n",
       " OrderedDict([('IYR:LAG', 1.0), ('XLV:LAG', -1.0), ('VOX:CEI', 1.0)]),\n",
       " OrderedDict([('IYR:LAG', 1.0), ('XLY:CEI', 1.0), ('VOX:CEI', -1.0)]),\n",
       " OrderedDict([('XLU:CEI', 1.0), ('XLV:LAG', -1.0), ('XLY:CEI', 1.0)]),\n",
       " OrderedDict([('XLU:CEI', 1.0), ('XLV:LAG', -1.0), ('VOX:CEI', 1.0)]),\n",
       " OrderedDict([('XLU:CEI', -0.49353), ('XLY:CEI', 1.0), ('VOX:CEI', 0.49353)]),\n",
       " OrderedDict([('XLV:LAG', -0.89623), ('XLY:CEI', 1.0), ('VOX:CEI', 0.89623)])]"
      ]
     },
     "execution_count": 29,
     "metadata": {},
     "output_type": "execute_result"
    }
   ],
   "source": [
    "fixed_riks_weights"
   ]
  },
  {
   "cell_type": "markdown",
   "id": "74838d47",
   "metadata": {
    "id": "22a55ad2"
   },
   "source": [
    "5.3\tRank the 2019 portfolio returns."
   ]
  },
  {
   "cell_type": "code",
   "execution_count": 30,
   "id": "7add2bf5",
   "metadata": {
    "id": "2631760f",
    "outputId": "76b430a2-de0c-458f-80fa-c6bf9e74e2bc"
   },
   "outputs": [
    {
     "data": {
      "text/html": [
       "<div>\n",
       "<style scoped>\n",
       "    .dataframe tbody tr th:only-of-type {\n",
       "        vertical-align: middle;\n",
       "    }\n",
       "\n",
       "    .dataframe tbody tr th {\n",
       "        vertical-align: top;\n",
       "    }\n",
       "\n",
       "    .dataframe thead th {\n",
       "        text-align: right;\n",
       "    }\n",
       "</style>\n",
       "<table border=\"1\" class=\"dataframe\">\n",
       "  <thead>\n",
       "    <tr style=\"text-align: right;\">\n",
       "      <th></th>\n",
       "      <th>Expected annual return %:</th>\n",
       "      <th>Annual volatility %:</th>\n",
       "      <th>Sharpe Ratio:</th>\n",
       "    </tr>\n",
       "  </thead>\n",
       "  <tbody>\n",
       "    <tr>\n",
       "      <th>(XLE:CEI, XLK:CEI, XLU:CEI)</th>\n",
       "      <td>0.557412</td>\n",
       "      <td>0.159083</td>\n",
       "      <td>3.378181</td>\n",
       "    </tr>\n",
       "    <tr>\n",
       "      <th>(XLE:CEI, XLK:CEI, IYR:LAG)</th>\n",
       "      <td>0.611613</td>\n",
       "      <td>0.178229</td>\n",
       "      <td>3.319390</td>\n",
       "    </tr>\n",
       "    <tr>\n",
       "      <th>(XLE:CEI, XLK:CEI, XLP:CEI)</th>\n",
       "      <td>0.617011</td>\n",
       "      <td>0.184399</td>\n",
       "      <td>3.237600</td>\n",
       "    </tr>\n",
       "    <tr>\n",
       "      <th>(XLK:CEI, XLU:CEI, XLV:LAG)</th>\n",
       "      <td>0.430999</td>\n",
       "      <td>0.129632</td>\n",
       "      <td>3.170506</td>\n",
       "    </tr>\n",
       "    <tr>\n",
       "      <th>(XLK:CEI, XLU:CEI, XLY:CEI)</th>\n",
       "      <td>0.428272</td>\n",
       "      <td>0.130447</td>\n",
       "      <td>3.129777</td>\n",
       "    </tr>\n",
       "    <tr>\n",
       "      <th>...</th>\n",
       "      <td>...</td>\n",
       "      <td>...</td>\n",
       "      <td>...</td>\n",
       "    </tr>\n",
       "    <tr>\n",
       "      <th>(XLI:LEI, XLV:LAG, VOX:CEI)</th>\n",
       "      <td>0.244997</td>\n",
       "      <td>0.130022</td>\n",
       "      <td>1.730451</td>\n",
       "    </tr>\n",
       "    <tr>\n",
       "      <th>(XLB:CEI, XLV:LAG, XLY:CEI)</th>\n",
       "      <td>0.243085</td>\n",
       "      <td>0.129102</td>\n",
       "      <td>1.727982</td>\n",
       "    </tr>\n",
       "    <tr>\n",
       "      <th>(XLB:CEI, XLI:LEI, VOX:CEI)</th>\n",
       "      <td>0.258815</td>\n",
       "      <td>0.139653</td>\n",
       "      <td>1.710060</td>\n",
       "    </tr>\n",
       "    <tr>\n",
       "      <th>(XLB:CEI, XLV:LAG, VOX:CEI)</th>\n",
       "      <td>0.230198</td>\n",
       "      <td>0.126931</td>\n",
       "      <td>1.655993</td>\n",
       "    </tr>\n",
       "    <tr>\n",
       "      <th>(XLB:CEI, XLI:LEI, XLV:LAG)</th>\n",
       "      <td>0.238764</td>\n",
       "      <td>0.134517</td>\n",
       "      <td>1.626300</td>\n",
       "    </tr>\n",
       "  </tbody>\n",
       "</table>\n",
       "<p>165 rows × 3 columns</p>\n",
       "</div>"
      ],
      "text/plain": [
       "                             Expected annual return %:  Annual volatility %:  \\\n",
       "(XLE:CEI, XLK:CEI, XLU:CEI)                   0.557412              0.159083   \n",
       "(XLE:CEI, XLK:CEI, IYR:LAG)                   0.611613              0.178229   \n",
       "(XLE:CEI, XLK:CEI, XLP:CEI)                   0.617011              0.184399   \n",
       "(XLK:CEI, XLU:CEI, XLV:LAG)                   0.430999              0.129632   \n",
       "(XLK:CEI, XLU:CEI, XLY:CEI)                   0.428272              0.130447   \n",
       "...                                                ...                   ...   \n",
       "(XLI:LEI, XLV:LAG, VOX:CEI)                   0.244997              0.130022   \n",
       "(XLB:CEI, XLV:LAG, XLY:CEI)                   0.243085              0.129102   \n",
       "(XLB:CEI, XLI:LEI, VOX:CEI)                   0.258815              0.139653   \n",
       "(XLB:CEI, XLV:LAG, VOX:CEI)                   0.230198              0.126931   \n",
       "(XLB:CEI, XLI:LEI, XLV:LAG)                   0.238764              0.134517   \n",
       "\n",
       "                             Sharpe Ratio:  \n",
       "(XLE:CEI, XLK:CEI, XLU:CEI)       3.378181  \n",
       "(XLE:CEI, XLK:CEI, IYR:LAG)       3.319390  \n",
       "(XLE:CEI, XLK:CEI, XLP:CEI)       3.237600  \n",
       "(XLK:CEI, XLU:CEI, XLV:LAG)       3.170506  \n",
       "(XLK:CEI, XLU:CEI, XLY:CEI)       3.129777  \n",
       "...                                    ...  \n",
       "(XLI:LEI, XLV:LAG, VOX:CEI)       1.730451  \n",
       "(XLB:CEI, XLV:LAG, XLY:CEI)       1.727982  \n",
       "(XLB:CEI, XLI:LEI, VOX:CEI)       1.710060  \n",
       "(XLB:CEI, XLV:LAG, VOX:CEI)       1.655993  \n",
       "(XLB:CEI, XLI:LEI, XLV:LAG)       1.626300  \n",
       "\n",
       "[165 rows x 3 columns]"
      ]
     },
     "execution_count": 30,
     "metadata": {},
     "output_type": "execute_result"
    }
   ],
   "source": [
    "portfolio_returns19 = pd.DataFrame(EF_table, index=portfolio_numbers_df, \n",
    "                                 columns=[\"Expected annual return %:\", \"Annual volatility %:\", \"Sharpe Ratio:\"])\n",
    "portfolio_returns19.sort_values(by=[\"Sharpe Ratio:\"], ascending=False)"
   ]
  },
  {
   "cell_type": "markdown",
   "id": "549a738d",
   "metadata": {
    "id": "1846da7c"
   },
   "source": [
    "5.4\tTest each of the 165 portfolios using 2020 daily return data. \n",
    "\n",
    "* We will use the weights from 5.2 and use them to calculate the EF on 2020 data.\n",
    "\n",
    "\n",
    "* Select 2020 data:"
   ]
  },
  {
   "cell_type": "code",
   "execution_count": 31,
   "id": "89ad3bdf",
   "metadata": {
    "id": "a233432e"
   },
   "outputs": [],
   "source": [
    "df_2020_return = data['2020-01-01' :'2020-12-30'].sort_index(axis=0 ,ascending=True)\n",
    "df_2020_return.columns = groups"
   ]
  },
  {
   "cell_type": "markdown",
   "id": "95f337aa",
   "metadata": {
    "id": "2fda4cea"
   },
   "source": [
    "* Combinations of 2020 ETF data:"
   ]
  },
  {
   "cell_type": "code",
   "execution_count": 32,
   "id": "c7c23eb6",
   "metadata": {
    "id": "1fff4558"
   },
   "outputs": [],
   "source": [
    "combinations_of_portfolios_20 = []\n",
    "\n",
    "for j in (range(165)):\n",
    "    combinations_of_portfolios_20.append(df_2020_return[list(combs_select_spdr[j])])"
   ]
  },
  {
   "cell_type": "markdown",
   "id": "8f9e2647",
   "metadata": {
    "id": "6acf6501"
   },
   "source": [
    "* Testing each of the 165 portfolios on 2020 data:"
   ]
  },
  {
   "cell_type": "code",
   "execution_count": 33,
   "id": "f6ace201",
   "metadata": {
    "id": "1c055139",
    "outputId": "a6ad0292-f727-49cf-ecd6-e16d0f2d7e34"
   },
   "outputs": [
    {
     "name": "stdout",
     "output_type": "stream",
     "text": [
      "Expected annual return: 47.0%\n",
      "Annual volatility: 43.8%\n",
      "Sharpe Ratio: 1.03\n",
      "Expected annual return: 54.0%\n",
      "Annual volatility: 40.6%\n",
      "Sharpe Ratio: 1.28\n",
      "Expected annual return: 69.4%\n",
      "Annual volatility: 42.9%\n",
      "Sharpe Ratio: 1.57\n",
      "Expected annual return: 59.5%\n",
      "Annual volatility: 43.5%\n",
      "Sharpe Ratio: 1.32\n",
      "Expected annual return: 47.1%\n",
      "Annual volatility: 46.6%\n",
      "Sharpe Ratio: 0.97\n",
      "Expected annual return: 53.0%\n",
      "Annual volatility: 49.6%\n",
      "Sharpe Ratio: 1.03\n",
      "Expected annual return: 62.2%\n",
      "Annual volatility: 42.7%\n",
      "Sharpe Ratio: 1.41\n",
      "Expected annual return: 74.9%\n",
      "Annual volatility: 42.2%\n",
      "Sharpe Ratio: 1.73\n",
      "Expected annual return: 76.0%\n",
      "Annual volatility: 43.3%\n",
      "Sharpe Ratio: 1.71\n",
      "Expected annual return: -6.9%\n",
      "Annual volatility: 50.9%\n",
      "Sharpe Ratio: -0.18\n",
      "Expected annual return: 26.5%\n",
      "Annual volatility: 45.9%\n",
      "Sharpe Ratio: 0.53\n",
      "Expected annual return: -10.0%\n",
      "Annual volatility: 39.5%\n",
      "Sharpe Ratio: -0.30\n",
      "Expected annual return: -20.6%\n",
      "Annual volatility: 52.3%\n",
      "Sharpe Ratio: -0.43\n",
      "Expected annual return: -16.7%\n",
      "Annual volatility: 48.7%\n",
      "Sharpe Ratio: -0.38\n",
      "Expected annual return: 11.0%\n",
      "Annual volatility: 54.2%\n",
      "Sharpe Ratio: 0.17\n",
      "Expected annual return: 8.6%\n",
      "Annual volatility: 44.7%\n",
      "Sharpe Ratio: 0.15\n",
      "Expected annual return: 7.4%\n",
      "Annual volatility: 43.8%\n",
      "Sharpe Ratio: 0.12\n",
      "Expected annual return: 33.8%\n",
      "Annual volatility: 42.4%\n",
      "Sharpe Ratio: 0.75\n",
      "Expected annual return: 0.1%\n",
      "Annual volatility: 34.5%\n",
      "Sharpe Ratio: -0.06\n",
      "Expected annual return: -10.5%\n",
      "Annual volatility: 46.7%\n",
      "Sharpe Ratio: -0.27\n",
      "Expected annual return: -6.6%\n",
      "Annual volatility: 44.1%\n",
      "Sharpe Ratio: -0.19\n",
      "Expected annual return: 20.3%\n",
      "Annual volatility: 47.5%\n",
      "Sharpe Ratio: 0.38\n",
      "Expected annual return: 18.7%\n",
      "Annual volatility: 39.6%\n",
      "Sharpe Ratio: 0.42\n",
      "Expected annual return: 17.5%\n",
      "Annual volatility: 38.3%\n",
      "Sharpe Ratio: 0.41\n",
      "Expected annual return: 27.4%\n",
      "Annual volatility: 40.5%\n",
      "Sharpe Ratio: 0.63\n",
      "Expected annual return: 16.8%\n",
      "Annual volatility: 47.7%\n",
      "Sharpe Ratio: 0.31\n",
      "Expected annual return: 20.7%\n",
      "Annual volatility: 46.5%\n",
      "Sharpe Ratio: 0.40\n",
      "Expected annual return: 46.2%\n",
      "Annual volatility: 43.7%\n",
      "Sharpe Ratio: 1.01\n",
      "Expected annual return: 44.2%\n",
      "Annual volatility: 42.1%\n",
      "Sharpe Ratio: 1.00\n",
      "Expected annual return: 43.2%\n",
      "Annual volatility: 42.0%\n",
      "Sharpe Ratio: 0.98\n",
      "Expected annual return: -13.6%\n",
      "Annual volatility: 38.4%\n",
      "Sharpe Ratio: -0.41\n",
      "Expected annual return: -9.2%\n",
      "Annual volatility: 40.9%\n",
      "Sharpe Ratio: -0.27\n",
      "Expected annual return: 21.5%\n",
      "Annual volatility: 39.9%\n",
      "Sharpe Ratio: 0.49\n",
      "Expected annual return: 15.6%\n",
      "Annual volatility: 32.3%\n",
      "Sharpe Ratio: 0.42\n",
      "Expected annual return: 14.5%\n",
      "Annual volatility: 34.1%\n",
      "Sharpe Ratio: 0.37\n",
      "Expected annual return: -17.1%\n",
      "Annual volatility: 46.7%\n",
      "Sharpe Ratio: -0.41\n",
      "Expected annual return: 10.9%\n",
      "Annual volatility: 54.3%\n",
      "Sharpe Ratio: 0.16\n",
      "Expected annual return: 5.0%\n",
      "Annual volatility: 42.8%\n",
      "Sharpe Ratio: 0.07\n",
      "Expected annual return: 3.9%\n",
      "Annual volatility: 41.9%\n",
      "Sharpe Ratio: 0.04\n",
      "Expected annual return: 14.8%\n",
      "Annual volatility: 50.0%\n",
      "Sharpe Ratio: 0.26\n",
      "Expected annual return: 9.0%\n",
      "Annual volatility: 40.1%\n",
      "Sharpe Ratio: 0.17\n",
      "Expected annual return: 7.8%\n",
      "Annual volatility: 40.2%\n",
      "Sharpe Ratio: 0.14\n",
      "Expected annual return: 38.6%\n",
      "Annual volatility: 45.2%\n",
      "Sharpe Ratio: 0.81\n",
      "Expected annual return: 38.4%\n",
      "Annual volatility: 44.3%\n",
      "Sharpe Ratio: 0.82\n",
      "Expected annual return: 32.8%\n",
      "Annual volatility: 38.1%\n",
      "Sharpe Ratio: 0.81\n",
      "Expected annual return: 39.4%\n",
      "Annual volatility: 45.0%\n",
      "Sharpe Ratio: 0.83\n",
      "Expected annual return: 59.2%\n",
      "Annual volatility: 44.4%\n",
      "Sharpe Ratio: 1.29\n",
      "Expected annual return: 42.1%\n",
      "Annual volatility: 44.9%\n",
      "Sharpe Ratio: 0.89\n",
      "Expected annual return: 31.5%\n",
      "Annual volatility: 51.0%\n",
      "Sharpe Ratio: 0.58\n",
      "Expected annual return: 35.5%\n",
      "Annual volatility: 52.2%\n",
      "Sharpe Ratio: 0.64\n",
      "Expected annual return: 45.2%\n",
      "Annual volatility: 44.6%\n",
      "Sharpe Ratio: 0.97\n",
      "Expected annual return: 56.3%\n",
      "Annual volatility: 44.0%\n",
      "Sharpe Ratio: 1.23\n",
      "Expected annual return: 55.3%\n",
      "Annual volatility: 43.9%\n",
      "Sharpe Ratio: 1.21\n",
      "Expected annual return: 62.9%\n",
      "Annual volatility: 42.4%\n",
      "Sharpe Ratio: 1.44\n",
      "Expected annual return: 52.2%\n",
      "Annual volatility: 44.8%\n",
      "Sharpe Ratio: 1.12\n",
      "Expected annual return: 41.5%\n",
      "Annual volatility: 48.8%\n",
      "Sharpe Ratio: 0.81\n",
      "Expected annual return: 45.6%\n",
      "Annual volatility: 51.6%\n",
      "Sharpe Ratio: 0.85\n",
      "Expected annual return: 55.5%\n",
      "Annual volatility: 44.5%\n",
      "Sharpe Ratio: 1.20\n",
      "Expected annual return: 67.1%\n",
      "Annual volatility: 42.8%\n",
      "Sharpe Ratio: 1.52\n",
      "Expected annual return: 66.8%\n",
      "Annual volatility: 43.1%\n",
      "Sharpe Ratio: 1.50\n",
      "Expected annual return: 71.9%\n",
      "Annual volatility: 48.9%\n",
      "Sharpe Ratio: 1.43\n",
      "Expected annual return: 62.8%\n",
      "Annual volatility: 49.7%\n",
      "Sharpe Ratio: 1.22\n",
      "Expected annual return: 67.6%\n",
      "Annual volatility: 53.3%\n",
      "Sharpe Ratio: 1.23\n",
      "Expected annual return: 68.1%\n",
      "Annual volatility: 45.5%\n",
      "Sharpe Ratio: 1.45\n",
      "Expected annual return: 69.8%\n",
      "Annual volatility: 43.4%\n",
      "Sharpe Ratio: 1.56\n",
      "Expected annual return: 68.9%\n",
      "Annual volatility: 43.9%\n",
      "Sharpe Ratio: 1.52\n",
      "Expected annual return: 31.9%\n",
      "Annual volatility: 43.1%\n",
      "Sharpe Ratio: 0.69\n",
      "Expected annual return: 34.2%\n",
      "Annual volatility: 46.2%\n",
      "Sharpe Ratio: 0.70\n",
      "Expected annual return: 49.0%\n",
      "Annual volatility: 47.9%\n",
      "Sharpe Ratio: 0.98\n",
      "Expected annual return: 66.3%\n",
      "Annual volatility: 46.6%\n",
      "Sharpe Ratio: 1.38\n",
      "Expected annual return: 63.1%\n",
      "Annual volatility: 47.7%\n",
      "Sharpe Ratio: 1.28\n",
      "Expected annual return: 20.8%\n",
      "Annual volatility: 46.9%\n",
      "Sharpe Ratio: 0.40\n",
      "Expected annual return: 34.3%\n",
      "Annual volatility: 44.6%\n",
      "Sharpe Ratio: 0.72\n",
      "Expected annual return: 54.7%\n",
      "Annual volatility: 47.4%\n",
      "Sharpe Ratio: 1.11\n",
      "Expected annual return: 50.8%\n",
      "Annual volatility: 46.0%\n",
      "Sharpe Ratio: 1.06\n",
      "Expected annual return: 36.8%\n",
      "Annual volatility: 48.4%\n",
      "Sharpe Ratio: 0.72\n",
      "Expected annual return: 59.2%\n",
      "Annual volatility: 50.5%\n",
      "Sharpe Ratio: 1.13\n",
      "Expected annual return: 56.2%\n",
      "Annual volatility: 49.0%\n",
      "Sharpe Ratio: 1.10\n",
      "Expected annual return: 69.1%\n",
      "Annual volatility: 46.3%\n",
      "Sharpe Ratio: 1.45\n",
      "Expected annual return: 64.4%\n",
      "Annual volatility: 45.1%\n",
      "Sharpe Ratio: 1.38\n",
      "Expected annual return: 75.6%\n",
      "Annual volatility: 44.4%\n",
      "Sharpe Ratio: 1.66\n",
      "Expected annual return: 31.1%\n",
      "Annual volatility: 48.7%\n",
      "Sharpe Ratio: 0.60\n",
      "Expected annual return: 5.4%\n",
      "Annual volatility: 53.5%\n",
      "Sharpe Ratio: 0.06\n",
      "Expected annual return: -9.8%\n",
      "Annual volatility: 49.9%\n",
      "Sharpe Ratio: -0.24\n",
      "Expected annual return: 7.2%\n",
      "Annual volatility: 48.6%\n",
      "Sharpe Ratio: 0.11\n",
      "Expected annual return: 3.7%\n",
      "Annual volatility: 54.7%\n",
      "Sharpe Ratio: 0.03\n",
      "Expected annual return: -11.2%\n",
      "Annual volatility: 56.7%\n",
      "Sharpe Ratio: -0.23\n",
      "Expected annual return: -6.7%\n",
      "Annual volatility: 55.8%\n",
      "Sharpe Ratio: -0.16\n",
      "Expected annual return: 39.1%\n",
      "Annual volatility: 44.5%\n",
      "Sharpe Ratio: 0.83\n",
      "Expected annual return: 42.1%\n",
      "Annual volatility: 41.7%\n",
      "Sharpe Ratio: 0.96\n",
      "Expected annual return: 41.2%\n",
      "Annual volatility: 42.2%\n",
      "Sharpe Ratio: 0.93\n",
      "Expected annual return: 36.4%\n",
      "Annual volatility: 46.1%\n",
      "Sharpe Ratio: 0.75\n",
      "Expected annual return: 18.2%\n",
      "Annual volatility: 50.3%\n",
      "Sharpe Ratio: 0.32\n",
      "Expected annual return: 24.1%\n",
      "Annual volatility: 48.0%\n",
      "Sharpe Ratio: 0.46\n",
      "Expected annual return: -6.7%\n",
      "Annual volatility: 63.6%\n",
      "Sharpe Ratio: -0.14\n",
      "Expected annual return: 8.9%\n",
      "Annual volatility: 43.0%\n",
      "Sharpe Ratio: 0.16\n",
      "Expected annual return: 0.6%\n",
      "Annual volatility: 46.6%\n",
      "Sharpe Ratio: -0.03\n",
      "Expected annual return: 15.6%\n",
      "Annual volatility: 51.3%\n",
      "Sharpe Ratio: 0.27\n",
      "Expected annual return: 15.0%\n",
      "Annual volatility: 49.8%\n",
      "Sharpe Ratio: 0.26\n",
      "Expected annual return: -0.1%\n",
      "Annual volatility: 56.5%\n",
      "Sharpe Ratio: -0.04\n",
      "Expected annual return: -10.0%\n",
      "Annual volatility: 61.7%\n",
      "Sharpe Ratio: -0.19\n",
      "Expected annual return: -25.3%\n",
      "Annual volatility: 57.2%\n",
      "Sharpe Ratio: -0.48\n",
      "Expected annual return: -24.2%\n",
      "Annual volatility: 60.5%\n",
      "Sharpe Ratio: -0.43\n",
      "Expected annual return: -6.1%\n",
      "Annual volatility: 56.2%\n",
      "Sharpe Ratio: -0.14\n",
      "Expected annual return: 14.1%\n",
      "Annual volatility: 46.4%\n",
      "Sharpe Ratio: 0.26\n",
      "Expected annual return: 14.1%\n",
      "Annual volatility: 45.6%\n",
      "Sharpe Ratio: 0.27\n",
      "Expected annual return: 16.3%\n",
      "Annual volatility: 51.8%\n",
      "Sharpe Ratio: 0.28\n",
      "Expected annual return: 16.0%\n",
      "Annual volatility: 50.3%\n",
      "Sharpe Ratio: 0.28\n",
      "Expected annual return: 5.0%\n",
      "Annual volatility: 50.9%\n",
      "Sharpe Ratio: 0.06\n",
      "Expected annual return: 42.1%\n",
      "Annual volatility: 42.7%\n",
      "Sharpe Ratio: 0.94\n",
      "Expected annual return: 27.6%\n",
      "Annual volatility: 47.0%\n",
      "Sharpe Ratio: 0.54\n",
      "Expected annual return: 43.0%\n",
      "Annual volatility: 41.1%\n",
      "Sharpe Ratio: 1.00\n",
      "Expected annual return: 41.1%\n",
      "Annual volatility: 43.2%\n",
      "Sharpe Ratio: 0.91\n",
      "Expected annual return: 28.7%\n",
      "Annual volatility: 44.5%\n",
      "Sharpe Ratio: 0.60\n",
      "Expected annual return: 32.5%\n",
      "Annual volatility: 43.6%\n",
      "Sharpe Ratio: 0.70\n",
      "Expected annual return: 3.4%\n",
      "Annual volatility: 58.0%\n",
      "Sharpe Ratio: 0.02\n"
     ]
    },
    {
     "name": "stdout",
     "output_type": "stream",
     "text": [
      "Expected annual return: 18.9%\n",
      "Annual volatility: 37.5%\n",
      "Sharpe Ratio: 0.45\n",
      "Expected annual return: 10.7%\n",
      "Annual volatility: 41.2%\n",
      "Sharpe Ratio: 0.21\n",
      "Expected annual return: 31.5%\n",
      "Annual volatility: 44.8%\n",
      "Sharpe Ratio: 0.66\n",
      "Expected annual return: 25.0%\n",
      "Annual volatility: 44.1%\n",
      "Sharpe Ratio: 0.52\n",
      "Expected annual return: 9.3%\n",
      "Annual volatility: 50.4%\n",
      "Sharpe Ratio: 0.14\n",
      "Expected annual return: 0.1%\n",
      "Annual volatility: 56.0%\n",
      "Sharpe Ratio: -0.03\n",
      "Expected annual return: -15.2%\n",
      "Annual volatility: 51.4%\n",
      "Sharpe Ratio: -0.33\n",
      "Expected annual return: -14.1%\n",
      "Annual volatility: 55.4%\n",
      "Sharpe Ratio: -0.29\n",
      "Expected annual return: 4.0%\n",
      "Annual volatility: 51.2%\n",
      "Sharpe Ratio: 0.04\n",
      "Expected annual return: 31.5%\n",
      "Annual volatility: 39.1%\n",
      "Sharpe Ratio: 0.76\n",
      "Expected annual return: 24.1%\n",
      "Annual volatility: 39.9%\n",
      "Sharpe Ratio: 0.55\n",
      "Expected annual return: 29.3%\n",
      "Annual volatility: 45.4%\n",
      "Sharpe Ratio: 0.60\n",
      "Expected annual return: 27.3%\n",
      "Annual volatility: 44.0%\n",
      "Sharpe Ratio: 0.57\n",
      "Expected annual return: 15.1%\n",
      "Annual volatility: 46.2%\n",
      "Sharpe Ratio: 0.28\n",
      "Expected annual return: 30.6%\n",
      "Annual volatility: 55.2%\n",
      "Sharpe Ratio: 0.52\n",
      "Expected annual return: 44.2%\n",
      "Annual volatility: 39.3%\n",
      "Sharpe Ratio: 1.08\n",
      "Expected annual return: 37.9%\n",
      "Annual volatility: 40.9%\n",
      "Sharpe Ratio: 0.88\n",
      "Expected annual return: 46.7%\n",
      "Annual volatility: 42.5%\n",
      "Sharpe Ratio: 1.05\n",
      "Expected annual return: 46.4%\n",
      "Annual volatility: 42.5%\n",
      "Sharpe Ratio: 1.05\n",
      "Expected annual return: 39.1%\n",
      "Annual volatility: 44.6%\n",
      "Sharpe Ratio: 0.83\n",
      "Expected annual return: 27.3%\n",
      "Annual volatility: 52.6%\n",
      "Sharpe Ratio: 0.48\n",
      "Expected annual return: 12.0%\n",
      "Annual volatility: 48.0%\n",
      "Sharpe Ratio: 0.21\n",
      "Expected annual return: 13.2%\n",
      "Annual volatility: 49.7%\n",
      "Sharpe Ratio: 0.22\n",
      "Expected annual return: 31.3%\n",
      "Annual volatility: 48.7%\n",
      "Sharpe Ratio: 0.60\n",
      "Expected annual return: 46.1%\n",
      "Annual volatility: 40.9%\n",
      "Sharpe Ratio: 1.08\n",
      "Expected annual return: 46.0%\n",
      "Annual volatility: 40.9%\n",
      "Sharpe Ratio: 1.08\n",
      "Expected annual return: 48.2%\n",
      "Annual volatility: 42.9%\n",
      "Sharpe Ratio: 1.08\n",
      "Expected annual return: 47.9%\n",
      "Annual volatility: 42.9%\n",
      "Sharpe Ratio: 1.07\n",
      "Expected annual return: 42.2%\n",
      "Annual volatility: 42.5%\n",
      "Sharpe Ratio: 0.94\n",
      "Expected annual return: 7.0%\n",
      "Annual volatility: 37.6%\n",
      "Sharpe Ratio: 0.13\n",
      "Expected annual return: -3.0%\n",
      "Annual volatility: 42.9%\n",
      "Sharpe Ratio: -0.12\n",
      "Expected annual return: 18.9%\n",
      "Annual volatility: 52.3%\n",
      "Sharpe Ratio: 0.32\n",
      "Expected annual return: 17.7%\n",
      "Annual volatility: 49.8%\n",
      "Sharpe Ratio: 0.32\n",
      "Expected annual return: 1.0%\n",
      "Annual volatility: 42.3%\n",
      "Sharpe Ratio: -0.02\n",
      "Expected annual return: 35.6%\n",
      "Annual volatility: 34.9%\n",
      "Sharpe Ratio: 0.96\n",
      "Expected annual return: 34.0%\n",
      "Annual volatility: 35.3%\n",
      "Sharpe Ratio: 0.91\n",
      "Expected annual return: 26.2%\n",
      "Annual volatility: 35.6%\n",
      "Sharpe Ratio: 0.68\n",
      "Expected annual return: 25.1%\n",
      "Annual volatility: 34.9%\n",
      "Sharpe Ratio: 0.66\n",
      "Expected annual return: 42.0%\n",
      "Annual volatility: 41.9%\n",
      "Sharpe Ratio: 0.95\n",
      "Expected annual return: -9.7%\n",
      "Annual volatility: 54.2%\n",
      "Sharpe Ratio: -0.21\n",
      "Expected annual return: 25.6%\n",
      "Annual volatility: 47.4%\n",
      "Sharpe Ratio: 0.50\n",
      "Expected annual return: 23.9%\n",
      "Annual volatility: 45.5%\n",
      "Sharpe Ratio: 0.48\n",
      "Expected annual return: 15.6%\n",
      "Annual volatility: 50.1%\n",
      "Sharpe Ratio: 0.27\n",
      "Expected annual return: 14.5%\n",
      "Annual volatility: 47.7%\n",
      "Sharpe Ratio: 0.26\n",
      "Expected annual return: 1.4%\n",
      "Annual volatility: 47.2%\n",
      "Sharpe Ratio: -0.01\n",
      "Expected annual return: 19.5%\n",
      "Annual volatility: 44.8%\n",
      "Sharpe Ratio: 0.39\n",
      "Expected annual return: 18.4%\n",
      "Annual volatility: 43.0%\n",
      "Sharpe Ratio: 0.38\n",
      "Expected annual return: 41.4%\n",
      "Annual volatility: 37.6%\n",
      "Sharpe Ratio: 1.05\n",
      "Expected annual return: 42.2%\n",
      "Annual volatility: 42.2%\n",
      "Sharpe Ratio: 0.95\n"
     ]
    }
   ],
   "source": [
    "EF_test_20 = []\n",
    "\n",
    "for j in (range(165)):\n",
    "    mu_test = expected_returns.mean_historical_return(combinations_of_portfolios_20[j],compounding=False)\n",
    "    S_test = CovarianceShrinkage(combinations_of_portfolios_20[j]).ledoit_wolf()\n",
    "    ef_test = EfficientFrontier(mu_test, S_test)\n",
    "    ef_test.set_weights(fixed_riks_weights[j])\n",
    "    EF_test_20.append(ef_test.portfolio_performance(verbose=True))"
   ]
  },
  {
   "cell_type": "markdown",
   "id": "179b5e1a",
   "metadata": {
    "id": "04a74ab9"
   },
   "source": [
    "5.5\tRank the 2020 portfolio returns."
   ]
  },
  {
   "cell_type": "code",
   "execution_count": 34,
   "id": "12602de1",
   "metadata": {
    "id": "d474f3e1",
    "outputId": "56749ee2-f3a5-43e0-c3e1-4fd66e46b5c7"
   },
   "outputs": [
    {
     "data": {
      "text/html": [
       "<div>\n",
       "<style scoped>\n",
       "    .dataframe tbody tr th:only-of-type {\n",
       "        vertical-align: middle;\n",
       "    }\n",
       "\n",
       "    .dataframe tbody tr th {\n",
       "        vertical-align: top;\n",
       "    }\n",
       "\n",
       "    .dataframe thead th {\n",
       "        text-align: right;\n",
       "    }\n",
       "</style>\n",
       "<table border=\"1\" class=\"dataframe\">\n",
       "  <thead>\n",
       "    <tr style=\"text-align: right;\">\n",
       "      <th></th>\n",
       "      <th>Expected annual return %:</th>\n",
       "      <th>Annual volatility %:</th>\n",
       "      <th>Sharpe Ratio:</th>\n",
       "    </tr>\n",
       "  </thead>\n",
       "  <tbody>\n",
       "    <tr>\n",
       "      <th>(XLB:CEI, XLE:CEI, XLY:CEI)</th>\n",
       "      <td>0.749482</td>\n",
       "      <td>0.422132</td>\n",
       "      <td>1.728089</td>\n",
       "    </tr>\n",
       "    <tr>\n",
       "      <th>(XLB:CEI, XLE:CEI, VOX:CEI)</th>\n",
       "      <td>0.759529</td>\n",
       "      <td>0.433282</td>\n",
       "      <td>1.706807</td>\n",
       "    </tr>\n",
       "    <tr>\n",
       "      <th>(XLE:CEI, XLY:CEI, VOX:CEI)</th>\n",
       "      <td>0.756375</td>\n",
       "      <td>0.444081</td>\n",
       "      <td>1.658201</td>\n",
       "    </tr>\n",
       "    <tr>\n",
       "      <th>(XLB:CEI, XLE:CEI, XLK:CEI)</th>\n",
       "      <td>0.694228</td>\n",
       "      <td>0.429154</td>\n",
       "      <td>1.571062</td>\n",
       "    </tr>\n",
       "    <tr>\n",
       "      <th>(XLE:CEI, XLK:CEI, XLY:CEI)</th>\n",
       "      <td>0.697812</td>\n",
       "      <td>0.434369</td>\n",
       "      <td>1.560454</td>\n",
       "    </tr>\n",
       "    <tr>\n",
       "      <th>...</th>\n",
       "      <td>...</td>\n",
       "      <td>...</td>\n",
       "      <td>...</td>\n",
       "    </tr>\n",
       "    <tr>\n",
       "      <th>(XLB:CEI, XLP:CEI, IYR:LAG)</th>\n",
       "      <td>-0.135650</td>\n",
       "      <td>0.384018</td>\n",
       "      <td>-0.405319</td>\n",
       "    </tr>\n",
       "    <tr>\n",
       "      <th>(XLB:CEI, IYR:LAG, XLU:CEI)</th>\n",
       "      <td>-0.170840</td>\n",
       "      <td>0.467429</td>\n",
       "      <td>-0.408276</td>\n",
       "    </tr>\n",
       "    <tr>\n",
       "      <th>(XLB:CEI, XLF:CEI, IYR:LAG)</th>\n",
       "      <td>-0.206049</td>\n",
       "      <td>0.523394</td>\n",
       "      <td>-0.431890</td>\n",
       "    </tr>\n",
       "    <tr>\n",
       "      <th>(XLF:CEI, IYR:LAG, VOX:CEI)</th>\n",
       "      <td>-0.241831</td>\n",
       "      <td>0.604616</td>\n",
       "      <td>-0.433053</td>\n",
       "    </tr>\n",
       "    <tr>\n",
       "      <th>(XLF:CEI, IYR:LAG, XLY:CEI)</th>\n",
       "      <td>-0.253204</td>\n",
       "      <td>0.571774</td>\n",
       "      <td>-0.477818</td>\n",
       "    </tr>\n",
       "  </tbody>\n",
       "</table>\n",
       "<p>165 rows × 3 columns</p>\n",
       "</div>"
      ],
      "text/plain": [
       "                             Expected annual return %:  Annual volatility %:  \\\n",
       "(XLB:CEI, XLE:CEI, XLY:CEI)                   0.749482              0.422132   \n",
       "(XLB:CEI, XLE:CEI, VOX:CEI)                   0.759529              0.433282   \n",
       "(XLE:CEI, XLY:CEI, VOX:CEI)                   0.756375              0.444081   \n",
       "(XLB:CEI, XLE:CEI, XLK:CEI)                   0.694228              0.429154   \n",
       "(XLE:CEI, XLK:CEI, XLY:CEI)                   0.697812              0.434369   \n",
       "...                                                ...                   ...   \n",
       "(XLB:CEI, XLP:CEI, IYR:LAG)                  -0.135650              0.384018   \n",
       "(XLB:CEI, IYR:LAG, XLU:CEI)                  -0.170840              0.467429   \n",
       "(XLB:CEI, XLF:CEI, IYR:LAG)                  -0.206049              0.523394   \n",
       "(XLF:CEI, IYR:LAG, VOX:CEI)                  -0.241831              0.604616   \n",
       "(XLF:CEI, IYR:LAG, XLY:CEI)                  -0.253204              0.571774   \n",
       "\n",
       "                             Sharpe Ratio:  \n",
       "(XLB:CEI, XLE:CEI, XLY:CEI)       1.728089  \n",
       "(XLB:CEI, XLE:CEI, VOX:CEI)       1.706807  \n",
       "(XLE:CEI, XLY:CEI, VOX:CEI)       1.658201  \n",
       "(XLB:CEI, XLE:CEI, XLK:CEI)       1.571062  \n",
       "(XLE:CEI, XLK:CEI, XLY:CEI)       1.560454  \n",
       "...                                    ...  \n",
       "(XLB:CEI, XLP:CEI, IYR:LAG)      -0.405319  \n",
       "(XLB:CEI, IYR:LAG, XLU:CEI)      -0.408276  \n",
       "(XLB:CEI, XLF:CEI, IYR:LAG)      -0.431890  \n",
       "(XLF:CEI, IYR:LAG, VOX:CEI)      -0.433053  \n",
       "(XLF:CEI, IYR:LAG, XLY:CEI)      -0.477818  \n",
       "\n",
       "[165 rows x 3 columns]"
      ]
     },
     "execution_count": 34,
     "metadata": {},
     "output_type": "execute_result"
    }
   ],
   "source": [
    "portfolio_test_20 = pd.DataFrame(EF_test_20, index=portfolio_numbers_df, \n",
    "                                 columns=[\"Expected annual return %:\", \"Annual volatility %:\", \"Sharpe Ratio:\"])\n",
    "portfolio_test_20.sort_values(by=[\"Sharpe Ratio:\"], ascending=False)"
   ]
  },
  {
   "cell_type": "markdown",
   "id": "113c61ff",
   "metadata": {
    "id": "7c38d1e2"
   },
   "source": [
    "**6\tAnalyzing 3-Security Portfolio**\n",
    "\n",
    "\n",
    "Recall from the previous assignment, you assigned each ETF to 1 of 3 groups: Leading, Coincidental, or Lagging Economic Indicators.  "
   ]
  },
  {
   "cell_type": "markdown",
   "id": "f37c57a4",
   "metadata": {
    "id": "bebbc8c5"
   },
   "source": [
    "6.1\t\n",
    "\n",
    "* Relabel the ETF with a + sign if the weight >0, or a - sign if the weight <0.  \n",
    "\n",
    "* Then add the assigned Economic Indicator.\n",
    "* For example, if a portfolio were long XLRE, and XLRE was a LEI, then XLRE -> +LEI.  \n",
    "* For example, if a portfolio were short XLF, and XLF was a LAG, then XLF -> -LAG.  \n",
    "* Do this for each security in each portfolio."
   ]
  },
  {
   "cell_type": "markdown",
   "id": "3d81ba67",
   "metadata": {
    "id": "dfa1ef38"
   },
   "source": [
    "* So, we took the data from GWP 1 and put them into al list:"
   ]
  },
  {
   "cell_type": "code",
   "execution_count": 35,
   "id": "a5bcab34",
   "metadata": {
    "id": "e43851d9",
    "outputId": "143d2b94-1b6e-45d9-d4f0-b4a760653f89"
   },
   "outputs": [
    {
     "data": {
      "text/plain": [
       "['XLB:CEI',\n",
       " 'XLE:CEI',\n",
       " 'XLF:CEI',\n",
       " 'XLI:LEI',\n",
       " 'XLK:CEI',\n",
       " 'XLP:CEI',\n",
       " 'IYR:LAG',\n",
       " 'XLU:CEI',\n",
       " 'XLV:LAG',\n",
       " 'XLY:CEI',\n",
       " 'VOX:CEI']"
      ]
     },
     "execution_count": 35,
     "metadata": {},
     "output_type": "execute_result"
    }
   ],
   "source": [
    "groups"
   ]
  },
  {
   "cell_type": "code",
   "execution_count": 36,
   "id": "36ac7a4f",
   "metadata": {
    "id": "eae12b5c",
    "outputId": "92601e41-95db-4e65-c816-d74df6250544"
   },
   "outputs": [
    {
     "data": {
      "text/plain": [
       "[OrderedDict([('XLB:CEI', 0.82617), ('XLE:CEI', -0.82617), ('XLF:CEI', 1.0)]),\n",
       " OrderedDict([('XLB:CEI', 0.7686), ('XLE:CEI', -0.7686), ('XLI:LEI', 1.0)]),\n",
       " OrderedDict([('XLB:CEI', 0.54057), ('XLE:CEI', -0.54057), ('XLK:CEI', 1.0)]),\n",
       " OrderedDict([('XLB:CEI', 0.93124), ('XLE:CEI', -0.93124), ('XLP:CEI', 1.0)]),\n",
       " OrderedDict([('XLB:CEI', 0.89687), ('XLE:CEI', -0.89687), ('IYR:LAG', 1.0)]),\n",
       " OrderedDict([('XLB:CEI', 0.95977),\n",
       "              ('XLE:CEI', -0.91763),\n",
       "              ('XLU:CEI', 0.95786)]),\n",
       " OrderedDict([('XLB:CEI', 0.9591),\n",
       "              ('XLE:CEI', -0.91155),\n",
       "              ('XLV:LAG', 0.95245)]),\n",
       " OrderedDict([('XLB:CEI', 0.87171), ('XLE:CEI', -0.87171), ('XLY:CEI', 1.0)]),\n",
       " OrderedDict([('XLB:CEI', 0.91279), ('XLE:CEI', -0.91279), ('VOX:CEI', 1.0)]),\n",
       " OrderedDict([('XLB:CEI', -1.0), ('XLF:CEI', 1.0), ('XLI:LEI', 1.0)]),\n",
       " OrderedDict([('XLB:CEI', -0.70442), ('XLF:CEI', 0.70442), ('XLK:CEI', 1.0)]),\n",
       " OrderedDict([('XLB:CEI', -1.0), ('XLF:CEI', 1.0), ('XLP:CEI', 1.0)]),\n",
       " OrderedDict([('XLB:CEI', -1.0), ('XLF:CEI', 1.0), ('IYR:LAG', 1.0)]),\n",
       " OrderedDict([('XLB:CEI', -1.0), ('XLF:CEI', 1.0), ('XLU:CEI', 1.0)]),\n",
       " OrderedDict([('XLB:CEI', 0.67249), ('XLF:CEI', 1.0), ('XLV:LAG', -0.67249)]),\n",
       " OrderedDict([('XLB:CEI', -1.0), ('XLF:CEI', 1.0), ('XLY:CEI', 1.0)]),\n",
       " OrderedDict([('XLB:CEI', -0.98253), ('XLF:CEI', 1.0), ('VOX:CEI', 0.98253)]),\n",
       " OrderedDict([('XLB:CEI', -0.69166), ('XLI:LEI', 0.69166), ('XLK:CEI', 1.0)]),\n",
       " OrderedDict([('XLB:CEI', -1.0), ('XLI:LEI', 1.0), ('XLP:CEI', 1.0)]),\n",
       " OrderedDict([('XLB:CEI', -1.0), ('XLI:LEI', 1.0), ('IYR:LAG', 1.0)]),\n",
       " OrderedDict([('XLB:CEI', -1.0), ('XLI:LEI', 1.0), ('XLU:CEI', 1.0)]),\n",
       " OrderedDict([('XLB:CEI', 0.596), ('XLI:LEI', 1.0), ('XLV:LAG', -0.596)]),\n",
       " OrderedDict([('XLB:CEI', -1.0), ('XLI:LEI', 1.0), ('XLY:CEI', 1.0)]),\n",
       " OrderedDict([('XLB:CEI', -1.0), ('XLI:LEI', 1.0), ('VOX:CEI', 1.0)]),\n",
       " OrderedDict([('XLB:CEI', -1.0), ('XLK:CEI', 1.0), ('XLP:CEI', 1.0)]),\n",
       " OrderedDict([('XLB:CEI', -1.0), ('XLK:CEI', 1.0), ('IYR:LAG', 1.0)]),\n",
       " OrderedDict([('XLB:CEI', -1.0), ('XLK:CEI', 1.0), ('XLU:CEI', 1.0)]),\n",
       " OrderedDict([('XLB:CEI', 0.47376), ('XLK:CEI', 1.0), ('XLV:LAG', -0.47376)]),\n",
       " OrderedDict([('XLB:CEI', -0.63009), ('XLK:CEI', 1.0), ('XLY:CEI', 0.63009)]),\n",
       " OrderedDict([('XLB:CEI', -0.54032), ('XLK:CEI', 1.0), ('VOX:CEI', 0.54032)]),\n",
       " OrderedDict([('XLB:CEI', -1.0), ('XLP:CEI', 1.0), ('IYR:LAG', 1.0)]),\n",
       " OrderedDict([('XLB:CEI', -0.97975), ('XLP:CEI', 1.0), ('XLU:CEI', 0.97975)]),\n",
       " OrderedDict([('XLB:CEI', 1.0), ('XLP:CEI', 1.0), ('XLV:LAG', -1.0)]),\n",
       " OrderedDict([('XLB:CEI', -1.0), ('XLP:CEI', 1.0), ('XLY:CEI', 1.0)]),\n",
       " OrderedDict([('XLB:CEI', -1.0), ('XLP:CEI', 1.0), ('VOX:CEI', 1.0)]),\n",
       " OrderedDict([('XLB:CEI', -0.84656), ('IYR:LAG', 1.0), ('XLU:CEI', 0.84656)]),\n",
       " OrderedDict([('XLB:CEI', 1.0), ('IYR:LAG', 1.0), ('XLV:LAG', -1.0)]),\n",
       " OrderedDict([('XLB:CEI', -1.0), ('IYR:LAG', 1.0), ('XLY:CEI', 1.0)]),\n",
       " OrderedDict([('XLB:CEI', -1.0), ('IYR:LAG', 1.0), ('VOX:CEI', 1.0)]),\n",
       " OrderedDict([('XLB:CEI', 1.0), ('XLU:CEI', 1.0), ('XLV:LAG', -1.0)]),\n",
       " OrderedDict([('XLB:CEI', -1.0), ('XLU:CEI', 1.0), ('XLY:CEI', 1.0)]),\n",
       " OrderedDict([('XLB:CEI', -1.0), ('XLU:CEI', 1.0), ('VOX:CEI', 1.0)]),\n",
       " OrderedDict([('XLB:CEI', 0.85787), ('XLV:LAG', -0.85787), ('XLY:CEI', 1.0)]),\n",
       " OrderedDict([('XLB:CEI', 0.94836), ('XLV:LAG', -0.94836), ('VOX:CEI', 1.0)]),\n",
       " OrderedDict([('XLB:CEI', -0.92107), ('XLY:CEI', 1.0), ('VOX:CEI', 0.92107)]),\n",
       " OrderedDict([('XLE:CEI', -0.86067), ('XLF:CEI', 1.0), ('XLI:LEI', 0.86067)]),\n",
       " OrderedDict([('XLE:CEI', -0.57603), ('XLF:CEI', 0.57603), ('XLK:CEI', 1.0)]),\n",
       " OrderedDict([('XLE:CEI', -1.0), ('XLF:CEI', 1.0), ('XLP:CEI', 1.0)]),\n",
       " OrderedDict([('XLE:CEI', -1.0), ('XLF:CEI', 1.0), ('IYR:LAG', 1.0)]),\n",
       " OrderedDict([('XLE:CEI', -1.0), ('XLF:CEI', 1.0), ('XLU:CEI', 1.0)]),\n",
       " OrderedDict([('XLE:CEI', -0.99334), ('XLF:CEI', 1.0), ('XLV:LAG', 0.99334)]),\n",
       " OrderedDict([('XLE:CEI', -0.92217), ('XLF:CEI', 1.0), ('XLY:CEI', 0.92217)]),\n",
       " OrderedDict([('XLE:CEI', -0.92227), ('XLF:CEI', 1.0), ('VOX:CEI', 0.92227)]),\n",
       " OrderedDict([('XLE:CEI', -0.52458), ('XLI:LEI', 0.52458), ('XLK:CEI', 1.0)]),\n",
       " OrderedDict([('XLE:CEI', -1.0), ('XLI:LEI', 1.0), ('XLP:CEI', 1.0)]),\n",
       " OrderedDict([('XLE:CEI', -0.99415), ('XLI:LEI', 1.0), ('IYR:LAG', 0.99415)]),\n",
       " OrderedDict([('XLE:CEI', -1.0), ('XLI:LEI', 1.0), ('XLU:CEI', 1.0)]),\n",
       " OrderedDict([('XLE:CEI', -1.0), ('XLI:LEI', 1.0), ('XLV:LAG', 1.0)]),\n",
       " OrderedDict([('XLE:CEI', -0.91595),\n",
       "              ('XLI:LEI', 0.93361),\n",
       "              ('XLY:CEI', 0.98234)]),\n",
       " OrderedDict([('XLE:CEI', -0.94827), ('XLI:LEI', 1.0), ('VOX:CEI', 0.94827)]),\n",
       " OrderedDict([('XLE:CEI', -0.80228), ('XLK:CEI', 1.0), ('XLP:CEI', 0.80228)]),\n",
       " OrderedDict([('XLE:CEI', -0.77985), ('XLK:CEI', 1.0), ('IYR:LAG', 0.77985)]),\n",
       " OrderedDict([('XLE:CEI', -0.83307), ('XLK:CEI', 1.0), ('XLU:CEI', 0.83307)]),\n",
       " OrderedDict([('XLE:CEI', -0.64691), ('XLK:CEI', 1.0), ('XLV:LAG', 0.64691)]),\n",
       " OrderedDict([('XLE:CEI', -0.50204), ('XLK:CEI', 1.0), ('XLY:CEI', 0.50204)]),\n",
       " OrderedDict([('XLE:CEI', -0.49611), ('XLK:CEI', 1.0), ('VOX:CEI', 0.49611)]),\n",
       " OrderedDict([('XLE:CEI', -0.78108),\n",
       "              ('XLP:CEI', 0.93995),\n",
       "              ('IYR:LAG', 0.84114)]),\n",
       " OrderedDict([('XLE:CEI', -0.73732), ('XLP:CEI', 1.0), ('XLU:CEI', 0.73732)]),\n",
       " OrderedDict([('XLE:CEI', -0.91607), ('XLP:CEI', 1.0), ('XLV:LAG', 0.91607)]),\n",
       " OrderedDict([('XLE:CEI', -0.96098), ('XLP:CEI', 0.96098), ('XLY:CEI', 1.0)]),\n",
       " OrderedDict([('XLE:CEI', -0.93652),\n",
       "              ('XLP:CEI', 0.99897),\n",
       "              ('VOX:CEI', 0.93754)]),\n",
       " OrderedDict([('XLE:CEI', -0.64934), ('IYR:LAG', 1.0), ('XLU:CEI', 0.64934)]),\n",
       " OrderedDict([('XLE:CEI', -0.81738), ('IYR:LAG', 1.0), ('XLV:LAG', 0.81738)]),\n",
       " OrderedDict([('XLE:CEI', -0.91052), ('IYR:LAG', 0.91052), ('XLY:CEI', 1.0)]),\n",
       " OrderedDict([('XLE:CEI', -0.85989),\n",
       "              ('IYR:LAG', 0.9082),\n",
       "              ('VOX:CEI', 0.95168)]),\n",
       " OrderedDict([('XLE:CEI', -0.78419), ('XLU:CEI', 1.0), ('XLV:LAG', 0.78419)]),\n",
       " OrderedDict([('XLE:CEI', -0.94082), ('XLU:CEI', 0.94082), ('XLY:CEI', 1.0)]),\n",
       " OrderedDict([('XLE:CEI', -0.87963), ('XLU:CEI', 0.87963), ('VOX:CEI', 1.0)]),\n",
       " OrderedDict([('XLE:CEI', -0.95367), ('XLV:LAG', 0.95367), ('XLY:CEI', 1.0)]),\n",
       " OrderedDict([('XLE:CEI', -0.86712), ('XLV:LAG', 0.86712), ('VOX:CEI', 1.0)]),\n",
       " OrderedDict([('XLE:CEI', -0.8281), ('XLY:CEI', 1.0), ('VOX:CEI', 0.8281)]),\n",
       " OrderedDict([('XLF:CEI', 1.0), ('XLI:LEI', -1.0), ('XLK:CEI', 1.0)]),\n",
       " OrderedDict([('XLF:CEI', 1.0), ('XLI:LEI', 0.49462), ('XLP:CEI', -0.49462)]),\n",
       " OrderedDict([('XLF:CEI', 1.0), ('XLI:LEI', -1.0), ('IYR:LAG', 1.0)]),\n",
       " OrderedDict([('XLF:CEI', 1.0), ('XLI:LEI', 0.34213), ('XLU:CEI', -0.34213)]),\n",
       " OrderedDict([('XLF:CEI', 1.0), ('XLI:LEI', 0.6248), ('XLV:LAG', -0.6248)]),\n",
       " OrderedDict([('XLF:CEI', 1.0), ('XLI:LEI', 0.97287), ('XLY:CEI', -0.97287)]),\n",
       " OrderedDict([('XLF:CEI', 1.0), ('XLI:LEI', 0.73576), ('VOX:CEI', -0.73576)]),\n",
       " OrderedDict([('XLF:CEI', 0.30376), ('XLK:CEI', 1.0), ('XLP:CEI', -0.30376)]),\n",
       " OrderedDict([('XLF:CEI', 0.24753), ('XLK:CEI', 1.0), ('IYR:LAG', -0.24753)]),\n",
       " OrderedDict([('XLF:CEI', 0.2014), ('XLK:CEI', 1.0), ('XLU:CEI', -0.2014)]),\n",
       " OrderedDict([('XLF:CEI', 0.46892), ('XLK:CEI', 1.0), ('XLV:LAG', -0.46892)]),\n",
       " OrderedDict([('XLF:CEI', 0.89883), ('XLK:CEI', 1.0), ('XLY:CEI', -0.89883)]),\n",
       " OrderedDict([('XLF:CEI', 0.7), ('XLK:CEI', 1.0), ('VOX:CEI', -0.7)]),\n",
       " OrderedDict([('XLF:CEI', 1.0), ('XLP:CEI', -1.0), ('IYR:LAG', 1.0)]),\n",
       " OrderedDict([('XLF:CEI', 1.0), ('XLP:CEI', 0.76046), ('XLU:CEI', -0.76046)]),\n",
       " OrderedDict([('XLF:CEI', 1.0), ('XLP:CEI', 1.0), ('XLV:LAG', -1.0)]),\n",
       " OrderedDict([('XLF:CEI', 1.0), ('XLP:CEI', -0.63343), ('XLY:CEI', 0.63343)]),\n",
       " OrderedDict([('XLF:CEI', 1.0), ('XLP:CEI', -0.63587), ('VOX:CEI', 0.63587)]),\n",
       " OrderedDict([('XLF:CEI', 0.96069), ('IYR:LAG', 1.0), ('XLU:CEI', -0.96069)]),\n",
       " OrderedDict([('XLF:CEI', 1.0), ('IYR:LAG', 1.0), ('XLV:LAG', -1.0)]),\n",
       " OrderedDict([('XLF:CEI', 1.0), ('IYR:LAG', 1.0), ('XLY:CEI', -1.0)]),\n",
       " OrderedDict([('XLF:CEI', 1.0), ('IYR:LAG', 1.0), ('VOX:CEI', -1.0)]),\n",
       " OrderedDict([('XLF:CEI', 1.0), ('XLU:CEI', 1.0), ('XLV:LAG', -1.0)]),\n",
       " OrderedDict([('XLF:CEI', 1.0), ('XLU:CEI', -0.40468), ('XLY:CEI', 0.40468)]),\n",
       " OrderedDict([('XLF:CEI', 1.0), ('XLU:CEI', -0.4253), ('VOX:CEI', 0.4253)]),\n",
       " OrderedDict([('XLF:CEI', 1.0), ('XLV:LAG', -0.81217), ('XLY:CEI', 0.81217)]),\n",
       " OrderedDict([('XLF:CEI', 1.0), ('XLV:LAG', -0.85669), ('VOX:CEI', 0.85669)]),\n",
       " OrderedDict([('XLF:CEI', 1.0), ('XLY:CEI', 1.0), ('VOX:CEI', -1.0)]),\n",
       " OrderedDict([('XLI:LEI', 0.27438), ('XLK:CEI', 1.0), ('XLP:CEI', -0.27438)]),\n",
       " OrderedDict([('XLI:LEI', -1.0), ('XLK:CEI', 1.0), ('IYR:LAG', 1.0)]),\n",
       " OrderedDict([('XLI:LEI', 0.18611), ('XLK:CEI', 1.0), ('XLU:CEI', -0.18611)]),\n",
       " OrderedDict([('XLI:LEI', 0.41354), ('XLK:CEI', 1.0), ('XLV:LAG', -0.41354)]),\n",
       " OrderedDict([('XLI:LEI', 0.81038), ('XLK:CEI', 1.0), ('XLY:CEI', -0.81038)]),\n",
       " OrderedDict([('XLI:LEI', 0.60825), ('XLK:CEI', 1.0), ('VOX:CEI', -0.60825)]),\n",
       " OrderedDict([('XLI:LEI', 1.0), ('XLP:CEI', -1.0), ('IYR:LAG', 1.0)]),\n",
       " OrderedDict([('XLI:LEI', 1.0), ('XLP:CEI', 0.7431), ('XLU:CEI', -0.7431)]),\n",
       " OrderedDict([('XLI:LEI', 1.0), ('XLP:CEI', 1.0), ('XLV:LAG', -1.0)]),\n",
       " OrderedDict([('XLI:LEI', 0.67937),\n",
       "              ('XLP:CEI', -0.67496),\n",
       "              ('XLY:CEI', 0.99558)]),\n",
       " OrderedDict([('XLI:LEI', 1.0), ('XLP:CEI', -0.63311), ('VOX:CEI', 0.63311)]),\n",
       " OrderedDict([('XLI:LEI', 0.92347), ('IYR:LAG', 1.0), ('XLU:CEI', -0.92347)]),\n",
       " OrderedDict([('XLI:LEI', 1.0), ('IYR:LAG', 1.0), ('XLV:LAG', -1.0)]),\n",
       " OrderedDict([('XLI:LEI', 1.0), ('IYR:LAG', 1.0), ('XLY:CEI', -1.0)]),\n",
       " OrderedDict([('XLI:LEI', 1.0), ('IYR:LAG', 1.0), ('VOX:CEI', -1.0)]),\n",
       " OrderedDict([('XLI:LEI', 1.0), ('XLU:CEI', 1.0), ('XLV:LAG', -1.0)]),\n",
       " OrderedDict([('XLI:LEI', 0.60376),\n",
       "              ('XLU:CEI', -0.45132),\n",
       "              ('XLY:CEI', 0.84756)]),\n",
       " OrderedDict([('XLI:LEI', 1.0), ('XLU:CEI', -0.41946), ('VOX:CEI', 0.41946)]),\n",
       " OrderedDict([('XLI:LEI', 0.81113), ('XLV:LAG', -0.81113), ('XLY:CEI', 1.0)]),\n",
       " OrderedDict([('XLI:LEI', 0.9246), ('XLV:LAG', -0.8641), ('VOX:CEI', 0.9395)]),\n",
       " OrderedDict([('XLI:LEI', 1.0), ('XLY:CEI', 1.0), ('VOX:CEI', -1.0)]),\n",
       " OrderedDict([('XLK:CEI', 1.0), ('XLP:CEI', -1.0), ('IYR:LAG', 1.0)]),\n",
       " OrderedDict([('XLK:CEI', 1.0), ('XLP:CEI', 0.44845), ('XLU:CEI', -0.44845)]),\n",
       " OrderedDict([('XLK:CEI', 1.0), ('XLP:CEI', 1.0), ('XLV:LAG', -1.0)]),\n",
       " OrderedDict([('XLK:CEI', 1.0), ('XLP:CEI', -0.29478), ('XLY:CEI', 0.29478)]),\n",
       " OrderedDict([('XLK:CEI', 1.0), ('XLP:CEI', -0.2954), ('VOX:CEI', 0.2954)]),\n",
       " OrderedDict([('XLK:CEI', 1.0), ('IYR:LAG', 0.54916), ('XLU:CEI', -0.54916)]),\n",
       " OrderedDict([('XLK:CEI', 1.0), ('IYR:LAG', 1.0), ('XLV:LAG', -1.0)]),\n",
       " OrderedDict([('XLK:CEI', 1.0), ('IYR:LAG', 1.0), ('XLY:CEI', -1.0)]),\n",
       " OrderedDict([('XLK:CEI', 1.0), ('IYR:LAG', 1.0), ('VOX:CEI', -1.0)]),\n",
       " OrderedDict([('XLK:CEI', 1.0), ('XLU:CEI', 1.0), ('XLV:LAG', -1.0)]),\n",
       " OrderedDict([('XLK:CEI', 1.0), ('XLU:CEI', -0.19396), ('XLY:CEI', 0.19396)]),\n",
       " OrderedDict([('XLK:CEI', 1.0), ('XLU:CEI', -0.19891), ('VOX:CEI', 0.19891)]),\n",
       " OrderedDict([('XLK:CEI', 1.0), ('XLV:LAG', -0.45583), ('XLY:CEI', 0.45583)]),\n",
       " OrderedDict([('XLK:CEI', 1.0), ('XLV:LAG', -0.46748), ('VOX:CEI', 0.46748)]),\n",
       " OrderedDict([('XLK:CEI', 1.0), ('XLY:CEI', 0.81794), ('VOX:CEI', -0.81794)]),\n",
       " OrderedDict([('XLP:CEI', 1.0), ('IYR:LAG', 1.0), ('XLU:CEI', -1.0)]),\n",
       " OrderedDict([('XLP:CEI', 1.0), ('IYR:LAG', 1.0), ('XLV:LAG', -1.0)]),\n",
       " OrderedDict([('XLP:CEI', -1.0), ('IYR:LAG', 1.0), ('XLY:CEI', 1.0)]),\n",
       " OrderedDict([('XLP:CEI', -1.0), ('IYR:LAG', 1.0), ('VOX:CEI', 1.0)]),\n",
       " OrderedDict([('XLP:CEI', 1.0), ('XLU:CEI', 1.0), ('XLV:LAG', -1.0)]),\n",
       " OrderedDict([('XLP:CEI', 0.91102), ('XLU:CEI', -0.91102), ('XLY:CEI', 1.0)]),\n",
       " OrderedDict([('XLP:CEI', 0.97439),\n",
       "              ('XLU:CEI', -0.93867),\n",
       "              ('VOX:CEI', 0.96428)]),\n",
       " OrderedDict([('XLP:CEI', 1.0), ('XLV:LAG', -1.0), ('XLY:CEI', 1.0)]),\n",
       " OrderedDict([('XLP:CEI', 1.0), ('XLV:LAG', -1.0), ('VOX:CEI', 1.0)]),\n",
       " OrderedDict([('XLP:CEI', -0.71726), ('XLY:CEI', 1.0), ('VOX:CEI', 0.71726)]),\n",
       " OrderedDict([('IYR:LAG', 1.0), ('XLU:CEI', 1.0), ('XLV:LAG', -1.0)]),\n",
       " OrderedDict([('IYR:LAG', 1.0), ('XLU:CEI', -1.0), ('XLY:CEI', 1.0)]),\n",
       " OrderedDict([('IYR:LAG', 1.0), ('XLU:CEI', -0.97767), ('VOX:CEI', 0.97767)]),\n",
       " OrderedDict([('IYR:LAG', 1.0), ('XLV:LAG', -1.0), ('XLY:CEI', 1.0)]),\n",
       " OrderedDict([('IYR:LAG', 1.0), ('XLV:LAG', -1.0), ('VOX:CEI', 1.0)]),\n",
       " OrderedDict([('IYR:LAG', 1.0), ('XLY:CEI', 1.0), ('VOX:CEI', -1.0)]),\n",
       " OrderedDict([('XLU:CEI', 1.0), ('XLV:LAG', -1.0), ('XLY:CEI', 1.0)]),\n",
       " OrderedDict([('XLU:CEI', 1.0), ('XLV:LAG', -1.0), ('VOX:CEI', 1.0)]),\n",
       " OrderedDict([('XLU:CEI', -0.49353), ('XLY:CEI', 1.0), ('VOX:CEI', 0.49353)]),\n",
       " OrderedDict([('XLV:LAG', -0.89623), ('XLY:CEI', 1.0), ('VOX:CEI', 0.89623)])]"
      ]
     },
     "execution_count": 36,
     "metadata": {},
     "output_type": "execute_result"
    }
   ],
   "source": [
    "fixed_riks_weights"
   ]
  },
  {
   "cell_type": "markdown",
   "id": "1b16cdbe",
   "metadata": {
    "id": "cbf6c56b"
   },
   "source": [
    "6.2\tUsing the ranks from 5.5, determine which combinations tend to be the best performing.  Interpret the results.\n",
    "\n",
    "* In terms of Expected annual return the best combination is 'XLB:CEI', 0.91279, 'XLE:CEI', -0.91279, 'VOX:CEI', 1.0.\n",
    "\n",
    "* So, we are Long XLB and VOX, and short XLE, all three is Coincidental Economic Indicator,"
   ]
  },
  {
   "cell_type": "code",
   "execution_count": 37,
   "id": "893fe044",
   "metadata": {
    "id": "fc4321ad",
    "outputId": "1c909b12-3fc7-42b6-915e-6f2eafb6a041"
   },
   "outputs": [
    {
     "data": {
      "text/html": [
       "<div>\n",
       "<style scoped>\n",
       "    .dataframe tbody tr th:only-of-type {\n",
       "        vertical-align: middle;\n",
       "    }\n",
       "\n",
       "    .dataframe tbody tr th {\n",
       "        vertical-align: top;\n",
       "    }\n",
       "\n",
       "    .dataframe thead th {\n",
       "        text-align: right;\n",
       "    }\n",
       "</style>\n",
       "<table border=\"1\" class=\"dataframe\">\n",
       "  <thead>\n",
       "    <tr style=\"text-align: right;\">\n",
       "      <th></th>\n",
       "      <th>Expected annual return %:</th>\n",
       "      <th>Annual volatility %:</th>\n",
       "      <th>Sharpe Ratio:</th>\n",
       "    </tr>\n",
       "  </thead>\n",
       "  <tbody>\n",
       "    <tr>\n",
       "      <th>(XLB:CEI, XLE:CEI, VOX:CEI)</th>\n",
       "      <td>0.759529</td>\n",
       "      <td>0.433282</td>\n",
       "      <td>1.706807</td>\n",
       "    </tr>\n",
       "  </tbody>\n",
       "</table>\n",
       "</div>"
      ],
      "text/plain": [
       "                             Expected annual return %:  Annual volatility %:  \\\n",
       "(XLB:CEI, XLE:CEI, VOX:CEI)                   0.759529              0.433282   \n",
       "\n",
       "                             Sharpe Ratio:  \n",
       "(XLB:CEI, XLE:CEI, VOX:CEI)       1.706807  "
      ]
     },
     "execution_count": 37,
     "metadata": {},
     "output_type": "execute_result"
    }
   ],
   "source": [
    "portfolio_test_20.sort_values(by=[\"Expected annual return %:\"], ascending=False)[:1]"
   ]
  },
  {
   "cell_type": "markdown",
   "id": "d3d17421",
   "metadata": {
    "id": "887f6eef"
   },
   "source": [
    "* In terms of Sharpe Ratio the best combination is 'XLB:CEI', 0.87171, 'XLE:CEI', -0.87171), 'XLY:CEI', 1.0.\n",
    "\n",
    "* So, we are Long XLB and XLY, and short XLE, these are also in the Coincidental Economic Indicator group."
   ]
  },
  {
   "cell_type": "code",
   "execution_count": 38,
   "id": "8232b0a4",
   "metadata": {
    "id": "f2dd1316",
    "outputId": "ab3a434b-400c-4e70-c62c-36be083be128"
   },
   "outputs": [
    {
     "data": {
      "text/html": [
       "<div>\n",
       "<style scoped>\n",
       "    .dataframe tbody tr th:only-of-type {\n",
       "        vertical-align: middle;\n",
       "    }\n",
       "\n",
       "    .dataframe tbody tr th {\n",
       "        vertical-align: top;\n",
       "    }\n",
       "\n",
       "    .dataframe thead th {\n",
       "        text-align: right;\n",
       "    }\n",
       "</style>\n",
       "<table border=\"1\" class=\"dataframe\">\n",
       "  <thead>\n",
       "    <tr style=\"text-align: right;\">\n",
       "      <th></th>\n",
       "      <th>Expected annual return %:</th>\n",
       "      <th>Annual volatility %:</th>\n",
       "      <th>Sharpe Ratio:</th>\n",
       "    </tr>\n",
       "  </thead>\n",
       "  <tbody>\n",
       "    <tr>\n",
       "      <th>(XLB:CEI, XLE:CEI, XLY:CEI)</th>\n",
       "      <td>0.749482</td>\n",
       "      <td>0.422132</td>\n",
       "      <td>1.728089</td>\n",
       "    </tr>\n",
       "  </tbody>\n",
       "</table>\n",
       "</div>"
      ],
      "text/plain": [
       "                             Expected annual return %:  Annual volatility %:  \\\n",
       "(XLB:CEI, XLE:CEI, XLY:CEI)                   0.749482              0.422132   \n",
       "\n",
       "                             Sharpe Ratio:  \n",
       "(XLB:CEI, XLE:CEI, XLY:CEI)       1.728089  "
      ]
     },
     "execution_count": 38,
     "metadata": {},
     "output_type": "execute_result"
    }
   ],
   "source": [
    "portfolio_test_20.sort_values(by=[\"Sharpe Ratio:\"], ascending=False)[:1]"
   ]
  },
  {
   "cell_type": "markdown",
   "id": "485b0bc1",
   "metadata": {
    "id": "e0217b46"
   },
   "source": [
    "**7\tCategory 4 Portfolios: Using Principal Components**"
   ]
  },
  {
   "cell_type": "markdown",
   "id": "eea99562",
   "metadata": {
    "id": "d92ab92e"
   },
   "source": [
    "7.1\tCompute the PCA from the correlation matrix of the 11 ETFs.\n",
    "\n",
    "We will use PCA module from sklearn: (https://scikit-learn.org/stable/modules/generated/sklearn.decomposition.PCA.html)."
   ]
  },
  {
   "cell_type": "code",
   "execution_count": 39,
   "id": "a15ca22b",
   "metadata": {
    "id": "cddb59b5"
   },
   "outputs": [],
   "source": [
    "from sklearn.decomposition import PCA"
   ]
  },
  {
   "cell_type": "code",
   "execution_count": 40,
   "id": "5a2fbaa3",
   "metadata": {
    "id": "28fa8121",
    "outputId": "cff294bd-7043-4587-8bb6-8653424f408f"
   },
   "outputs": [
    {
     "name": "stdout",
     "output_type": "stream",
     "text": [
      "The PCA components:\n",
      " [[-0.25318214  0.35359723 -0.17209209 -0.2886047  -0.35766409 -0.35329978\n",
      "  -0.22987278 -0.33905963 -0.35864055 -0.35415671 -0.15284689]\n",
      " [-0.13086329 -0.34127438 -0.57011451 -0.2608068   0.08858192  0.14614402\n",
      "  -0.22932921 -0.05508283 -0.04928898 -0.0095076   0.62129319]\n",
      " [ 0.39141901  0.41692422  0.31379006  0.17986706 -0.10850083 -0.00366416\n",
      "   0.06196842 -0.15568706 -0.15793338 -0.07693833  0.68660187]]\n",
      "The explained varicance ratios:\n",
      " [0.9175935  0.05118057 0.01530647]\n"
     ]
    }
   ],
   "source": [
    "all_etfs_corr = data.corr()\n",
    "pca = PCA(n_components=3)\n",
    "pca_fit = pca.fit(all_etfs_corr)\n",
    "print(\"The PCA components:\\n\", pca.components_)\n",
    "print(\"The explained varicance ratios:\\n\", pca.explained_variance_ratio_)"
   ]
  },
  {
   "cell_type": "markdown",
   "id": "8af41d1b",
   "metadata": {
    "id": "91e222f9"
   },
   "source": [
    "* Here, we calculate the normalized weights so they sum up to one,  positive means a long position and negative value means a short."
   ]
  },
  {
   "cell_type": "code",
   "execution_count": 41,
   "id": "9c1ca5f7",
   "metadata": {
    "id": "9126bfaa",
    "outputId": "41f566fe-4476-48a5-8dfc-12f0048fcf8a"
   },
   "outputs": [
    {
     "data": {
      "text/html": [
       "<div>\n",
       "<style scoped>\n",
       "    .dataframe tbody tr th:only-of-type {\n",
       "        vertical-align: middle;\n",
       "    }\n",
       "\n",
       "    .dataframe tbody tr th {\n",
       "        vertical-align: top;\n",
       "    }\n",
       "\n",
       "    .dataframe thead th {\n",
       "        text-align: right;\n",
       "    }\n",
       "</style>\n",
       "<table border=\"1\" class=\"dataframe\">\n",
       "  <thead>\n",
       "    <tr style=\"text-align: right;\">\n",
       "      <th></th>\n",
       "      <th>0</th>\n",
       "    </tr>\n",
       "  </thead>\n",
       "  <tbody>\n",
       "    <tr>\n",
       "      <th>XLV</th>\n",
       "      <td>0.143123</td>\n",
       "    </tr>\n",
       "    <tr>\n",
       "      <th>XLK</th>\n",
       "      <td>0.142733</td>\n",
       "    </tr>\n",
       "    <tr>\n",
       "      <th>XLY</th>\n",
       "      <td>0.141334</td>\n",
       "    </tr>\n",
       "    <tr>\n",
       "      <th>XLP</th>\n",
       "      <td>0.140992</td>\n",
       "    </tr>\n",
       "    <tr>\n",
       "      <th>XLU</th>\n",
       "      <td>0.135309</td>\n",
       "    </tr>\n",
       "    <tr>\n",
       "      <th>XLI</th>\n",
       "      <td>0.115174</td>\n",
       "    </tr>\n",
       "    <tr>\n",
       "      <th>XLB</th>\n",
       "      <td>0.101038</td>\n",
       "    </tr>\n",
       "    <tr>\n",
       "      <th>IYR</th>\n",
       "      <td>0.091735</td>\n",
       "    </tr>\n",
       "    <tr>\n",
       "      <th>XLF</th>\n",
       "      <td>0.068677</td>\n",
       "    </tr>\n",
       "    <tr>\n",
       "      <th>VOX</th>\n",
       "      <td>0.060997</td>\n",
       "    </tr>\n",
       "    <tr>\n",
       "      <th>XLE</th>\n",
       "      <td>-0.141110</td>\n",
       "    </tr>\n",
       "  </tbody>\n",
       "</table>\n",
       "</div>"
      ],
      "text/plain": [
       "            0\n",
       "XLV  0.143123\n",
       "XLK  0.142733\n",
       "XLY  0.141334\n",
       "XLP  0.140992\n",
       "XLU  0.135309\n",
       "XLI  0.115174\n",
       "XLB  0.101038\n",
       "IYR  0.091735\n",
       "XLF  0.068677\n",
       "VOX  0.060997\n",
       "XLE -0.141110"
      ]
     },
     "execution_count": 41,
     "metadata": {},
     "output_type": "execute_result"
    }
   ],
   "source": [
    "normalized_weights = pd.DataFrame((pca.components_[0])/pca.components_[0].sum(), index=SPDRS)\n",
    "normalized_weights.sort_values(by=0, ascending=False)"
   ]
  },
  {
   "cell_type": "markdown",
   "id": "97710568",
   "metadata": {
    "id": "e75cd285"
   },
   "source": [
    "* Based on this, we select XLV, XLK and XLE, so we will have 2 longs and 1 short."
   ]
  },
  {
   "cell_type": "markdown",
   "id": "d1fe9677",
   "metadata": {
    "id": "f6c65361"
   },
   "source": [
    "7.2\tUsing 2019 data, compute the EF for the first 3 principal components portfolio."
   ]
  },
  {
   "cell_type": "markdown",
   "id": "b3276a8f",
   "metadata": {
    "id": "e13535f4"
   },
   "source": [
    "* Slicing to get 2019 data:"
   ]
  },
  {
   "cell_type": "code",
   "execution_count": 42,
   "id": "7e627db5",
   "metadata": {
    "id": "284001aa"
   },
   "outputs": [],
   "source": [
    "three_pca = [\"XLK\",\"XLE\",\"XLV\"]\n",
    "portfoliothree_pca = data[three_pca].sort_index(axis=0 ,ascending=True)\n",
    "df_2019 = portfoliothree_pca['2019-01-01' :'2019-12-31']\n",
    "#pca_2019 = PCA(n_components=3)\n",
    "#pca_fit = pca_2019.fit(df_2019)\n",
    "#components = pca_2019.components_\n",
    "#pca_2019.explained_variance_ratio_"
   ]
  },
  {
   "cell_type": "markdown",
   "id": "c37adc57",
   "metadata": {
    "id": "79e9011c"
   },
   "source": [
    "* Calculating the correlation for 2019 and creating data frame for the EF:"
   ]
  },
  {
   "cell_type": "code",
   "execution_count": 43,
   "id": "7b36de8d",
   "metadata": {
    "id": "3a553435"
   },
   "outputs": [],
   "source": [
    "df_2019_corr = df_2019.pct_change().dropna().corr()\n",
    "ef_pca = pd.DataFrame(columns=[\"XLK %\", \"XLE %\", \"XLV %\", \"Expected Return\", \"Std. Volatility\"])\n",
    "ef_pca[[\"XLK %\", \"XLE %\", \"XLV %\"]] = setOfWeights_three"
   ]
  },
  {
   "cell_type": "markdown",
   "id": "537757eb",
   "metadata": {
    "id": "ba13225e"
   },
   "source": [
    "* Modified our original function to get the numbers for the EF:"
   ]
  },
  {
   "cell_type": "code",
   "execution_count": 44,
   "id": "b1bcce5c",
   "metadata": {
    "id": "34d43ad1"
   },
   "outputs": [],
   "source": [
    "def PcaEfficientFrontier(setOfWeights:list,portfolio:pd.DataFrame,correlationMatrix:pd.DataFrame):\n",
    "\n",
    "    expectedReturn=[]\n",
    "    volatility    =[]\n",
    "    for weights in setOfWeights:\n",
    "        expectedReturn.append(getPortfolioReturn(weights,portfolio))\n",
    "        volatility.append(getPortfolioVolatility(weights,portfolio,correlationMatrix))\n",
    "    ef_pca[\"Expected Return\"] = expectedReturn\n",
    "    ef_pca[\"Std. Volatility\"] = volatility\n",
    "    return ef_pca "
   ]
  },
  {
   "cell_type": "markdown",
   "id": "d86d7f36",
   "metadata": {
    "id": "144ccff5"
   },
   "source": [
    "* Although, based on the  normalized weights, we should have one short, however after testing the data using negativ weights, we found that the portfolios tend to do better with positive weights."
   ]
  },
  {
   "cell_type": "code",
   "execution_count": 45,
   "id": "be89e49c",
   "metadata": {
    "id": "3b0fb67c",
    "outputId": "666753fe-6b65-4ab8-e2a4-b3d24aba8511"
   },
   "outputs": [
    {
     "data": {
      "text/html": [
       "<div>\n",
       "<style scoped>\n",
       "    .dataframe tbody tr th:only-of-type {\n",
       "        vertical-align: middle;\n",
       "    }\n",
       "\n",
       "    .dataframe tbody tr th {\n",
       "        vertical-align: top;\n",
       "    }\n",
       "\n",
       "    .dataframe thead th {\n",
       "        text-align: right;\n",
       "    }\n",
       "</style>\n",
       "<table border=\"1\" class=\"dataframe\">\n",
       "  <thead>\n",
       "    <tr style=\"text-align: right;\">\n",
       "      <th></th>\n",
       "      <th>XLK %</th>\n",
       "      <th>XLE %</th>\n",
       "      <th>XLV %</th>\n",
       "      <th>Expected Return</th>\n",
       "      <th>Std. Volatility</th>\n",
       "    </tr>\n",
       "  </thead>\n",
       "  <tbody>\n",
       "    <tr>\n",
       "      <th>9</th>\n",
       "      <td>0.09</td>\n",
       "      <td>0.455</td>\n",
       "      <td>0.455</td>\n",
       "      <td>0.160452</td>\n",
       "      <td>0.140560</td>\n",
       "    </tr>\n",
       "    <tr>\n",
       "      <th>8</th>\n",
       "      <td>0.08</td>\n",
       "      <td>0.460</td>\n",
       "      <td>0.460</td>\n",
       "      <td>0.156668</td>\n",
       "      <td>0.140564</td>\n",
       "    </tr>\n",
       "    <tr>\n",
       "      <th>10</th>\n",
       "      <td>0.10</td>\n",
       "      <td>0.450</td>\n",
       "      <td>0.450</td>\n",
       "      <td>0.164236</td>\n",
       "      <td>0.140567</td>\n",
       "    </tr>\n",
       "    <tr>\n",
       "      <th>7</th>\n",
       "      <td>0.07</td>\n",
       "      <td>0.465</td>\n",
       "      <td>0.465</td>\n",
       "      <td>0.152884</td>\n",
       "      <td>0.140579</td>\n",
       "    </tr>\n",
       "    <tr>\n",
       "      <th>11</th>\n",
       "      <td>0.11</td>\n",
       "      <td>0.445</td>\n",
       "      <td>0.445</td>\n",
       "      <td>0.168019</td>\n",
       "      <td>0.140586</td>\n",
       "    </tr>\n",
       "    <tr>\n",
       "      <th>...</th>\n",
       "      <td>...</td>\n",
       "      <td>...</td>\n",
       "      <td>...</td>\n",
       "      <td>...</td>\n",
       "      <td>...</td>\n",
       "    </tr>\n",
       "    <tr>\n",
       "      <th>96</th>\n",
       "      <td>0.96</td>\n",
       "      <td>0.020</td>\n",
       "      <td>0.020</td>\n",
       "      <td>0.489638</td>\n",
       "      <td>0.177893</td>\n",
       "    </tr>\n",
       "    <tr>\n",
       "      <th>97</th>\n",
       "      <td>0.97</td>\n",
       "      <td>0.015</td>\n",
       "      <td>0.015</td>\n",
       "      <td>0.493421</td>\n",
       "      <td>0.178662</td>\n",
       "    </tr>\n",
       "    <tr>\n",
       "      <th>98</th>\n",
       "      <td>0.98</td>\n",
       "      <td>0.010</td>\n",
       "      <td>0.010</td>\n",
       "      <td>0.497205</td>\n",
       "      <td>0.179437</td>\n",
       "    </tr>\n",
       "    <tr>\n",
       "      <th>99</th>\n",
       "      <td>0.99</td>\n",
       "      <td>0.005</td>\n",
       "      <td>0.005</td>\n",
       "      <td>0.500989</td>\n",
       "      <td>0.180218</td>\n",
       "    </tr>\n",
       "    <tr>\n",
       "      <th>100</th>\n",
       "      <td>1.00</td>\n",
       "      <td>0.000</td>\n",
       "      <td>0.000</td>\n",
       "      <td>0.504773</td>\n",
       "      <td>0.181003</td>\n",
       "    </tr>\n",
       "  </tbody>\n",
       "</table>\n",
       "<p>101 rows × 5 columns</p>\n",
       "</div>"
      ],
      "text/plain": [
       "     XLK %  XLE %  XLV %  Expected Return  Std. Volatility\n",
       "9     0.09  0.455  0.455         0.160452         0.140560\n",
       "8     0.08  0.460  0.460         0.156668         0.140564\n",
       "10    0.10  0.450  0.450         0.164236         0.140567\n",
       "7     0.07  0.465  0.465         0.152884         0.140579\n",
       "11    0.11  0.445  0.445         0.168019         0.140586\n",
       "..     ...    ...    ...              ...              ...\n",
       "96    0.96  0.020  0.020         0.489638         0.177893\n",
       "97    0.97  0.015  0.015         0.493421         0.178662\n",
       "98    0.98  0.010  0.010         0.497205         0.179437\n",
       "99    0.99  0.005  0.005         0.500989         0.180218\n",
       "100   1.00  0.000  0.000         0.504773         0.181003\n",
       "\n",
       "[101 rows x 5 columns]"
      ]
     },
     "execution_count": 45,
     "metadata": {},
     "output_type": "execute_result"
    }
   ],
   "source": [
    "PcaEfficientFrontier(setOfWeights_three, df_2019, df_2019_corr).sort_values(by=[\"Std. Volatility\"], ascending=True)"
   ]
  },
  {
   "cell_type": "markdown",
   "id": "b7a1a0da",
   "metadata": {
    "id": "b96362a3"
   },
   "source": [
    "* Plotting the EF:"
   ]
  },
  {
   "cell_type": "code",
   "execution_count": 46,
   "id": "281c3ac7",
   "metadata": {
    "id": "c588478e",
    "outputId": "8e6da572-9ea9-45f5-ba68-72ccd5475669"
   },
   "outputs": [
    {
     "data": {
      "image/png": "[encoded data removed]",
      "text/plain": [
       "<Figure size 432x288 with 1 Axes>"
      ]
     },
     "metadata": {
      "needs_background": "light"
     },
     "output_type": "display_data"
    }
   ],
   "source": [
    "# Initialize figure\n",
    "_,ax5 = plt.subplots(1,1)\n",
    "ax5.set_ylabel(\"Annualized portfolio return (%)\")\n",
    "ax5.set_xlabel(\"Annualized portfolio volatility (%)\")\n",
    "plotEfficientFrontier(setOfWeights_three,df_2019,df_2019_corr,ax5)\n",
    "plt.title(\"The efficient frontier of 3-security portfolio\")\n",
    "plt.show()"
   ]
  },
  {
   "cell_type": "markdown",
   "id": "bf5dd50c",
   "metadata": {
    "id": "3745f2ea"
   },
   "source": [
    "7.3\tHow does the PCA portfolio return compare to the 2019  3-security portfolio returns?"
   ]
  },
  {
   "cell_type": "markdown",
   "id": "24685121",
   "metadata": {
    "id": "f92e37a4"
   },
   "source": [
    "Well, if we compare only the optimal portfolios or minimum variance portfolios:\n",
    "\n",
    "* For the PCA portfolio (XLK, XLE, XLV), we get Expected Return: 16% and Annual volatility: 14%.\n",
    "\n",
    "* If we take portfolio (XLE, XLF, XLK) from 5.3 which has the highest Expected Return: 68% and Annual volatility: 21%, our risk/reward ratio is 1:3, which is better as well as the sharpe ratio.\n",
    "\n",
    "* Overall, we get much higher Expected Return for many of the 2019 3-security portfolios as well as higher sharpe ratios.\n",
    "\n",
    "Seems, running such combination and defining the weights using max_sharpe() function from  PyPortfolioOpt leads to better optimal portfolios.\n",
    "\n"
   ]
  },
  {
   "cell_type": "markdown",
   "id": "89430679",
   "metadata": {
    "id": "78c13be5"
   },
   "source": [
    "7.4\tAssuming a fixed amount of risk, and 2020 data, use the PC weights to compute the 3-PC portfolio returns."
   ]
  },
  {
   "cell_type": "markdown",
   "id": "9be5efbb",
   "metadata": {
    "id": "b3023463"
   },
   "source": [
    "* Here we use the the explained varicance ratios as weights, calculated on the full data set:"
   ]
  },
  {
   "cell_type": "code",
   "execution_count": 47,
   "id": "29f06928",
   "metadata": {
    "id": "4d1b0b61"
   },
   "outputs": [],
   "source": [
    "pca_weights = [0.9175935, 0.05118057, 0.01530647]"
   ]
  },
  {
   "cell_type": "markdown",
   "id": "e5a9c030",
   "metadata": {
    "id": "763855c8"
   },
   "source": [
    "* Calculating the 3-PC portfolio returns on 2020 data:"
   ]
  },
  {
   "cell_type": "code",
   "execution_count": 48,
   "id": "445541d6",
   "metadata": {
    "id": "64011f96"
   },
   "outputs": [],
   "source": [
    "three_portfolioReturns = []\n",
    "for i in (range(165)):\n",
    "    three_pf_Returns = getPortfolioReturn(weights=pca_weights,portfolio=combinations_of_portfolios_20[i])\n",
    "    three_portfolioReturns.append(three_pf_Returns)"
   ]
  },
  {
   "cell_type": "markdown",
   "id": "bb32e219",
   "metadata": {
    "id": "9d632c7d"
   },
   "source": [
    "The Expected annual returns:"
   ]
  },
  {
   "cell_type": "code",
   "execution_count": 49,
   "id": "ab5b083a",
   "metadata": {
    "id": "36457d04",
    "outputId": "cb327bf9-e5f9-4236-dae2-be68204a40e3"
   },
   "outputs": [
    {
     "data": {
      "text/html": [
       "<div>\n",
       "<style scoped>\n",
       "    .dataframe tbody tr th:only-of-type {\n",
       "        vertical-align: middle;\n",
       "    }\n",
       "\n",
       "    .dataframe tbody tr th {\n",
       "        vertical-align: top;\n",
       "    }\n",
       "\n",
       "    .dataframe thead th {\n",
       "        text-align: right;\n",
       "    }\n",
       "</style>\n",
       "<table border=\"1\" class=\"dataframe\">\n",
       "  <thead>\n",
       "    <tr style=\"text-align: right;\">\n",
       "      <th></th>\n",
       "      <th>Expected annual return %:</th>\n",
       "    </tr>\n",
       "  </thead>\n",
       "  <tbody>\n",
       "    <tr>\n",
       "      <th>(XLK:CEI, XLY:CEI, VOX:CEI)</th>\n",
       "      <td>0.490436</td>\n",
       "    </tr>\n",
       "    <tr>\n",
       "      <th>(XLK:CEI, XLV:LAG, XLY:CEI)</th>\n",
       "      <td>0.480929</td>\n",
       "    </tr>\n",
       "    <tr>\n",
       "      <th>(XLK:CEI, XLV:LAG, VOX:CEI)</th>\n",
       "      <td>0.480696</td>\n",
       "    </tr>\n",
       "    <tr>\n",
       "      <th>(XLK:CEI, XLP:CEI, XLY:CEI)</th>\n",
       "      <td>0.479021</td>\n",
       "    </tr>\n",
       "    <tr>\n",
       "      <th>(XLK:CEI, XLP:CEI, VOX:CEI)</th>\n",
       "      <td>0.478789</td>\n",
       "    </tr>\n",
       "    <tr>\n",
       "      <th>...</th>\n",
       "      <td>...</td>\n",
       "    </tr>\n",
       "    <tr>\n",
       "      <th>(XLE:CEI, XLF:CEI, XLP:CEI)</th>\n",
       "      <td>-0.215945</td>\n",
       "    </tr>\n",
       "    <tr>\n",
       "      <th>(XLE:CEI, XLF:CEI, XLU:CEI)</th>\n",
       "      <td>-0.217046</td>\n",
       "    </tr>\n",
       "    <tr>\n",
       "      <th>(XLE:CEI, IYR:LAG, XLV:LAG)</th>\n",
       "      <td>-0.217241</td>\n",
       "    </tr>\n",
       "    <tr>\n",
       "      <th>(XLE:CEI, XLF:CEI, IYR:LAG)</th>\n",
       "      <td>-0.217663</td>\n",
       "    </tr>\n",
       "    <tr>\n",
       "      <th>(XLE:CEI, IYR:LAG, XLU:CEI)</th>\n",
       "      <td>-0.218913</td>\n",
       "    </tr>\n",
       "  </tbody>\n",
       "</table>\n",
       "<p>165 rows × 1 columns</p>\n",
       "</div>"
      ],
      "text/plain": [
       "                             Expected annual return %:\n",
       "(XLK:CEI, XLY:CEI, VOX:CEI)                   0.490436\n",
       "(XLK:CEI, XLV:LAG, XLY:CEI)                   0.480929\n",
       "(XLK:CEI, XLV:LAG, VOX:CEI)                   0.480696\n",
       "(XLK:CEI, XLP:CEI, XLY:CEI)                   0.479021\n",
       "(XLK:CEI, XLP:CEI, VOX:CEI)                   0.478789\n",
       "...                                                ...\n",
       "(XLE:CEI, XLF:CEI, XLP:CEI)                  -0.215945\n",
       "(XLE:CEI, XLF:CEI, XLU:CEI)                  -0.217046\n",
       "(XLE:CEI, IYR:LAG, XLV:LAG)                  -0.217241\n",
       "(XLE:CEI, XLF:CEI, IYR:LAG)                  -0.217663\n",
       "(XLE:CEI, IYR:LAG, XLU:CEI)                  -0.218913\n",
       "\n",
       "[165 rows x 1 columns]"
      ]
     },
     "execution_count": 49,
     "metadata": {},
     "output_type": "execute_result"
    }
   ],
   "source": [
    "three_portfolioReturns_20 = pd.DataFrame(three_portfolioReturns, index=portfolio_numbers_df, \n",
    "                                 columns=[\"Expected annual return %:\"])\n",
    "three_portfolioReturns_20.sort_values(by=[\"Expected annual return %:\"], ascending=False)"
   ]
  },
  {
   "cell_type": "markdown",
   "id": "f2936cdb",
   "metadata": {
    "id": "2b36ad87"
   },
   "source": [
    "7.5\tHow does the PCA portfolio return compare to the 2020  3-security portfolio returns?"
   ]
  },
  {
   "cell_type": "markdown",
   "id": "0648140e",
   "metadata": {
    "id": "aac555f1"
   },
   "source": [
    "Using the PCA weights, If we compare the PCA portfolio and 3-security portfolio returns on 2020 data:\n",
    "\n",
    "* For the PCA portfolio (XLK, XLE, XLV) on 2020 data, we get Expected Return: -19%.\n",
    "\n",
    "* If we compare it to portfolio (XLE, XLF, XLK) just like from 7.3, we get Expected Return -21%.\n",
    "    \n",
    "* Overall, using PCA weights, we get more negative returns. If look at XLB, XLE, VOX portfolio from 5.5, we can see that the Expected Return is 76%, while using PCA weights we get 49%"
   ]
  }
 ],
 "metadata": {
  "colab": {
   "collapsed_sections": [],
   "name": "GWP_2 Final.ipynb",
   "provenance": []
  },
  "kernelspec": {
   "display_name": "Python 3",
   "language": "python",
   "name": "python3"
  },
  "language_info": {
   "codemirror_mode": {
    "name": "ipython",
    "version": 3
   },
   "file_extension": ".py",
   "mimetype": "text/x-python",
   "name": "python",
   "nbconvert_exporter": "python",
   "pygments_lexer": "ipython3",
   "version": "3.8.3"
  }
 },
 "nbformat": 4,
 "nbformat_minor": 5
}
