{
 "cells": [
  {
   "cell_type": "markdown",
   "metadata": {},
   "source": [
    "# Group Work Submission 2\n",
    "Comparing 3 asset classes during COVID"
   ]
  },
  {
   "cell_type": "markdown",
   "metadata": {},
   "source": [
    "* Select a gold Exchange Traded Fund: GLD SPDR Gold Shares [NYSE],  \n",
    "* Select an equity ETF from outside the US: EXS1 Shares Core DAX UCITS ETF (DE), \n",
    "* Select bitcoin BTC-USD (CoinMarketCap. Currency in USD)."
   ]
  },
  {
   "cell_type": "code",
   "execution_count": 1,
   "metadata": {},
   "outputs": [],
   "source": [
    "import quandl\n",
    "import pandas as pd\n",
    "import pandas_datareader.data as reader\n",
    "import datetime as dt\n",
    "import statsmodels.api as sm\n",
    "import yfinance as yf\n",
    "from pandas_datareader import data as pdr\n",
    "import numpy as np\n",
    "from numpy import mean\n",
    "from numpy import cov\n",
    "import statistics\n",
    "import matplotlib as plt\n",
    "import matplotlib.pyplot as plt\n",
    "import mplfinance as mpf\n",
    "from matplotlib import rcParams\n",
    "import statsmodels\n",
    "from scipy import stats\n",
    "from statsmodels.graphics.tsaplots import plot_acf, plot_pacf\n",
    "from statsmodels.tsa.arima_process import ArmaProcess\n",
    "from statsmodels.tsa.arima_model import ARIMA\n",
    "from statsmodels.tsa.arima_model import ARMA\n",
    "from arch import arch_model\n",
    "import statsmodels.tsa.stattools as sts\n",
    "from arch.unitroot import engle_granger\n",
    "from random import gauss\n",
    "from statsmodels.tsa.vector_ar.vecm import VECM\n",
    "import statsmodels.api as sm\n",
    "from statsmodels.tsa.api import VAR\n",
    "from pandas.tseries.holiday import USFederalHolidayCalendar\n",
    "from pandas.tseries.offsets import CustomBusinessDay\n",
    "from statsmodels.tsa.vector_ar.vecm import coint_johansen\n",
    "import warnings\n",
    "warnings.filterwarnings('ignore')"
   ]
  },
  {
   "cell_type": "markdown",
   "metadata": {},
   "source": [
    "# Data Importing\n",
    "\n",
    "Import closing prices for the entire year of 2020 for  your GOLD ETF, your equity ETF, and bitcoin.\n",
    "* Import your gold ETF prices for the months of April 2020 through Dec 2020. \n",
    "* Import your equity ETF prices for the months of April 2020 through Dec 2020.\n",
    "* Import your bitcoin prices for the months of April 2020 through Dec 2020."
   ]
  },
  {
   "cell_type": "code",
   "execution_count": 2,
   "metadata": {},
   "outputs": [],
   "source": [
    "GoldETF = pdr.get_data_yahoo(\"GLD\", start=\"2020-04-01\", end=\"2020-12-31\")\n",
    "#NYSE was closed on Thursday, 26 November & 25 Maj\n",
    "#Saved the data in csv\n",
    "#GoldETF.to_csv(\"GLD.csv\")"
   ]
  },
  {
   "cell_type": "code",
   "execution_count": 3,
   "metadata": {},
   "outputs": [],
   "source": [
    "StockETF = pdr.get_data_yahoo(\"EXS1.DE\", start=\"2020-04-01\", end=\"2020-12-31\")\n",
    "#Dax was closed on Apr 13, 2020, Apr 10, 2020, May 01, 2020, Jun 01, 2020, Dec 24-25, 2020, Dec 31, 2020\n",
    "#Saved the data in csv\n",
    "#StockETF.to_csv(\"StockETF.csv\")"
   ]
  },
  {
   "cell_type": "code",
   "execution_count": 4,
   "metadata": {},
   "outputs": [],
   "source": [
    "BTC = pdr.get_data_yahoo(\"BTC-USD\", start=\"2020-04-02\", end=\"2020-12-30\")\n",
    "#If I import from 2020-04-01 to 2020-12-31, it includes 31st of March and 1st of Jan\n",
    "#Saved the data in csv\n",
    "#BTC.to_csv(\"BTC.csv\")"
   ]
  },
  {
   "cell_type": "markdown",
   "metadata": {},
   "source": [
    "# Data Processing"
   ]
  },
  {
   "cell_type": "markdown",
   "metadata": {},
   "source": [
    "Compute the daily returns of your Gold ETF, your Equity ETF, and bitcoin of April 2020 through Dec 2020"
   ]
  },
  {
   "cell_type": "code",
   "execution_count": 5,
   "metadata": {},
   "outputs": [],
   "source": [
    "GoldETFreturn = np.log(GoldETF['Adj Close']) - np.log(GoldETF['Adj Close'].shift(1))\n",
    "StockETFreturn = np.log(StockETF['Adj Close']) - np.log(StockETF['Adj Close'].shift(1))\n",
    "BTCFreturn = np.log(BTC['Adj Close']) - np.log(BTC['Adj Close'].shift(1))"
   ]
  },
  {
   "cell_type": "code",
   "execution_count": 6,
   "metadata": {},
   "outputs": [
    {
     "data": {
      "text/plain": [
       "Date\n",
       "2020-04-01         NaN\n",
       "2020-04-02    0.016261\n",
       "2020-04-03    0.004925\n",
       "2020-04-06    0.027334\n",
       "2020-04-07   -0.005369\n",
       "                ...   \n",
       "2020-12-24    0.003977\n",
       "2020-12-28   -0.003636\n",
       "2020-12-29    0.003636\n",
       "2020-12-30    0.007626\n",
       "2020-12-31    0.003707\n",
       "Name: Adj Close, Length: 191, dtype: float64"
      ]
     },
     "execution_count": 6,
     "metadata": {},
     "output_type": "execute_result"
    }
   ],
   "source": [
    "GoldETFreturn #Gold returns"
   ]
  },
  {
   "cell_type": "code",
   "execution_count": 7,
   "metadata": {},
   "outputs": [
    {
     "data": {
      "text/plain": [
       "Date\n",
       "2020-04-01         NaN\n",
       "2020-04-02    0.003665\n",
       "2020-04-03   -0.006238\n",
       "2020-04-06    0.055951\n",
       "2020-04-07    0.028367\n",
       "                ...   \n",
       "2020-12-22    0.010916\n",
       "2020-12-23    0.013393\n",
       "2020-12-28    0.014408\n",
       "2020-12-29   -0.001875\n",
       "2020-12-30   -0.002734\n",
       "Name: Adj Close, Length: 190, dtype: float64"
      ]
     },
     "execution_count": 7,
     "metadata": {},
     "output_type": "execute_result"
    }
   ],
   "source": [
    "StockETFreturn #ESX1 returns"
   ]
  },
  {
   "cell_type": "code",
   "execution_count": 8,
   "metadata": {},
   "outputs": [
    {
     "data": {
      "text/plain": [
       "Date\n",
       "2020-04-01         NaN\n",
       "2020-04-02   -0.008906\n",
       "2020-04-03    0.019726\n",
       "2020-04-04   -0.011187\n",
       "2020-04-05    0.068384\n",
       "                ...   \n",
       "2020-12-27   -0.006251\n",
       "2020-12-28    0.030458\n",
       "2020-12-29    0.010198\n",
       "2020-12-30    0.052625\n",
       "2020-12-31    0.005559\n",
       "Name: Adj Close, Length: 270, dtype: float64"
      ]
     },
     "execution_count": 8,
     "metadata": {},
     "output_type": "execute_result"
    }
   ],
   "source": [
    "BTCFreturn #BTC returns"
   ]
  },
  {
   "cell_type": "markdown",
   "metadata": {},
   "source": [
    "# Data Summaries\n"
   ]
  },
  {
   "cell_type": "code",
   "execution_count": 9,
   "metadata": {},
   "outputs": [],
   "source": [
    "GoldETFMA = pdr.get_data_yahoo(\"GLD\", start=\"2020-03-01\", end=\"2020-12-31\")\n",
    "StockETFMA = pdr.get_data_yahoo(\"EXS1.DE\", start=\"2020-03-01\", end=\"2020-12-31\")\n",
    "BTCMA = pdr.get_data_yahoo(\"BTC-USD\", start=\"2020-03-01\", end=\"2020-12-30\")"
   ]
  },
  {
   "cell_type": "markdown",
   "metadata": {},
   "source": [
    "Compute a 20-day moving average price of your GOLD ETF.  The moving average price on 1 April 2020 should include data from March."
   ]
  },
  {
   "cell_type": "code",
   "execution_count": 10,
   "metadata": {},
   "outputs": [
    {
     "data": {
      "image/png": "[encoded data removed]",
      "text/plain": [
       "<Figure size 432x288 with 1 Axes>"
      ]
     },
     "metadata": {
      "needs_background": "light"
     },
     "output_type": "display_data"
    }
   ],
   "source": [
    "Gold20MA = GoldETFMA['Adj Close'].rolling(20).mean()\n",
    "Gold20MA.plot()\n",
    "plt.show()"
   ]
  },
  {
   "cell_type": "markdown",
   "metadata": {},
   "source": [
    "Compute a 20-day moving average price of your equity ETF.  The moving average price on 1 April 2020 should include data from March."
   ]
  },
  {
   "cell_type": "code",
   "execution_count": 11,
   "metadata": {},
   "outputs": [
    {
     "data": {
      "image/png": "[encoded data removed]",
      "text/plain": [
       "<Figure size 432x288 with 1 Axes>"
      ]
     },
     "metadata": {
      "needs_background": "light"
     },
     "output_type": "display_data"
    }
   ],
   "source": [
    "Stcok20MA = StockETFMA['Adj Close'].rolling(20).mean()\n",
    "Stcok20MA.plot()\n",
    "plt.show()"
   ]
  },
  {
   "cell_type": "markdown",
   "metadata": {},
   "source": [
    "Compute a 20-day moving average price of bitcoin.  The moving average price on 1 April 2020 should include data from March."
   ]
  },
  {
   "cell_type": "code",
   "execution_count": 12,
   "metadata": {},
   "outputs": [
    {
     "data": {
      "image/png": "[encoded data removed]",
      "text/plain": [
       "<Figure size 432x288 with 1 Axes>"
      ]
     },
     "metadata": {
      "needs_background": "light"
     },
     "output_type": "display_data"
    }
   ],
   "source": [
    "BTC20MA = BTCMA['Adj Close'].rolling(20).mean()\n",
    "BTC20MA.plot()\n",
    "plt.show()"
   ]
  },
  {
   "cell_type": "markdown",
   "metadata": {},
   "source": [
    "# Graphing"
   ]
  },
  {
   "cell_type": "markdown",
   "metadata": {},
   "source": [
    "Graph each price series along with its moving average from April 2020 through Dec 2020"
   ]
  },
  {
   "cell_type": "markdown",
   "metadata": {},
   "source": [
    "GoldETF Price & MA Chart\n",
    "\n",
    "* In April, the price moves above the 20 day MA.\n",
    "* From Maj, prices moves around (above & below) the 20 day MA, which is a straith line until July. Shows that price move sideways\n",
    "* During the second half of the summer price moves above the 20 day MA, by end of summer priced extends way above 20 day MA\n",
    "* In Sept, the price goes under the 20 day MA, and stay under it most of the time during the rest of the year. Shows price slowly trending downwards. "
   ]
  },
  {
   "cell_type": "code",
   "execution_count": 13,
   "metadata": {},
   "outputs": [
    {
     "data": {
      "image/png": "[encoded data removed]",
      "text/plain": [
       "<Figure size 864x288 with 1 Axes>"
      ]
     },
     "metadata": {
      "needs_background": "light"
     },
     "output_type": "display_data"
    }
   ],
   "source": [
    "plt.figure(figsize=(12,4))\n",
    "plt.plot(GoldETF['Adj Close'], label='GLD', color='gold')\n",
    "plt.plot(Gold20MA, label='MA 20 day', color='b')\n",
    "plt.title('Gold ETF & 20 day MA')\n",
    "plt.xlabel('Date')\n",
    "plt.ylabel('Gold Price')\n",
    "plt.legend(loc=2)\n",
    "plt.tick_params(axis='x', labelsize=7)"
   ]
  },
  {
   "cell_type": "markdown",
   "metadata": {},
   "source": [
    "StockETF Price & MA Chart\n",
    "\n",
    "* In April, the price moves above the 20 day MA, and stays above it most of the time during Q2 & Q3. Shows price treding upwards.\n",
    "\n",
    "* In Sept, the price goes under the 20 day MA, and stay under it till November. In Q2 & Q3 20 day MA doesn`t change much. Shows price moves sideways. \n",
    "* In November price raises above the 20 day MA again, and stay above it till end of December. "
   ]
  },
  {
   "cell_type": "code",
   "execution_count": 14,
   "metadata": {},
   "outputs": [
    {
     "data": {
      "image/png": "[encoded data removed]",
      "text/plain": [
       "<Figure size 864x288 with 1 Axes>"
      ]
     },
     "metadata": {
      "needs_background": "light"
     },
     "output_type": "display_data"
    }
   ],
   "source": [
    "plt.figure(figsize=(12,4))\n",
    "plt.plot(StockETF['Adj Close'], label='ESX1', color='black')\n",
    "plt.plot(Stcok20MA, label='MA 20 day', color='y')\n",
    "plt.title('ESX1 ETF & 20 day MA')\n",
    "plt.xlabel('Date')\n",
    "plt.ylabel('ESX1 Price')\n",
    "plt.legend(loc=2)\n",
    "plt.tick_params(axis='x', labelsize=7)"
   ]
  },
  {
   "cell_type": "markdown",
   "metadata": {},
   "source": [
    "BTC Price & MA Chart\n",
    "\n",
    "* During Q2 & Q3, the price and the 20 day MA move in line with each other. Although they both increase slightly.\n",
    "* In October, price raises above the 20 day MA, and stay above it most of the time till end of December. Price extends way above the 20 day MA. Shows strong trend. "
   ]
  },
  {
   "cell_type": "code",
   "execution_count": 15,
   "metadata": {},
   "outputs": [
    {
     "data": {
      "image/png": "[encoded data removed]",
      "text/plain": [
       "<Figure size 864x288 with 1 Axes>"
      ]
     },
     "metadata": {
      "needs_background": "light"
     },
     "output_type": "display_data"
    }
   ],
   "source": [
    "plt.figure(figsize=(12,4))\n",
    "plt.plot(BTC['Adj Close'], label='BTC', color='b')\n",
    "plt.plot(BTC20MA, label='MA 20 day', color='r')\n",
    "plt.title('Bitcoin & 20 day MA')\n",
    "plt.xlabel('Date')\n",
    "plt.ylabel('Bitcoin Price')\n",
    "plt.legend(loc=2)\n",
    "plt.tick_params(axis='x', labelsize=7)"
   ]
  },
  {
   "cell_type": "markdown",
   "metadata": {},
   "source": [
    "Graph gold and equity prices on the same plot.  Use a separate scale for each series, and be sure to add a label and legend"
   ]
  },
  {
   "cell_type": "code",
   "execution_count": 16,
   "metadata": {},
   "outputs": [
    {
     "data": {
      "image/png": "[encoded data removed]",
      "text/plain": [
       "<Figure size 1080x360 with 2 Axes>"
      ]
     },
     "metadata": {},
     "output_type": "display_data"
    }
   ],
   "source": [
    "left_data = GoldETF['Adj Close']\n",
    "right_data = StockETF['Adj Close']\n",
    "\n",
    "fig, ax_left = plt.subplots(figsize=(15,5))\n",
    "ax_right = ax_left.twinx()\n",
    "\n",
    "ax_left.plot(left_data, color='gold',)\n",
    "ax_right.plot(right_data, color='black')\n",
    "ax_left.set_ylabel('Gold ETF', color='gold')\n",
    "ax_right.set_ylabel('Equity ETF (ESX1)', color='black')\n",
    "plt.title('GLD & Equity ETF (ESX1) Price Chart')\n",
    "for tl in ax_left.get_yticklabels():\n",
    "    tl.set_color('gold')"
   ]
  },
  {
   "cell_type": "markdown",
   "metadata": {},
   "source": [
    "Graph gold and bitcoin prices on the same plot.  Use a separate scale for each series, and be sure to add a label and legend"
   ]
  },
  {
   "cell_type": "code",
   "execution_count": 17,
   "metadata": {},
   "outputs": [
    {
     "data": {
      "image/png": "[encoded data removed]",
      "text/plain": [
       "<Figure size 1080x360 with 2 Axes>"
      ]
     },
     "metadata": {},
     "output_type": "display_data"
    }
   ],
   "source": [
    "left_data = GoldETF['Adj Close']\n",
    "right_data = BTC['Adj Close']\n",
    "\n",
    "fig, ax_left = plt.subplots(figsize=(15,5))\n",
    "ax_right = ax_left.twinx()\n",
    "\n",
    "ax_left.plot(left_data, color='gold')\n",
    "ax_right.plot(right_data, color='blue')\n",
    "ax_left.set_ylabel('Gold ETF', color='gold')\n",
    "ax_right.set_ylabel('Bitcoin', color='blue')\n",
    "plt.title('GLD & BTC Price Chart')\n",
    "for tl in ax_left.get_yticklabels():\n",
    "    tl.set_color('gold')\n",
    "for tl in ax_right.get_yticklabels():\n",
    "    tl.set_color('b')"
   ]
  },
  {
   "cell_type": "markdown",
   "metadata": {},
   "source": [
    "Graph equity and bitcoin prices on the same plot.  Use a separate scale for each series, and be sure to add a label and legend"
   ]
  },
  {
   "cell_type": "code",
   "execution_count": 18,
   "metadata": {},
   "outputs": [
    {
     "data": {
      "image/png": "[encoded data removed]",
      "text/plain": [
       "<Figure size 1080x360 with 2 Axes>"
      ]
     },
     "metadata": {
      "needs_background": "light"
     },
     "output_type": "display_data"
    }
   ],
   "source": [
    "left_data = StockETF['Adj Close']\n",
    "right_data = BTC['Adj Close']\n",
    "\n",
    "fig, ax_left = plt.subplots(figsize=(15,5))\n",
    "ax_right = ax_left.twinx()\n",
    "\n",
    "ax_left.plot(left_data, color='black', )\n",
    "ax_right.plot(right_data, color='blue')\n",
    "ax_left.set_ylabel('Equity ETF (ESX1)', color='black')\n",
    "ax_right.set_ylabel('BTC', color='blue')\n",
    "plt.title('ESX1 & BTC Price Chart')\n",
    "for tl in ax_right.get_yticklabels():\n",
    "    tl.set_color('b')"
   ]
  },
  {
   "cell_type": "markdown",
   "metadata": {},
   "source": [
    "# Fitting a GARCH Model"
   ]
  },
  {
   "cell_type": "markdown",
   "metadata": {},
   "source": [
    "Pick one of the 3 series (gold, equity, or bitcoin).  \n",
    "\n",
    "Fit a GARCH model for Q2.  Fit a GARCH model for Q3.  Fit a GARCH model for Q4.\n",
    "\n",
    "\n",
    "\n",
    "* Picked Gold GLD ETF"
   ]
  },
  {
   "cell_type": "code",
   "execution_count": 19,
   "metadata": {},
   "outputs": [],
   "source": [
    "GOLDETFreturn = GoldETFreturn.dropna() #Remove NA\n",
    "Q2GoldReturn = GOLDETFreturn.iloc[0: 62] #Q2 data\n",
    "Q3GoldQReturn = GOLDETFreturn.iloc[62: 126] #Q3 data\n",
    "Q4GoldReturn = GOLDETFreturn.iloc[126: 190] #Q4 data"
   ]
  },
  {
   "cell_type": "code",
   "execution_count": 20,
   "metadata": {},
   "outputs": [],
   "source": [
    "#plot_acf(Q2GoldReturn) #The ACF and PACF plots can then be interpreted to estimate values for p and q"
   ]
  },
  {
   "cell_type": "code",
   "execution_count": 21,
   "metadata": {},
   "outputs": [],
   "source": [
    "#plot_pacf(Q2GoldReturn)"
   ]
  },
  {
   "cell_type": "markdown",
   "metadata": {},
   "source": [
    "GARCH model for Q2"
   ]
  },
  {
   "cell_type": "code",
   "execution_count": 22,
   "metadata": {
    "scrolled": true
   },
   "outputs": [
    {
     "name": "stdout",
     "output_type": "stream",
     "text": [
      "Iteration:      1,   Func. Count:      6,   Neg. LLF: 1.4125036769162028e+16\n",
      "Iteration:      2,   Func. Count:     17,   Neg. LLF: 21241012324679.004\n",
      "Iteration:      3,   Func. Count:     28,   Neg. LLF: -197.17885741778028\n",
      "Optimization terminated successfully    (Exit mode 0)\n",
      "            Current function value: -197.17885784555574\n",
      "            Iterations: 7\n",
      "            Function evaluations: 28\n",
      "            Gradient evaluations: 3\n"
     ]
    },
    {
     "data": {
      "text/html": [
       "<table class=\"simpletable\">\n",
       "<caption>Constant Mean - GARCH Model Results</caption>\n",
       "<tr>\n",
       "  <th>Dep. Variable:</th>      <td>Adj Close</td>     <th>  R-squared:         </th>  <td>   0.000</td> \n",
       "</tr>\n",
       "<tr>\n",
       "  <th>Mean Model:</th>       <td>Constant Mean</td>   <th>  Adj. R-squared:    </th>  <td>   0.000</td> \n",
       "</tr>\n",
       "<tr>\n",
       "  <th>Vol Model:</th>            <td>GARCH</td>       <th>  Log-Likelihood:    </th> <td>   197.179</td>\n",
       "</tr>\n",
       "<tr>\n",
       "  <th>Distribution:</th>        <td>Normal</td>       <th>  AIC:               </th> <td>  -386.358</td>\n",
       "</tr>\n",
       "<tr>\n",
       "  <th>Method:</th>        <td>Maximum Likelihood</td> <th>  BIC:               </th> <td>  -377.849</td>\n",
       "</tr>\n",
       "<tr>\n",
       "  <th></th>                        <td></td>          <th>  No. Observations:  </th>     <td>62</td>    \n",
       "</tr>\n",
       "<tr>\n",
       "  <th>Date:</th>           <td>Mon, Apr 12 2021</td>  <th>  Df Residuals:      </th>     <td>61</td>    \n",
       "</tr>\n",
       "<tr>\n",
       "  <th>Time:</th>               <td>12:41:02</td>      <th>  Df Model:          </th>      <td>1</td>    \n",
       "</tr>\n",
       "</table>\n",
       "<table class=\"simpletable\">\n",
       "<caption>Mean Model</caption>\n",
       "<tr>\n",
       "   <td></td>     <th>coef</th>     <th>std err</th>      <th>t</th>       <th>P>|t|</th>      <th>95.0% Conf. Int.</th>   \n",
       "</tr>\n",
       "<tr>\n",
       "  <th>mu</th> <td>1.4421e-03</td> <td>1.258e-03</td> <td>    1.146</td> <td>    0.252</td> <td>[-1.024e-03,3.908e-03]</td>\n",
       "</tr>\n",
       "</table>\n",
       "<table class=\"simpletable\">\n",
       "<caption>Volatility Model</caption>\n",
       "<tr>\n",
       "      <td></td>        <th>coef</th>     <th>std err</th>      <th>t</th>       <th>P>|t|</th>     <th>95.0% Conf. Int.</th>   \n",
       "</tr>\n",
       "<tr>\n",
       "  <th>omega</th>    <td>1.0523e-05</td> <td>5.865e-09</td> <td> 1794.178</td>   <td>0.000</td>   <td>[1.051e-05,1.053e-05]</td>\n",
       "</tr>\n",
       "<tr>\n",
       "  <th>alpha[1]</th> <td>    0.0500</td> <td>    0.352</td> <td>    0.142</td> <td>    0.887</td>   <td>[ -0.639,  0.739]</td>  \n",
       "</tr>\n",
       "<tr>\n",
       "  <th>beta[1]</th>  <td>    0.8500</td> <td>    0.281</td> <td>    3.028</td> <td>2.462e-03</td>   <td>[  0.300,  1.400]</td>  \n",
       "</tr>\n",
       "</table><br/><br/>Covariance estimator: robust"
      ],
      "text/plain": [
       "<class 'statsmodels.iolib.summary.Summary'>\n",
       "\"\"\"\n",
       "                     Constant Mean - GARCH Model Results                      \n",
       "==============================================================================\n",
       "Dep. Variable:              Adj Close   R-squared:                       0.000\n",
       "Mean Model:             Constant Mean   Adj. R-squared:                  0.000\n",
       "Vol Model:                      GARCH   Log-Likelihood:                197.179\n",
       "Distribution:                  Normal   AIC:                          -386.358\n",
       "Method:            Maximum Likelihood   BIC:                          -377.849\n",
       "                                        No. Observations:                   62\n",
       "Date:                Mon, Apr 12 2021   Df Residuals:                       61\n",
       "Time:                        12:41:02   Df Model:                            1\n",
       "                                  Mean Model                                 \n",
       "=============================================================================\n",
       "                 coef    std err          t      P>|t|       95.0% Conf. Int.\n",
       "-----------------------------------------------------------------------------\n",
       "mu         1.4421e-03  1.258e-03      1.146      0.252 [-1.024e-03,3.908e-03]\n",
       "                              Volatility Model                              \n",
       "============================================================================\n",
       "                 coef    std err          t      P>|t|      95.0% Conf. Int.\n",
       "----------------------------------------------------------------------------\n",
       "omega      1.0523e-05  5.865e-09   1794.178      0.000 [1.051e-05,1.053e-05]\n",
       "alpha[1]       0.0500      0.352      0.142      0.887     [ -0.639,  0.739]\n",
       "beta[1]        0.8500      0.281      3.028  2.462e-03     [  0.300,  1.400]\n",
       "============================================================================\n",
       "\n",
       "Covariance estimator: robust\n",
       "\"\"\""
      ]
     },
     "execution_count": 22,
     "metadata": {},
     "output_type": "execute_result"
    }
   ],
   "source": [
    "Q2Goldgarch = arch_model(Q2GoldReturn, vol = \"GARCH\", mean = \"Constant\", dist = \"Normal\", p = 1, q = 1)\n",
    "Q2Goldgarchresult = Q2Goldgarch.fit()\n",
    "Q2Goldgarchresult.summary()"
   ]
  },
  {
   "cell_type": "markdown",
   "metadata": {},
   "source": [
    "GARCH model for Q3"
   ]
  },
  {
   "cell_type": "code",
   "execution_count": 23,
   "metadata": {},
   "outputs": [
    {
     "name": "stdout",
     "output_type": "stream",
     "text": [
      "Iteration:      1,   Func. Count:      8,   Neg. LLF: 11287377.5112761\n",
      "Iteration:      2,   Func. Count:     21,   Neg. LLF: 1828.5345785374016\n",
      "Iteration:      3,   Func. Count:     32,   Neg. LLF: 141764.37156536026\n",
      "Iteration:      4,   Func. Count:     40,   Neg. LLF: 1148.4280948715923\n",
      "Iteration:      5,   Func. Count:     51,   Neg. LLF: -70.53092334780467\n",
      "Iteration:      6,   Func. Count:     60,   Neg. LLF: 24041621.328520957\n",
      "Iteration:      7,   Func. Count:     72,   Neg. LLF: -194.11609445071392\n",
      "Optimization terminated successfully    (Exit mode 0)\n",
      "            Current function value: -194.11609447778363\n",
      "            Iterations: 11\n",
      "            Function evaluations: 72\n",
      "            Gradient evaluations: 7\n"
     ]
    },
    {
     "data": {
      "text/html": [
       "<table class=\"simpletable\">\n",
       "<caption>Constant Mean - GARCH Model Results</caption>\n",
       "<tr>\n",
       "  <th>Dep. Variable:</th>      <td>Adj Close</td>     <th>  R-squared:         </th>  <td>   0.000</td> \n",
       "</tr>\n",
       "<tr>\n",
       "  <th>Mean Model:</th>       <td>Constant Mean</td>   <th>  Adj. R-squared:    </th>  <td>   0.000</td> \n",
       "</tr>\n",
       "<tr>\n",
       "  <th>Vol Model:</th>            <td>GARCH</td>       <th>  Log-Likelihood:    </th> <td>   194.116</td>\n",
       "</tr>\n",
       "<tr>\n",
       "  <th>Distribution:</th>        <td>Normal</td>       <th>  AIC:               </th> <td>  -376.232</td>\n",
       "</tr>\n",
       "<tr>\n",
       "  <th>Method:</th>        <td>Maximum Likelihood</td> <th>  BIC:               </th> <td>  -363.279</td>\n",
       "</tr>\n",
       "<tr>\n",
       "  <th></th>                        <td></td>          <th>  No. Observations:  </th>     <td>64</td>    \n",
       "</tr>\n",
       "<tr>\n",
       "  <th>Date:</th>           <td>Mon, Apr 12 2021</td>  <th>  Df Residuals:      </th>     <td>63</td>    \n",
       "</tr>\n",
       "<tr>\n",
       "  <th>Time:</th>               <td>12:41:02</td>      <th>  Df Model:          </th>      <td>1</td>    \n",
       "</tr>\n",
       "</table>\n",
       "<table class=\"simpletable\">\n",
       "<caption>Mean Model</caption>\n",
       "<tr>\n",
       "   <td></td>     <th>coef</th>     <th>std err</th>      <th>t</th>       <th>P>|t|</th>      <th>95.0% Conf. Int.</th>   \n",
       "</tr>\n",
       "<tr>\n",
       "  <th>mu</th> <td>1.1962e-03</td> <td>1.371e-03</td> <td>    0.873</td> <td>    0.383</td> <td>[-1.490e-03,3.883e-03]</td>\n",
       "</tr>\n",
       "</table>\n",
       "<table class=\"simpletable\">\n",
       "<caption>Volatility Model</caption>\n",
       "<tr>\n",
       "      <td></td>        <th>coef</th>     <th>std err</th>      <th>t</th>       <th>P>|t|</th>     <th>95.0% Conf. Int.</th>   \n",
       "</tr>\n",
       "<tr>\n",
       "  <th>omega</th>    <td>4.1641e-05</td> <td>1.437e-05</td> <td>    2.898</td> <td>3.751e-03</td> <td>[1.348e-05,6.980e-05]</td>\n",
       "</tr>\n",
       "<tr>\n",
       "  <th>alpha[1]</th> <td>    0.0891</td> <td>9.319e-02</td> <td>    0.956</td> <td>    0.339</td> <td>[-9.360e-02,  0.272]</td> \n",
       "</tr>\n",
       "<tr>\n",
       "  <th>alpha[2]</th> <td>    0.1985</td> <td>    0.240</td> <td>    0.828</td> <td>    0.408</td>   <td>[ -0.272,  0.669]</td>  \n",
       "</tr>\n",
       "<tr>\n",
       "  <th>beta[1]</th>  <td>    0.2226</td> <td>    0.318</td> <td>    0.701</td> <td>    0.483</td>   <td>[ -0.400,  0.845]</td>  \n",
       "</tr>\n",
       "<tr>\n",
       "  <th>beta[2]</th>  <td>    0.2226</td> <td>    0.296</td> <td>    0.753</td> <td>    0.451</td>   <td>[ -0.357,  0.802]</td>  \n",
       "</tr>\n",
       "</table><br/><br/>Covariance estimator: robust"
      ],
      "text/plain": [
       "<class 'statsmodels.iolib.summary.Summary'>\n",
       "\"\"\"\n",
       "                     Constant Mean - GARCH Model Results                      \n",
       "==============================================================================\n",
       "Dep. Variable:              Adj Close   R-squared:                       0.000\n",
       "Mean Model:             Constant Mean   Adj. R-squared:                  0.000\n",
       "Vol Model:                      GARCH   Log-Likelihood:                194.116\n",
       "Distribution:                  Normal   AIC:                          -376.232\n",
       "Method:            Maximum Likelihood   BIC:                          -363.279\n",
       "                                        No. Observations:                   64\n",
       "Date:                Mon, Apr 12 2021   Df Residuals:                       63\n",
       "Time:                        12:41:02   Df Model:                            1\n",
       "                                  Mean Model                                 \n",
       "=============================================================================\n",
       "                 coef    std err          t      P>|t|       95.0% Conf. Int.\n",
       "-----------------------------------------------------------------------------\n",
       "mu         1.1962e-03  1.371e-03      0.873      0.383 [-1.490e-03,3.883e-03]\n",
       "                              Volatility Model                              \n",
       "============================================================================\n",
       "                 coef    std err          t      P>|t|      95.0% Conf. Int.\n",
       "----------------------------------------------------------------------------\n",
       "omega      4.1641e-05  1.437e-05      2.898  3.751e-03 [1.348e-05,6.980e-05]\n",
       "alpha[1]       0.0891  9.319e-02      0.956      0.339  [-9.360e-02,  0.272]\n",
       "alpha[2]       0.1985      0.240      0.828      0.408     [ -0.272,  0.669]\n",
       "beta[1]        0.2226      0.318      0.701      0.483     [ -0.400,  0.845]\n",
       "beta[2]        0.2226      0.296      0.753      0.451     [ -0.357,  0.802]\n",
       "============================================================================\n",
       "\n",
       "Covariance estimator: robust\n",
       "\"\"\""
      ]
     },
     "execution_count": 23,
     "metadata": {},
     "output_type": "execute_result"
    }
   ],
   "source": [
    "Q3Goldgarch = arch_model(Q3GoldQReturn, vol = \"GARCH\", p = 2, q = 2, mean = \"Constant\", dist = \"Normal\")\n",
    "Q3Goldgarchresult = Q3Goldgarch.fit()\n",
    "Q3Goldgarchresult.summary()"
   ]
  },
  {
   "cell_type": "markdown",
   "metadata": {},
   "source": [
    "GARCH model for Q4"
   ]
  },
  {
   "cell_type": "code",
   "execution_count": 24,
   "metadata": {},
   "outputs": [
    {
     "name": "stdout",
     "output_type": "stream",
     "text": [
      "Iteration:      1,   Func. Count:      8,   Neg. LLF: 29085558.59592988\n",
      "Iteration:      2,   Func. Count:     21,   Neg. LLF: -174.34197548253155\n",
      "Iteration:      3,   Func. Count:     31,   Neg. LLF: 578392.8318329575\n",
      "Iteration:      4,   Func. Count:     44,   Neg. LLF: -109.33088949209267\n",
      "Iteration:      5,   Func. Count:     53,   Neg. LLF: 77136070.05481845\n",
      "Iteration:      6,   Func. Count:     66,   Neg. LLF: 43.91307376043022\n",
      "Iteration:      7,   Func. Count:     74,   Neg. LLF: -188.53271217768963\n",
      "Iteration:      8,   Func. Count:     83,   Neg. LLF: 327567098.3713394\n",
      "Iteration:      9,   Func. Count:     96,   Neg. LLF: 26656440.62744944\n",
      "Iteration:     10,   Func. Count:    108,   Neg. LLF: -204.2818502486516\n",
      "Optimization terminated successfully    (Exit mode 0)\n",
      "            Current function value: -204.28185037107932\n",
      "            Iterations: 14\n",
      "            Function evaluations: 108\n",
      "            Gradient evaluations: 10\n"
     ]
    },
    {
     "data": {
      "text/html": [
       "<table class=\"simpletable\">\n",
       "<caption>Constant Mean - GARCH Model Results</caption>\n",
       "<tr>\n",
       "  <th>Dep. Variable:</th>      <td>Adj Close</td>     <th>  R-squared:         </th>  <td>   0.000</td> \n",
       "</tr>\n",
       "<tr>\n",
       "  <th>Mean Model:</th>       <td>Constant Mean</td>   <th>  Adj. R-squared:    </th>  <td>   0.000</td> \n",
       "</tr>\n",
       "<tr>\n",
       "  <th>Vol Model:</th>            <td>GARCH</td>       <th>  Log-Likelihood:    </th> <td>   204.282</td>\n",
       "</tr>\n",
       "<tr>\n",
       "  <th>Distribution:</th>        <td>Normal</td>       <th>  AIC:               </th> <td>  -396.564</td>\n",
       "</tr>\n",
       "<tr>\n",
       "  <th>Method:</th>        <td>Maximum Likelihood</td> <th>  BIC:               </th> <td>  -383.610</td>\n",
       "</tr>\n",
       "<tr>\n",
       "  <th></th>                        <td></td>          <th>  No. Observations:  </th>     <td>64</td>    \n",
       "</tr>\n",
       "<tr>\n",
       "  <th>Date:</th>           <td>Mon, Apr 12 2021</td>  <th>  Df Residuals:      </th>     <td>63</td>    \n",
       "</tr>\n",
       "<tr>\n",
       "  <th>Time:</th>               <td>12:41:02</td>      <th>  Df Model:          </th>      <td>1</td>    \n",
       "</tr>\n",
       "</table>\n",
       "<table class=\"simpletable\">\n",
       "<caption>Mean Model</caption>\n",
       "<tr>\n",
       "   <td></td>     <th>coef</th>      <th>std err</th>       <th>t</th>       <th>P>|t|</th>      <th>95.0% Conf. Int.</th>   \n",
       "</tr>\n",
       "<tr>\n",
       "  <th>mu</th> <td>-4.8025e-05</td> <td>1.064e-03</td> <td>-4.515e-02</td> <td>    0.964</td> <td>[-2.133e-03,2.037e-03]</td>\n",
       "</tr>\n",
       "</table>\n",
       "<table class=\"simpletable\">\n",
       "<caption>Volatility Model</caption>\n",
       "<tr>\n",
       "      <td></td>        <th>coef</th>     <th>std err</th>      <th>t</th>       <th>P>|t|</th>      <th>95.0% Conf. Int.</th>   \n",
       "</tr>\n",
       "<tr>\n",
       "  <th>omega</th>    <td>5.6110e-05</td> <td>3.064e-05</td> <td>    1.831</td> <td>6.707e-02</td> <td>[-3.945e-06,1.162e-04]</td>\n",
       "</tr>\n",
       "<tr>\n",
       "  <th>alpha[1]</th> <td>    0.0849</td> <td>    0.618</td> <td>    0.138</td> <td>    0.891</td>    <td>[ -1.125,  1.295]</td>  \n",
       "</tr>\n",
       "<tr>\n",
       "  <th>alpha[2]</th> <td>    0.2357</td> <td>    0.272</td> <td>    0.868</td> <td>    0.386</td>    <td>[ -0.297,  0.768]</td>  \n",
       "</tr>\n",
       "<tr>\n",
       "  <th>beta[1]</th>  <td>    0.1274</td> <td>    1.362</td> <td>9.350e-02</td> <td>    0.926</td>    <td>[ -2.543,  2.798]</td>  \n",
       "</tr>\n",
       "<tr>\n",
       "  <th>beta[2]</th>  <td>    0.1274</td> <td>    0.845</td> <td>    0.151</td> <td>    0.880</td>    <td>[ -1.529,  1.784]</td>  \n",
       "</tr>\n",
       "</table><br/><br/>Covariance estimator: robust"
      ],
      "text/plain": [
       "<class 'statsmodels.iolib.summary.Summary'>\n",
       "\"\"\"\n",
       "                     Constant Mean - GARCH Model Results                      \n",
       "==============================================================================\n",
       "Dep. Variable:              Adj Close   R-squared:                       0.000\n",
       "Mean Model:             Constant Mean   Adj. R-squared:                  0.000\n",
       "Vol Model:                      GARCH   Log-Likelihood:                204.282\n",
       "Distribution:                  Normal   AIC:                          -396.564\n",
       "Method:            Maximum Likelihood   BIC:                          -383.610\n",
       "                                        No. Observations:                   64\n",
       "Date:                Mon, Apr 12 2021   Df Residuals:                       63\n",
       "Time:                        12:41:02   Df Model:                            1\n",
       "                                  Mean Model                                  \n",
       "==============================================================================\n",
       "                  coef    std err          t      P>|t|       95.0% Conf. Int.\n",
       "------------------------------------------------------------------------------\n",
       "mu         -4.8025e-05  1.064e-03 -4.515e-02      0.964 [-2.133e-03,2.037e-03]\n",
       "                               Volatility Model                              \n",
       "=============================================================================\n",
       "                 coef    std err          t      P>|t|       95.0% Conf. Int.\n",
       "-----------------------------------------------------------------------------\n",
       "omega      5.6110e-05  3.064e-05      1.831  6.707e-02 [-3.945e-06,1.162e-04]\n",
       "alpha[1]       0.0849      0.618      0.138      0.891      [ -1.125,  1.295]\n",
       "alpha[2]       0.2357      0.272      0.868      0.386      [ -0.297,  0.768]\n",
       "beta[1]        0.1274      1.362  9.350e-02      0.926      [ -2.543,  2.798]\n",
       "beta[2]        0.1274      0.845      0.151      0.880      [ -1.529,  1.784]\n",
       "=============================================================================\n",
       "\n",
       "Covariance estimator: robust\n",
       "\"\"\""
      ]
     },
     "execution_count": 24,
     "metadata": {},
     "output_type": "execute_result"
    }
   ],
   "source": [
    "Q4Goldgarch = arch_model(Q4GoldReturn, vol = \"GARCH\", p = 2, q = 2, mean = \"Constant\", dist = \"Normal\")\n",
    "Q4Goldgarchresult = Q4Goldgarch.fit()\n",
    "Q4Goldgarchresult.summary()"
   ]
  },
  {
   "cell_type": "markdown",
   "metadata": {},
   "source": [
    "Repeat the process, but instead using GARCH-M Model. \n",
    "\n",
    "We included the R code below and Results from R, as python does not feature GARCH-M. Please disregard SyntaxError.\n",
    "\n",
    "GARCH-M model for Q2"
   ]
  },
  {
   "cell_type": "code",
   "execution_count": 25,
   "metadata": {},
   "outputs": [],
   "source": [
    "#library(quantmod)\n",
    "#gld1q <- getSymbols(\"GLD\",from =\"2020-04-01\", to = \"2020-06-30\",auto.assign = FALSE)\n",
    "#gld1q <- gld1q$GLD.Close \n",
    "#gld2q <- getSymbols(\"GLD\",from =\"2020-07-01\", to = \"2020-09-30\",auto.assign = FALSE)\n",
    "#gld2q <- gld2q$GLD.Close\n",
    "#gld3q <- getSymbols(\"GLD\",from =\"2020-10-01\", to = \"2020-12-31\",auto.assign = FALSE)\n",
    "#gld3q <- gld3q$GLD.Close\n",
    "\n",
    "\n",
    "#library(rugarch)\n",
    "#m1q = ugarchspec(variance.model=list(model=\"sGARCH\", garchOrder=c(1,1)), \n",
    "#mean.model=list(armaOrder=c(0,0),include.mean=TRUE,archm=TRUE,archpow=2), distribution.model=\"norm\")\n",
    "#fit1q <- ugarchfit(m1q,gld1q)\n",
    "#fit1q\n"
   ]
  },
  {
   "cell_type": "code",
   "execution_count": 26,
   "metadata": {},
   "outputs": [
    {
     "ename": "SyntaxError",
     "evalue": "invalid syntax (<ipython-input-26-243f5213803b>, line 1)",
     "output_type": "error",
     "traceback": [
      "\u001b[1;36m  File \u001b[1;32m\"<ipython-input-26-243f5213803b>\"\u001b[1;36m, line \u001b[1;32m1\u001b[0m\n\u001b[1;33m    *---------------------------------*\u001b[0m\n\u001b[1;37m                                      ^\u001b[0m\n\u001b[1;31mSyntaxError\u001b[0m\u001b[1;31m:\u001b[0m invalid syntax\n"
     ]
    }
   ],
   "source": [
    "\n",
    "*---------------------------------*\n",
    "*          GARCH Model Fit        *\n",
    "*---------------------------------*\n",
    "\n",
    "Conditional Variance Dynamics \t\n",
    "-----------------------------------\n",
    "GARCH Model\t: sGARCH(1,1)\n",
    "Mean Model\t: ARFIMA(0,0,0)\n",
    "Distribution\t: norm \n",
    "\n",
    "Optimal Parameters\n",
    "------------------------------------\n",
    "        Estimate  Std. Error   t value Pr(>|t|)\n",
    "mu     164.72819    0.475172 346.67044  0.00000\n",
    "archm   -0.65151    0.045251 -14.39769  0.00000\n",
    "omega    0.74376    0.767378   0.96923  0.33243\n",
    "alpha1   0.00000    0.127364   0.00000  1.00000\n",
    "beta1    0.80522    0.046863  17.18237  0.00000\n",
    "\n",
    "Robust Standard Errors:\n",
    "        Estimate  Std. Error   t value Pr(>|t|)\n",
    "mu     164.72819     0.81453 202.23828 0.000000\n",
    "archm   -0.65151     0.46086  -1.41369 0.157454\n",
    "omega    0.74376     3.15900   0.23544 0.813865\n",
    "alpha1   0.00000     0.51969   0.00000 1.000000\n",
    "beta1    0.80522     0.30825   2.61219 0.008996\n",
    "\n",
    "LogLikelihood : -134.6622 \n",
    "\n",
    "Information Criteria\n",
    "------------------------------------\n",
    "                   \n",
    "Akaike       4.5052\n",
    "Bayes        4.6768\n",
    "Shibata      4.4935\n",
    "Hannan-Quinn 4.5726\n",
    "\n",
    "Weighted Ljung-Box Test on Standardized Residuals\n",
    "------------------------------------\n",
    "                        statistic   p-value\n",
    "Lag[1]                      30.32 3.665e-08\n",
    "Lag[2*(p+q)+(p+q)-1][2]     37.89 9.116e-11\n",
    "Lag[4*(p+q)+(p+q)-1][5]     45.76 1.041e-12\n",
    "d.o.f=0\n",
    "H0 : No serial correlation\n",
    "\n",
    "Weighted Ljung-Box Test on Standardized Squared Residuals\n",
    "------------------------------------\n",
    "                        statistic   p-value\n",
    "Lag[1]                      16.71 4.347e-05\n",
    "Lag[2*(p+q)+(p+q)-1][5]     27.80 1.310e-07\n",
    "Lag[4*(p+q)+(p+q)-1][9]     31.90 1.314e-07\n",
    "d.o.f=2\n",
    "\n",
    "Weighted ARCH LM Tests\n",
    "------------------------------------\n",
    "            Statistic Shape Scale P-Value\n",
    "ARCH Lag[3]     4.565 0.500 2.000 0.03263\n",
    "ARCH Lag[5]     5.959 1.440 1.667 0.06141\n",
    "ARCH Lag[7]     7.262 2.315 1.543 0.07623\n",
    "\n",
    "Nyblom stability test\n",
    "------------------------------------\n",
    "Joint Statistic:  2.4802\n",
    "Individual Statistics:             \n",
    "mu     1.2858\n",
    "archm  1.0258\n",
    "omega  0.4353\n",
    "alpha1 0.3947\n",
    "beta1  0.2955\n",
    "\n",
    "Asymptotic Critical Values (10% 5% 1%)\n",
    "Joint Statistic:     \t 1.28 1.47 1.88\n",
    "Individual Statistic:\t 0.35 0.47 0.75\n",
    "\n",
    "Sign Bias Test\n",
    "------------------------------------\n",
    "                   t-value      prob sig\n",
    "Sign Bias            2.587 1.225e-02  **\n",
    "Negative Sign Bias   0.205 8.383e-01    \n",
    "Positive Sign Bias   6.116 9.267e-08 ***\n",
    "Joint Effect        38.759 1.952e-08 ***\n",
    "\n",
    "\n",
    "Adjusted Pearson Goodness-of-Fit Test:\n",
    "------------------------------------\n",
    "  group statistic p-value(g-1)\n",
    "1    20     11.55       0.9040\n",
    "2    30     26.06       0.6220\n",
    "3    40     38.65       0.4859\n",
    "4    50     50.90       0.3986"
   ]
  },
  {
   "cell_type": "markdown",
   "metadata": {},
   "source": [
    "GARCH-M model for Q3"
   ]
  },
  {
   "cell_type": "code",
   "execution_count": null,
   "metadata": {},
   "outputs": [],
   "source": [
    "#m2q = ugarchspec(variance.model=list(model=\"sGARCH\", garchOrder=c(1,1)),\n",
    "#mean.model=list(armaOrder=c(1,0),include.mean=TRUE,archm=TRUE,archpow=2), distribution.model=\"norm\")\n",
    "#fit2q <- ugarchfit(m2q,gld2q)\n",
    "#fit2q"
   ]
  },
  {
   "cell_type": "code",
   "execution_count": null,
   "metadata": {},
   "outputs": [],
   "source": [
    "*---------------------------------*\n",
    "*          GARCH Model Fit        *\n",
    "*---------------------------------*\n",
    "\n",
    "Conditional Variance Dynamics \t\n",
    "-----------------------------------\n",
    "GARCH Model\t: sGARCH(1,1)\n",
    "Mean Model\t: ARFIMA(1,0,0)\n",
    "Distribution\t: norm \n",
    "\n",
    "Optimal Parameters\n",
    "------------------------------------\n",
    "        Estimate  Std. Error   t value Pr(>|t|)\n",
    "mu     165.09794    1.019189  161.9896 0.000000\n",
    "ar1      1.00000    0.000179 5575.0783 0.000000\n",
    "archm    0.29202    0.125703    2.3231 0.020173\n",
    "omega    1.50711    0.182070    8.2777 0.000000\n",
    "alpha1   0.51239    0.210484    2.4343 0.014919\n",
    "beta1    0.26735    0.010004   26.7233 0.000000\n",
    "\n",
    "Robust Standard Errors:\n",
    "        Estimate  Std. Error   t value Pr(>|t|)\n",
    "mu     165.09794    1.782823   92.6048 0.000000\n",
    "ar1      1.00000    0.000214 4667.7377 0.000000\n",
    "archm    0.29202    0.120563    2.4222 0.015428\n",
    "omega    1.50711    0.485346    3.1052 0.001901\n",
    "alpha1   0.51239    0.203066    2.5233 0.011627\n",
    "beta1    0.26735    0.006055   44.1497 0.000000\n",
    "\n",
    "LogLikelihood : -136.6883 \n",
    "\n",
    "Information Criteria\n",
    "------------------------------------\n",
    "                   \n",
    "Akaike       4.5298\n",
    "Bayes        4.7339\n",
    "Shibata      4.5137\n",
    "Hannan-Quinn 4.6101\n",
    "\n",
    "Weighted Ljung-Box Test on Standardized Residuals\n",
    "------------------------------------\n",
    "                        statistic  p-value\n",
    "Lag[1]                     0.4158 0.519051\n",
    "Lag[2*(p+q)+(p+q)-1][2]    3.3337 0.017899\n",
    "Lag[4*(p+q)+(p+q)-1][5]    8.4898 0.004808\n",
    "d.o.f=1\n",
    "H0 : No serial correlation\n",
    "\n",
    "Weighted Ljung-Box Test on Standardized Squared Residuals\n",
    "------------------------------------\n",
    "                        statistic p-value\n",
    "Lag[1]                     0.6953  0.4044\n",
    "Lag[2*(p+q)+(p+q)-1][5]    3.3653  0.3444\n",
    "Lag[4*(p+q)+(p+q)-1][9]    4.8228  0.4559\n",
    "d.o.f=2\n",
    "\n",
    "Weighted ARCH LM Tests\n",
    "------------------------------------\n",
    "            Statistic Shape Scale P-Value\n",
    "ARCH Lag[3]    0.9551 0.500 2.000  0.3284\n",
    "ARCH Lag[5]    1.7959 1.440 1.667  0.5181\n",
    "ARCH Lag[7]    2.4886 2.315 1.543  0.6148\n",
    "\n",
    "Nyblom stability test\n",
    "------------------------------------\n",
    "Joint Statistic:  0.6534\n",
    "Individual Statistics:               \n",
    "mu     0.007898\n",
    "ar1    0.015667\n",
    "archm  0.033195\n",
    "omega  0.144659\n",
    "alpha1 0.051044\n",
    "beta1  0.016744\n",
    "\n",
    "Asymptotic Critical Values (10% 5% 1%)\n",
    "Joint Statistic:     \t 1.49 1.68 2.12\n",
    "Individual Statistic:\t 0.35 0.47 0.75\n",
    "\n",
    "Sign Bias Test\n",
    "------------------------------------\n",
    "                   t-value   prob sig\n",
    "Sign Bias           1.6577 0.1028    \n",
    "Negative Sign Bias  0.6087 0.5451    \n",
    "Positive Sign Bias  1.4832 0.1434    \n",
    "Joint Effect        3.3741 0.3375    \n",
    "\n",
    "\n",
    "Adjusted Pearson Goodness-of-Fit Test:\n",
    "------------------------------------\n",
    "  group statistic p-value(g-1)\n",
    "1    20     45.89    0.0005139\n",
    "2    30     52.71    0.0045330\n",
    "3    40     72.24    0.0009542\n",
    "4    50     79.06    0.0041759\n"
   ]
  },
  {
   "cell_type": "markdown",
   "metadata": {},
   "source": [
    "GARCH-M model for Q4"
   ]
  },
  {
   "cell_type": "code",
   "execution_count": null,
   "metadata": {},
   "outputs": [],
   "source": [
    "#m3q = ugarchspec(variance.model=list(model=\"sGARCH\", garchOrder=c(2,2)),\n",
    "#mean.model=list(armaOrder=c(0,0),include.mean=TRUE,archm=TRUE,archpow=2), distribution.model=\"norm\")\n",
    "#fit3q <- ugarchfit(m3q,gld3q)\n",
    "#fit3q"
   ]
  },
  {
   "cell_type": "code",
   "execution_count": null,
   "metadata": {},
   "outputs": [],
   "source": [
    "*---------------------------------*\n",
    "*          GARCH Model Fit        *\n",
    "*---------------------------------*\n",
    "\n",
    "Conditional Variance Dynamics \t\n",
    "-----------------------------------\n",
    "GARCH Model\t: sGARCH(1,1)\n",
    "Mean Model\t: ARFIMA(0,0,0)\n",
    "Distribution\t: norm \n",
    "\n",
    "Optimal Parameters\n",
    "------------------------------------\n",
    "        Estimate  Std. Error  t value Pr(>|t|)\n",
    "mu     179.00976    0.342740 522.2900 0.000000\n",
    "archm   -0.17956    0.037964  -4.7299 0.000002\n",
    "omega    1.15536    1.071773   1.0780 0.281036\n",
    "alpha1   0.58880    0.263028   2.2385 0.025185\n",
    "beta1    0.41020    0.305840   1.3412 0.179849\n",
    "\n",
    "Robust Standard Errors:\n",
    "        Estimate  Std. Error   t value Pr(>|t|)\n",
    "mu     179.00976    0.505630 354.03279 0.000000\n",
    "archm   -0.17956    0.028904  -6.21243 0.000000\n",
    "omega    1.15536    1.612482   0.71651 0.473674\n",
    "alpha1   0.58880    0.312544   1.88390 0.059579\n",
    "beta1    0.41020    0.467300   0.87780 0.380050\n",
    "\n",
    "LogLikelihood : -147.6999 \n",
    "\n",
    "Information Criteria\n",
    "------------------------------------\n",
    "                   \n",
    "Akaike       4.8476\n",
    "Bayes        5.0177\n",
    "Shibata      4.8362\n",
    "Hannan-Quinn 4.9145\n",
    "\n",
    "Weighted Ljung-Box Test on Standardized Residuals\n",
    "------------------------------------\n",
    "                        statistic   p-value\n",
    "Lag[1]                      23.76 1.092e-06\n",
    "Lag[2*(p+q)+(p+q)-1][2]     28.19 3.171e-08\n",
    "Lag[4*(p+q)+(p+q)-1][5]     36.35 5.034e-10\n",
    "d.o.f=0\n",
    "H0 : No serial correlation\n",
    "\n",
    "Weighted Ljung-Box Test on Standardized Squared Residuals\n",
    "------------------------------------\n",
    "                        statistic p-value\n",
    "Lag[1]                      1.037  0.3086\n",
    "Lag[2*(p+q)+(p+q)-1][5]     2.928  0.4204\n",
    "Lag[4*(p+q)+(p+q)-1][9]     3.575  0.6615\n",
    "d.o.f=2\n",
    "\n",
    "Weighted ARCH LM Tests\n",
    "------------------------------------\n",
    "            Statistic Shape Scale P-Value\n",
    "ARCH Lag[3]    0.1207 0.500 2.000  0.7283\n",
    "ARCH Lag[5]    0.6256 1.440 1.667  0.8460\n",
    "ARCH Lag[7]    0.8762 2.315 1.543  0.9328\n",
    "\n",
    "Nyblom stability test\n",
    "------------------------------------\n",
    "Joint Statistic:  3.252\n",
    "Individual Statistics:             \n",
    "mu     0.9625\n",
    "archm  2.2704\n",
    "omega  0.3101\n",
    "alpha1 1.2307\n",
    "beta1  0.8536\n",
    "\n",
    "Asymptotic Critical Values (10% 5% 1%)\n",
    "Joint Statistic:     \t 1.28 1.47 1.88\n",
    "Individual Statistic:\t 0.35 0.47 0.75\n",
    "\n",
    "Sign Bias Test\n",
    "------------------------------------\n",
    "                   t-value   prob sig\n",
    "Sign Bias           0.8454 0.4014    \n",
    "Negative Sign Bias  0.2067 0.8370    \n",
    "Positive Sign Bias  0.6785 0.5002    \n",
    "Joint Effect        0.8009 0.8493    \n",
    "\n",
    "\n",
    "Adjusted Pearson Goodness-of-Fit Test:\n",
    "------------------------------------\n",
    "  group statistic p-value(g-1)\n",
    "1    20     30.65      0.04408\n",
    "2    30     39.38      0.09458\n",
    "3    40     51.92      0.08067\n",
    "4    50     63.19      0.08372\n"
   ]
  },
  {
   "cell_type": "markdown",
   "metadata": {},
   "source": [
    "Repeat the process one more time, using another variation of GARCH (e.g. Threshold GARCH, Exponential GARCH, Integrated GARCH)\n",
    "* Picked EGARCH as this works better for stocks.\n",
    "\n",
    "EGARCH model for Q2"
   ]
  },
  {
   "cell_type": "code",
   "execution_count": null,
   "metadata": {},
   "outputs": [],
   "source": [
    "FitQ2GoldReturn = Q2GoldReturn*100 #Multiplied by 100, in avoid error, because vaules are close to 0, thus model fails.\n",
    "Q2GoldEgarch = arch_model(FitQ2GoldReturn, vol = \"EGARCH\", p = 1, q = 1, mean = \"constant\", dist = \"Normal\")\n",
    "Q2GoldgEarchresult = Q2GoldEgarch.fit()\n",
    "Q2GoldgEarchresult.summary()"
   ]
  },
  {
   "cell_type": "markdown",
   "metadata": {},
   "source": [
    "EGARCH model for Q3"
   ]
  },
  {
   "cell_type": "code",
   "execution_count": null,
   "metadata": {},
   "outputs": [],
   "source": [
    "Q3GoldEgarch = arch_model(Q3GoldQReturn, vol = \"EGARCH\", p = 2, q = 2, mean = \"constant\", dist = \"Normal\")\n",
    "Q3GoldEgarchresult = Q3GoldEgarch.fit()\n",
    "Q3GoldEgarchresult.summary()"
   ]
  },
  {
   "cell_type": "markdown",
   "metadata": {},
   "source": [
    "EGARCH model for Q4"
   ]
  },
  {
   "cell_type": "code",
   "execution_count": null,
   "metadata": {},
   "outputs": [],
   "source": [
    "Q4GoldEgarch = arch_model(Q4GoldReturn, vol = \"EGARCH\", p = 2, q = 2, mean = \"constant\", dist = \"Normal\")\n",
    "Q4GoldEgarchresult = Q4GoldEgarch.fit()\n",
    "Q4GoldEgarchresult.summary()"
   ]
  },
  {
   "attachments": {},
   "cell_type": "markdown",
   "metadata": {},
   "source": [
    "What are the 3 long-term variances indicated by the models?\n",
    "\n",
    "For a GARCH(1,1), long-run variance = ω/(1−α−β).\n",
    "\n",
    "We run all the 3 types of GARCH(1,1) models for the whole period.\n",
    "\n",
    "* Constant mean model: -0.886285462\n",
    "* GARCH-M: 1.080886\n",
    "* EGARCH: 12.2234763"
   ]
  },
  {
   "cell_type": "code",
   "execution_count": null,
   "metadata": {},
   "outputs": [],
   "source": [
    "Totalgarch = arch_model(GOLDETFreturn, vol = \"GARCH\", p = 1, q = 1, mean = \"Constant\", dist = \"Normal\")\n",
    "Totalgarchresult = Totalgarch.fit()\n",
    "Totalgarchresult.summary()"
   ]
  },
  {
   "cell_type": "code",
   "execution_count": null,
   "metadata": {},
   "outputs": [],
   "source": [
    "#We ran GARCH-M model in R. Please see the code and Results below.\n",
    "\n",
    "#GTotal = ugarchspec(variance.model=list(model=\"sGARCH\", garchOrder=c(1,1)),\n",
    "#mean.model=list(armaOrder=c(0,0),include.mean=TRUE,archm=TRUE,archpow=2), distribution.model=\"norm\")\n",
    "#fitGTotal <- ugarchfit(GTotal,totalperiod)\n",
    "#fitGTotal"
   ]
  },
  {
   "cell_type": "code",
   "execution_count": null,
   "metadata": {},
   "outputs": [],
   "source": [
    "*---------------------------------*\n",
    "*          GARCH Model Fit        *\n",
    "*---------------------------------*\n",
    "\n",
    "Conditional Variance Dynamics \t\n",
    "-----------------------------------\n",
    "GARCH Model\t: sGARCH(1,1)\n",
    "Mean Model\t: ARFIMA(0,0,0)\n",
    "Distribution\t: norm \n",
    "\n",
    "Optimal Parameters\n",
    "------------------------------------\n",
    "         Estimate  Std. Error    t value Pr(>|t|)\n",
    "mu     177.058534    0.049696 3562.82487 0.000000\n",
    "archm   -0.017670    0.000327  -53.96911 0.000000\n",
    "omega    2.067061    0.725360    2.84970 0.004376\n",
    "alpha1   0.973164    0.138657    7.01849 0.000000\n",
    "beta1    0.013011    0.082929    0.15689 0.875332\n",
    "\n",
    "Robust Standard Errors:\n",
    "         Estimate  Std. Error    t value Pr(>|t|)\n",
    "mu     177.058534    0.049891 3548.87597  0.00000\n",
    "archm   -0.017670    0.001350  -13.09280  0.00000\n",
    "omega    2.067061    0.652676    3.16706  0.00154\n",
    "alpha1   0.973164    0.111263    8.74648  0.00000\n",
    "beta1    0.013011    0.059485    0.21872  0.82687\n",
    "\n",
    "LogLikelihood : -611.3695 \n",
    "\n",
    "Information Criteria\n",
    "------------------------------------\n",
    "                   \n",
    "Akaike       6.4881\n",
    "Bayes        6.5735\n",
    "Shibata      6.4868\n",
    "Hannan-Quinn 6.5227\n",
    "\n",
    "Weighted Ljung-Box Test on Standardized Residuals\n",
    "------------------------------------\n",
    "                        statistic p-value\n",
    "Lag[1]                      130.4       0\n",
    "Lag[2*(p+q)+(p+q)-1][2]     187.2       0\n",
    "Lag[4*(p+q)+(p+q)-1][5]     329.7       0\n",
    "d.o.f=0\n",
    "H0 : No serial correlation\n",
    "\n",
    "Weighted Ljung-Box Test on Standardized Squared Residuals\n",
    "------------------------------------\n",
    "                        statistic p-value\n",
    "Lag[1]                    0.02634  0.8711\n",
    "Lag[2*(p+q)+(p+q)-1][5]   1.03708  0.8512\n",
    "Lag[4*(p+q)+(p+q)-1][9]   2.46180  0.8433\n",
    "d.o.f=2\n",
    "\n",
    "Weighted ARCH LM Tests\n",
    "------------------------------------\n",
    "            Statistic Shape Scale P-Value\n",
    "ARCH Lag[3]    0.8816 0.500 2.000  0.3478\n",
    "ARCH Lag[5]    2.2123 1.440 1.667  0.4262\n",
    "ARCH Lag[7]    2.9875 2.315 1.543  0.5159\n",
    "\n",
    "Nyblom stability test\n",
    "------------------------------------\n",
    "Joint Statistic:  3.0361\n",
    "Individual Statistics:              \n",
    "mu     1.20017\n",
    "archm  1.03105\n",
    "omega  0.04151\n",
    "alpha1 0.57079\n",
    "beta1  0.96714\n",
    "\n",
    "Asymptotic Critical Values (10% 5% 1%)\n",
    "Joint Statistic:     \t 1.28 1.47 1.88\n",
    "Individual Statistic:\t 0.35 0.47 0.75\n",
    "\n",
    "Sign Bias Test\n",
    "------------------------------------\n",
    "                   t-value   prob sig\n",
    "Sign Bias           1.4507 0.1486    \n",
    "Negative Sign Bias  0.4506 0.6528    \n",
    "Positive Sign Bias  0.8207 0.4129    \n",
    "Joint Effect        2.4127 0.4913    \n",
    "\n",
    "\n",
    "Adjusted Pearson Goodness-of-Fit Test:\n",
    "------------------------------------\n",
    "  group statistic p-value(g-1)\n",
    "1    20     240.7    2.312e-40\n",
    "2    30     252.4    1.728e-37\n",
    "3    40     262.2    7.249e-35\n",
    "4    50     293.2    1.656e-36"
   ]
  },
  {
   "cell_type": "code",
   "execution_count": null,
   "metadata": {},
   "outputs": [],
   "source": [
    "TotalEgarch = arch_model(GOLDETFreturn, vol = \"EGARCH\", p = 1, q = 1, mean = \"constant\", dist = \"Normal\")\n",
    "TotalEgarchresult = TotalEgarch.fit()\n",
    "TotalEgarchresult.summary()"
   ]
  },
  {
   "cell_type": "markdown",
   "metadata": {},
   "source": [
    "# Assessing stationarity\n",
    "\n",
    "\n",
    "\n",
    "Pick 1 of the 3 quarters in 2020 (Q2, Q3, or Q4).  Test your gold ETF for stationarity.  Explicitly state which test you used to determine stationarity.\n",
    "\n",
    "* Using the augmented Dickey–Fuller test (ADF)\n",
    "* Picked Q2"
   ]
  },
  {
   "cell_type": "markdown",
   "metadata": {},
   "source": [
    "Based on Critical Values & P Value, data is stationary on th e 5% & 10% level."
   ]
  },
  {
   "cell_type": "code",
   "execution_count": null,
   "metadata": {},
   "outputs": [],
   "source": [
    "Q2Gold = GoldETF['Adj Close'].iloc[0: 63] #Q2 data\n",
    "sts.adfuller(Q2Gold) #checking for stationary, data is stationary on th e 5% & 10% level"
   ]
  },
  {
   "cell_type": "markdown",
   "metadata": {},
   "source": [
    "Using the same quarter, test your equity ETF for stationarity.  Explicitly state which test you used to determine stationarity.\n",
    "\n",
    "* Using the augmented Dickey–Fuller test (ADF)\n",
    "* Picked Q2"
   ]
  },
  {
   "cell_type": "markdown",
   "metadata": {},
   "source": [
    "Based on Critical Values & P Value, the data is non-stationary."
   ]
  },
  {
   "cell_type": "code",
   "execution_count": null,
   "metadata": {},
   "outputs": [],
   "source": [
    "Q2Stock = StockETF['Adj Close'].iloc[0: 61] #Q2 data\n",
    "sts.adfuller(Q2Stock) #checking for stationary"
   ]
  },
  {
   "cell_type": "markdown",
   "metadata": {},
   "source": [
    "Using the same quarter, test Bitcoin for stationarity.  Explicitly state which test you used to determine stationarity.\n",
    "\n",
    "* Using the augmented Dickey–Fuller test (ADF)\n",
    "* Picked Q2"
   ]
  },
  {
   "cell_type": "markdown",
   "metadata": {},
   "source": [
    "Based on Critical Values & P Value, the data is non-stationary."
   ]
  },
  {
   "cell_type": "code",
   "execution_count": null,
   "metadata": {},
   "outputs": [],
   "source": [
    "Q2BTC = BTC['Adj Close'].iloc[0: 90] #Q2 data\n",
    "sts.adfuller(Q2BTC) #checking for stationary"
   ]
  },
  {
   "cell_type": "markdown",
   "metadata": {},
   "source": [
    "# Modelling Cointegration\n",
    "Using Q2 data, Test all the 3 combinations of cointegration using Engle-Granger.\n",
    "\n",
    "* Gold (GLD) and Equity (ESX1) ETF prices \n",
    "* Gold (GLD) and Bitcoin prices\n",
    "* Equity (ESX1) ETF and Bitcoin prices"
   ]
  },
  {
   "cell_type": "markdown",
   "metadata": {},
   "source": [
    "Cointegration Test in python\n",
    "If a portfolio is stationary & the portfolio consist of two or more instruments. \n",
    "Then, the instruments in the portfolio are said to be cointegrated."
   ]
  },
  {
   "cell_type": "markdown",
   "metadata": {},
   "source": [
    "First, we need to check whether the portfolio is stationary or not, \n",
    "if yes, then the instruments in the portfolio are cointegrated.\n",
    "\n",
    "As we run the ADF test above, we concluded that only Q2 Gold data is stationary, based on that in Q2 none of the below portfolios are cointegrated. \n",
    "\n",
    "Moreover, after running Engle-Granger test for Cointegration, we can see that for all 3 combinations the P value is higher than 0.05, so we conclude that there are no cointegrating vectors."
   ]
  },
  {
   "cell_type": "markdown",
   "metadata": {},
   "source": [
    "Removed weekends from BTC & Data slice due to Dax was closed on Apr 10, Apr 13, May 01 & June 01 2020. NYSE was closed on Maj 25 2020. \n",
    "\n",
    "* Gold (GLD) Gold (GLD) and Equity (ESX1), Cointegration Test"
   ]
  },
  {
   "cell_type": "code",
   "execution_count": null,
   "metadata": {},
   "outputs": [],
   "source": [
    "#Removing weekends & Holidays: 10 Apr, 25 Maj, 26 Nov, 25 Dec\n",
    "BTCweek = BTC[BTC.index.dayofweek < 5]\n",
    "#EG_TestBTC = BTCweek.drop(BTCweek.index[[35,168,189]])"
   ]
  },
  {
   "cell_type": "code",
   "execution_count": null,
   "metadata": {},
   "outputs": [],
   "source": [
    "EG_TestQ2Gold = Q2Gold.drop(Q2Gold.index[[7,21,41]])\n",
    "EG_TestQ2Stock = Q2Stock.drop(Q2Stock.index[[35]])"
   ]
  },
  {
   "cell_type": "code",
   "execution_count": null,
   "metadata": {},
   "outputs": [],
   "source": [
    "GEQ2eg_test = engle_granger(EG_TestQ2Gold, EG_TestQ2Stock, trend=\"n\") #Engle-Granger Cointegration Test\n",
    "GEQ2eg_test"
   ]
  },
  {
   "cell_type": "code",
   "execution_count": null,
   "metadata": {},
   "outputs": [],
   "source": [
    "GEQ2eg_test.cointegrating_vector"
   ]
  },
  {
   "cell_type": "code",
   "execution_count": null,
   "metadata": {},
   "outputs": [],
   "source": [
    "fig1 = GEQ2eg_test.plot()"
   ]
  },
  {
   "cell_type": "markdown",
   "metadata": {},
   "source": [
    "Using the Johannsen test for cointegration.\n",
    "\n",
    "But as the Trace value 15.31 is lower then the ciritcal values compared to all levels (10%, 5%, 1%), we conclude there is no cointegration."
   ]
  },
  {
   "cell_type": "code",
   "execution_count": null,
   "metadata": {},
   "outputs": [],
   "source": [
    "Q2GEJ = pd.DataFrame({'x':EG_TestQ2Gold,'y':EG_TestQ2Stock}) #Q2: Gold (GLD) and Equity (ESX1) ETF prices,\n",
    "Q2GEJT = coint_johansen(Q2GEJ, 0, 1)"
   ]
  },
  {
   "cell_type": "code",
   "execution_count": null,
   "metadata": {},
   "outputs": [],
   "source": [
    "print(f'Max Eig: {Q2GEJT.max_eig_stat[0]}, {Q2GEJT.max_eig_stat_crit_vals[0]}')\n",
    "print(f'Trace: {Q2GEJT.trace_stat[0]}, {Q2GEJT.trace_stat_crit_vals[0]}')"
   ]
  },
  {
   "cell_type": "markdown",
   "metadata": {},
   "source": [
    "Q2: Gold (GLD) and Bitcoin prices, Cointegration Test"
   ]
  },
  {
   "cell_type": "code",
   "execution_count": null,
   "metadata": {},
   "outputs": [],
   "source": [
    "Q2BTC = BTCweek['Adj Close'].iloc[0: 64] #Q2 data\n",
    "EG_TestQ2BTC = Q2BTC.drop(Q2BTC.index[[7,37]]) #Drop Holidays 10 Apr\n",
    "GBEG_TestQ2Gold = Q2Gold.drop(Q2Gold.index[[10]]) #Drop 16 April"
   ]
  },
  {
   "cell_type": "code",
   "execution_count": null,
   "metadata": {},
   "outputs": [],
   "source": [
    "GBQ2eg_test = engle_granger(GBEG_TestQ2Gold, EG_TestQ2BTC, trend=\"n\") #Engle-Granger Cointegration Test\n",
    "GBQ2eg_test"
   ]
  },
  {
   "cell_type": "code",
   "execution_count": null,
   "metadata": {},
   "outputs": [],
   "source": [
    "GBQ2eg_test.cointegrating_vector"
   ]
  },
  {
   "cell_type": "code",
   "execution_count": null,
   "metadata": {},
   "outputs": [],
   "source": [
    "fig2 = GBQ2eg_test.plot()"
   ]
  },
  {
   "cell_type": "markdown",
   "metadata": {},
   "source": [
    "Using the Johannsen test for cointegration.\n",
    "\n",
    "The Trace value 13.77 is lower then the ciritcal value 15.49 at the 5% level, and based on the 5% level, we conclude there is no cointegration."
   ]
  },
  {
   "cell_type": "code",
   "execution_count": null,
   "metadata": {},
   "outputs": [],
   "source": [
    "Q2GBJ = pd.DataFrame({'x':GBEG_TestQ2Gold,'y':EG_TestQ2BTC}) #Q2: Gold (GLD) and BTC prices,\n",
    "Q2GBJT = coint_johansen(Q2GBJ, 0, 1)"
   ]
  },
  {
   "cell_type": "code",
   "execution_count": null,
   "metadata": {},
   "outputs": [],
   "source": [
    "print(f'Max Eig: {Q2GBJT.max_eig_stat[0]}, {Q2GBJT.max_eig_stat_crit_vals[0]}')\n",
    "print(f'Trace: {Q2GBJT.trace_stat[0]}, {Q2GBJT.trace_stat_crit_vals[0]}')"
   ]
  },
  {
   "cell_type": "markdown",
   "metadata": {},
   "source": [
    "Q2: Equity (ESX1) ETF and Bitcoin prices, Cointegration Test"
   ]
  },
  {
   "cell_type": "code",
   "execution_count": null,
   "metadata": {},
   "outputs": [],
   "source": [
    "EBEG_TestQ2BTC = Q2BTC.drop(Q2BTC.index[[7,8,21,42]]) # Drop due to Dax Holidays \n",
    "EBEG_TestQ2Stock = Q2Stock.drop(Q2Stock.index[[9]]) # Drop 16 April"
   ]
  },
  {
   "cell_type": "code",
   "execution_count": null,
   "metadata": {},
   "outputs": [],
   "source": [
    "EBQ2eg_test = engle_granger(EBEG_TestQ2Stock, EBEG_TestQ2BTC, trend=\"n\") #Engle-Granger Cointegration Test\n",
    "EBQ2eg_test"
   ]
  },
  {
   "cell_type": "code",
   "execution_count": null,
   "metadata": {},
   "outputs": [],
   "source": [
    "EBQ2eg_test.cointegrating_vector"
   ]
  },
  {
   "cell_type": "code",
   "execution_count": null,
   "metadata": {},
   "outputs": [],
   "source": [
    "fig3 = EBQ2eg_test.plot()"
   ]
  },
  {
   "cell_type": "markdown",
   "metadata": {},
   "source": [
    "As ther is no cointegration -> Applying VAR (Vector Auto-Regressive Modeling). Q2: Gold, Equity (ESX1) ETF and Bitcoin prices.  \n",
    "\n",
    "Running a VAR Model."
   ]
  },
  {
   "cell_type": "code",
   "execution_count": null,
   "metadata": {},
   "outputs": [],
   "source": [
    "Q2VAR = np.array([EG_TestQ2Gold, EG_TestQ2Stock, EBEG_TestQ2BTC]).T\n",
    "Q2model = VAR(Q2VAR)\n",
    "Q2model_fit = Q2model.fit()\n",
    "Q2model_fit.summary()"
   ]
  },
  {
   "cell_type": "code",
   "execution_count": null,
   "metadata": {},
   "outputs": [],
   "source": [
    "Q2model_fit.plot()"
   ]
  },
  {
   "cell_type": "code",
   "execution_count": null,
   "metadata": {},
   "outputs": [],
   "source": [
    "irf = Q2model_fit.irf(3)\n",
    "irf.plot(orth=False)"
   ]
  },
  {
   "cell_type": "markdown",
   "metadata": {},
   "source": [
    "Using Q3 data, Test all the 3 combinations of cointegration using Engle-Granger.\n",
    "\n",
    "As it can be seen below, after running Engle-Granger test for Cointegration in Q3, we can see that for all 3 combinations the P value is higher than 0.05, so we conclude that there are no cointegrating vectors.\n",
    "\n",
    "* Q3: Gold (GLD) and Equity (ESX1) ETF, Cointegration Test"
   ]
  },
  {
   "cell_type": "code",
   "execution_count": null,
   "metadata": {},
   "outputs": [],
   "source": [
    "Q3Gold = GoldETF['Adj Close'].iloc[63: 127] #Q3 data\n",
    "Q3Stock = StockETF['Adj Close'].iloc[61: 127] #Q3 data\n",
    "EG_TestQ3Stock = Q3Stock.drop(Q3Stock.index[[2,48]]) #Remove US Holidays 3 Jul, 7 Sept"
   ]
  },
  {
   "cell_type": "code",
   "execution_count": null,
   "metadata": {},
   "outputs": [],
   "source": [
    "GEQ3eg_test = engle_granger(Q3Gold, EG_TestQ3Stock, trend=\"n\") #Engle-Granger Cointegration Test\n",
    "GEQ3eg_test"
   ]
  },
  {
   "cell_type": "code",
   "execution_count": null,
   "metadata": {},
   "outputs": [],
   "source": [
    "GEQ3eg_test.cointegrating_vector"
   ]
  },
  {
   "cell_type": "code",
   "execution_count": null,
   "metadata": {},
   "outputs": [],
   "source": [
    "fig4 = GEQ3eg_test.plot()"
   ]
  },
  {
   "cell_type": "markdown",
   "metadata": {},
   "source": [
    "Using the Johannsen test for cointegration.\n",
    "\n",
    "The Trace value 13.81 is lower then the ciritcal value 15.49 at the 5% level, and based on the 5% level, we conclude there is no cointegration."
   ]
  },
  {
   "cell_type": "code",
   "execution_count": null,
   "metadata": {},
   "outputs": [],
   "source": [
    "Q3GEJ = pd.DataFrame({'x':Q3Gold,'y':EG_TestQ3Stock}) #Q3: Gold (GLD) and Equity (ESX1) ETF prices,\n",
    "Q3GEJT = coint_johansen(Q3GEJ, 0, 1)"
   ]
  },
  {
   "cell_type": "code",
   "execution_count": null,
   "metadata": {},
   "outputs": [],
   "source": [
    "print(f'Max Eig: {Q3GEJT.max_eig_stat[0]}, {Q3GEJT.max_eig_stat_crit_vals[0]}')\n",
    "print(f'Trace: {Q3GEJT.trace_stat[0]}, {Q3GEJT.trace_stat_crit_vals[0]}')"
   ]
  },
  {
   "cell_type": "markdown",
   "metadata": {},
   "source": [
    "Q3: Gold (GLD) and Bitcoin prices, Cointegration Test"
   ]
  },
  {
   "cell_type": "code",
   "execution_count": null,
   "metadata": {},
   "outputs": [],
   "source": [
    "Q3BTC = BTCweek['Adj Close'].iloc[64: 130] #Q3 data\n",
    "EG_TestQ3BTC = Q3BTC.drop(Q3BTC.index[[2,48]]) #Remove US Holidays 3 Jul, 7 Sept"
   ]
  },
  {
   "cell_type": "code",
   "execution_count": null,
   "metadata": {},
   "outputs": [],
   "source": [
    "GBQ3eg_test = engle_granger(Q3Gold, EG_TestQ3BTC, trend=\"n\") #Engle-Granger Cointegration Test\n",
    "GBQ3eg_test"
   ]
  },
  {
   "cell_type": "code",
   "execution_count": null,
   "metadata": {},
   "outputs": [],
   "source": [
    "GBQ3eg_test.cointegrating_vector"
   ]
  },
  {
   "cell_type": "code",
   "execution_count": null,
   "metadata": {},
   "outputs": [],
   "source": [
    "fig5 = GBQ3eg_test.plot()"
   ]
  },
  {
   "cell_type": "markdown",
   "metadata": {},
   "source": [
    "Using the Johannsen test for cointegration.\n",
    "\n",
    "As the Trace value 12.11 is lower then the ciritcal values, we conclude there is no cointegration."
   ]
  },
  {
   "cell_type": "code",
   "execution_count": null,
   "metadata": {},
   "outputs": [],
   "source": [
    "Q3GBJ = pd.DataFrame({'x':Q3Gold,'y':EG_TestQ3BTC}) #Q3: Gold (GLD) and Bitcoin prices,\n",
    "Q3GBJT = coint_johansen(Q3GBJ, 0, 1)"
   ]
  },
  {
   "cell_type": "code",
   "execution_count": null,
   "metadata": {},
   "outputs": [],
   "source": [
    "print(f'Max Eig: {Q3GBJT.max_eig_stat[0]}, {Q3GBJT.max_eig_stat_crit_vals[0]}')\n",
    "print(f'Trace: {Q3GBJT.trace_stat[0]}, {Q3GBJT.trace_stat_crit_vals[0]}')"
   ]
  },
  {
   "cell_type": "markdown",
   "metadata": {},
   "source": [
    "Q3: Equity (ESX1) ETF and Bitcoin prices, Cointegration Test"
   ]
  },
  {
   "cell_type": "code",
   "execution_count": null,
   "metadata": {},
   "outputs": [],
   "source": [
    "EBQ3eg_test = engle_granger(Q3Stock, Q3BTC, trend=\"n\") #Engle-Granger Cointegration Test\n",
    "EBQ3eg_test"
   ]
  },
  {
   "cell_type": "code",
   "execution_count": null,
   "metadata": {},
   "outputs": [],
   "source": [
    "EBQ3eg_test.cointegrating_vector"
   ]
  },
  {
   "cell_type": "code",
   "execution_count": null,
   "metadata": {
    "scrolled": true
   },
   "outputs": [],
   "source": [
    "fig6 = EBQ3eg_test.plot()"
   ]
  },
  {
   "cell_type": "markdown",
   "metadata": {},
   "source": [
    "Using the Johannsen test for cointegration.\n",
    "\n",
    "As the Trace value 10.73 is lower then the ciritcal values, we fail to reject the null hypothesis (and conclude there is no cointegration.)"
   ]
  },
  {
   "cell_type": "code",
   "execution_count": null,
   "metadata": {},
   "outputs": [],
   "source": [
    "Q3EBJ = pd.DataFrame({'x':Q3Stock,'y':Q3BTC}) #Q3: Equity (ESX1) ETF and Bitcoin prices,"
   ]
  },
  {
   "cell_type": "code",
   "execution_count": null,
   "metadata": {},
   "outputs": [],
   "source": [
    "Q3EBJT = coint_johansen(Q3EBJ, 0, 1)"
   ]
  },
  {
   "cell_type": "code",
   "execution_count": null,
   "metadata": {},
   "outputs": [],
   "source": [
    "print(f'Max Eig: {Q3EBJT.max_eig_stat[0]}, {Q3EBJT.max_eig_stat_crit_vals[0]}')\n",
    "print(f'Trace: {Q3EBJT.trace_stat[0]}, {Q3EBJT.trace_stat_crit_vals[0]}')"
   ]
  },
  {
   "cell_type": "markdown",
   "metadata": {},
   "source": [
    "As ther is no cointegration -> Applying VAR (Vector Auto-Regressive Modeling). Q3: Gold, Equity (ESX1) ETF and Bitcoin prices.  \n",
    "\n",
    "Running a VAR Model. "
   ]
  },
  {
   "cell_type": "code",
   "execution_count": null,
   "metadata": {},
   "outputs": [],
   "source": [
    "Q3VAR = np.array([Q3Gold, EG_TestQ3Stock, EG_TestQ3BTC]).T\n",
    "Q3model = VAR(Q3VAR)\n",
    "Q3model_fit = Q3model.fit()\n",
    "Q3model_fit.summary()"
   ]
  },
  {
   "cell_type": "code",
   "execution_count": null,
   "metadata": {
    "scrolled": true
   },
   "outputs": [],
   "source": [
    "Q3model_fit.plot()"
   ]
  },
  {
   "cell_type": "code",
   "execution_count": null,
   "metadata": {},
   "outputs": [],
   "source": [
    "irf = Q3model_fit.irf(3)\n",
    "irf.plot(orth=False)"
   ]
  },
  {
   "cell_type": "markdown",
   "metadata": {},
   "source": [
    "What are the significant changes, if any?  Be specific with regards to the values of the parameters!"
   ]
  },
  {
   "cell_type": "markdown",
   "metadata": {},
   "source": [
    "* Afet running all the tests, we can conclude that none of the 3 combinations of 2 asset portfolios are cointegrated.\n",
    "* So, results from Q2 tests do not help predict the coefficients from Q3 cointegration.\n",
    "* Regarding the Impulse Response Function:\n",
    "\n",
    "   In Q2, (y2->y1) F, a one standard deviation (SD) shock to Equity (ESX1) ETF seems increases Gold (GLD) price, positive impact through Q2. However, (y1->y2) seems Gold (GLD) price has very little impact on ESX1, same true for (y3->y1) \n",
    "Bitcion has very little positive impact on Gold price. On the other hand one SD shock to Bitcoin price has positive \n",
    "impact on ESX1, steady increase through Q2. (y1->y2) Gold has minimal impact on ESX1, so as ESX1 on Bitcoin, very little negative impact.\n",
    "    \n",
    "    In Q3, (y1->y2) Gold shows little negative impact on ESX1 (changed from positive to negative from Q2), (y1->y3) and same impact on Bitcoin like in Q2. (y2->y1) One SD shock to ESX1 has positive impact on Gold price just like in Q3, (y2->y3) but this time ESX1 has negative impact on Bitcoin (changed from negative to positive from Q2). (y3->y1) Seems in this quarter One SD shock to Bitcoin has very positive impact on Gold price through Q3, but no impact on ESX1, unlike in Q2."
   ]
  }
 ],
 "metadata": {
  "kernelspec": {
   "display_name": "Python 3",
   "language": "python",
   "name": "python3"
  },
  "language_info": {
   "codemirror_mode": {
    "name": "ipython",
    "version": 3
   },
   "file_extension": ".py",
   "mimetype": "text/x-python",
   "name": "python",
   "nbconvert_exporter": "python",
   "pygments_lexer": "ipython3",
   "version": "3.7.1"
  }
 },
 "nbformat": 4,
 "nbformat_minor": 4
}
