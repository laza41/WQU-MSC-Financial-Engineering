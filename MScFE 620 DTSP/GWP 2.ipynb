{
 "cells": [
  {
   "cell_type": "markdown",
   "metadata": {},
   "source": [
    "# GWP Submission 2: Pricing Options under Binomial Models"
   ]
  },
  {
   "cell_type": "code",
   "execution_count": 1,
   "metadata": {},
   "outputs": [],
   "source": [
    "import numpy as np\n",
    "import matplotlib.pyplot as plt\n",
    "from scipy.sparse import csc_matrix\n",
    "from scipy.stats import bernoulli\n",
    "from scipy.optimize import fsolve\n",
    "from scipy.stats import norm\n",
    "import pandas as pd\n",
    "from matplotlib import colors\n",
    "import seaborn as sns\n",
    "from pandas import DataFrame\n",
    "from math import exp,sqrt\n",
    "%matplotlib inline"
   ]
  },
  {
   "cell_type": "markdown",
   "metadata": {},
   "source": [
    "Write code to price a European Call option:\n",
    "\n",
    "\n",
    "    Group Number = 25\n",
    "    𝑢 = (1.10 + Group Number/100)\n"
   ]
  },
  {
   "cell_type": "code",
   "execution_count": 2,
   "metadata": {},
   "outputs": [],
   "source": [
    "# Our initial stock price\n",
    "S0 = 95\n",
    "# Time to expiration, the we rescale it to time per layer step\n",
    "t = 1\n",
    "# Strike price and risk-free rate\n",
    "K = 105\n",
    "r = 0\n",
    "# Calculate the size of an up move, down move, and probability\n",
    "Gn = 25 # Group Number\n",
    "u = (1.10 + Gn/100)\n",
    "d = 1/u\n",
    "p = (np.exp(r * t) - d) / (u - d)"
   ]
  },
  {
   "cell_type": "markdown",
   "metadata": {},
   "source": [
    "Pricing a European Call Option:"
   ]
  },
  {
   "cell_type": "code",
   "execution_count": 3,
   "metadata": {},
   "outputs": [],
   "source": [
    "def binom_tree_call(N, T, S0, r, K, array_out=False):\n",
    "    # Init\n",
    "    dt = T/N\n",
    "    u = (1.10 + 25/100)\n",
    "    d = 1/u\n",
    "    p = (np.exp(r*dt)-d)/(u-d)\n",
    "    \n",
    "    #Price Tree\n",
    "    price_tree = np.zeros([N+1, N+1])\n",
    "    \n",
    "    for i in range(N+1):\n",
    "        for j in range(i+1):\n",
    "            price_tree[j, i] = S0*(d**j)*(u**(i-j))\n",
    "            \n",
    "    # Option Value\n",
    "    option = np.zeros([N+1, N+1])\n",
    "    option[:, N] = np.maximum(np.zeros(N+1), price_tree[:, N]-K)\n",
    "    \n",
    "    # Calculate option price at t=0\n",
    "    for i in np.arange(N-1, -1, -1):\n",
    "        for j in np.arange(0, i+1):\n",
    "            option[j, i] = np.exp(-r*dt)*(p*option[j, i+1]+(1-p)*option[j+1, i+1])\n",
    "            \n",
    "    #Return\n",
    "    if array_out:\n",
    "        return [option[0, 0], price_tree, option]\n",
    "    else:\n",
    "        return option[0, 0]"
   ]
  },
  {
   "cell_type": "markdown",
   "metadata": {},
   "source": [
    "Value of the derivative, 𝐻(𝜔), for each of the paths:"
   ]
  },
  {
   "cell_type": "code",
   "execution_count": 4,
   "metadata": {},
   "outputs": [
    {
     "data": {
      "text/plain": [
       "[9.893617021276595,\n",
       " array([[ 95.        , 128.25      ],\n",
       "        [  0.        ,  70.37037037]]),\n",
       " array([[ 9.89361702, 23.25      ],\n",
       "        [ 0.        ,  0.        ]])]"
      ]
     },
     "execution_count": 4,
     "metadata": {},
     "output_type": "execute_result"
    }
   ],
   "source": [
    "binom_tree_call(1, 1, 95, 0, 105, True)"
   ]
  },
  {
   "cell_type": "markdown",
   "metadata": {},
   "source": [
    "Pricing a European Put Option, N=2:"
   ]
  },
  {
   "cell_type": "code",
   "execution_count": 5,
   "metadata": {},
   "outputs": [],
   "source": [
    "def binom_tree_call_put(N, T, SO, r, K, call=True, array_out=False):\n",
    "    # Init\n",
    "    dt = T/N\n",
    "    u = (1.10 + 25/100)\n",
    "    d = 1/u\n",
    "    p = (np.exp(r*dt)-d)/(u-d)\n",
    "    \n",
    "    #Price Tree\n",
    "    price_tree = np.zeros([N+1, N+1])\n",
    "    \n",
    "    for i in range(N+1):\n",
    "        for j in range(i+1):\n",
    "            price_tree[j, i] = S0*(d**j)*(u**(i-j))\n",
    "            \n",
    "    # Option Value\n",
    "    option = np.zeros([N+1, N+1])\n",
    "    if call:\n",
    "        option[:, N] = np.maximum(np.zeros(N+1), price_tree[:, N]-K)\n",
    "    else:\n",
    "        option[:, N] = np.maximum(np.zeros(N+1), K-price_tree[:, N])\n",
    "    \n",
    "    # Calculate option price at t=0\n",
    "    for i in np.arange(N-1, -1, -1):\n",
    "        for j in np.arange(0, i+1):\n",
    "            option[j, i] = np.exp(-r*dt)*(p*option[j, i+1]+(1-p)*option[j+1, i+1])\n",
    "            \n",
    "    #Return\n",
    "    if array_out:\n",
    "        return [option[0, 0], price_tree, option]\n",
    "    else:\n",
    "        return option[0, 0]"
   ]
  },
  {
   "cell_type": "markdown",
   "metadata": {},
   "source": [
    "Price of the option for N=2:"
   ]
  },
  {
   "cell_type": "code",
   "execution_count": 6,
   "metadata": {},
   "outputs": [
    {
     "data": {
      "text/plain": [
       "[22.338162064282486,\n",
       " array([[ 95.        , 128.25      , 173.1375    ],\n",
       "        [  0.        ,  70.37037037,  95.        ],\n",
       "        [  0.        ,   0.        ,  52.12620027]]),\n",
       " array([[22.33816206,  5.74468085,  0.        ],\n",
       "        [ 0.        , 34.62962963, 10.        ],\n",
       "        [ 0.        ,  0.        , 52.87379973]])]"
      ]
     },
     "execution_count": 6,
     "metadata": {},
     "output_type": "execute_result"
    }
   ],
   "source": [
    "binom_tree_call_put(N=2, T=1, SO=95, r=0, K=105, call=False, array_out=True)"
   ]
  },
  {
   "cell_type": "markdown",
   "metadata": {},
   "source": [
    "Put Call Parity:\n",
    "* Price of the European put option for N=1:"
   ]
  },
  {
   "cell_type": "code",
   "execution_count": 7,
   "metadata": {},
   "outputs": [
    {
     "data": {
      "text/plain": [
       "[19.8936170212766,\n",
       " array([[ 95.        , 128.25      ],\n",
       "        [  0.        ,  70.37037037]]),\n",
       " array([[19.89361702,  0.        ],\n",
       "        [ 0.        , 34.62962963]])]"
      ]
     },
     "execution_count": 7,
     "metadata": {},
     "output_type": "execute_result"
    }
   ],
   "source": [
    "binom_tree_call_put(N=1, T=1, SO=95, r=0, K=105, call=False, array_out=True)"
   ]
  }
 ],
 "metadata": {
  "kernelspec": {
   "display_name": "Python 3",
   "language": "python",
   "name": "python3"
  },
  "language_info": {
   "codemirror_mode": {
    "name": "ipython",
    "version": 3
   },
   "file_extension": ".py",
   "mimetype": "text/x-python",
   "name": "python",
   "nbconvert_exporter": "python",
   "pygments_lexer": "ipython3",
   "version": "3.8.3"
  }
 },
 "nbformat": 4,
 "nbformat_minor": 4
}
