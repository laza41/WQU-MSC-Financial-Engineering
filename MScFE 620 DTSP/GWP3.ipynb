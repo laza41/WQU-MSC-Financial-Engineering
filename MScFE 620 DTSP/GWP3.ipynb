{
 "cells": [
  {
   "cell_type": "markdown",
   "metadata": {},
   "source": [
    "# GWP Submission 3: Pricing American Options"
   ]
  },
  {
   "cell_type": "code",
   "execution_count": null,
   "metadata": {},
   "outputs": [],
   "source": [
    "import numpy as np\n",
    "import matplotlib.pyplot as plt\n",
    "from scipy.sparse import csc_matrix\n",
    "from scipy.stats import bernoulli\n",
    "from scipy.optimize import fsolve\n",
    "from scipy.stats import norm\n",
    "import pandas as pd\n",
    "from matplotlib import colors\n",
    "import seaborn as sns\n",
    "from pandas import DataFrame\n",
    "import math\n",
    "from scipy.stats import norm\n",
    "import p4f as p4f\n",
    "import sst\n",
    "import scipy as sp\n",
    "import warnings\n",
    "warnings.filterwarnings(\"ignore\")\n",
    "%matplotlib inline"
   ]
  },
  {
   "cell_type": "markdown",
   "metadata": {},
   "source": [
    "Write code to price an American Call option:\n",
    "\n",
    "    Group Number = 25\n",
    "    𝑢 = (1.10 + Group Number/100)"
   ]
  },
  {
   "cell_type": "code",
   "execution_count": null,
   "metadata": {},
   "outputs": [],
   "source": [
    "# Our initial stock price\n",
    "S0 = 95\n",
    "# Time to expiration, the we rescale it to time per layer step\n",
    "t = 1\n",
    "# Strike price and risk-free rate\n",
    "K = 90\n",
    "r = 0\n",
    "# Calculate the size of an up move, down move, and probability\n",
    "Gn = 25 # Group Number\n",
    "u = (1.10 + Gn/100)\n",
    "d = 1/u\n",
    "p = (np.exp(r * t) - d) / (u - d)\n",
    "q = 1-p"
   ]
  },
  {
   "cell_type": "code",
   "execution_count": null,
   "metadata": {},
   "outputs": [],
   "source": [
    "def binom_tree_call(N, T, S0, r, K, array_out=False):\n",
    "    # Init\n",
    "    dt = T/N\n",
    "    u = (1.10 + 25/100)**(1/2)\n",
    "    d = 1/u\n",
    "    p = (np.exp(r*dt)-d)/(u-d)\n",
    "    \n",
    "    #Price Tree\n",
    "    price_tree = np.zeros([N+1, N+1])\n",
    "    \n",
    "    for i in range(N+1):\n",
    "        for j in range(i+1):\n",
    "            price_tree[j, i] = S0*(d**j)*(u**(i-j))\n",
    "            \n",
    "    # Option Value\n",
    "    option = np.zeros([N+1, N+1])\n",
    "    option[:, N] = np.maximum(np.zeros(N+1), price_tree[:, N]-K)\n",
    "    \n",
    "    # Calculate option price at t=0\n",
    "    for i in np.arange(N-1, -1, -1):\n",
    "        for j in np.arange(0, i+1):\n",
    "            option[j, i] = np.exp(-r*dt)*(p*option[j, i+1]+(1-p)*option[j+1, i+1])\n",
    "            \n",
    "    #Return\n",
    "    if array_out:\n",
    "        return [option[0, 0], price_tree, option]\n",
    "    else:\n",
    "        return option[0, 0]"
   ]
  },
  {
   "cell_type": "markdown",
   "metadata": {},
   "source": [
    "* The value of the derivative at each node"
   ]
  },
  {
   "cell_type": "code",
   "execution_count": null,
   "metadata": {},
   "outputs": [],
   "source": [
    "binom_tree_call(2, 1, 95, 0, 90, True)"
   ]
  },
  {
   "cell_type": "markdown",
   "metadata": {},
   "source": [
    "Pricing an American Put Option"
   ]
  },
  {
   "cell_type": "code",
   "execution_count": null,
   "metadata": {},
   "outputs": [],
   "source": [
    "def binom_tree_call_put(N, T, SO, r, K, call=True, array_out=False):\n",
    "    # Init\n",
    "    dt = T/N\n",
    "    u = (1.10 + 25/100)**(1/2)\n",
    "    d = 1/u\n",
    "    p = (np.exp(r*dt)-d)/(u-d)\n",
    "    \n",
    "    #Price Tree\n",
    "    price_tree = np.zeros([N+1, N+1])\n",
    "    \n",
    "    for i in range(N+1):\n",
    "        for j in range(i+1):\n",
    "            price_tree[j, i] = S0*(d**j)*(u**(i-j))\n",
    "            \n",
    "    # Option Value\n",
    "    option = np.zeros([N+1, N+1])\n",
    "    if call:\n",
    "        option[:, N] = np.maximum(np.zeros(N+1), price_tree[:, N]-K)\n",
    "    else:\n",
    "        option[:, N] = np.maximum(np.zeros(N+1), K-price_tree[:, N])\n",
    "    \n",
    "    # Calculate option price at t=0\n",
    "    for i in np.arange(N-1, -1, -1):\n",
    "        for j in np.arange(0, i+1):\n",
    "            option[j, i] = np.exp(-r*dt)*(p*option[j, i+1]+(1-p)*option[j+1, i+1])\n",
    "            \n",
    "    #Return\n",
    "    if array_out:\n",
    "        return [option[0, 0], price_tree, option]\n",
    "    else:\n",
    "        return option[0, 0]"
   ]
  },
  {
   "cell_type": "markdown",
   "metadata": {},
   "source": [
    "* The value of the derivative at each node"
   ]
  },
  {
   "cell_type": "code",
   "execution_count": null,
   "metadata": {},
   "outputs": [],
   "source": [
    "binom_tree_call_put(N=2, T=1, SO=95, r=0, K=90, call=False, array_out=True)"
   ]
  },
  {
   "cell_type": "markdown",
   "metadata": {},
   "source": [
    "* Checking for early exercise"
   ]
  },
  {
   "cell_type": "code",
   "execution_count": null,
   "metadata": {},
   "outputs": [],
   "source": [
    "print(p)\n",
    "print(q)"
   ]
  },
  {
   "cell_type": "code",
   "execution_count": null,
   "metadata": {},
   "outputs": [],
   "source": [
    "R = 1 + r\n",
    "early_exercise = 1/R*(q*0+(1-q)*19.63)\n",
    "early_exercise"
   ]
  },
  {
   "cell_type": "markdown",
   "metadata": {},
   "source": [
    "Pricing an exotic option with European payoff, Up-and-Out (UAO) European Call Option\n",
    "\n",
    "* ST - K if MAX St =< B,\n",
    "* 0 if MAX St> B\n",
    "\n",
    "Therefore if price is above 130 then we consider the option price is 0.\n"
   ]
  },
  {
   "cell_type": "code",
   "execution_count": null,
   "metadata": {},
   "outputs": [],
   "source": [
    "binom_tree_call(2, 1, 100, 0, 90, True)"
   ]
  }
 ],
 "metadata": {
  "kernelspec": {
   "display_name": "Python 3",
   "language": "python",
   "name": "python3"
  },
  "language_info": {
   "codemirror_mode": {
    "name": "ipython",
    "version": 3
   },
   "file_extension": ".py",
   "mimetype": "text/x-python",
   "name": "python",
   "nbconvert_exporter": "python",
   "pygments_lexer": "ipython3",
   "version": "3.8.3"
  }
 },
 "nbformat": 4,
 "nbformat_minor": 4
}
