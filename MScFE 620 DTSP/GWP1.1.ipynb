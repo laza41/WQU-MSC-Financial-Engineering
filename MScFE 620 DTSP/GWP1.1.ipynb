{
 "cells": [
  {
   "cell_type": "markdown",
   "metadata": {},
   "source": [
    "# Group Work Submission 1: Measure Theory Concepts put in Practice "
   ]
  },
  {
   "cell_type": "code",
   "execution_count": 1,
   "metadata": {},
   "outputs": [],
   "source": [
    "import numpy as np\n",
    "import matplotlib.pyplot as plt\n",
    "from scipy.sparse import csc_matrix\n",
    "from scipy.stats import bernoulli\n",
    "from scipy.optimize import fsolve\n",
    "from scipy.stats import norm\n",
    "import pandas as pd\n",
    "from matplotlib import colors\n",
    "from pandas import DataFrame\n",
    "%matplotlib inline"
   ]
  },
  {
   "cell_type": "markdown",
   "metadata": {},
   "source": [
    "Build a binomial tree for stock price evolution. Specifically, set the upper movement of the\n",
    "price (u) to an expression that will depend on the number on your group.\n",
    "\n",
    "* Group Number = 25\n",
    "* 𝑢 = (1.10 + Group Number/100) = 1.35"
   ]
  },
  {
   "cell_type": "code",
   "execution_count": 2,
   "metadata": {},
   "outputs": [],
   "source": [
    "#  Our initial stock price\n",
    "S0 = 100\n",
    "#  Assumed up and down percentages\n",
    "n = 25\n",
    "u = (1.10 + n/100)\n",
    "d = 1/u"
   ]
  },
  {
   "cell_type": "code",
   "execution_count": 3,
   "metadata": {},
   "outputs": [],
   "source": [
    "#  Define the number of nodes\n",
    "N = 6\n",
    "#  Create some empty matrices to hold our stock prices.\n",
    "stock_prices = np.zeros( (N, N) )\n",
    "#  Put our initial price in the matrix\n",
    "stock_prices[0,0] = S0"
   ]
  },
  {
   "cell_type": "code",
   "execution_count": 4,
   "metadata": {},
   "outputs": [],
   "source": [
    "#  Fill out the remaining values\n",
    "for i in range(1, N ):\n",
    "    M = i + 1\n",
    "    stock_prices[i, 0] = d * stock_prices[i-1, 0]\n",
    "    for j in range(1, M ):\n",
    "        stock_prices[i, j] = u * stock_prices[i - 1, j - 1]"
   ]
  },
  {
   "cell_type": "code",
   "execution_count": 5,
   "metadata": {},
   "outputs": [
    {
     "data": {
      "text/plain": [
       "array([[100.        ,   0.        ,   0.        ,   0.        ,\n",
       "          0.        ,   0.        ],\n",
       "       [ 74.07407407, 135.        ,   0.        ,   0.        ,\n",
       "          0.        ,   0.        ],\n",
       "       [ 54.8696845 , 100.        , 182.25      ,   0.        ,\n",
       "          0.        ,   0.        ],\n",
       "       [ 40.64421074,  74.07407407, 135.        , 246.0375    ,\n",
       "          0.        ,   0.        ],\n",
       "       [ 30.10682277,  54.8696845 , 100.        , 182.25      ,\n",
       "        332.150625  ,   0.        ],\n",
       "       [ 22.3013502 ,  40.64421074,  74.07407407, 135.        ,\n",
       "        246.0375    , 448.40334375]])"
      ]
     },
     "execution_count": 5,
     "metadata": {},
     "output_type": "execute_result"
    }
   ],
   "source": [
    "stock_prices"
   ]
  },
  {
   "cell_type": "markdown",
   "metadata": {},
   "source": [
    "Save data"
   ]
  },
  {
   "cell_type": "code",
   "execution_count": 6,
   "metadata": {},
   "outputs": [],
   "source": [
    "#pd.DataFrame(stock_prices).to_csv(\"N6.csv\")"
   ]
  },
  {
   "cell_type": "markdown",
   "metadata": {},
   "source": [
    "Recalculate the tree for N=4,000, 𝑢 = (1.10 + Group Number/100)^4000 = 1.000075029"
   ]
  },
  {
   "cell_type": "code",
   "execution_count": 7,
   "metadata": {},
   "outputs": [],
   "source": [
    "n1 = 25\n",
    "u1 = (1.10 + n1/100)**(1/4000)\n",
    "d1 = 1/u1\n",
    "N4k = 4000\n",
    "stock_prices4k = np.zeros( (N4k, N4k) )\n",
    "stock_prices4k[0,0] = S0"
   ]
  },
  {
   "cell_type": "code",
   "execution_count": 8,
   "metadata": {},
   "outputs": [],
   "source": [
    "#  Fill out the remaining values\n",
    "for i in range(1, N4k ):\n",
    "    M = i + 1\n",
    "    stock_prices4k[i, 0] = d1 * stock_prices4k[i-1, 0]\n",
    "    for j in range(1, M ):\n",
    "        stock_prices4k[i, j] = u1 * stock_prices4k[i - 1, j - 1]"
   ]
  },
  {
   "cell_type": "markdown",
   "metadata": {},
   "source": [
    "Removing Zeros"
   ]
  },
  {
   "cell_type": "code",
   "execution_count": 9,
   "metadata": {},
   "outputs": [],
   "source": [
    "RZ = stock_prices4k[stock_prices4k != 0]\n",
    "Pricelist = RZ.tolist()"
   ]
  },
  {
   "cell_type": "markdown",
   "metadata": {},
   "source": [
    "Histogram Plot of the terminal prices, N = 4000."
   ]
  },
  {
   "cell_type": "code",
   "execution_count": 10,
   "metadata": {},
   "outputs": [
    {
     "data": {
      "text/plain": [
       "Text(0.5, 0, 'Stock Prices')"
      ]
     },
     "execution_count": 10,
     "metadata": {},
     "output_type": "execute_result"
    },
    {
     "data": {
      "image/png": "[encoded data removed]",
      "text/plain": [
       "<Figure size 864x432 with 1 Axes>"
      ]
     },
     "metadata": {
      "needs_background": "light"
     },
     "output_type": "display_data"
    }
   ],
   "source": [
    "plt.figure(figsize=(12,6))\n",
    "plt.hist(Pricelist, color=\"b\", alpha=0.8, rwidth=0.7)\n",
    "plt.grid(axis='y', alpha=0.5)\n",
    "plt.title('Terminal Prices Histogram', fontsize=15, color=\"#000066\")\n",
    "plt.xlabel('Stock Prices', fontsize=15, color=\"#000033\")"
   ]
  },
  {
   "cell_type": "markdown",
   "metadata": {},
   "source": [
    "Save data"
   ]
  },
  {
   "cell_type": "code",
   "execution_count": 11,
   "metadata": {},
   "outputs": [],
   "source": [
    "#pd.DataFrame(Pricelist).to_csv(\"Pricelist.csv\")"
   ]
  }
 ],
 "metadata": {
  "kernelspec": {
   "display_name": "Python 3",
   "language": "python",
   "name": "python3"
  },
  "language_info": {
   "codemirror_mode": {
    "name": "ipython",
    "version": 3
   },
   "file_extension": ".py",
   "mimetype": "text/x-python",
   "name": "python",
   "nbconvert_exporter": "python",
   "pygments_lexer": "ipython3",
   "version": "3.8.3"
  }
 },
 "nbformat": 4,
 "nbformat_minor": 4
}
